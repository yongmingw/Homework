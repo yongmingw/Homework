{
 "cells": [
  {
   "cell_type": "markdown",
   "metadata": {},
   "source": [
    "<img src=\"https://admissions.ntust.edu.tw/front_index/images/logo.png\" alt=\"drawing\" width=\"600\"/>\n",
    "<h1><center>MACHINE LEARNING : HOMEWORK 3</center></h1>\n",
    "<h1><center>Data 2 : Authors prediction</center></h1>\n",
    "<h2>Hector LANDES - M10601810</h2>\n",
    "<h2>Machine Learning - CS5087701</h2>"
   ]
  },
  {
   "cell_type": "code",
   "execution_count": 2,
   "metadata": {},
   "outputs": [
    {
     "name": "stderr",
     "output_type": "stream",
     "text": [
      "Using TensorFlow backend.\n"
     ]
    }
   ],
   "source": [
    "import pandas as pd\n",
    "import numpy as np\n",
    "import nltk\n",
    "import string\n",
    "from sklearn.model_selection import train_test_split\n",
    "from nltk import word_tokenize, pos_tag, pos_tag_sents\n",
    "import scipy.interpolate as interp\n",
    "from mpl_toolkits.mplot3d import Axes3D\n",
    "from nltk.corpus import stopwords\n",
    "from sacremoses import MosesTokenizer, MosesDetokenizer\n",
    "from nltk.stem import WordNetLemmatizer\n",
    "from nltk.tokenize import RegexpTokenizer, word_tokenize\n",
    "from collections import Counter\n",
    "from nltk.corpus import wordnet\n",
    "import tensorflow as tf\n",
    "import keras\n",
    "from keras.utils import to_categorical\n",
    "from sklearn.preprocessing import LabelEncoder\n",
    "from keras.models import Sequential\n",
    "from keras.layers import Dense\n",
    "from ann_visualizer.visualize import ann_viz;\n",
    "import graphviz\n",
    "import os\n",
    "os.environ[\"PATH\"] += os.pathsep + r'C:\\Users\\Hector Landes\\graphviz-2.38\\release\\bin'"
   ]
  },
  {
   "cell_type": "code",
   "execution_count": 362,
   "metadata": {},
   "outputs": [],
   "source": [
    "test = pd.read_csv (r'C:\\Users\\Hector Landes\\Desktop\\Data Science Projects\\20191005 Homework_1_ML\\2. Prepared Data\\test.csv')\n",
    "train = pd.read_csv (r'C:\\Users\\Hector Landes\\Desktop\\Data Science Projects\\20191005 Homework_1_ML\\2. Prepared Data\\train.csv')"
   ]
  },
  {
   "cell_type": "markdown",
   "metadata": {},
   "source": [
    "Create boolean value if author is EAP, HPL or MWS"
   ]
  },
  {
   "cell_type": "code",
   "execution_count": 13,
   "metadata": {},
   "outputs": [
    {
     "data": {
      "text/plain": [
       "array([[1., 0., 0.],\n",
       "       [0., 1., 0.],\n",
       "       [1., 0., 0.],\n",
       "       ...,\n",
       "       [1., 0., 0.],\n",
       "       [1., 0., 0.],\n",
       "       [0., 1., 0.]], dtype=float32)"
      ]
     },
     "execution_count": 13,
     "metadata": {},
     "output_type": "execute_result"
    }
   ],
   "source": [
    "a2c = {'EAP': 0, 'HPL' : 1, 'MWS' : 2}\n",
    "y = np.array([a2c[a] for a in data.author])\n",
    "y = to_categorical(y)\n",
    "y"
   ]
  },
  {
   "cell_type": "markdown",
   "metadata": {},
   "source": [
    "<ul>\n",
    "<h3>Preprocessing from the HM1</3>\n",
    "</ul>"
   ]
  },
  {
   "cell_type": "code",
   "execution_count": 15,
   "metadata": {},
   "outputs": [],
   "source": [
    "eng_stopwords = set(stopwords.words(\"english\"))\n",
    "train[\"num_stopwords\"] = train[\"text\"].apply(lambda x: len([w for w in str(x).lower().split() if w in eng_stopwords]))\n",
    "#test[\"num_stopwords\"] = test[\"text\"].apply(lambda x: len([w for w in str(x).lower().split() if w in eng_stopwords]))"
   ]
  },
  {
   "cell_type": "code",
   "execution_count": 16,
   "metadata": {},
   "outputs": [],
   "source": [
    "tokenizer = RegexpTokenizer(r'\\w+')\n",
    "lemmatizer = WordNetLemmatizer()"
   ]
  },
  {
   "cell_type": "code",
   "execution_count": 17,
   "metadata": {},
   "outputs": [],
   "source": [
    "def Tokenize(text):\n",
    "    tokens = tokenizer.tokenize(text.lower())\n",
    "    return tokens\n",
    "\n",
    "def RemoveStopwords(word_list):\n",
    "    return [word for word in word_list if word not in stopwords.words('english')]\n",
    "\n",
    "def GetWordnetPos(word):\n",
    "    tag = nltk.pos_tag([word])[0][1][0].upper()\n",
    "    tag_dict = {\"J\": wordnet.ADJ,\n",
    "                \"N\": wordnet.NOUN,\n",
    "                \"V\": wordnet.VERB,\n",
    "                \"R\": wordnet.ADV}\n",
    "\n",
    "    return tag_dict.get(tag, wordnet.NOUN)\n",
    "\n",
    "def LemmatizeTokens(word_list):\n",
    "    return [lemmatizer.lemmatize(word, GetWordnetPos(word)) for word in word_list]\n",
    "   \n",
    "def CountPartOfSpeech(word_list):\n",
    "    tagged = nltk.pos_tag(nltk.Text(word_list))\n",
    "    counts = Counter(tag for word, tag in tagged)\n",
    "    total = sum(counts.values())\n",
    "    ret = dict((word, float(count) / total) for word, count in counts.items())\n",
    "    return ret\n",
    "\n",
    "def ExtractPartOfSpeech(pos_dict, pos_to_extract):\n",
    "    if pos_to_extract in pos_dict.keys():\n",
    "\n",
    "\n",
    "        return pos_dict[pos_to_extract]\n",
    "   \n",
    "    return 0"
   ]
  },
  {
   "cell_type": "code",
   "execution_count": 20,
   "metadata": {},
   "outputs": [],
   "source": [
    "kiki = train.iloc[0:10]"
   ]
  },
  {
   "cell_type": "code",
   "execution_count": 21,
   "metadata": {},
   "outputs": [
    {
     "name": "stderr",
     "output_type": "stream",
     "text": [
      "C:\\ProgramData\\Anaconda3\\lib\\site-packages\\ipykernel_launcher.py:1: SettingWithCopyWarning: \n",
      "A value is trying to be set on a copy of a slice from a DataFrame.\n",
      "Try using .loc[row_indexer,col_indexer] = value instead\n",
      "\n",
      "See the caveats in the documentation: http://pandas.pydata.org/pandas-docs/stable/indexing.html#indexing-view-versus-copy\n",
      "  \"\"\"Entry point for launching an IPython kernel.\n"
     ]
    }
   ],
   "source": [
    "kiki[\"tokens\"] = kiki.text.apply(lambda x: LemmatizeTokens(RemoveStopwords(Tokenize(x))))\n",
    "\n",
    "#train[\"tokens\"] = train.text.apply(lambda x: LemmatizeTokens(RemoveStopwords(Tokenize(x))))\n",
    "#test[\"tokens\"] = test.text.apply(lambda x: LemmatizeTokens(RemoveStopwords(Tokenize(x))))"
   ]
  },
  {
   "cell_type": "code",
   "execution_count": 22,
   "metadata": {},
   "outputs": [
    {
     "name": "stderr",
     "output_type": "stream",
     "text": [
      "C:\\ProgramData\\Anaconda3\\lib\\site-packages\\ipykernel_launcher.py:1: SettingWithCopyWarning: \n",
      "A value is trying to be set on a copy of a slice from a DataFrame.\n",
      "Try using .loc[row_indexer,col_indexer] = value instead\n",
      "\n",
      "See the caveats in the documentation: http://pandas.pydata.org/pandas-docs/stable/indexing.html#indexing-view-versus-copy\n",
      "  \"\"\"Entry point for launching an IPython kernel.\n"
     ]
    }
   ],
   "source": [
    "kiki[\"pos\"] = kiki.tokens.apply(CountPartOfSpeech)\n",
    "\n",
    "#train[\"pos\"] = train.tokens.apply(CountPartOfSpeech)\n",
    "#test[\"pos\"] = test.tokens.apply(CountPartOfSpeech)"
   ]
  },
  {
   "cell_type": "code",
   "execution_count": 23,
   "metadata": {},
   "outputs": [
    {
     "name": "stderr",
     "output_type": "stream",
     "text": [
      "C:\\ProgramData\\Anaconda3\\lib\\site-packages\\ipykernel_launcher.py:1: SettingWithCopyWarning: \n",
      "A value is trying to be set on a copy of a slice from a DataFrame.\n",
      "Try using .loc[row_indexer,col_indexer] = value instead\n",
      "\n",
      "See the caveats in the documentation: http://pandas.pydata.org/pandas-docs/stable/indexing.html#indexing-view-versus-copy\n",
      "  \"\"\"Entry point for launching an IPython kernel.\n",
      "C:\\ProgramData\\Anaconda3\\lib\\site-packages\\ipykernel_launcher.py:2: SettingWithCopyWarning: \n",
      "A value is trying to be set on a copy of a slice from a DataFrame.\n",
      "Try using .loc[row_indexer,col_indexer] = value instead\n",
      "\n",
      "See the caveats in the documentation: http://pandas.pydata.org/pandas-docs/stable/indexing.html#indexing-view-versus-copy\n",
      "  \n",
      "C:\\ProgramData\\Anaconda3\\lib\\site-packages\\ipykernel_launcher.py:3: SettingWithCopyWarning: \n",
      "A value is trying to be set on a copy of a slice from a DataFrame.\n",
      "Try using .loc[row_indexer,col_indexer] = value instead\n",
      "\n",
      "See the caveats in the documentation: http://pandas.pydata.org/pandas-docs/stable/indexing.html#indexing-view-versus-copy\n",
      "  This is separate from the ipykernel package so we can avoid doing imports until\n",
      "C:\\ProgramData\\Anaconda3\\lib\\site-packages\\ipykernel_launcher.py:4: SettingWithCopyWarning: \n",
      "A value is trying to be set on a copy of a slice from a DataFrame.\n",
      "Try using .loc[row_indexer,col_indexer] = value instead\n",
      "\n",
      "See the caveats in the documentation: http://pandas.pydata.org/pandas-docs/stable/indexing.html#indexing-view-versus-copy\n",
      "  after removing the cwd from sys.path.\n"
     ]
    }
   ],
   "source": [
    "kiki[\"prop_noun\"] = kiki.pos.apply(lambda x: ExtractPartOfSpeech(x, \"NN\"))\n",
    "kiki[\"prop_verb\"] = kiki.pos.apply(lambda x: ExtractPartOfSpeech(x, \"VB\"))\n",
    "kiki[\"prop_adj\"] = kiki.pos.apply(lambda x: ExtractPartOfSpeech(x, \"JJ\"))\n",
    "kiki[\"prop_adv\"] = kiki.pos.apply(lambda x: ExtractPartOfSpeech(x, \"RB\"))\n",
    "\n",
    "#train[\"prop_noun\"] = train.pos.apply(lambda x: ExtractPartOfSpeech(x, \"NN\"))\n",
    "#train[\"prop_verb\"] = train.pos.apply(lambda x: ExtractPartOfSpeech(x, \"VB\"))\n",
    "#train[\"prop_adj\"] = train.pos.apply(lambda x: ExtractPartOfSpeech(x, \"JJ\"))\n",
    "#train[\"prop_adv\"] = train.pos.apply(lambda x: ExtractPartOfSpeech(x, \"RB\"))\n",
    "#test[\"prop_noun\"] = test.pos.apply(lambda x: ExtractPartOfSpeech(x, \"NN\"))\n",
    "#test[\"prop_verb\"] = test.pos.apply(lambda x: ExtractPartOfSpeech(x, \"VB\"))\n",
    "#test[\"prop_adj\"] = test.pos.apply(lambda x: ExtractPartOfSpeech(x, \"JJ\"))\n",
    "#test[\"prop_adv\"] = test.pos.apply(lambda x: ExtractPartOfSpeech(x, \"RB\"))"
   ]
  },
  {
   "cell_type": "code",
   "execution_count": 24,
   "metadata": {},
   "outputs": [
    {
     "name": "stderr",
     "output_type": "stream",
     "text": [
      "C:\\ProgramData\\Anaconda3\\lib\\site-packages\\ipykernel_launcher.py:1: SettingWithCopyWarning: \n",
      "A value is trying to be set on a copy of a slice from a DataFrame.\n",
      "Try using .loc[row_indexer,col_indexer] = value instead\n",
      "\n",
      "See the caveats in the documentation: http://pandas.pydata.org/pandas-docs/stable/indexing.html#indexing-view-versus-copy\n",
      "  \"\"\"Entry point for launching an IPython kernel.\n"
     ]
    }
   ],
   "source": [
    "kiki[\"num_words\"] = kiki[\"text\"].apply(lambda x: len(str(x).split()))\n",
    "\n",
    "#train[\"num_words\"] = train[\"text\"].apply(lambda x: len(str(x).split()))\n",
    "#test[\"num_words\"] = test[\"text\"].apply(lambda x: len(str(x).split()))"
   ]
  },
  {
   "cell_type": "code",
   "execution_count": 25,
   "metadata": {},
   "outputs": [
    {
     "name": "stderr",
     "output_type": "stream",
     "text": [
      "C:\\ProgramData\\Anaconda3\\lib\\site-packages\\ipykernel_launcher.py:1: SettingWithCopyWarning: \n",
      "A value is trying to be set on a copy of a slice from a DataFrame.\n",
      "Try using .loc[row_indexer,col_indexer] = value instead\n",
      "\n",
      "See the caveats in the documentation: http://pandas.pydata.org/pandas-docs/stable/indexing.html#indexing-view-versus-copy\n",
      "  \"\"\"Entry point for launching an IPython kernel.\n"
     ]
    }
   ],
   "source": [
    "kiki[\"token_num_words\"] = kiki[\"tokens\"].apply(lambda x: len(str(x).split()))\n",
    "#test[\"token_num_words\"] = test[\"tokens\"].apply(lambda x: len(str(x).split()))"
   ]
  },
  {
   "cell_type": "code",
   "execution_count": 26,
   "metadata": {},
   "outputs": [
    {
     "name": "stderr",
     "output_type": "stream",
     "text": [
      "C:\\ProgramData\\Anaconda3\\lib\\site-packages\\ipykernel_launcher.py:1: SettingWithCopyWarning: \n",
      "A value is trying to be set on a copy of a slice from a DataFrame.\n",
      "Try using .loc[row_indexer,col_indexer] = value instead\n",
      "\n",
      "See the caveats in the documentation: http://pandas.pydata.org/pandas-docs/stable/indexing.html#indexing-view-versus-copy\n",
      "  \"\"\"Entry point for launching an IPython kernel.\n"
     ]
    }
   ],
   "source": [
    "kiki[\"num_unique_words\"] = kiki[\"text\"].apply(lambda x: len(set(str(x).split())))\n",
    "#test[\"num_unique_words\"] = test[\"text\"].apply(lambda x: len(set(str(x).split())))"
   ]
  },
  {
   "cell_type": "code",
   "execution_count": 27,
   "metadata": {},
   "outputs": [
    {
     "name": "stderr",
     "output_type": "stream",
     "text": [
      "C:\\ProgramData\\Anaconda3\\lib\\site-packages\\ipykernel_launcher.py:1: SettingWithCopyWarning: \n",
      "A value is trying to be set on a copy of a slice from a DataFrame.\n",
      "Try using .loc[row_indexer,col_indexer] = value instead\n",
      "\n",
      "See the caveats in the documentation: http://pandas.pydata.org/pandas-docs/stable/indexing.html#indexing-view-versus-copy\n",
      "  \"\"\"Entry point for launching an IPython kernel.\n"
     ]
    }
   ],
   "source": [
    "kiki[\"num_chars\"] = kiki[\"text\"].apply(lambda x: len(str(x)))\n",
    "#test[\"num_chars\"] = test[\"text\"].apply(lambda x: len(str(x)))"
   ]
  },
  {
   "cell_type": "code",
   "execution_count": 28,
   "metadata": {},
   "outputs": [
    {
     "name": "stderr",
     "output_type": "stream",
     "text": [
      "C:\\ProgramData\\Anaconda3\\lib\\site-packages\\ipykernel_launcher.py:1: SettingWithCopyWarning: \n",
      "A value is trying to be set on a copy of a slice from a DataFrame.\n",
      "Try using .loc[row_indexer,col_indexer] = value instead\n",
      "\n",
      "See the caveats in the documentation: http://pandas.pydata.org/pandas-docs/stable/indexing.html#indexing-view-versus-copy\n",
      "  \"\"\"Entry point for launching an IPython kernel.\n"
     ]
    }
   ],
   "source": [
    "kiki[\"num_punctuations\"] = kiki['text'].apply(lambda x: len([c for c in str(x) if c in string.punctuation]) )\n",
    "#test[\"num_punctuations\"] = test['text'].apply(lambda x: len([c for c in str(x) if c in string.punctuation]) )"
   ]
  },
  {
   "cell_type": "code",
   "execution_count": 29,
   "metadata": {},
   "outputs": [
    {
     "name": "stderr",
     "output_type": "stream",
     "text": [
      "C:\\ProgramData\\Anaconda3\\lib\\site-packages\\ipykernel_launcher.py:1: SettingWithCopyWarning: \n",
      "A value is trying to be set on a copy of a slice from a DataFrame.\n",
      "Try using .loc[row_indexer,col_indexer] = value instead\n",
      "\n",
      "See the caveats in the documentation: http://pandas.pydata.org/pandas-docs/stable/indexing.html#indexing-view-versus-copy\n",
      "  \"\"\"Entry point for launching an IPython kernel.\n"
     ]
    }
   ],
   "source": [
    "kiki[\"num_words_upper\"] = kiki[\"text\"].apply(lambda x: len([w for w in str(x).split() if w.isupper()]))\n",
    "#test[\"num_words_upper\"] = test[\"text\"].apply(lambda x: len([w for w in str(x).split() if w.isupper()]))"
   ]
  },
  {
   "cell_type": "code",
   "execution_count": 30,
   "metadata": {},
   "outputs": [
    {
     "name": "stderr",
     "output_type": "stream",
     "text": [
      "C:\\ProgramData\\Anaconda3\\lib\\site-packages\\ipykernel_launcher.py:1: SettingWithCopyWarning: \n",
      "A value is trying to be set on a copy of a slice from a DataFrame.\n",
      "Try using .loc[row_indexer,col_indexer] = value instead\n",
      "\n",
      "See the caveats in the documentation: http://pandas.pydata.org/pandas-docs/stable/indexing.html#indexing-view-versus-copy\n",
      "  \"\"\"Entry point for launching an IPython kernel.\n"
     ]
    }
   ],
   "source": [
    "kiki[\"num_words_title\"] = kiki[\"text\"].apply(lambda x: len([w for w in str(x).split() if w.istitle()]))\n",
    "#test[\"num_words_title\"] = test[\"text\"].apply(lambda x: len([w for w in str(x).split() if w.istitle()]))"
   ]
  },
  {
   "cell_type": "code",
   "execution_count": 31,
   "metadata": {},
   "outputs": [
    {
     "name": "stderr",
     "output_type": "stream",
     "text": [
      "C:\\ProgramData\\Anaconda3\\lib\\site-packages\\ipykernel_launcher.py:1: SettingWithCopyWarning: \n",
      "A value is trying to be set on a copy of a slice from a DataFrame.\n",
      "Try using .loc[row_indexer,col_indexer] = value instead\n",
      "\n",
      "See the caveats in the documentation: http://pandas.pydata.org/pandas-docs/stable/indexing.html#indexing-view-versus-copy\n",
      "  \"\"\"Entry point for launching an IPython kernel.\n"
     ]
    }
   ],
   "source": [
    "kiki[\"mean_word_len\"] = kiki[\"text\"].apply(lambda x: np.mean([len(w) for w in str(x).split()]))\n",
    "#test[\"mean_word_len\"] = test[\"text\"].apply(lambda x: np.mean([len(w) for w in str(x).split()]))"
   ]
  },
  {
   "cell_type": "code",
   "execution_count": 32,
   "metadata": {},
   "outputs": [
    {
     "name": "stderr",
     "output_type": "stream",
     "text": [
      "C:\\ProgramData\\Anaconda3\\lib\\site-packages\\ipykernel_launcher.py:1: SettingWithCopyWarning: \n",
      "A value is trying to be set on a copy of a slice from a DataFrame.\n",
      "Try using .loc[row_indexer,col_indexer] = value instead\n",
      "\n",
      "See the caveats in the documentation: http://pandas.pydata.org/pandas-docs/stable/indexing.html#indexing-view-versus-copy\n",
      "  \"\"\"Entry point for launching an IPython kernel.\n"
     ]
    }
   ],
   "source": [
    "kiki[\"mean_word_len\"] = kiki[\"tokens\"].apply(lambda x: np.mean([len(w) for w in str(x).split()]))\n",
    "#test[\"mean_word_len\"] = test[\"tokens\"].apply(lambda x: np.mean([len(w) for w in str(x).split()]))"
   ]
  },
  {
   "cell_type": "code",
   "execution_count": 33,
   "metadata": {},
   "outputs": [
    {
     "name": "stderr",
     "output_type": "stream",
     "text": [
      "C:\\ProgramData\\Anaconda3\\lib\\site-packages\\ipykernel_launcher.py:1: SettingWithCopyWarning: \n",
      "A value is trying to be set on a copy of a slice from a DataFrame.\n",
      "Try using .loc[row_indexer,col_indexer] = value instead\n",
      "\n",
      "See the caveats in the documentation: http://pandas.pydata.org/pandas-docs/stable/indexing.html#indexing-view-versus-copy\n",
      "  \"\"\"Entry point for launching an IPython kernel.\n"
     ]
    }
   ],
   "source": [
    "kiki[\"std_word_len\"] = kiki[\"text\"].apply(lambda x: np.std([len(w) for w in str(x).split()]))\n",
    "#test[\"std_word_len\"] = test[\"text\"].apply(lambda x: np.std([len(w) for w in str(x).split()]))"
   ]
  },
  {
   "cell_type": "code",
   "execution_count": 34,
   "metadata": {},
   "outputs": [
    {
     "name": "stderr",
     "output_type": "stream",
     "text": [
      "C:\\ProgramData\\Anaconda3\\lib\\site-packages\\ipykernel_launcher.py:1: SettingWithCopyWarning: \n",
      "A value is trying to be set on a copy of a slice from a DataFrame.\n",
      "Try using .loc[row_indexer,col_indexer] = value instead\n",
      "\n",
      "See the caveats in the documentation: http://pandas.pydata.org/pandas-docs/stable/indexing.html#indexing-view-versus-copy\n",
      "  \"\"\"Entry point for launching an IPython kernel.\n"
     ]
    }
   ],
   "source": [
    "kiki[\"std_word_len\"] = kiki[\"tokens\"].apply(lambda x: np.std([len(w) for w in str(x).split()]))\n",
    "#test[\"std_word_len\"] = test[\"tokens\"].apply(lambda x: np.std([len(w) for w in str(x).split()]))"
   ]
  },
  {
   "cell_type": "code",
   "execution_count": 35,
   "metadata": {},
   "outputs": [
    {
     "name": "stderr",
     "output_type": "stream",
     "text": [
      "C:\\ProgramData\\Anaconda3\\lib\\site-packages\\ipykernel_launcher.py:1: SettingWithCopyWarning: \n",
      "A value is trying to be set on a copy of a slice from a DataFrame.\n",
      "Try using .loc[row_indexer,col_indexer] = value instead\n",
      "\n",
      "See the caveats in the documentation: http://pandas.pydata.org/pandas-docs/stable/indexing.html#indexing-view-versus-copy\n",
      "  \"\"\"Entry point for launching an IPython kernel.\n"
     ]
    }
   ],
   "source": [
    "kiki['label_author'] = LabelEncoder().fit_transform(kiki['author'])"
   ]
  },
  {
   "cell_type": "code",
   "execution_count": 36,
   "metadata": {},
   "outputs": [
    {
     "data": {
      "text/plain": [
       "['id',\n",
       " 'text',\n",
       " 'author',\n",
       " 'num_stopwords',\n",
       " 'tokens',\n",
       " 'pos',\n",
       " 'prop_noun',\n",
       " 'prop_verb',\n",
       " 'prop_adj',\n",
       " 'prop_adv',\n",
       " 'num_words',\n",
       " 'token_num_words',\n",
       " 'num_unique_words',\n",
       " 'num_chars',\n",
       " 'num_punctuations',\n",
       " 'num_words_upper',\n",
       " 'num_words_title',\n",
       " 'mean_word_len',\n",
       " 'std_word_len',\n",
       " 'label_author']"
      ]
     },
     "execution_count": 36,
     "metadata": {},
     "output_type": "execute_result"
    }
   ],
   "source": [
    "cols = kiki.columns.tolist()\n",
    "cols"
   ]
  },
  {
   "cell_type": "code",
   "execution_count": 37,
   "metadata": {},
   "outputs": [],
   "source": [
    "kiki = kiki[['id',\n",
    " 'text',\n",
    " 'author',\n",
    " 'tokens',\n",
    " 'pos',\n",
    "'num_stopwords',             \n",
    " 'prop_noun',\n",
    " 'prop_verb',\n",
    " 'prop_adj',\n",
    " 'prop_adv',\n",
    " 'num_words',\n",
    " 'token_num_words',\n",
    " 'num_unique_words',\n",
    " 'num_chars',\n",
    " 'num_punctuations',\n",
    " 'num_words_upper',\n",
    " 'num_words_title',\n",
    " 'mean_word_len',\n",
    " 'std_word_len',\n",
    " 'label_author']]\n",
    "#test = test[['id',\n",
    "# 'text',\n",
    "# 'tokens',\n",
    "# 'pos',\n",
    "#'num_stopwords',             \n",
    "# 'prop_noun',\n",
    "# 'prop_verb',\n",
    "# 'prop_adj',\n",
    "# 'prop_adv',\n",
    "# 'num_words',\n",
    "# 'token_num_words',\n",
    "# 'num_unique_words',\n",
    "# 'num_chars',\n",
    "# 'num_punctuations',\n",
    "# 'num_words_upper',\n",
    "# 'num_words_title',\n",
    "# 'mean_word_len',\n",
    "# 'std_word_len']]"
   ]
  },
  {
   "cell_type": "markdown",
   "metadata": {},
   "source": [
    "<ul>\n",
    "<b> X </b> as the <b> Feature Matrix and normalization </b> \n",
    "</ul>"
   ]
  },
  {
   "cell_type": "code",
   "execution_count": 38,
   "metadata": {},
   "outputs": [
    {
     "data": {
      "text/html": [
       "<div>\n",
       "<style scoped>\n",
       "    .dataframe tbody tr th:only-of-type {\n",
       "        vertical-align: middle;\n",
       "    }\n",
       "\n",
       "    .dataframe tbody tr th {\n",
       "        vertical-align: top;\n",
       "    }\n",
       "\n",
       "    .dataframe thead th {\n",
       "        text-align: right;\n",
       "    }\n",
       "</style>\n",
       "<table border=\"1\" class=\"dataframe\">\n",
       "  <thead>\n",
       "    <tr style=\"text-align: right;\">\n",
       "      <th></th>\n",
       "      <th>num_stopwords</th>\n",
       "      <th>prop_noun</th>\n",
       "      <th>prop_verb</th>\n",
       "      <th>prop_adj</th>\n",
       "      <th>prop_adv</th>\n",
       "      <th>num_words</th>\n",
       "      <th>token_num_words</th>\n",
       "      <th>num_unique_words</th>\n",
       "      <th>num_chars</th>\n",
       "      <th>num_punctuations</th>\n",
       "      <th>num_words_upper</th>\n",
       "      <th>num_words_title</th>\n",
       "      <th>mean_word_len</th>\n",
       "      <th>std_word_len</th>\n",
       "    </tr>\n",
       "  </thead>\n",
       "  <tbody>\n",
       "    <tr>\n",
       "      <th>0</th>\n",
       "      <td>0.365854</td>\n",
       "      <td>0.52381</td>\n",
       "      <td>0.142857</td>\n",
       "      <td>0.571429</td>\n",
       "      <td>0.500</td>\n",
       "      <td>0.4125</td>\n",
       "      <td>0.447368</td>\n",
       "      <td>0.465517</td>\n",
       "      <td>0.422472</td>\n",
       "      <td>0.6</td>\n",
       "      <td>0.4</td>\n",
       "      <td>0.333333</td>\n",
       "      <td>0.254042</td>\n",
       "      <td>0.38581</td>\n",
       "    </tr>\n",
       "    <tr>\n",
       "      <th>1</th>\n",
       "      <td>0.097561</td>\n",
       "      <td>0.00000</td>\n",
       "      <td>1.000000</td>\n",
       "      <td>0.666667</td>\n",
       "      <td>0.875</td>\n",
       "      <td>0.0750</td>\n",
       "      <td>0.052632</td>\n",
       "      <td>0.103448</td>\n",
       "      <td>0.062921</td>\n",
       "      <td>0.0</td>\n",
       "      <td>0.0</td>\n",
       "      <td>0.000000</td>\n",
       "      <td>0.012702</td>\n",
       "      <td>0.00000</td>\n",
       "    </tr>\n",
       "  </tbody>\n",
       "</table>\n",
       "</div>"
      ],
      "text/plain": [
       "   num_stopwords  prop_noun  prop_verb  prop_adj  prop_adv  num_words  \\\n",
       "0       0.365854    0.52381   0.142857  0.571429     0.500     0.4125   \n",
       "1       0.097561    0.00000   1.000000  0.666667     0.875     0.0750   \n",
       "\n",
       "   token_num_words  num_unique_words  num_chars  num_punctuations  \\\n",
       "0         0.447368          0.465517   0.422472               0.6   \n",
       "1         0.052632          0.103448   0.062921               0.0   \n",
       "\n",
       "   num_words_upper  num_words_title  mean_word_len  std_word_len  \n",
       "0              0.4         0.333333       0.254042       0.38581  \n",
       "1              0.0         0.000000       0.012702       0.00000  "
      ]
     },
     "execution_count": 38,
     "metadata": {},
     "output_type": "execute_result"
    }
   ],
   "source": [
    "X = kiki[kiki.columns[5:19]]\n",
    "X = (X - X.min()) / (X.max() - X.min())\n",
    "X[0:2]"
   ]
  },
  {
   "cell_type": "markdown",
   "metadata": {},
   "source": [
    "<ul>\n",
    "    <li> <b> Y </b> as the <b> Target Value </b> </li>\n",
    "</ul>"
   ]
  },
  {
   "cell_type": "code",
   "execution_count": 39,
   "metadata": {},
   "outputs": [
    {
     "data": {
      "text/plain": [
       "0    0\n",
       "1    1\n",
       "2    0\n",
       "3    2\n",
       "4    1\n",
       "Name: label_author, dtype: int32"
      ]
     },
     "execution_count": 39,
     "metadata": {},
     "output_type": "execute_result"
    }
   ],
   "source": [
    "Y = kiki['label_author']\n",
    "Y[0:5]"
   ]
  },
  {
   "cell_type": "markdown",
   "metadata": {},
   "source": [
    "Now we will split the data in training and testing data"
   ]
  },
  {
   "cell_type": "code",
   "execution_count": 40,
   "metadata": {},
   "outputs": [],
   "source": [
    "X_trainset, X_testset, Y_trainset, Y_testset = train_test_split(X, Y, test_size=0.2, random_state=3)"
   ]
  },
  {
   "cell_type": "code",
   "execution_count": 41,
   "metadata": {},
   "outputs": [
    {
     "name": "stdout",
     "output_type": "stream",
     "text": [
      "Feature matrix ->   Training: (8, 14)    Testing: (2, 14)\n",
      "Target value   ->   Training: (8,)       Testing: (2,)\n"
     ]
    }
   ],
   "source": [
    "print('Feature matrix ->   Training:',X_trainset.shape,'   Testing:',X_testset.shape)\n",
    "print('Target value   ->   Training:',Y_trainset.shape,'      Testing:',Y_testset.shape)"
   ]
  },
  {
   "cell_type": "markdown",
   "metadata": {},
   "source": [
    "++++++++++++++++++++++++++++++++++++++++++++++++++++++++++++++++++++++++++++++++++++++++++++++++++++++++++++++++++++++++"
   ]
  },
  {
   "cell_type": "markdown",
   "metadata": {},
   "source": [
    "https://www.kaggle.com/nzw0301/simple-keras-fasttext-val-loss-0-31"
   ]
  },
  {
   "cell_type": "code",
   "execution_count": 42,
   "metadata": {},
   "outputs": [],
   "source": [
    "from keras.preprocessing.text import Tokenizer\n",
    "from keras.preprocessing.sequence import pad_sequences\n",
    "from keras.layers import Dense, GlobalAveragePooling1D, Embedding\n",
    "from keras.callbacks import EarlyStopping"
   ]
  },
  {
   "cell_type": "code",
   "execution_count": 356,
   "metadata": {},
   "outputs": [],
   "source": [
    "def preprocess(text):\n",
    "    text = text.replace(\"' \", \" ' \")\n",
    "    signs = set(',.:;\"?!')\n",
    "    prods = set(text) & signs\n",
    "    if not prods:\n",
    "        return text\n",
    "\n",
    "    for sign in prods:\n",
    "        text = text.replace(sign, ' {} '.format(sign) )\n",
    "    return text"
   ]
  },
  {
   "cell_type": "code",
   "execution_count": 357,
   "metadata": {},
   "outputs": [],
   "source": [
    "def create_docs(df, n_gram_max=2):\n",
    "    def add_ngram(q, n_gram_max):\n",
    "            ngrams = []\n",
    "            for n in range(2, n_gram_max+1):\n",
    "                for w_index in range(len(q)-n+1):\n",
    "                    ngrams.append('--'.join(q[w_index:w_index+n]))\n",
    "            return q + ngrams\n",
    "        \n",
    "    docs = []\n",
    "    for doc in df.text:\n",
    "        doc = preprocess(doc).split()\n",
    "        docs.append(' '.join(add_ngram(doc, n_gram_max)))\n",
    "    \n",
    "    return docs"
   ]
  },
  {
   "cell_type": "code",
   "execution_count": 358,
   "metadata": {},
   "outputs": [],
   "source": [
    "min_count = 2\n",
    "\n",
    "docs = create_docs(data)\n",
    "tokenizer = Tokenizer(lower=False, filters='')\n",
    "tokenizer.fit_on_texts(docs)\n",
    "num_words = sum([1 for _, v in tokenizer.word_counts.items() if v >= min_count])\n",
    "\n",
    "tokenizer = Tokenizer(num_words=num_words, lower=False, filters='')\n",
    "tokenizer.fit_on_texts(docs)\n",
    "docs = tokenizer.texts_to_sequences(docs)\n",
    "\n",
    "maxlen = 256\n",
    "\n",
    "docs = pad_sequences(sequences=docs, maxlen=maxlen)"
   ]
  },
  {
   "cell_type": "code",
   "execution_count": 359,
   "metadata": {},
   "outputs": [],
   "source": [
    "input_dim = np.max(docs) + 3\n",
    "embedding_dims = 25"
   ]
  },
  {
   "cell_type": "code",
   "execution_count": 360,
   "metadata": {},
   "outputs": [],
   "source": [
    "def create_model(embedding_dims=20, optimizer='adam'):\n",
    "    model = Sequential()\n",
    "    model.add(Embedding(input_dim=input_dim, output_dim=embedding_dims))\n",
    "    model.add(GlobalAveragePooling1D())\n",
    "    model.add(Dense(3, activation='softmax'))\n",
    "\n",
    "    model.compile(loss='categorical_crossentropy',\n",
    "                  optimizer=optimizer,\n",
    "                  metrics=['accuracy'])\n",
    "    return model"
   ]
  },
  {
   "cell_type": "code",
   "execution_count": 361,
   "metadata": {},
   "outputs": [
    {
     "ename": "ValueError",
     "evalue": "Found input variables with inconsistent numbers of samples: [19579, 6]",
     "output_type": "error",
     "traceback": [
      "\u001b[1;31m---------------------------------------------------------------------------\u001b[0m",
      "\u001b[1;31mValueError\u001b[0m                                Traceback (most recent call last)",
      "\u001b[1;32m<ipython-input-361-fe7c31f917f1>\u001b[0m in \u001b[0;36m<module>\u001b[1;34m\u001b[0m\n\u001b[0;32m      1\u001b[0m \u001b[0mepochs\u001b[0m \u001b[1;33m=\u001b[0m \u001b[1;36m100\u001b[0m\u001b[1;33m\u001b[0m\u001b[1;33m\u001b[0m\u001b[0m\n\u001b[1;32m----> 2\u001b[1;33m \u001b[0mx_train\u001b[0m\u001b[1;33m,\u001b[0m \u001b[0mx_test\u001b[0m\u001b[1;33m,\u001b[0m \u001b[0my_train\u001b[0m\u001b[1;33m,\u001b[0m \u001b[0my_test\u001b[0m \u001b[1;33m=\u001b[0m \u001b[0mtrain_test_split\u001b[0m\u001b[1;33m(\u001b[0m\u001b[0mdocs\u001b[0m\u001b[1;33m,\u001b[0m \u001b[0my\u001b[0m\u001b[1;33m,\u001b[0m \u001b[0mtest_size\u001b[0m\u001b[1;33m=\u001b[0m\u001b[1;36m0.2\u001b[0m\u001b[1;33m)\u001b[0m\u001b[1;33m\u001b[0m\u001b[1;33m\u001b[0m\u001b[0m\n\u001b[0m\u001b[0;32m      3\u001b[0m \u001b[1;33m\u001b[0m\u001b[0m\n\u001b[0;32m      4\u001b[0m \u001b[0mmodel\u001b[0m \u001b[1;33m=\u001b[0m \u001b[0mcreate_model\u001b[0m\u001b[1;33m(\u001b[0m\u001b[1;33m)\u001b[0m\u001b[1;33m\u001b[0m\u001b[1;33m\u001b[0m\u001b[0m\n\u001b[0;32m      5\u001b[0m hist = model.fit(x_train, y_train,\n",
      "\u001b[1;32mC:\\ProgramData\\Anaconda3\\lib\\site-packages\\sklearn\\model_selection\\_split.py\u001b[0m in \u001b[0;36mtrain_test_split\u001b[1;34m(*arrays, **options)\u001b[0m\n\u001b[0;32m   2182\u001b[0m         \u001b[0mtest_size\u001b[0m \u001b[1;33m=\u001b[0m \u001b[1;36m0.25\u001b[0m\u001b[1;33m\u001b[0m\u001b[1;33m\u001b[0m\u001b[0m\n\u001b[0;32m   2183\u001b[0m \u001b[1;33m\u001b[0m\u001b[0m\n\u001b[1;32m-> 2184\u001b[1;33m     \u001b[0marrays\u001b[0m \u001b[1;33m=\u001b[0m \u001b[0mindexable\u001b[0m\u001b[1;33m(\u001b[0m\u001b[1;33m*\u001b[0m\u001b[0marrays\u001b[0m\u001b[1;33m)\u001b[0m\u001b[1;33m\u001b[0m\u001b[1;33m\u001b[0m\u001b[0m\n\u001b[0m\u001b[0;32m   2185\u001b[0m \u001b[1;33m\u001b[0m\u001b[0m\n\u001b[0;32m   2186\u001b[0m     \u001b[1;32mif\u001b[0m \u001b[0mshuffle\u001b[0m \u001b[1;32mis\u001b[0m \u001b[1;32mFalse\u001b[0m\u001b[1;33m:\u001b[0m\u001b[1;33m\u001b[0m\u001b[1;33m\u001b[0m\u001b[0m\n",
      "\u001b[1;32mC:\\ProgramData\\Anaconda3\\lib\\site-packages\\sklearn\\utils\\validation.py\u001b[0m in \u001b[0;36mindexable\u001b[1;34m(*iterables)\u001b[0m\n\u001b[0;32m    258\u001b[0m         \u001b[1;32melse\u001b[0m\u001b[1;33m:\u001b[0m\u001b[1;33m\u001b[0m\u001b[1;33m\u001b[0m\u001b[0m\n\u001b[0;32m    259\u001b[0m             \u001b[0mresult\u001b[0m\u001b[1;33m.\u001b[0m\u001b[0mappend\u001b[0m\u001b[1;33m(\u001b[0m\u001b[0mnp\u001b[0m\u001b[1;33m.\u001b[0m\u001b[0marray\u001b[0m\u001b[1;33m(\u001b[0m\u001b[0mX\u001b[0m\u001b[1;33m)\u001b[0m\u001b[1;33m)\u001b[0m\u001b[1;33m\u001b[0m\u001b[1;33m\u001b[0m\u001b[0m\n\u001b[1;32m--> 260\u001b[1;33m     \u001b[0mcheck_consistent_length\u001b[0m\u001b[1;33m(\u001b[0m\u001b[1;33m*\u001b[0m\u001b[0mresult\u001b[0m\u001b[1;33m)\u001b[0m\u001b[1;33m\u001b[0m\u001b[1;33m\u001b[0m\u001b[0m\n\u001b[0m\u001b[0;32m    261\u001b[0m     \u001b[1;32mreturn\u001b[0m \u001b[0mresult\u001b[0m\u001b[1;33m\u001b[0m\u001b[1;33m\u001b[0m\u001b[0m\n\u001b[0;32m    262\u001b[0m \u001b[1;33m\u001b[0m\u001b[0m\n",
      "\u001b[1;32mC:\\ProgramData\\Anaconda3\\lib\\site-packages\\sklearn\\utils\\validation.py\u001b[0m in \u001b[0;36mcheck_consistent_length\u001b[1;34m(*arrays)\u001b[0m\n\u001b[0;32m    233\u001b[0m     \u001b[1;32mif\u001b[0m \u001b[0mlen\u001b[0m\u001b[1;33m(\u001b[0m\u001b[0muniques\u001b[0m\u001b[1;33m)\u001b[0m \u001b[1;33m>\u001b[0m \u001b[1;36m1\u001b[0m\u001b[1;33m:\u001b[0m\u001b[1;33m\u001b[0m\u001b[1;33m\u001b[0m\u001b[0m\n\u001b[0;32m    234\u001b[0m         raise ValueError(\"Found input variables with inconsistent numbers of\"\n\u001b[1;32m--> 235\u001b[1;33m                          \" samples: %r\" % [int(l) for l in lengths])\n\u001b[0m\u001b[0;32m    236\u001b[0m \u001b[1;33m\u001b[0m\u001b[0m\n\u001b[0;32m    237\u001b[0m \u001b[1;33m\u001b[0m\u001b[0m\n",
      "\u001b[1;31mValueError\u001b[0m: Found input variables with inconsistent numbers of samples: [19579, 6]"
     ]
    }
   ],
   "source": [
    "epochs = 100\n",
    "x_train, x_test, y_train, y_test = train_test_split(docs, y, test_size=0.2)\n",
    "\n",
    "model = create_model()\n",
    "hist = model.fit(x_train, y_train,\n",
    "                 batch_size=1600,\n",
    "                 validation_data=(x_test, y_test),\n",
    "                 epochs=epochs,\n",
    "                 callbacks=[EarlyStopping(patience=2, monitor='val_loss')])"
   ]
  },
  {
   "cell_type": "markdown",
   "metadata": {},
   "source": [
    "++++++++++++++++++++++++++++++++++++++++++++++++++++++++++++++++++++++++++++++++++++++++++++++++++++++++++++++++++++++++"
   ]
  },
  {
   "cell_type": "markdown",
   "metadata": {},
   "source": [
    "<ul>\n",
    "<h3>Fit Keras Model<h/3>\n",
    "</ul>"
   ]
  },
  {
   "cell_type": "code",
   "execution_count": 354,
   "metadata": {},
   "outputs": [
    {
     "ename": "ValueError",
     "evalue": "Found input variables with inconsistent numbers of samples: [19579, 6]",
     "output_type": "error",
     "traceback": [
      "\u001b[1;31m---------------------------------------------------------------------------\u001b[0m",
      "\u001b[1;31mValueError\u001b[0m                                Traceback (most recent call last)",
      "\u001b[1;32m<ipython-input-354-7e036c5b3773>\u001b[0m in \u001b[0;36m<module>\u001b[1;34m\u001b[0m\n\u001b[1;32m----> 1\u001b[1;33m \u001b[0mX_trainset\u001b[0m\u001b[1;33m,\u001b[0m \u001b[0mX_testset\u001b[0m\u001b[1;33m,\u001b[0m \u001b[0mY_trainset\u001b[0m\u001b[1;33m,\u001b[0m \u001b[0mY_testset\u001b[0m \u001b[1;33m=\u001b[0m \u001b[0mtrain_test_split\u001b[0m\u001b[1;33m(\u001b[0m\u001b[0mdocs\u001b[0m\u001b[1;33m,\u001b[0m \u001b[0my\u001b[0m\u001b[1;33m,\u001b[0m \u001b[0mtest_size\u001b[0m\u001b[1;33m=\u001b[0m\u001b[1;36m0.2\u001b[0m\u001b[1;33m)\u001b[0m\u001b[1;33m\u001b[0m\u001b[1;33m\u001b[0m\u001b[0m\n\u001b[0m",
      "\u001b[1;32mC:\\ProgramData\\Anaconda3\\lib\\site-packages\\sklearn\\model_selection\\_split.py\u001b[0m in \u001b[0;36mtrain_test_split\u001b[1;34m(*arrays, **options)\u001b[0m\n\u001b[0;32m   2182\u001b[0m         \u001b[0mtest_size\u001b[0m \u001b[1;33m=\u001b[0m \u001b[1;36m0.25\u001b[0m\u001b[1;33m\u001b[0m\u001b[1;33m\u001b[0m\u001b[0m\n\u001b[0;32m   2183\u001b[0m \u001b[1;33m\u001b[0m\u001b[0m\n\u001b[1;32m-> 2184\u001b[1;33m     \u001b[0marrays\u001b[0m \u001b[1;33m=\u001b[0m \u001b[0mindexable\u001b[0m\u001b[1;33m(\u001b[0m\u001b[1;33m*\u001b[0m\u001b[0marrays\u001b[0m\u001b[1;33m)\u001b[0m\u001b[1;33m\u001b[0m\u001b[1;33m\u001b[0m\u001b[0m\n\u001b[0m\u001b[0;32m   2185\u001b[0m \u001b[1;33m\u001b[0m\u001b[0m\n\u001b[0;32m   2186\u001b[0m     \u001b[1;32mif\u001b[0m \u001b[0mshuffle\u001b[0m \u001b[1;32mis\u001b[0m \u001b[1;32mFalse\u001b[0m\u001b[1;33m:\u001b[0m\u001b[1;33m\u001b[0m\u001b[1;33m\u001b[0m\u001b[0m\n",
      "\u001b[1;32mC:\\ProgramData\\Anaconda3\\lib\\site-packages\\sklearn\\utils\\validation.py\u001b[0m in \u001b[0;36mindexable\u001b[1;34m(*iterables)\u001b[0m\n\u001b[0;32m    258\u001b[0m         \u001b[1;32melse\u001b[0m\u001b[1;33m:\u001b[0m\u001b[1;33m\u001b[0m\u001b[1;33m\u001b[0m\u001b[0m\n\u001b[0;32m    259\u001b[0m             \u001b[0mresult\u001b[0m\u001b[1;33m.\u001b[0m\u001b[0mappend\u001b[0m\u001b[1;33m(\u001b[0m\u001b[0mnp\u001b[0m\u001b[1;33m.\u001b[0m\u001b[0marray\u001b[0m\u001b[1;33m(\u001b[0m\u001b[0mX\u001b[0m\u001b[1;33m)\u001b[0m\u001b[1;33m)\u001b[0m\u001b[1;33m\u001b[0m\u001b[1;33m\u001b[0m\u001b[0m\n\u001b[1;32m--> 260\u001b[1;33m     \u001b[0mcheck_consistent_length\u001b[0m\u001b[1;33m(\u001b[0m\u001b[1;33m*\u001b[0m\u001b[0mresult\u001b[0m\u001b[1;33m)\u001b[0m\u001b[1;33m\u001b[0m\u001b[1;33m\u001b[0m\u001b[0m\n\u001b[0m\u001b[0;32m    261\u001b[0m     \u001b[1;32mreturn\u001b[0m \u001b[0mresult\u001b[0m\u001b[1;33m\u001b[0m\u001b[1;33m\u001b[0m\u001b[0m\n\u001b[0;32m    262\u001b[0m \u001b[1;33m\u001b[0m\u001b[0m\n",
      "\u001b[1;32mC:\\ProgramData\\Anaconda3\\lib\\site-packages\\sklearn\\utils\\validation.py\u001b[0m in \u001b[0;36mcheck_consistent_length\u001b[1;34m(*arrays)\u001b[0m\n\u001b[0;32m    233\u001b[0m     \u001b[1;32mif\u001b[0m \u001b[0mlen\u001b[0m\u001b[1;33m(\u001b[0m\u001b[0muniques\u001b[0m\u001b[1;33m)\u001b[0m \u001b[1;33m>\u001b[0m \u001b[1;36m1\u001b[0m\u001b[1;33m:\u001b[0m\u001b[1;33m\u001b[0m\u001b[1;33m\u001b[0m\u001b[0m\n\u001b[0;32m    234\u001b[0m         raise ValueError(\"Found input variables with inconsistent numbers of\"\n\u001b[1;32m--> 235\u001b[1;33m                          \" samples: %r\" % [int(l) for l in lengths])\n\u001b[0m\u001b[0;32m    236\u001b[0m \u001b[1;33m\u001b[0m\u001b[0m\n\u001b[0;32m    237\u001b[0m \u001b[1;33m\u001b[0m\u001b[0m\n",
      "\u001b[1;31mValueError\u001b[0m: Found input variables with inconsistent numbers of samples: [19579, 6]"
     ]
    }
   ],
   "source": [
    "X_trainset, X_testset, Y_trainset, Y_testset = train_test_split(docs, y, test_size=0.2)"
   ]
  },
  {
   "cell_type": "code",
   "execution_count": null,
   "metadata": {},
   "outputs": [],
   "source": [
    "def create_model(embedding_dims=20, optimizer='adam'):\n",
    "    model = Sequential()\n",
    "    model.add(Embedding(input_dim=input_dim, output_dim=embedding_dims))\n",
    "    model.add(GlobalAveragePooling1D())\n",
    "    model.add(Dense(3, activation='softmax'))\n",
    "\n",
    "    model.compile(loss='categorical_crossentropy',\n",
    "                  optimizer=optimizer,\n",
    "                  metrics=['accuracy'])\n",
    "    return model"
   ]
  },
  {
   "cell_type": "code",
   "execution_count": 195,
   "metadata": {},
   "outputs": [],
   "source": [
    "model = Sequential()\n",
    "model.add(Embedding(input_dim=input_dim, output_dim=20))\n",
    "model.add(GlobalAveragePooling1D())\n",
    "model.add(Dense(3, activation='softmax'))\n",
    "model.compile(loss='categorical_crossentropy', optimizer='adam', metrics=['accuracy'])"
   ]
  },
  {
   "cell_type": "code",
   "execution_count": 211,
   "metadata": {},
   "outputs": [
    {
     "name": "stdout",
     "output_type": "stream",
     "text": [
      "Train on 15663 samples, validate on 3916 samples\n",
      "Epoch 1/200\n",
      "15663/15663 [==============================] - ETA: 0s - loss: 1.0543 - accuracy: 0.41 - ETA: 0s - loss: 1.0495 - accuracy: 0.42 - ETA: 0s - loss: 1.0472 - accuracy: 0.43 - ETA: 0s - loss: 1.0470 - accuracy: 0.43 - ETA: 0s - loss: 1.0477 - accuracy: 0.43 - ETA: 0s - loss: 1.0493 - accuracy: 0.42 - ETA: 0s - loss: 1.0493 - accuracy: 0.42 - ETA: 0s - loss: 1.0492 - accuracy: 0.42 - 1s 47us/step - loss: 1.0490 - accuracy: 0.4290 - val_loss: 1.0548 - val_accuracy: 0.4221\n",
      "Epoch 2/200\n",
      "15663/15663 [==============================] - ETA: 0s - loss: 1.0494 - accuracy: 0.42 - ETA: 0s - loss: 1.0443 - accuracy: 0.44 - ETA: 0s - loss: 1.0437 - accuracy: 0.44 - ETA: 0s - loss: 1.0444 - accuracy: 0.44 - ETA: 0s - loss: 1.0439 - accuracy: 0.44 - ETA: 0s - loss: 1.0445 - accuracy: 0.44 - ETA: 0s - loss: 1.0452 - accuracy: 0.44 - ETA: 0s - loss: 1.0451 - accuracy: 0.44 - 1s 48us/step - loss: 1.0448 - accuracy: 0.4449 - val_loss: 1.0510 - val_accuracy: 0.4311\n",
      "Epoch 3/200\n",
      "15663/15663 [==============================] - ETA: 0s - loss: 1.0487 - accuracy: 0.44 - ETA: 0s - loss: 1.0464 - accuracy: 0.44 - ETA: 0s - loss: 1.0433 - accuracy: 0.45 - ETA: 0s - loss: 1.0431 - accuracy: 0.45 - ETA: 0s - loss: 1.0426 - accuracy: 0.45 - ETA: 0s - loss: 1.0408 - accuracy: 0.45 - ETA: 0s - loss: 1.0400 - accuracy: 0.45 - ETA: 0s - loss: 1.0399 - accuracy: 0.45 - 1s 47us/step - loss: 1.0402 - accuracy: 0.4571 - val_loss: 1.0469 - val_accuracy: 0.4387\n",
      "Epoch 4/200\n",
      "15663/15663 [==============================] - ETA: 0s - loss: 1.0311 - accuracy: 0.48 - ETA: 0s - loss: 1.0379 - accuracy: 0.46 - ETA: 0s - loss: 1.0381 - accuracy: 0.46 - ETA: 0s - loss: 1.0382 - accuracy: 0.46 - ETA: 0s - loss: 1.0391 - accuracy: 0.45 - ETA: 0s - loss: 1.0372 - accuracy: 0.46 - ETA: 0s - loss: 1.0362 - accuracy: 0.46 - ETA: 0s - loss: 1.0355 - accuracy: 0.46 - 1s 47us/step - loss: 1.0350 - accuracy: 0.4673 - val_loss: 1.0423 - val_accuracy: 0.4494\n",
      "Epoch 5/200\n",
      "15663/15663 [==============================] - ETA: 0s - loss: 1.0361 - accuracy: 0.46 - ETA: 0s - loss: 1.0363 - accuracy: 0.46 - ETA: 0s - loss: 1.0322 - accuracy: 0.47 - ETA: 0s - loss: 1.0338 - accuracy: 0.46 - ETA: 0s - loss: 1.0328 - accuracy: 0.47 - ETA: 0s - loss: 1.0304 - accuracy: 0.47 - ETA: 0s - loss: 1.0300 - accuracy: 0.47 - ETA: 0s - loss: 1.0295 - accuracy: 0.48 - 1s 47us/step - loss: 1.0293 - accuracy: 0.4809 - val_loss: 1.0373 - val_accuracy: 0.4599\n",
      "Epoch 6/200\n",
      "15663/15663 [==============================] - ETA: 0s - loss: 1.0223 - accuracy: 0.49 - ETA: 0s - loss: 1.0236 - accuracy: 0.49 - ETA: 0s - loss: 1.0242 - accuracy: 0.49 - ETA: 0s - loss: 1.0243 - accuracy: 0.48 - ETA: 0s - loss: 1.0238 - accuracy: 0.49 - ETA: 0s - loss: 1.0246 - accuracy: 0.48 - ETA: 0s - loss: 1.0245 - accuracy: 0.48 - ETA: 0s - loss: 1.0231 - accuracy: 0.49 - 1s 46us/step - loss: 1.0230 - accuracy: 0.4942 - val_loss: 1.0316 - val_accuracy: 0.4732\n",
      "Epoch 7/200\n",
      "15663/15663 [==============================] - ETA: 0s - loss: 1.0195 - accuracy: 0.49 - ETA: 0s - loss: 1.0209 - accuracy: 0.49 - ETA: 0s - loss: 1.0208 - accuracy: 0.49 - ETA: 0s - loss: 1.0196 - accuracy: 0.49 - ETA: 0s - loss: 1.0171 - accuracy: 0.50 - ETA: 0s - loss: 1.0173 - accuracy: 0.50 - ETA: 0s - loss: 1.0172 - accuracy: 0.50 - ETA: 0s - loss: 1.0162 - accuracy: 0.50 - 1s 47us/step - loss: 1.0161 - accuracy: 0.5067 - val_loss: 1.0258 - val_accuracy: 0.4837\n",
      "Epoch 8/200\n",
      "15663/15663 [==============================] - ETA: 0s - loss: 1.0155 - accuracy: 0.49 - ETA: 0s - loss: 1.0098 - accuracy: 0.51 - ETA: 0s - loss: 1.0124 - accuracy: 0.50 - ETA: 0s - loss: 1.0115 - accuracy: 0.51 - ETA: 0s - loss: 1.0102 - accuracy: 0.51 - ETA: 0s - loss: 1.0099 - accuracy: 0.51 - ETA: 0s - loss: 1.0095 - accuracy: 0.51 - ETA: 0s - loss: 1.0089 - accuracy: 0.51 - 1s 47us/step - loss: 1.0087 - accuracy: 0.5203 - val_loss: 1.0189 - val_accuracy: 0.5026\n",
      "Epoch 9/200\n",
      "15663/15663 [==============================] - ETA: 0s - loss: 1.0068 - accuracy: 0.53 - ETA: 0s - loss: 1.0062 - accuracy: 0.53 - ETA: 0s - loss: 1.0048 - accuracy: 0.53 - ETA: 0s - loss: 1.0031 - accuracy: 0.53 - ETA: 0s - loss: 1.0020 - accuracy: 0.53 - ETA: 0s - loss: 1.0028 - accuracy: 0.53 - ETA: 0s - loss: 1.0019 - accuracy: 0.53 - ETA: 0s - loss: 1.0017 - accuracy: 0.53 - ETA: 0s - loss: 1.0011 - accuracy: 0.53 - 1s 49us/step - loss: 1.0006 - accuracy: 0.5351 - val_loss: 1.0120 - val_accuracy: 0.5130\n",
      "Epoch 10/200\n",
      "15663/15663 [==============================] - ETA: 0s - loss: 0.9860 - accuracy: 0.55 - ETA: 0s - loss: 0.9888 - accuracy: 0.56 - ETA: 0s - loss: 0.9896 - accuracy: 0.56 - ETA: 0s - loss: 0.9905 - accuracy: 0.56 - ETA: 0s - loss: 0.9910 - accuracy: 0.56 - ETA: 0s - loss: 0.9913 - accuracy: 0.56 - ETA: 0s - loss: 0.9912 - accuracy: 0.56 - ETA: 0s - loss: 0.9911 - accuracy: 0.56 - ETA: 0s - loss: 0.9915 - accuracy: 0.56 - ETA: 0s - loss: 0.9920 - accuracy: 0.55 - 1s 50us/step - loss: 0.9920 - accuracy: 0.5580 - val_loss: 1.0049 - val_accuracy: 0.5181\n",
      "Epoch 11/200\n",
      "15663/15663 [==============================] - ETA: 0s - loss: 0.9878 - accuracy: 0.55 - ETA: 0s - loss: 0.9819 - accuracy: 0.56 - ETA: 0s - loss: 0.9818 - accuracy: 0.56 - ETA: 0s - loss: 0.9826 - accuracy: 0.56 - ETA: 0s - loss: 0.9820 - accuracy: 0.56 - ETA: 0s - loss: 0.9821 - accuracy: 0.56 - ETA: 0s - loss: 0.9820 - accuracy: 0.56 - ETA: 0s - loss: 0.9826 - accuracy: 0.56 - 1s 46us/step - loss: 0.9827 - accuracy: 0.5626 - val_loss: 0.9968 - val_accuracy: 0.5358\n",
      "Epoch 12/200\n",
      "15663/15663 [==============================] - ETA: 0s - loss: 0.9766 - accuracy: 0.57 - ETA: 0s - loss: 0.9795 - accuracy: 0.56 - ETA: 0s - loss: 0.9756 - accuracy: 0.57 - ETA: 0s - loss: 0.9778 - accuracy: 0.57 - ETA: 0s - loss: 0.9771 - accuracy: 0.57 - ETA: 0s - loss: 0.9762 - accuracy: 0.57 - ETA: 0s - loss: 0.9759 - accuracy: 0.57 - ETA: 0s - loss: 0.9751 - accuracy: 0.57 - ETA: 0s - loss: 0.9745 - accuracy: 0.57 - ETA: 0s - loss: 0.9744 - accuracy: 0.57 - ETA: 0s - loss: 0.9729 - accuracy: 0.57 - 1s 50us/step - loss: 0.9729 - accuracy: 0.5774 - val_loss: 0.9886 - val_accuracy: 0.5506\n",
      "Epoch 13/200\n",
      "15663/15663 [==============================] - ETA: 0s - loss: 0.9664 - accuracy: 0.57 - ETA: 0s - loss: 0.9663 - accuracy: 0.58 - ETA: 0s - loss: 0.9668 - accuracy: 0.58 - ETA: 0s - loss: 0.9653 - accuracy: 0.58 - ETA: 0s - loss: 0.9645 - accuracy: 0.58 - ETA: 0s - loss: 0.9647 - accuracy: 0.58 - ETA: 0s - loss: 0.9639 - accuracy: 0.58 - ETA: 0s - loss: 0.9631 - accuracy: 0.58 - 1s 47us/step - loss: 0.9627 - accuracy: 0.5897 - val_loss: 0.9800 - val_accuracy: 0.5621\n",
      "Epoch 14/200\n",
      "15663/15663 [==============================] - ETA: 0s - loss: 0.9595 - accuracy: 0.59 - ETA: 0s - loss: 0.9553 - accuracy: 0.59 - ETA: 0s - loss: 0.9565 - accuracy: 0.59 - ETA: 0s - loss: 0.9563 - accuracy: 0.58 - ETA: 0s - loss: 0.9543 - accuracy: 0.58 - ETA: 0s - loss: 0.9527 - accuracy: 0.59 - ETA: 0s - loss: 0.9520 - accuracy: 0.59 - ETA: 0s - loss: 0.9521 - accuracy: 0.59 - 1s 47us/step - loss: 0.9521 - accuracy: 0.5924 - val_loss: 0.9709 - val_accuracy: 0.5764\n",
      "Epoch 15/200\n",
      "15663/15663 [==============================] - ETA: 0s - loss: 0.9580 - accuracy: 0.57 - ETA: 0s - loss: 0.9509 - accuracy: 0.59 - ETA: 0s - loss: 0.9490 - accuracy: 0.60 - ETA: 0s - loss: 0.9477 - accuracy: 0.60 - ETA: 0s - loss: 0.9450 - accuracy: 0.61 - ETA: 0s - loss: 0.9446 - accuracy: 0.61 - ETA: 0s - loss: 0.9436 - accuracy: 0.61 - ETA: 0s - loss: 0.9424 - accuracy: 0.61 - ETA: 0s - loss: 0.9410 - accuracy: 0.61 - 1s 50us/step - loss: 0.9412 - accuracy: 0.6116 - val_loss: 0.9627 - val_accuracy: 0.5715\n",
      "Epoch 16/200\n",
      "15663/15663 [==============================] - ETA: 0s - loss: 0.9312 - accuracy: 0.62 - ETA: 0s - loss: 0.9333 - accuracy: 0.61 - ETA: 0s - loss: 0.9324 - accuracy: 0.61 - ETA: 0s - loss: 0.9343 - accuracy: 0.61 - ETA: 0s - loss: 0.9336 - accuracy: 0.61 - ETA: 0s - loss: 0.9339 - accuracy: 0.61 - ETA: 0s - loss: 0.9318 - accuracy: 0.61 - ETA: 0s - loss: 0.9301 - accuracy: 0.61 - 1s 49us/step - loss: 0.9301 - accuracy: 0.6159 - val_loss: 0.9543 - val_accuracy: 0.5712\n",
      "Epoch 17/200\n"
     ]
    },
    {
     "name": "stdout",
     "output_type": "stream",
     "text": [
      "15663/15663 [==============================] - ETA: 0s - loss: 0.9287 - accuracy: 0.59 - ETA: 0s - loss: 0.9250 - accuracy: 0.60 - ETA: 0s - loss: 0.9204 - accuracy: 0.61 - ETA: 0s - loss: 0.9234 - accuracy: 0.61 - ETA: 0s - loss: 0.9231 - accuracy: 0.61 - ETA: 0s - loss: 0.9228 - accuracy: 0.61 - ETA: 0s - loss: 0.9206 - accuracy: 0.61 - ETA: 0s - loss: 0.9193 - accuracy: 0.61 - 1s 48us/step - loss: 0.9188 - accuracy: 0.6204 - val_loss: 0.9443 - val_accuracy: 0.5855\n",
      "Epoch 18/200\n",
      "15663/15663 [==============================] - ETA: 0s - loss: 0.9211 - accuracy: 0.60 - ETA: 0s - loss: 0.9108 - accuracy: 0.62 - ETA: 0s - loss: 0.9141 - accuracy: 0.61 - ETA: 0s - loss: 0.9116 - accuracy: 0.61 - ETA: 0s - loss: 0.9085 - accuracy: 0.62 - ETA: 0s - loss: 0.9095 - accuracy: 0.62 - ETA: 0s - loss: 0.9100 - accuracy: 0.62 - ETA: 0s - loss: 0.9071 - accuracy: 0.62 - 1s 48us/step - loss: 0.9074 - accuracy: 0.6253 - val_loss: 0.9353 - val_accuracy: 0.5896\n",
      "Epoch 19/200\n",
      "15663/15663 [==============================] - ETA: 0s - loss: 0.8972 - accuracy: 0.63 - ETA: 0s - loss: 0.9052 - accuracy: 0.61 - ETA: 0s - loss: 0.8997 - accuracy: 0.62 - ETA: 0s - loss: 0.8976 - accuracy: 0.62 - ETA: 0s - loss: 0.8977 - accuracy: 0.62 - ETA: 0s - loss: 0.8974 - accuracy: 0.62 - ETA: 0s - loss: 0.8967 - accuracy: 0.62 - ETA: 0s - loss: 0.8965 - accuracy: 0.62 - 1s 47us/step - loss: 0.8959 - accuracy: 0.6300 - val_loss: 0.9262 - val_accuracy: 0.6001\n",
      "Epoch 20/200\n",
      "15663/15663 [==============================] - ETA: 0s - loss: 0.8771 - accuracy: 0.65 - ETA: 0s - loss: 0.8874 - accuracy: 0.64 - ETA: 0s - loss: 0.8883 - accuracy: 0.63 - ETA: 0s - loss: 0.8892 - accuracy: 0.63 - ETA: 0s - loss: 0.8893 - accuracy: 0.63 - ETA: 0s - loss: 0.8867 - accuracy: 0.63 - ETA: 0s - loss: 0.8865 - accuracy: 0.63 - ETA: 0s - loss: 0.8850 - accuracy: 0.63 - 1s 46us/step - loss: 0.8846 - accuracy: 0.6349 - val_loss: 0.9175 - val_accuracy: 0.6001\n",
      "Epoch 21/200\n",
      "15663/15663 [==============================] - ETA: 0s - loss: 0.8700 - accuracy: 0.66 - ETA: 0s - loss: 0.8843 - accuracy: 0.63 - ETA: 0s - loss: 0.8826 - accuracy: 0.63 - ETA: 0s - loss: 0.8785 - accuracy: 0.63 - ETA: 0s - loss: 0.8754 - accuracy: 0.64 - ETA: 0s - loss: 0.8747 - accuracy: 0.64 - ETA: 0s - loss: 0.8734 - accuracy: 0.64 - ETA: 0s - loss: 0.8729 - accuracy: 0.64 - 1s 46us/step - loss: 0.8733 - accuracy: 0.6418 - val_loss: 0.9090 - val_accuracy: 0.6024\n",
      "Epoch 22/200\n",
      "15663/15663 [==============================] - ETA: 0s - loss: 0.8786 - accuracy: 0.63 - ETA: 0s - loss: 0.8712 - accuracy: 0.63 - ETA: 0s - loss: 0.8640 - accuracy: 0.64 - ETA: 0s - loss: 0.8632 - accuracy: 0.64 - ETA: 0s - loss: 0.8633 - accuracy: 0.64 - ETA: 0s - loss: 0.8636 - accuracy: 0.64 - ETA: 0s - loss: 0.8619 - accuracy: 0.64 - ETA: 0s - loss: 0.8619 - accuracy: 0.64 - 1s 45us/step - loss: 0.8622 - accuracy: 0.6436 - val_loss: 0.9009 - val_accuracy: 0.6034\n",
      "Epoch 23/200\n",
      "15663/15663 [==============================] - ETA: 0s - loss: 0.8491 - accuracy: 0.64 - ETA: 0s - loss: 0.8575 - accuracy: 0.64 - ETA: 0s - loss: 0.8557 - accuracy: 0.63 - ETA: 0s - loss: 0.8544 - accuracy: 0.64 - ETA: 0s - loss: 0.8533 - accuracy: 0.64 - ETA: 0s - loss: 0.8526 - accuracy: 0.64 - ETA: 0s - loss: 0.8522 - accuracy: 0.64 - ETA: 0s - loss: 0.8514 - accuracy: 0.64 - 1s 46us/step - loss: 0.8513 - accuracy: 0.6476 - val_loss: 0.8930 - val_accuracy: 0.6055\n",
      "Epoch 24/200\n",
      "15663/15663 [==============================] - ETA: 0s - loss: 0.8475 - accuracy: 0.64 - ETA: 0s - loss: 0.8453 - accuracy: 0.65 - ETA: 0s - loss: 0.8468 - accuracy: 0.64 - ETA: 0s - loss: 0.8425 - accuracy: 0.65 - ETA: 0s - loss: 0.8417 - accuracy: 0.65 - ETA: 0s - loss: 0.8401 - accuracy: 0.65 - ETA: 0s - loss: 0.8419 - accuracy: 0.65 - ETA: 0s - loss: 0.8414 - accuracy: 0.65 - 1s 47us/step - loss: 0.8407 - accuracy: 0.6515 - val_loss: 0.8858 - val_accuracy: 0.6037\n",
      "Epoch 25/200\n",
      "15663/15663 [==============================] - ETA: 0s - loss: 0.8218 - accuracy: 0.66 - ETA: 0s - loss: 0.8321 - accuracy: 0.65 - ETA: 0s - loss: 0.8344 - accuracy: 0.64 - ETA: 0s - loss: 0.8328 - accuracy: 0.65 - ETA: 0s - loss: 0.8322 - accuracy: 0.65 - ETA: 0s - loss: 0.8316 - accuracy: 0.65 - ETA: 0s - loss: 0.8300 - accuracy: 0.65 - ETA: 0s - loss: 0.8305 - accuracy: 0.65 - ETA: 0s - loss: 0.8306 - accuracy: 0.65 - ETA: 0s - loss: 0.8303 - accuracy: 0.65 - 1s 50us/step - loss: 0.8303 - accuracy: 0.6538 - val_loss: 0.8772 - val_accuracy: 0.6126\n",
      "Epoch 26/200\n",
      "15663/15663 [==============================] - ETA: 0s - loss: 0.8299 - accuracy: 0.65 - ETA: 0s - loss: 0.8243 - accuracy: 0.66 - ETA: 0s - loss: 0.8213 - accuracy: 0.66 - ETA: 0s - loss: 0.8222 - accuracy: 0.65 - ETA: 0s - loss: 0.8200 - accuracy: 0.65 - ETA: 0s - loss: 0.8214 - accuracy: 0.65 - ETA: 0s - loss: 0.8219 - accuracy: 0.65 - ETA: 0s - loss: 0.8213 - accuracy: 0.65 - 1s 47us/step - loss: 0.8201 - accuracy: 0.6570 - val_loss: 0.8702 - val_accuracy: 0.6136\n",
      "Epoch 27/200\n",
      "15663/15663 [==============================] - ETA: 0s - loss: 0.8044 - accuracy: 0.67 - ETA: 0s - loss: 0.8070 - accuracy: 0.67 - ETA: 0s - loss: 0.8106 - accuracy: 0.66 - ETA: 0s - loss: 0.8132 - accuracy: 0.66 - ETA: 0s - loss: 0.8134 - accuracy: 0.65 - ETA: 0s - loss: 0.8124 - accuracy: 0.65 - ETA: 0s - loss: 0.8116 - accuracy: 0.65 - ETA: 0s - loss: 0.8107 - accuracy: 0.65 - 1s 45us/step - loss: 0.8101 - accuracy: 0.6598 - val_loss: 0.8625 - val_accuracy: 0.6200\n",
      "Epoch 28/200\n",
      "15663/15663 [==============================] - ETA: 0s - loss: 0.7962 - accuracy: 0.68 - ETA: 0s - loss: 0.7965 - accuracy: 0.67 - ETA: 0s - loss: 0.8001 - accuracy: 0.66 - ETA: 0s - loss: 0.7986 - accuracy: 0.66 - ETA: 0s - loss: 0.8015 - accuracy: 0.66 - ETA: 0s - loss: 0.8026 - accuracy: 0.66 - ETA: 0s - loss: 0.8025 - accuracy: 0.66 - ETA: 0s - loss: 0.8017 - accuracy: 0.66 - 1s 47us/step - loss: 0.8007 - accuracy: 0.6619 - val_loss: 0.8557 - val_accuracy: 0.6208\n",
      "Epoch 29/200\n",
      "15663/15663 [==============================] - ETA: 0s - loss: 0.7936 - accuracy: 0.67 - ETA: 0s - loss: 0.8034 - accuracy: 0.66 - ETA: 0s - loss: 0.7962 - accuracy: 0.66 - ETA: 0s - loss: 0.7970 - accuracy: 0.66 - ETA: 0s - loss: 0.7945 - accuracy: 0.66 - ETA: 0s - loss: 0.7942 - accuracy: 0.66 - ETA: 0s - loss: 0.7928 - accuracy: 0.66 - ETA: 0s - loss: 0.7914 - accuracy: 0.66 - 1s 49us/step - loss: 0.7912 - accuracy: 0.6649 - val_loss: 0.8491 - val_accuracy: 0.6221\n",
      "Epoch 30/200\n",
      "15663/15663 [==============================] - ETA: 0s - loss: 0.7691 - accuracy: 0.68 - ETA: 0s - loss: 0.7807 - accuracy: 0.67 - ETA: 0s - loss: 0.7808 - accuracy: 0.67 - ETA: 0s - loss: 0.7784 - accuracy: 0.67 - ETA: 0s - loss: 0.7815 - accuracy: 0.67 - ETA: 0s - loss: 0.7818 - accuracy: 0.67 - ETA: 0s - loss: 0.7838 - accuracy: 0.66 - ETA: 0s - loss: 0.7824 - accuracy: 0.66 - 1s 49us/step - loss: 0.7821 - accuracy: 0.6670 - val_loss: 0.8443 - val_accuracy: 0.6172\n",
      "Epoch 31/200\n",
      "15663/15663 [==============================] - ETA: 0s - loss: 0.7631 - accuracy: 0.68 - ETA: 0s - loss: 0.7711 - accuracy: 0.68 - ETA: 0s - loss: 0.7751 - accuracy: 0.67 - ETA: 0s - loss: 0.7719 - accuracy: 0.67 - ETA: 0s - loss: 0.7719 - accuracy: 0.67 - ETA: 0s - loss: 0.7719 - accuracy: 0.67 - ETA: 0s - loss: 0.7734 - accuracy: 0.67 - ETA: 0s - loss: 0.7731 - accuracy: 0.67 - 1s 48us/step - loss: 0.7734 - accuracy: 0.6693 - val_loss: 0.8380 - val_accuracy: 0.6213\n",
      "Epoch 32/200\n",
      "15663/15663 [==============================] - ETA: 0s - loss: 0.7583 - accuracy: 0.68 - ETA: 0s - loss: 0.7637 - accuracy: 0.67 - ETA: 0s - loss: 0.7684 - accuracy: 0.66 - ETA: 0s - loss: 0.7646 - accuracy: 0.67 - ETA: 0s - loss: 0.7648 - accuracy: 0.67 - ETA: 0s - loss: 0.7630 - accuracy: 0.67 - ETA: 0s - loss: 0.7636 - accuracy: 0.67 - ETA: 0s - loss: 0.7639 - accuracy: 0.67 - 1s 48us/step - loss: 0.7647 - accuracy: 0.6708 - val_loss: 0.8310 - val_accuracy: 0.6251\n",
      "Epoch 33/200\n"
     ]
    },
    {
     "name": "stdout",
     "output_type": "stream",
     "text": [
      "15663/15663 [==============================] - ETA: 0s - loss: 0.7578 - accuracy: 0.67 - ETA: 0s - loss: 0.7661 - accuracy: 0.66 - ETA: 0s - loss: 0.7557 - accuracy: 0.67 - ETA: 0s - loss: 0.7599 - accuracy: 0.67 - ETA: 0s - loss: 0.7611 - accuracy: 0.67 - ETA: 0s - loss: 0.7566 - accuracy: 0.67 - ETA: 0s - loss: 0.7576 - accuracy: 0.67 - ETA: 0s - loss: 0.7574 - accuracy: 0.67 - ETA: 0s - loss: 0.7574 - accuracy: 0.67 - 1s 50us/step - loss: 0.7564 - accuracy: 0.6738 - val_loss: 0.8261 - val_accuracy: 0.6251\n",
      "Epoch 34/200\n",
      "15663/15663 [==============================] - ETA: 0s - loss: 0.7346 - accuracy: 0.69 - ETA: 0s - loss: 0.7497 - accuracy: 0.67 - ETA: 0s - loss: 0.7465 - accuracy: 0.67 - ETA: 0s - loss: 0.7460 - accuracy: 0.67 - ETA: 0s - loss: 0.7497 - accuracy: 0.67 - ETA: 0s - loss: 0.7506 - accuracy: 0.67 - ETA: 0s - loss: 0.7492 - accuracy: 0.67 - ETA: 0s - loss: 0.7487 - accuracy: 0.67 - 1s 48us/step - loss: 0.7484 - accuracy: 0.6751 - val_loss: 0.8214 - val_accuracy: 0.6246\n",
      "Epoch 35/200\n",
      "15663/15663 [==============================] - ETA: 0s - loss: 0.7403 - accuracy: 0.69 - ETA: 0s - loss: 0.7408 - accuracy: 0.68 - ETA: 0s - loss: 0.7399 - accuracy: 0.68 - ETA: 0s - loss: 0.7378 - accuracy: 0.68 - ETA: 0s - loss: 0.7391 - accuracy: 0.68 - ETA: 0s - loss: 0.7400 - accuracy: 0.68 - ETA: 0s - loss: 0.7400 - accuracy: 0.68 - ETA: 0s - loss: 0.7404 - accuracy: 0.67 - ETA: 0s - loss: 0.7381 - accuracy: 0.68 - ETA: 0s - loss: 0.7392 - accuracy: 0.67 - ETA: 0s - loss: 0.7386 - accuracy: 0.68 - ETA: 0s - loss: 0.7395 - accuracy: 0.67 - 1s 52us/step - loss: 0.7407 - accuracy: 0.6773 - val_loss: 0.8148 - val_accuracy: 0.6277\n",
      "Epoch 36/200\n",
      "15663/15663 [==============================] - ETA: 0s - loss: 0.7320 - accuracy: 0.69 - ETA: 0s - loss: 0.7389 - accuracy: 0.67 - ETA: 0s - loss: 0.7391 - accuracy: 0.67 - ETA: 0s - loss: 0.7377 - accuracy: 0.67 - ETA: 0s - loss: 0.7362 - accuracy: 0.67 - ETA: 0s - loss: 0.7336 - accuracy: 0.67 - ETA: 0s - loss: 0.7335 - accuracy: 0.67 - ETA: 0s - loss: 0.7333 - accuracy: 0.67 - 1s 49us/step - loss: 0.7331 - accuracy: 0.6780 - val_loss: 0.8099 - val_accuracy: 0.6292\n",
      "Epoch 37/200\n",
      "15663/15663 [==============================] - ETA: 0s - loss: 0.7321 - accuracy: 0.66 - ETA: 0s - loss: 0.7367 - accuracy: 0.66 - ETA: 0s - loss: 0.7360 - accuracy: 0.66 - ETA: 0s - loss: 0.7333 - accuracy: 0.66 - ETA: 0s - loss: 0.7297 - accuracy: 0.67 - ETA: 0s - loss: 0.7275 - accuracy: 0.67 - ETA: 0s - loss: 0.7266 - accuracy: 0.67 - ETA: 0s - loss: 0.7262 - accuracy: 0.67 - 1s 49us/step - loss: 0.7259 - accuracy: 0.6796 - val_loss: 0.8052 - val_accuracy: 0.6302\n",
      "Epoch 38/200\n",
      "15663/15663 [==============================] - ETA: 0s - loss: 0.7229 - accuracy: 0.67 - ETA: 0s - loss: 0.7182 - accuracy: 0.67 - ETA: 0s - loss: 0.7208 - accuracy: 0.67 - ETA: 0s - loss: 0.7235 - accuracy: 0.67 - ETA: 0s - loss: 0.7214 - accuracy: 0.67 - ETA: 0s - loss: 0.7211 - accuracy: 0.67 - ETA: 0s - loss: 0.7200 - accuracy: 0.67 - ETA: 0s - loss: 0.7185 - accuracy: 0.68 - 1s 49us/step - loss: 0.7187 - accuracy: 0.6810 - val_loss: 0.8018 - val_accuracy: 0.6277\n",
      "Epoch 39/200\n",
      "15663/15663 [==============================] - ETA: 0s - loss: 0.7235 - accuracy: 0.66 - ETA: 0s - loss: 0.7109 - accuracy: 0.68 - ETA: 0s - loss: 0.7132 - accuracy: 0.68 - ETA: 0s - loss: 0.7183 - accuracy: 0.67 - ETA: 0s - loss: 0.7140 - accuracy: 0.68 - ETA: 0s - loss: 0.7116 - accuracy: 0.68 - ETA: 0s - loss: 0.7105 - accuracy: 0.68 - ETA: 0s - loss: 0.7110 - accuracy: 0.68 - 1s 49us/step - loss: 0.7120 - accuracy: 0.6812 - val_loss: 0.7962 - val_accuracy: 0.6307\n",
      "Epoch 40/200\n",
      "15663/15663 [==============================] - ETA: 0s - loss: 0.7236 - accuracy: 0.65 - ETA: 0s - loss: 0.7057 - accuracy: 0.67 - ETA: 0s - loss: 0.7087 - accuracy: 0.67 - ETA: 0s - loss: 0.7105 - accuracy: 0.67 - ETA: 0s - loss: 0.7099 - accuracy: 0.67 - ETA: 0s - loss: 0.7073 - accuracy: 0.68 - ETA: 0s - loss: 0.7071 - accuracy: 0.68 - ETA: 0s - loss: 0.7057 - accuracy: 0.68 - 1s 46us/step - loss: 0.7053 - accuracy: 0.6831 - val_loss: 0.7922 - val_accuracy: 0.6315\n",
      "Epoch 41/200\n",
      "15663/15663 [==============================] - ETA: 0s - loss: 0.6938 - accuracy: 0.69 - ETA: 0s - loss: 0.7081 - accuracy: 0.67 - ETA: 0s - loss: 0.6998 - accuracy: 0.68 - ETA: 0s - loss: 0.7000 - accuracy: 0.68 - ETA: 0s - loss: 0.6993 - accuracy: 0.68 - ETA: 0s - loss: 0.6977 - accuracy: 0.68 - ETA: 0s - loss: 0.6969 - accuracy: 0.68 - ETA: 0s - loss: 0.6993 - accuracy: 0.68 - 1s 46us/step - loss: 0.6990 - accuracy: 0.6845 - val_loss: 0.7886 - val_accuracy: 0.6300\n",
      "Epoch 42/200\n",
      "15663/15663 [==============================] - ETA: 0s - loss: 0.7128 - accuracy: 0.66 - ETA: 0s - loss: 0.6925 - accuracy: 0.68 - ETA: 0s - loss: 0.6959 - accuracy: 0.68 - ETA: 0s - loss: 0.6932 - accuracy: 0.68 - ETA: 0s - loss: 0.6930 - accuracy: 0.68 - ETA: 0s - loss: 0.6930 - accuracy: 0.68 - ETA: 0s - loss: 0.6933 - accuracy: 0.68 - ETA: 0s - loss: 0.6936 - accuracy: 0.68 - ETA: 0s - loss: 0.6928 - accuracy: 0.68 - ETA: 0s - loss: 0.6928 - accuracy: 0.68 - ETA: 0s - loss: 0.6932 - accuracy: 0.68 - 1s 52us/step - loss: 0.6929 - accuracy: 0.6856 - val_loss: 0.7847 - val_accuracy: 0.6302\n",
      "Epoch 43/200\n",
      "15663/15663 [==============================] - ETA: 0s - loss: 0.6936 - accuracy: 0.67 - ETA: 0s - loss: 0.6791 - accuracy: 0.69 - ETA: 0s - loss: 0.6885 - accuracy: 0.68 - ETA: 0s - loss: 0.6901 - accuracy: 0.68 - ETA: 0s - loss: 0.6900 - accuracy: 0.68 - ETA: 0s - loss: 0.6896 - accuracy: 0.68 - ETA: 0s - loss: 0.6878 - accuracy: 0.68 - ETA: 0s - loss: 0.6871 - accuracy: 0.68 - 1s 47us/step - loss: 0.6869 - accuracy: 0.6859 - val_loss: 0.7807 - val_accuracy: 0.6325\n",
      "Epoch 44/200\n",
      "15663/15663 [==============================] - ETA: 0s - loss: 0.6817 - accuracy: 0.69 - ETA: 0s - loss: 0.6893 - accuracy: 0.68 - ETA: 0s - loss: 0.6902 - accuracy: 0.68 - ETA: 0s - loss: 0.6857 - accuracy: 0.68 - ETA: 0s - loss: 0.6839 - accuracy: 0.68 - ETA: 0s - loss: 0.6826 - accuracy: 0.68 - ETA: 0s - loss: 0.6827 - accuracy: 0.68 - ETA: 0s - loss: 0.6814 - accuracy: 0.68 - 1s 47us/step - loss: 0.6813 - accuracy: 0.6872 - val_loss: 0.7779 - val_accuracy: 0.6310\n",
      "Epoch 45/200\n",
      "15663/15663 [==============================] - ETA: 0s - loss: 0.6749 - accuracy: 0.69 - ETA: 0s - loss: 0.6784 - accuracy: 0.68 - ETA: 0s - loss: 0.6776 - accuracy: 0.68 - ETA: 0s - loss: 0.6772 - accuracy: 0.68 - ETA: 0s - loss: 0.6767 - accuracy: 0.68 - ETA: 0s - loss: 0.6756 - accuracy: 0.68 - ETA: 0s - loss: 0.6752 - accuracy: 0.68 - ETA: 0s - loss: 0.6753 - accuracy: 0.68 - 1s 47us/step - loss: 0.6753 - accuracy: 0.6884 - val_loss: 0.7742 - val_accuracy: 0.6330\n",
      "Epoch 46/200\n",
      "15663/15663 [==============================] - ETA: 0s - loss: 0.6745 - accuracy: 0.67 - ETA: 0s - loss: 0.6700 - accuracy: 0.68 - ETA: 0s - loss: 0.6695 - accuracy: 0.69 - ETA: 0s - loss: 0.6680 - accuracy: 0.69 - ETA: 0s - loss: 0.6667 - accuracy: 0.69 - ETA: 0s - loss: 0.6693 - accuracy: 0.69 - ETA: 0s - loss: 0.6683 - accuracy: 0.69 - ETA: 0s - loss: 0.6696 - accuracy: 0.69 - 1s 47us/step - loss: 0.6699 - accuracy: 0.6898 - val_loss: 0.7715 - val_accuracy: 0.6325\n",
      "Epoch 47/200\n",
      "15663/15663 [==============================] - ETA: 0s - loss: 0.6581 - accuracy: 0.70 - ETA: 0s - loss: 0.6561 - accuracy: 0.70 - ETA: 0s - loss: 0.6575 - accuracy: 0.70 - ETA: 0s - loss: 0.6591 - accuracy: 0.69 - ETA: 0s - loss: 0.6621 - accuracy: 0.69 - ETA: 0s - loss: 0.6637 - accuracy: 0.69 - ETA: 0s - loss: 0.6640 - accuracy: 0.69 - ETA: 0s - loss: 0.6645 - accuracy: 0.69 - 1s 47us/step - loss: 0.6649 - accuracy: 0.6904 - val_loss: 0.7697 - val_accuracy: 0.6313\n",
      "Epoch 48/200\n",
      "15663/15663 [==============================] - ETA: 0s - loss: 0.6566 - accuracy: 0.67 - ETA: 0s - loss: 0.6552 - accuracy: 0.68 - ETA: 0s - loss: 0.6531 - accuracy: 0.69 - ETA: 0s - loss: 0.6562 - accuracy: 0.69 - ETA: 0s - loss: 0.6555 - accuracy: 0.69 - ETA: 0s - loss: 0.6575 - accuracy: 0.69 - ETA: 0s - loss: 0.6574 - accuracy: 0.69 - ETA: 0s - loss: 0.6602 - accuracy: 0.69 - 1s 47us/step - loss: 0.6598 - accuracy: 0.6910 - val_loss: 0.7667 - val_accuracy: 0.6313\n",
      "Epoch 49/200\n"
     ]
    },
    {
     "name": "stdout",
     "output_type": "stream",
     "text": [
      "15663/15663 [==============================] - ETA: 0s - loss: 0.6609 - accuracy: 0.68 - ETA: 0s - loss: 0.6590 - accuracy: 0.69 - ETA: 0s - loss: 0.6593 - accuracy: 0.69 - ETA: 0s - loss: 0.6585 - accuracy: 0.69 - ETA: 0s - loss: 0.6562 - accuracy: 0.69 - ETA: 0s - loss: 0.6548 - accuracy: 0.69 - ETA: 0s - loss: 0.6536 - accuracy: 0.69 - ETA: 0s - loss: 0.6534 - accuracy: 0.69 - ETA: 0s - loss: 0.6544 - accuracy: 0.69 - 1s 48us/step - loss: 0.6548 - accuracy: 0.6923 - val_loss: 0.7630 - val_accuracy: 0.6338\n",
      "Epoch 50/200\n",
      "15663/15663 [==============================] - ETA: 0s - loss: 0.6495 - accuracy: 0.70 - ETA: 0s - loss: 0.6465 - accuracy: 0.69 - ETA: 0s - loss: 0.6439 - accuracy: 0.69 - ETA: 0s - loss: 0.6497 - accuracy: 0.69 - ETA: 0s - loss: 0.6495 - accuracy: 0.69 - ETA: 0s - loss: 0.6494 - accuracy: 0.69 - ETA: 0s - loss: 0.6465 - accuracy: 0.70 - ETA: 0s - loss: 0.6494 - accuracy: 0.69 - ETA: 0s - loss: 0.6512 - accuracy: 0.69 - ETA: 0s - loss: 0.6533 - accuracy: 0.69 - ETA: 0s - loss: 0.6519 - accuracy: 0.69 - ETA: 0s - loss: 0.6507 - accuracy: 0.69 - ETA: 0s - loss: 0.6497 - accuracy: 0.69 - 1s 54us/step - loss: 0.6501 - accuracy: 0.6925 - val_loss: 0.7593 - val_accuracy: 0.6320\n",
      "Epoch 51/200\n",
      "15663/15663 [==============================] - ETA: 0s - loss: 0.6443 - accuracy: 0.67 - ETA: 0s - loss: 0.6425 - accuracy: 0.68 - ETA: 0s - loss: 0.6436 - accuracy: 0.69 - ETA: 0s - loss: 0.6449 - accuracy: 0.69 - ETA: 0s - loss: 0.6444 - accuracy: 0.69 - ETA: 0s - loss: 0.6458 - accuracy: 0.69 - ETA: 0s - loss: 0.6468 - accuracy: 0.69 - ETA: 0s - loss: 0.6463 - accuracy: 0.69 - 1s 48us/step - loss: 0.6454 - accuracy: 0.6942 - val_loss: 0.7565 - val_accuracy: 0.6341\n",
      "Epoch 52/200\n",
      "15663/15663 [==============================] - ETA: 0s - loss: 0.6375 - accuracy: 0.69 - ETA: 0s - loss: 0.6454 - accuracy: 0.69 - ETA: 0s - loss: 0.6438 - accuracy: 0.69 - ETA: 0s - loss: 0.6416 - accuracy: 0.69 - ETA: 0s - loss: 0.6395 - accuracy: 0.69 - ETA: 0s - loss: 0.6396 - accuracy: 0.69 - ETA: 0s - loss: 0.6395 - accuracy: 0.69 - ETA: 0s - loss: 0.6400 - accuracy: 0.69 - 1s 46us/step - loss: 0.6408 - accuracy: 0.6942 - val_loss: 0.7561 - val_accuracy: 0.6320\n",
      "Epoch 53/200\n",
      "15663/15663 [==============================] - ETA: 0s - loss: 0.6494 - accuracy: 0.68 - ETA: 0s - loss: 0.6399 - accuracy: 0.69 - ETA: 0s - loss: 0.6464 - accuracy: 0.68 - ETA: 0s - loss: 0.6422 - accuracy: 0.68 - ETA: 0s - loss: 0.6426 - accuracy: 0.68 - ETA: 0s - loss: 0.6403 - accuracy: 0.69 - ETA: 0s - loss: 0.6363 - accuracy: 0.69 - ETA: 0s - loss: 0.6371 - accuracy: 0.69 - 1s 46us/step - loss: 0.6368 - accuracy: 0.6946 - val_loss: 0.7530 - val_accuracy: 0.6338\n",
      "Epoch 54/200\n",
      "15663/15663 [==============================] - ETA: 0s - loss: 0.6380 - accuracy: 0.70 - ETA: 0s - loss: 0.6346 - accuracy: 0.69 - ETA: 0s - loss: 0.6331 - accuracy: 0.69 - ETA: 0s - loss: 0.6322 - accuracy: 0.69 - ETA: 0s - loss: 0.6317 - accuracy: 0.69 - ETA: 0s - loss: 0.6323 - accuracy: 0.69 - ETA: 0s - loss: 0.6315 - accuracy: 0.69 - ETA: 0s - loss: 0.6321 - accuracy: 0.69 - 1s 46us/step - loss: 0.6326 - accuracy: 0.6961 - val_loss: 0.7518 - val_accuracy: 0.6320\n",
      "Epoch 55/200\n",
      "15663/15663 [==============================] - ETA: 0s - loss: 0.6255 - accuracy: 0.69 - ETA: 0s - loss: 0.6268 - accuracy: 0.70 - ETA: 0s - loss: 0.6258 - accuracy: 0.70 - ETA: 0s - loss: 0.6288 - accuracy: 0.69 - ETA: 0s - loss: 0.6277 - accuracy: 0.70 - ETA: 0s - loss: 0.6289 - accuracy: 0.69 - ETA: 0s - loss: 0.6280 - accuracy: 0.69 - ETA: 0s - loss: 0.6281 - accuracy: 0.69 - ETA: 0s - loss: 0.6283 - accuracy: 0.69 - ETA: 0s - loss: 0.6292 - accuracy: 0.69 - ETA: 0s - loss: 0.6287 - accuracy: 0.69 - 1s 52us/step - loss: 0.6284 - accuracy: 0.6966 - val_loss: 0.7478 - val_accuracy: 0.6346\n",
      "Epoch 56/200\n",
      "15663/15663 [==============================] - ETA: 0s - loss: 0.6161 - accuracy: 0.71 - ETA: 0s - loss: 0.6113 - accuracy: 0.71 - ETA: 0s - loss: 0.6189 - accuracy: 0.70 - ETA: 0s - loss: 0.6204 - accuracy: 0.70 - ETA: 0s - loss: 0.6252 - accuracy: 0.69 - ETA: 0s - loss: 0.6260 - accuracy: 0.69 - ETA: 0s - loss: 0.6260 - accuracy: 0.69 - ETA: 0s - loss: 0.6255 - accuracy: 0.69 - ETA: 0s - loss: 0.6265 - accuracy: 0.69 - ETA: 0s - loss: 0.6255 - accuracy: 0.69 - ETA: 0s - loss: 0.6249 - accuracy: 0.69 - 1s 52us/step - loss: 0.6245 - accuracy: 0.6966 - val_loss: 0.7452 - val_accuracy: 0.6351\n",
      "Epoch 57/200\n",
      "15663/15663 [==============================] - ETA: 0s - loss: 0.6262 - accuracy: 0.71 - ETA: 0s - loss: 0.6307 - accuracy: 0.69 - ETA: 0s - loss: 0.6296 - accuracy: 0.69 - ETA: 0s - loss: 0.6278 - accuracy: 0.69 - ETA: 0s - loss: 0.6309 - accuracy: 0.69 - ETA: 0s - loss: 0.6283 - accuracy: 0.69 - ETA: 0s - loss: 0.6240 - accuracy: 0.69 - ETA: 0s - loss: 0.6242 - accuracy: 0.69 - ETA: 0s - loss: 0.6231 - accuracy: 0.69 - ETA: 0s - loss: 0.6231 - accuracy: 0.69 - ETA: 0s - loss: 0.6245 - accuracy: 0.69 - ETA: 0s - loss: 0.6233 - accuracy: 0.69 - ETA: 0s - loss: 0.6212 - accuracy: 0.69 - 1s 56us/step - loss: 0.6207 - accuracy: 0.6968 - val_loss: 0.7432 - val_accuracy: 0.6351\n",
      "Epoch 58/200\n",
      "15663/15663 [==============================] - ETA: 0s - loss: 0.6236 - accuracy: 0.70 - ETA: 0s - loss: 0.6277 - accuracy: 0.69 - ETA: 0s - loss: 0.6188 - accuracy: 0.69 - ETA: 0s - loss: 0.6184 - accuracy: 0.69 - ETA: 0s - loss: 0.6172 - accuracy: 0.69 - ETA: 0s - loss: 0.6170 - accuracy: 0.69 - ETA: 0s - loss: 0.6169 - accuracy: 0.69 - ETA: 0s - loss: 0.6174 - accuracy: 0.69 - ETA: 0s - loss: 0.6156 - accuracy: 0.69 - ETA: 0s - loss: 0.6158 - accuracy: 0.69 - ETA: 0s - loss: 0.6166 - accuracy: 0.69 - ETA: 0s - loss: 0.6165 - accuracy: 0.69 - 1s 54us/step - loss: 0.6169 - accuracy: 0.6980 - val_loss: 0.7414 - val_accuracy: 0.6351\n",
      "Epoch 59/200\n",
      "15663/15663 [==============================] - ETA: 0s - loss: 0.6126 - accuracy: 0.70 - ETA: 0s - loss: 0.6107 - accuracy: 0.69 - ETA: 0s - loss: 0.6124 - accuracy: 0.69 - ETA: 0s - loss: 0.6096 - accuracy: 0.69 - ETA: 0s - loss: 0.6127 - accuracy: 0.69 - ETA: 0s - loss: 0.6144 - accuracy: 0.69 - ETA: 0s - loss: 0.6153 - accuracy: 0.69 - ETA: 0s - loss: 0.6137 - accuracy: 0.69 - ETA: 0s - loss: 0.6134 - accuracy: 0.69 - 1s 50us/step - loss: 0.6133 - accuracy: 0.6988 - val_loss: 0.7395 - val_accuracy: 0.6348\n",
      "Epoch 60/200\n",
      "15663/15663 [==============================] - ETA: 0s - loss: 0.6052 - accuracy: 0.69 - ETA: 0s - loss: 0.6136 - accuracy: 0.68 - ETA: 0s - loss: 0.6116 - accuracy: 0.69 - ETA: 0s - loss: 0.6105 - accuracy: 0.69 - ETA: 0s - loss: 0.6099 - accuracy: 0.69 - ETA: 0s - loss: 0.6116 - accuracy: 0.69 - ETA: 0s - loss: 0.6157 - accuracy: 0.69 - ETA: 0s - loss: 0.6146 - accuracy: 0.69 - ETA: 0s - loss: 0.6133 - accuracy: 0.69 - ETA: 0s - loss: 0.6115 - accuracy: 0.69 - 1s 51us/step - loss: 0.6101 - accuracy: 0.6987 - val_loss: 0.7375 - val_accuracy: 0.6348\n",
      "Epoch 61/200\n",
      "15663/15663 [==============================] - ETA: 0s - loss: 0.5944 - accuracy: 0.71 - ETA: 0s - loss: 0.6101 - accuracy: 0.70 - ETA: 0s - loss: 0.6137 - accuracy: 0.69 - ETA: 0s - loss: 0.6130 - accuracy: 0.69 - ETA: 0s - loss: 0.6130 - accuracy: 0.69 - ETA: 0s - loss: 0.6101 - accuracy: 0.69 - ETA: 0s - loss: 0.6092 - accuracy: 0.69 - ETA: 0s - loss: 0.6083 - accuracy: 0.69 - 1s 49us/step - loss: 0.6072 - accuracy: 0.6991 - val_loss: 0.7360 - val_accuracy: 0.6353\n",
      "Epoch 62/200\n",
      "15663/15663 [==============================] - ETA: 0s - loss: 0.6125 - accuracy: 0.68 - ETA: 0s - loss: 0.6133 - accuracy: 0.68 - ETA: 0s - loss: 0.6065 - accuracy: 0.69 - ETA: 0s - loss: 0.6041 - accuracy: 0.70 - ETA: 0s - loss: 0.6046 - accuracy: 0.70 - ETA: 0s - loss: 0.6041 - accuracy: 0.69 - ETA: 0s - loss: 0.6027 - accuracy: 0.70 - ETA: 0s - loss: 0.6029 - accuracy: 0.69 - 1s 48us/step - loss: 0.6032 - accuracy: 0.6997 - val_loss: 0.7348 - val_accuracy: 0.6361\n",
      "Epoch 63/200\n",
      "15663/15663 [==============================] - ETA: 0s - loss: 0.6181 - accuracy: 0.67 - ETA: 0s - loss: 0.6019 - accuracy: 0.70 - ETA: 0s - loss: 0.5989 - accuracy: 0.70 - ETA: 0s - loss: 0.5984 - accuracy: 0.70 - ETA: 0s - loss: 0.5994 - accuracy: 0.70 - ETA: 0s - loss: 0.6006 - accuracy: 0.69 - ETA: 0s - loss: 0.6004 - accuracy: 0.70 - ETA: 0s - loss: 0.6005 - accuracy: 0.69 - 1s 49us/step - loss: 0.6000 - accuracy: 0.7001 - val_loss: 0.7317 - val_accuracy: 0.6371\n"
     ]
    },
    {
     "name": "stdout",
     "output_type": "stream",
     "text": [
      "Epoch 64/200\n",
      "15663/15663 [==============================] - ETA: 0s - loss: 0.6123 - accuracy: 0.68 - ETA: 0s - loss: 0.6132 - accuracy: 0.68 - ETA: 0s - loss: 0.6106 - accuracy: 0.69 - ETA: 0s - loss: 0.6072 - accuracy: 0.69 - ETA: 0s - loss: 0.6055 - accuracy: 0.69 - ETA: 0s - loss: 0.6035 - accuracy: 0.69 - ETA: 0s - loss: 0.5998 - accuracy: 0.70 - ETA: 0s - loss: 0.5981 - accuracy: 0.70 - ETA: 0s - loss: 0.5985 - accuracy: 0.69 - ETA: 0s - loss: 0.5981 - accuracy: 0.69 - 1s 50us/step - loss: 0.5972 - accuracy: 0.7007 - val_loss: 0.7310 - val_accuracy: 0.6361\n",
      "Epoch 65/200\n",
      "15663/15663 [==============================] - ETA: 0s - loss: 0.5884 - accuracy: 0.70 - ETA: 0s - loss: 0.5966 - accuracy: 0.70 - ETA: 0s - loss: 0.5911 - accuracy: 0.70 - ETA: 0s - loss: 0.5918 - accuracy: 0.70 - ETA: 0s - loss: 0.5925 - accuracy: 0.70 - ETA: 0s - loss: 0.5942 - accuracy: 0.70 - ETA: 0s - loss: 0.5948 - accuracy: 0.70 - ETA: 0s - loss: 0.5937 - accuracy: 0.70 - 1s 46us/step - loss: 0.5940 - accuracy: 0.7010 - val_loss: 0.7293 - val_accuracy: 0.6359\n",
      "Epoch 66/200\n",
      "15663/15663 [==============================] - ETA: 0s - loss: 0.6255 - accuracy: 0.64 - ETA: 0s - loss: 0.6067 - accuracy: 0.68 - ETA: 0s - loss: 0.5979 - accuracy: 0.69 - ETA: 0s - loss: 0.5952 - accuracy: 0.69 - ETA: 0s - loss: 0.5914 - accuracy: 0.69 - ETA: 0s - loss: 0.5908 - accuracy: 0.69 - ETA: 0s - loss: 0.5891 - accuracy: 0.70 - ETA: 0s - loss: 0.5904 - accuracy: 0.70 - 1s 48us/step - loss: 0.5910 - accuracy: 0.7018 - val_loss: 0.7288 - val_accuracy: 0.6359\n",
      "Epoch 67/200\n",
      "15663/15663 [==============================] - ETA: 0s - loss: 0.6089 - accuracy: 0.67 - ETA: 0s - loss: 0.5968 - accuracy: 0.69 - ETA: 0s - loss: 0.5937 - accuracy: 0.69 - ETA: 0s - loss: 0.5932 - accuracy: 0.69 - ETA: 0s - loss: 0.5918 - accuracy: 0.69 - ETA: 0s - loss: 0.5895 - accuracy: 0.70 - ETA: 0s - loss: 0.5901 - accuracy: 0.70 - ETA: 0s - loss: 0.5874 - accuracy: 0.70 - 1s 47us/step - loss: 0.5881 - accuracy: 0.7020 - val_loss: 0.7282 - val_accuracy: 0.6359\n",
      "Epoch 68/200\n",
      "15663/15663 [==============================] - ETA: 0s - loss: 0.5927 - accuracy: 0.69 - ETA: 0s - loss: 0.5885 - accuracy: 0.69 - ETA: 0s - loss: 0.5891 - accuracy: 0.69 - ETA: 0s - loss: 0.5875 - accuracy: 0.70 - ETA: 0s - loss: 0.5860 - accuracy: 0.70 - ETA: 0s - loss: 0.5867 - accuracy: 0.70 - ETA: 0s - loss: 0.5840 - accuracy: 0.70 - ETA: 0s - loss: 0.5845 - accuracy: 0.70 - 1s 47us/step - loss: 0.5854 - accuracy: 0.7022 - val_loss: 0.7256 - val_accuracy: 0.6359\n",
      "Epoch 69/200\n",
      "15663/15663 [==============================] - ETA: 0s - loss: 0.5808 - accuracy: 0.71 - ETA: 0s - loss: 0.5786 - accuracy: 0.71 - ETA: 0s - loss: 0.5850 - accuracy: 0.69 - ETA: 0s - loss: 0.5810 - accuracy: 0.70 - ETA: 0s - loss: 0.5829 - accuracy: 0.70 - ETA: 0s - loss: 0.5828 - accuracy: 0.70 - ETA: 0s - loss: 0.5833 - accuracy: 0.70 - ETA: 0s - loss: 0.5823 - accuracy: 0.70 - 1s 47us/step - loss: 0.5828 - accuracy: 0.7025 - val_loss: 0.7256 - val_accuracy: 0.6353\n",
      "Epoch 70/200\n",
      "15663/15663 [==============================] - ETA: 0s - loss: 0.5809 - accuracy: 0.70 - ETA: 0s - loss: 0.5838 - accuracy: 0.70 - ETA: 0s - loss: 0.5766 - accuracy: 0.71 - ETA: 0s - loss: 0.5785 - accuracy: 0.70 - ETA: 0s - loss: 0.5779 - accuracy: 0.70 - ETA: 0s - loss: 0.5751 - accuracy: 0.70 - ETA: 0s - loss: 0.5775 - accuracy: 0.70 - ETA: 0s - loss: 0.5794 - accuracy: 0.70 - 1s 46us/step - loss: 0.5801 - accuracy: 0.7032 - val_loss: 0.7241 - val_accuracy: 0.6359\n",
      "Epoch 71/200\n",
      "15663/15663 [==============================] - ETA: 0s - loss: 0.5601 - accuracy: 0.72 - ETA: 0s - loss: 0.5737 - accuracy: 0.70 - ETA: 0s - loss: 0.5712 - accuracy: 0.70 - ETA: 0s - loss: 0.5751 - accuracy: 0.70 - ETA: 0s - loss: 0.5751 - accuracy: 0.70 - ETA: 0s - loss: 0.5776 - accuracy: 0.70 - ETA: 0s - loss: 0.5795 - accuracy: 0.70 - ETA: 0s - loss: 0.5784 - accuracy: 0.70 - 1s 46us/step - loss: 0.5778 - accuracy: 0.7034 - val_loss: 0.7251 - val_accuracy: 0.6343\n",
      "Epoch 72/200\n",
      "15663/15663 [==============================] - ETA: 0s - loss: 0.5745 - accuracy: 0.69 - ETA: 0s - loss: 0.5820 - accuracy: 0.69 - ETA: 0s - loss: 0.5732 - accuracy: 0.70 - ETA: 0s - loss: 0.5730 - accuracy: 0.70 - ETA: 0s - loss: 0.5739 - accuracy: 0.70 - ETA: 0s - loss: 0.5759 - accuracy: 0.70 - ETA: 0s - loss: 0.5772 - accuracy: 0.70 - ETA: 0s - loss: 0.5754 - accuracy: 0.70 - 1s 47us/step - loss: 0.5755 - accuracy: 0.7038 - val_loss: 0.7231 - val_accuracy: 0.6348\n",
      "Epoch 73/200\n",
      "15663/15663 [==============================] - ETA: 0s - loss: 0.5583 - accuracy: 0.71 - ETA: 0s - loss: 0.5750 - accuracy: 0.70 - ETA: 0s - loss: 0.5749 - accuracy: 0.70 - ETA: 0s - loss: 0.5726 - accuracy: 0.70 - ETA: 0s - loss: 0.5730 - accuracy: 0.70 - ETA: 0s - loss: 0.5716 - accuracy: 0.70 - ETA: 0s - loss: 0.5722 - accuracy: 0.70 - ETA: 0s - loss: 0.5720 - accuracy: 0.70 - 1s 47us/step - loss: 0.5730 - accuracy: 0.7037 - val_loss: 0.7207 - val_accuracy: 0.6353\n",
      "Epoch 74/200\n",
      "15663/15663 [==============================] - ETA: 0s - loss: 0.5833 - accuracy: 0.68 - ETA: 0s - loss: 0.5745 - accuracy: 0.69 - ETA: 0s - loss: 0.5755 - accuracy: 0.69 - ETA: 0s - loss: 0.5736 - accuracy: 0.70 - ETA: 0s - loss: 0.5733 - accuracy: 0.70 - ETA: 0s - loss: 0.5718 - accuracy: 0.70 - ETA: 0s - loss: 0.5713 - accuracy: 0.70 - ETA: 0s - loss: 0.5705 - accuracy: 0.70 - ETA: 0s - loss: 0.5704 - accuracy: 0.70 - 1s 49us/step - loss: 0.5705 - accuracy: 0.7041 - val_loss: 0.7195 - val_accuracy: 0.6359\n",
      "Epoch 75/200\n",
      "15663/15663 [==============================] - ETA: 0s - loss: 0.5573 - accuracy: 0.70 - ETA: 0s - loss: 0.5685 - accuracy: 0.69 - ETA: 0s - loss: 0.5705 - accuracy: 0.69 - ETA: 0s - loss: 0.5721 - accuracy: 0.69 - ETA: 0s - loss: 0.5682 - accuracy: 0.70 - ETA: 0s - loss: 0.5673 - accuracy: 0.70 - ETA: 0s - loss: 0.5685 - accuracy: 0.70 - ETA: 0s - loss: 0.5670 - accuracy: 0.70 - ETA: 0s - loss: 0.5686 - accuracy: 0.70 - ETA: 0s - loss: 0.5694 - accuracy: 0.70 - ETA: 0s - loss: 0.5687 - accuracy: 0.70 - ETA: 0s - loss: 0.5682 - accuracy: 0.70 - 1s 53us/step - loss: 0.5681 - accuracy: 0.7043 - val_loss: 0.7186 - val_accuracy: 0.6356\n",
      "Epoch 76/200\n",
      "15663/15663 [==============================] - ETA: 0s - loss: 0.5707 - accuracy: 0.69 - ETA: 0s - loss: 0.5655 - accuracy: 0.70 - ETA: 0s - loss: 0.5718 - accuracy: 0.70 - ETA: 0s - loss: 0.5708 - accuracy: 0.70 - ETA: 0s - loss: 0.5697 - accuracy: 0.70 - ETA: 0s - loss: 0.5673 - accuracy: 0.70 - ETA: 0s - loss: 0.5663 - accuracy: 0.70 - ETA: 0s - loss: 0.5669 - accuracy: 0.70 - ETA: 0s - loss: 0.5661 - accuracy: 0.70 - ETA: 0s - loss: 0.5659 - accuracy: 0.70 - 1s 49us/step - loss: 0.5658 - accuracy: 0.7048 - val_loss: 0.7166 - val_accuracy: 0.6374\n",
      "Epoch 77/200\n",
      "15663/15663 [==============================] - ETA: 0s - loss: 0.5537 - accuracy: 0.70 - ETA: 0s - loss: 0.5594 - accuracy: 0.70 - ETA: 0s - loss: 0.5627 - accuracy: 0.70 - ETA: 0s - loss: 0.5647 - accuracy: 0.70 - ETA: 0s - loss: 0.5642 - accuracy: 0.70 - ETA: 0s - loss: 0.5628 - accuracy: 0.70 - ETA: 0s - loss: 0.5638 - accuracy: 0.70 - ETA: 0s - loss: 0.5637 - accuracy: 0.70 - 1s 47us/step - loss: 0.5637 - accuracy: 0.7049 - val_loss: 0.7163 - val_accuracy: 0.6364\n",
      "Epoch 78/200\n",
      "15663/15663 [==============================] - ETA: 0s - loss: 0.5591 - accuracy: 0.70 - ETA: 0s - loss: 0.5614 - accuracy: 0.71 - ETA: 0s - loss: 0.5606 - accuracy: 0.70 - ETA: 0s - loss: 0.5618 - accuracy: 0.70 - ETA: 0s - loss: 0.5599 - accuracy: 0.70 - ETA: 0s - loss: 0.5623 - accuracy: 0.70 - ETA: 0s - loss: 0.5615 - accuracy: 0.70 - ETA: 0s - loss: 0.5616 - accuracy: 0.70 - 1s 51us/step - loss: 0.5616 - accuracy: 0.7055 - val_loss: 0.7149 - val_accuracy: 0.6371\n",
      "Epoch 79/200\n",
      "15663/15663 [==============================] - ETA: 0s - loss: 0.5716 - accuracy: 0.70 - ETA: 0s - loss: 0.5751 - accuracy: 0.69 - ETA: 0s - loss: 0.5743 - accuracy: 0.69 - ETA: 0s - loss: 0.5718 - accuracy: 0.69 - ETA: 0s - loss: 0.5649 - accuracy: 0.70 - ETA: 0s - loss: 0.5628 - accuracy: 0.70 - ETA: 0s - loss: 0.5621 - accuracy: 0.70 - ETA: 0s - loss: 0.5598 - accuracy: 0.70 - ETA: 0s - loss: 0.5592 - accuracy: 0.70 - ETA: 0s - loss: 0.5594 - accuracy: 0.70 - ETA: 0s - loss: 0.5598 - accuracy: 0.70 - 1s 54us/step - loss: 0.5596 - accuracy: 0.7057 - val_loss: 0.7138 - val_accuracy: 0.6369\n"
     ]
    },
    {
     "name": "stdout",
     "output_type": "stream",
     "text": [
      "Epoch 80/200\n",
      "15663/15663 [==============================] - ETA: 0s - loss: 0.5677 - accuracy: 0.70 - ETA: 0s - loss: 0.5576 - accuracy: 0.71 - ETA: 0s - loss: 0.5584 - accuracy: 0.71 - ETA: 0s - loss: 0.5576 - accuracy: 0.71 - ETA: 0s - loss: 0.5554 - accuracy: 0.71 - ETA: 0s - loss: 0.5558 - accuracy: 0.71 - ETA: 0s - loss: 0.5560 - accuracy: 0.71 - ETA: 0s - loss: 0.5572 - accuracy: 0.71 - ETA: 0s - loss: 0.5564 - accuracy: 0.70 - ETA: 0s - loss: 0.5575 - accuracy: 0.70 - ETA: 0s - loss: 0.5577 - accuracy: 0.70 - ETA: 0s - loss: 0.5576 - accuracy: 0.70 - 1s 56us/step - loss: 0.5577 - accuracy: 0.7054 - val_loss: 0.7141 - val_accuracy: 0.6364\n",
      "Epoch 81/200\n",
      "15663/15663 [==============================] - ETA: 0s - loss: 0.5587 - accuracy: 0.71 - ETA: 0s - loss: 0.5521 - accuracy: 0.71 - ETA: 0s - loss: 0.5566 - accuracy: 0.70 - ETA: 0s - loss: 0.5573 - accuracy: 0.70 - ETA: 0s - loss: 0.5575 - accuracy: 0.70 - ETA: 0s - loss: 0.5580 - accuracy: 0.70 - ETA: 0s - loss: 0.5567 - accuracy: 0.70 - ETA: 0s - loss: 0.5560 - accuracy: 0.70 - 1s 49us/step - loss: 0.5556 - accuracy: 0.7061 - val_loss: 0.7133 - val_accuracy: 0.6361\n",
      "Epoch 82/200\n",
      "15663/15663 [==============================] - ETA: 0s - loss: 0.5537 - accuracy: 0.69 - ETA: 0s - loss: 0.5599 - accuracy: 0.69 - ETA: 0s - loss: 0.5536 - accuracy: 0.70 - ETA: 0s - loss: 0.5543 - accuracy: 0.70 - ETA: 0s - loss: 0.5566 - accuracy: 0.70 - ETA: 0s - loss: 0.5582 - accuracy: 0.70 - ETA: 0s - loss: 0.5561 - accuracy: 0.70 - ETA: 0s - loss: 0.5553 - accuracy: 0.70 - 1s 47us/step - loss: 0.5537 - accuracy: 0.7064 - val_loss: 0.7135 - val_accuracy: 0.6359\n",
      "Epoch 83/200\n",
      "15663/15663 [==============================] - ETA: 0s - loss: 0.5690 - accuracy: 0.69 - ETA: 0s - loss: 0.5553 - accuracy: 0.71 - ETA: 0s - loss: 0.5590 - accuracy: 0.70 - ETA: 0s - loss: 0.5566 - accuracy: 0.70 - ETA: 0s - loss: 0.5520 - accuracy: 0.70 - ETA: 0s - loss: 0.5514 - accuracy: 0.70 - ETA: 0s - loss: 0.5521 - accuracy: 0.70 - ETA: 0s - loss: 0.5515 - accuracy: 0.70 - 1s 46us/step - loss: 0.5518 - accuracy: 0.7065 - val_loss: 0.7115 - val_accuracy: 0.6361\n",
      "Epoch 84/200\n",
      "15663/15663 [==============================] - ETA: 0s - loss: 0.5499 - accuracy: 0.69 - ETA: 0s - loss: 0.5513 - accuracy: 0.70 - ETA: 0s - loss: 0.5478 - accuracy: 0.71 - ETA: 0s - loss: 0.5485 - accuracy: 0.70 - ETA: 0s - loss: 0.5483 - accuracy: 0.70 - ETA: 0s - loss: 0.5504 - accuracy: 0.70 - ETA: 0s - loss: 0.5481 - accuracy: 0.71 - ETA: 0s - loss: 0.5485 - accuracy: 0.70 - 1s 48us/step - loss: 0.5500 - accuracy: 0.7066 - val_loss: 0.7112 - val_accuracy: 0.6364\n",
      "Epoch 85/200\n",
      "15663/15663 [==============================] - ETA: 0s - loss: 0.5425 - accuracy: 0.71 - ETA: 0s - loss: 0.5407 - accuracy: 0.71 - ETA: 0s - loss: 0.5393 - accuracy: 0.71 - ETA: 0s - loss: 0.5448 - accuracy: 0.70 - ETA: 0s - loss: 0.5459 - accuracy: 0.70 - ETA: 0s - loss: 0.5458 - accuracy: 0.70 - ETA: 0s - loss: 0.5478 - accuracy: 0.70 - ETA: 0s - loss: 0.5490 - accuracy: 0.70 - ETA: 0s - loss: 0.5485 - accuracy: 0.70 - ETA: 0s - loss: 0.5487 - accuracy: 0.70 - 1s 50us/step - loss: 0.5482 - accuracy: 0.7066 - val_loss: 0.7103 - val_accuracy: 0.6364\n",
      "Epoch 86/200\n",
      "15663/15663 [==============================] - ETA: 0s - loss: 0.5344 - accuracy: 0.71 - ETA: 0s - loss: 0.5413 - accuracy: 0.71 - ETA: 0s - loss: 0.5430 - accuracy: 0.71 - ETA: 0s - loss: 0.5449 - accuracy: 0.70 - ETA: 0s - loss: 0.5455 - accuracy: 0.70 - ETA: 0s - loss: 0.5449 - accuracy: 0.71 - ETA: 0s - loss: 0.5462 - accuracy: 0.70 - ETA: 0s - loss: 0.5451 - accuracy: 0.71 - ETA: 0s - loss: 0.5457 - accuracy: 0.70 - ETA: 0s - loss: 0.5458 - accuracy: 0.70 - 1s 49us/step - loss: 0.5464 - accuracy: 0.7070 - val_loss: 0.7105 - val_accuracy: 0.6356\n",
      "Epoch 87/200\n",
      "15663/15663 [==============================] - ETA: 0s - loss: 0.5535 - accuracy: 0.70 - ETA: 0s - loss: 0.5486 - accuracy: 0.70 - ETA: 0s - loss: 0.5452 - accuracy: 0.71 - ETA: 0s - loss: 0.5472 - accuracy: 0.70 - ETA: 0s - loss: 0.5460 - accuracy: 0.70 - ETA: 0s - loss: 0.5448 - accuracy: 0.70 - ETA: 0s - loss: 0.5454 - accuracy: 0.70 - ETA: 0s - loss: 0.5440 - accuracy: 0.70 - ETA: 0s - loss: 0.5459 - accuracy: 0.70 - ETA: 0s - loss: 0.5454 - accuracy: 0.70 - 1s 49us/step - loss: 0.5447 - accuracy: 0.7072 - val_loss: 0.7090 - val_accuracy: 0.6366\n",
      "Epoch 88/200\n",
      "15663/15663 [==============================] - ETA: 0s - loss: 0.5364 - accuracy: 0.71 - ETA: 0s - loss: 0.5402 - accuracy: 0.71 - ETA: 0s - loss: 0.5428 - accuracy: 0.71 - ETA: 0s - loss: 0.5412 - accuracy: 0.71 - ETA: 0s - loss: 0.5407 - accuracy: 0.71 - ETA: 0s - loss: 0.5434 - accuracy: 0.70 - ETA: 0s - loss: 0.5438 - accuracy: 0.70 - ETA: 0s - loss: 0.5432 - accuracy: 0.70 - 1s 47us/step - loss: 0.5430 - accuracy: 0.7071 - val_loss: 0.7088 - val_accuracy: 0.6369\n",
      "Epoch 89/200\n",
      "15663/15663 [==============================] - ETA: 0s - loss: 0.5390 - accuracy: 0.70 - ETA: 0s - loss: 0.5382 - accuracy: 0.71 - ETA: 0s - loss: 0.5432 - accuracy: 0.70 - ETA: 0s - loss: 0.5425 - accuracy: 0.70 - ETA: 0s - loss: 0.5426 - accuracy: 0.70 - ETA: 0s - loss: 0.5391 - accuracy: 0.70 - ETA: 0s - loss: 0.5413 - accuracy: 0.70 - ETA: 0s - loss: 0.5410 - accuracy: 0.70 - 1s 48us/step - loss: 0.5413 - accuracy: 0.7074 - val_loss: 0.7081 - val_accuracy: 0.6366\n",
      "Epoch 90/200\n",
      "15663/15663 [==============================] - ETA: 0s - loss: 0.5503 - accuracy: 0.71 - ETA: 0s - loss: 0.5397 - accuracy: 0.71 - ETA: 0s - loss: 0.5432 - accuracy: 0.70 - ETA: 0s - loss: 0.5406 - accuracy: 0.71 - ETA: 0s - loss: 0.5389 - accuracy: 0.71 - ETA: 0s - loss: 0.5379 - accuracy: 0.71 - ETA: 0s - loss: 0.5393 - accuracy: 0.70 - ETA: 0s - loss: 0.5394 - accuracy: 0.70 - 1s 47us/step - loss: 0.5397 - accuracy: 0.7077 - val_loss: 0.7074 - val_accuracy: 0.6384\n",
      "Epoch 91/200\n",
      "15663/15663 [==============================] - ETA: 0s - loss: 0.5408 - accuracy: 0.70 - ETA: 0s - loss: 0.5427 - accuracy: 0.70 - ETA: 0s - loss: 0.5391 - accuracy: 0.70 - ETA: 0s - loss: 0.5369 - accuracy: 0.71 - ETA: 0s - loss: 0.5361 - accuracy: 0.71 - ETA: 0s - loss: 0.5359 - accuracy: 0.70 - ETA: 0s - loss: 0.5372 - accuracy: 0.70 - ETA: 0s - loss: 0.5378 - accuracy: 0.70 - 1s 47us/step - loss: 0.5381 - accuracy: 0.7076 - val_loss: 0.7074 - val_accuracy: 0.6366\n",
      "Epoch 92/200\n",
      "15663/15663 [==============================] - ETA: 0s - loss: 0.5474 - accuracy: 0.69 - ETA: 0s - loss: 0.5287 - accuracy: 0.71 - ETA: 0s - loss: 0.5290 - accuracy: 0.71 - ETA: 0s - loss: 0.5310 - accuracy: 0.71 - ETA: 0s - loss: 0.5347 - accuracy: 0.71 - ETA: 0s - loss: 0.5356 - accuracy: 0.70 - ETA: 0s - loss: 0.5388 - accuracy: 0.70 - ETA: 0s - loss: 0.5370 - accuracy: 0.70 - 1s 47us/step - loss: 0.5364 - accuracy: 0.7078 - val_loss: 0.7076 - val_accuracy: 0.6371\n",
      "Epoch 93/200\n",
      "15663/15663 [==============================] - ETA: 0s - loss: 0.5415 - accuracy: 0.68 - ETA: 0s - loss: 0.5391 - accuracy: 0.69 - ETA: 0s - loss: 0.5346 - accuracy: 0.70 - ETA: 0s - loss: 0.5381 - accuracy: 0.70 - ETA: 0s - loss: 0.5358 - accuracy: 0.70 - ETA: 0s - loss: 0.5357 - accuracy: 0.70 - ETA: 0s - loss: 0.5349 - accuracy: 0.70 - ETA: 0s - loss: 0.5352 - accuracy: 0.70 - 1s 47us/step - loss: 0.5349 - accuracy: 0.7081 - val_loss: 0.7075 - val_accuracy: 0.6374\n"
     ]
    }
   ],
   "source": [
    "hist = model.fit(x_train, y_train, batch_size=1000, validation_data=(x_test, y_test), epochs=200,\n",
    "                 callbacks=[EarlyStopping(patience=2, monitor='val_loss')])"
   ]
  },
  {
   "cell_type": "code",
   "execution_count": 212,
   "metadata": {},
   "outputs": [],
   "source": [
    "model1 = Sequential()\n",
    "model1.add(Embedding(input_dim=input_dim, output_dim=20))\n",
    "model1.add(GlobalAveragePooling1D())\n",
    "model1.add(Dense(4, activation='softmax'))\n",
    "model1.add(Dense(3, activation='softmax'))\n",
    "model1.compile(loss='categorical_crossentropy', optimizer='adam', metrics=['accuracy'])"
   ]
  },
  {
   "cell_type": "code",
   "execution_count": 252,
   "metadata": {},
   "outputs": [
    {
     "name": "stdout",
     "output_type": "stream",
     "text": [
      "Train on 15663 samples, validate on 3916 samples\n",
      "Epoch 1/1000\n",
      "15663/15663 [==============================] - ETA: 3s - loss: 0.0362 - accuracy: 0.99 - ETA: 3s - loss: 0.0324 - accuracy: 0.99 - ETA: 3s - loss: 0.0341 - accuracy: 0.99 - ETA: 3s - loss: 0.0332 - accuracy: 0.99 - ETA: 3s - loss: 0.0310 - accuracy: 0.99 - ETA: 3s - loss: 0.0309 - accuracy: 0.99 - ETA: 3s - loss: 0.0304 - accuracy: 0.99 - ETA: 3s - loss: 0.0313 - accuracy: 0.99 - ETA: 3s - loss: 0.0351 - accuracy: 0.99 - ETA: 3s - loss: 0.0365 - accuracy: 0.99 - ETA: 3s - loss: 0.0362 - accuracy: 0.99 - ETA: 3s - loss: 0.0355 - accuracy: 0.99 - ETA: 3s - loss: 0.0353 - accuracy: 0.99 - ETA: 3s - loss: 0.0347 - accuracy: 0.99 - ETA: 3s - loss: 0.0347 - accuracy: 0.99 - ETA: 3s - loss: 0.0341 - accuracy: 0.99 - ETA: 3s - loss: 0.0342 - accuracy: 0.99 - ETA: 2s - loss: 0.0342 - accuracy: 0.99 - ETA: 2s - loss: 0.0338 - accuracy: 0.99 - ETA: 2s - loss: 0.0342 - accuracy: 0.99 - ETA: 2s - loss: 0.0336 - accuracy: 0.99 - ETA: 2s - loss: 0.0337 - accuracy: 0.99 - ETA: 2s - loss: 0.0344 - accuracy: 0.99 - ETA: 2s - loss: 0.0343 - accuracy: 0.99 - ETA: 2s - loss: 0.0344 - accuracy: 0.99 - ETA: 2s - loss: 0.0344 - accuracy: 0.99 - ETA: 2s - loss: 0.0345 - accuracy: 0.99 - ETA: 2s - loss: 0.0344 - accuracy: 0.99 - ETA: 2s - loss: 0.0339 - accuracy: 0.99 - ETA: 2s - loss: 0.0336 - accuracy: 0.99 - ETA: 2s - loss: 0.0336 - accuracy: 0.99 - ETA: 2s - loss: 0.0342 - accuracy: 0.99 - ETA: 2s - loss: 0.0341 - accuracy: 0.99 - ETA: 1s - loss: 0.0341 - accuracy: 0.99 - ETA: 1s - loss: 0.0343 - accuracy: 0.99 - ETA: 1s - loss: 0.0340 - accuracy: 0.99 - ETA: 1s - loss: 0.0343 - accuracy: 0.99 - ETA: 1s - loss: 0.0341 - accuracy: 0.99 - ETA: 1s - loss: 0.0343 - accuracy: 0.99 - ETA: 1s - loss: 0.0341 - accuracy: 0.99 - ETA: 1s - loss: 0.0344 - accuracy: 0.99 - ETA: 1s - loss: 0.0348 - accuracy: 0.99 - ETA: 1s - loss: 0.0348 - accuracy: 0.99 - ETA: 1s - loss: 0.0352 - accuracy: 0.99 - ETA: 1s - loss: 0.0351 - accuracy: 0.99 - ETA: 1s - loss: 0.0352 - accuracy: 0.99 - ETA: 1s - loss: 0.0350 - accuracy: 0.99 - ETA: 1s - loss: 0.0349 - accuracy: 0.99 - ETA: 0s - loss: 0.0348 - accuracy: 0.99 - ETA: 0s - loss: 0.0352 - accuracy: 0.99 - ETA: 0s - loss: 0.0351 - accuracy: 0.99 - ETA: 0s - loss: 0.0351 - accuracy: 0.99 - ETA: 0s - loss: 0.0351 - accuracy: 0.99 - ETA: 0s - loss: 0.0350 - accuracy: 0.99 - ETA: 0s - loss: 0.0349 - accuracy: 0.99 - ETA: 0s - loss: 0.0349 - accuracy: 0.99 - ETA: 0s - loss: 0.0350 - accuracy: 0.99 - ETA: 0s - loss: 0.0349 - accuracy: 0.99 - ETA: 0s - loss: 0.0350 - accuracy: 0.99 - ETA: 0s - loss: 0.0351 - accuracy: 0.99 - ETA: 0s - loss: 0.0354 - accuracy: 0.99 - ETA: 0s - loss: 0.0354 - accuracy: 0.99 - ETA: 0s - loss: 0.0356 - accuracy: 0.99 - ETA: 0s - loss: 0.0355 - accuracy: 0.99 - ETA: 0s - loss: 0.0356 - accuracy: 0.99 - ETA: 0s - loss: 0.0356 - accuracy: 0.99 - ETA: 0s - loss: 0.0357 - accuracy: 0.99 - 4s 257us/step - loss: 0.0356 - accuracy: 0.9953 - val_loss: 0.3460 - val_accuracy: 0.8705\n",
      "Epoch 2/1000\n",
      "15663/15663 [==============================] - ETA: 3s - loss: 0.0200 - accuracy: 1.00 - ETA: 4s - loss: 0.0234 - accuracy: 1.00 - ETA: 4s - loss: 0.0216 - accuracy: 1.00 - ETA: 4s - loss: 0.0305 - accuracy: 0.99 - ETA: 4s - loss: 0.0320 - accuracy: 0.99 - ETA: 3s - loss: 0.0307 - accuracy: 0.99 - ETA: 3s - loss: 0.0296 - accuracy: 0.99 - ETA: 3s - loss: 0.0289 - accuracy: 0.99 - ETA: 3s - loss: 0.0304 - accuracy: 0.99 - ETA: 3s - loss: 0.0319 - accuracy: 0.99 - ETA: 3s - loss: 0.0322 - accuracy: 0.99 - ETA: 3s - loss: 0.0324 - accuracy: 0.99 - ETA: 3s - loss: 0.0335 - accuracy: 0.99 - ETA: 3s - loss: 0.0337 - accuracy: 0.99 - ETA: 3s - loss: 0.0336 - accuracy: 0.99 - ETA: 3s - loss: 0.0345 - accuracy: 0.99 - ETA: 3s - loss: 0.0343 - accuracy: 0.99 - ETA: 3s - loss: 0.0347 - accuracy: 0.99 - ETA: 3s - loss: 0.0349 - accuracy: 0.99 - ETA: 3s - loss: 0.0346 - accuracy: 0.99 - ETA: 3s - loss: 0.0340 - accuracy: 0.99 - ETA: 3s - loss: 0.0339 - accuracy: 0.99 - ETA: 3s - loss: 0.0340 - accuracy: 0.99 - ETA: 3s - loss: 0.0338 - accuracy: 0.99 - ETA: 2s - loss: 0.0341 - accuracy: 0.99 - ETA: 2s - loss: 0.0340 - accuracy: 0.99 - ETA: 2s - loss: 0.0339 - accuracy: 0.99 - ETA: 2s - loss: 0.0336 - accuracy: 0.99 - ETA: 2s - loss: 0.0331 - accuracy: 0.99 - ETA: 2s - loss: 0.0328 - accuracy: 0.99 - ETA: 2s - loss: 0.0331 - accuracy: 0.99 - ETA: 2s - loss: 0.0340 - accuracy: 0.99 - ETA: 2s - loss: 0.0339 - accuracy: 0.99 - ETA: 2s - loss: 0.0338 - accuracy: 0.99 - ETA: 2s - loss: 0.0337 - accuracy: 0.99 - ETA: 2s - loss: 0.0337 - accuracy: 0.99 - ETA: 2s - loss: 0.0333 - accuracy: 0.99 - ETA: 2s - loss: 0.0333 - accuracy: 0.99 - ETA: 2s - loss: 0.0338 - accuracy: 0.99 - ETA: 2s - loss: 0.0340 - accuracy: 0.99 - ETA: 2s - loss: 0.0339 - accuracy: 0.99 - ETA: 2s - loss: 0.0338 - accuracy: 0.99 - ETA: 1s - loss: 0.0340 - accuracy: 0.99 - ETA: 1s - loss: 0.0339 - accuracy: 0.99 - ETA: 1s - loss: 0.0338 - accuracy: 0.99 - ETA: 1s - loss: 0.0337 - accuracy: 0.99 - ETA: 1s - loss: 0.0337 - accuracy: 0.99 - ETA: 1s - loss: 0.0337 - accuracy: 0.99 - ETA: 1s - loss: 0.0336 - accuracy: 0.99 - ETA: 1s - loss: 0.0337 - accuracy: 0.99 - ETA: 1s - loss: 0.0336 - accuracy: 0.99 - ETA: 1s - loss: 0.0336 - accuracy: 0.99 - ETA: 1s - loss: 0.0337 - accuracy: 0.99 - ETA: 1s - loss: 0.0338 - accuracy: 0.99 - ETA: 1s - loss: 0.0337 - accuracy: 0.99 - ETA: 1s - loss: 0.0340 - accuracy: 0.99 - ETA: 1s - loss: 0.0341 - accuracy: 0.99 - ETA: 1s - loss: 0.0342 - accuracy: 0.99 - ETA: 1s - loss: 0.0345 - accuracy: 0.99 - ETA: 1s - loss: 0.0345 - accuracy: 0.99 - ETA: 0s - loss: 0.0345 - accuracy: 0.99 - ETA: 0s - loss: 0.0345 - accuracy: 0.99 - ETA: 0s - loss: 0.0345 - accuracy: 0.99 - ETA: 0s - loss: 0.0345 - accuracy: 0.99 - ETA: 0s - loss: 0.0343 - accuracy: 0.99 - ETA: 0s - loss: 0.0343 - accuracy: 0.99 - ETA: 0s - loss: 0.0346 - accuracy: 0.99 - ETA: 0s - loss: 0.0346 - accuracy: 0.99 - ETA: 0s - loss: 0.0345 - accuracy: 0.99 - ETA: 0s - loss: 0.0344 - accuracy: 0.99 - ETA: 0s - loss: 0.0345 - accuracy: 0.99 - ETA: 0s - loss: 0.0344 - accuracy: 0.99 - ETA: 0s - loss: 0.0342 - accuracy: 0.99 - ETA: 0s - loss: 0.0342 - accuracy: 0.99 - ETA: 0s - loss: 0.0340 - accuracy: 0.99 - ETA: 0s - loss: 0.0339 - accuracy: 0.99 - ETA: 0s - loss: 0.0338 - accuracy: 0.99 - ETA: 0s - loss: 0.0338 - accuracy: 0.99 - 4s 277us/step - loss: 0.0336 - accuracy: 0.9959 - val_loss: 0.3454 - val_accuracy: 0.8700\n",
      "Epoch 3/1000\n"
     ]
    },
    {
     "name": "stdout",
     "output_type": "stream",
     "text": [
      "15663/15663 [==============================] - ETA: 3s - loss: 0.0177 - accuracy: 1.00 - ETA: 3s - loss: 0.0209 - accuracy: 1.00 - ETA: 3s - loss: 0.0271 - accuracy: 0.99 - ETA: 3s - loss: 0.0309 - accuracy: 0.99 - ETA: 3s - loss: 0.0282 - accuracy: 0.99 - ETA: 3s - loss: 0.0265 - accuracy: 0.99 - ETA: 3s - loss: 0.0260 - accuracy: 0.99 - ETA: 3s - loss: 0.0252 - accuracy: 0.99 - ETA: 3s - loss: 0.0262 - accuracy: 0.99 - ETA: 3s - loss: 0.0264 - accuracy: 0.99 - ETA: 3s - loss: 0.0264 - accuracy: 0.99 - ETA: 3s - loss: 0.0280 - accuracy: 0.99 - ETA: 3s - loss: 0.0293 - accuracy: 0.99 - ETA: 3s - loss: 0.0294 - accuracy: 0.99 - ETA: 3s - loss: 0.0291 - accuracy: 0.99 - ETA: 3s - loss: 0.0283 - accuracy: 0.99 - ETA: 3s - loss: 0.0281 - accuracy: 0.99 - ETA: 3s - loss: 0.0279 - accuracy: 0.99 - ETA: 3s - loss: 0.0281 - accuracy: 0.99 - ETA: 3s - loss: 0.0280 - accuracy: 0.99 - ETA: 3s - loss: 0.0285 - accuracy: 0.99 - ETA: 3s - loss: 0.0289 - accuracy: 0.99 - ETA: 3s - loss: 0.0305 - accuracy: 0.99 - ETA: 3s - loss: 0.0302 - accuracy: 0.99 - ETA: 3s - loss: 0.0305 - accuracy: 0.99 - ETA: 2s - loss: 0.0309 - accuracy: 0.99 - ETA: 2s - loss: 0.0309 - accuracy: 0.99 - ETA: 2s - loss: 0.0320 - accuracy: 0.99 - ETA: 2s - loss: 0.0317 - accuracy: 0.99 - ETA: 2s - loss: 0.0320 - accuracy: 0.99 - ETA: 2s - loss: 0.0319 - accuracy: 0.99 - ETA: 2s - loss: 0.0316 - accuracy: 0.99 - ETA: 2s - loss: 0.0314 - accuracy: 0.99 - ETA: 2s - loss: 0.0312 - accuracy: 0.99 - ETA: 2s - loss: 0.0316 - accuracy: 0.99 - ETA: 2s - loss: 0.0314 - accuracy: 0.99 - ETA: 2s - loss: 0.0315 - accuracy: 0.99 - ETA: 2s - loss: 0.0315 - accuracy: 0.99 - ETA: 2s - loss: 0.0313 - accuracy: 0.99 - ETA: 2s - loss: 0.0314 - accuracy: 0.99 - ETA: 2s - loss: 0.0314 - accuracy: 0.99 - ETA: 2s - loss: 0.0314 - accuracy: 0.99 - ETA: 2s - loss: 0.0317 - accuracy: 0.99 - ETA: 1s - loss: 0.0317 - accuracy: 0.99 - ETA: 1s - loss: 0.0317 - accuracy: 0.99 - ETA: 1s - loss: 0.0317 - accuracy: 0.99 - ETA: 1s - loss: 0.0318 - accuracy: 0.99 - ETA: 1s - loss: 0.0317 - accuracy: 0.99 - ETA: 1s - loss: 0.0316 - accuracy: 0.99 - ETA: 1s - loss: 0.0315 - accuracy: 0.99 - ETA: 1s - loss: 0.0314 - accuracy: 0.99 - ETA: 1s - loss: 0.0315 - accuracy: 0.99 - ETA: 1s - loss: 0.0315 - accuracy: 0.99 - ETA: 1s - loss: 0.0317 - accuracy: 0.99 - ETA: 1s - loss: 0.0318 - accuracy: 0.99 - ETA: 1s - loss: 0.0319 - accuracy: 0.99 - ETA: 1s - loss: 0.0317 - accuracy: 0.99 - ETA: 1s - loss: 0.0317 - accuracy: 0.99 - ETA: 1s - loss: 0.0317 - accuracy: 0.99 - ETA: 1s - loss: 0.0317 - accuracy: 0.99 - ETA: 1s - loss: 0.0316 - accuracy: 0.99 - ETA: 0s - loss: 0.0316 - accuracy: 0.99 - ETA: 0s - loss: 0.0316 - accuracy: 0.99 - ETA: 0s - loss: 0.0314 - accuracy: 0.99 - ETA: 0s - loss: 0.0315 - accuracy: 0.99 - ETA: 0s - loss: 0.0314 - accuracy: 0.99 - ETA: 0s - loss: 0.0314 - accuracy: 0.99 - ETA: 0s - loss: 0.0313 - accuracy: 0.99 - ETA: 0s - loss: 0.0312 - accuracy: 0.99 - ETA: 0s - loss: 0.0313 - accuracy: 0.99 - ETA: 0s - loss: 0.0318 - accuracy: 0.99 - ETA: 0s - loss: 0.0317 - accuracy: 0.99 - ETA: 0s - loss: 0.0316 - accuracy: 0.99 - ETA: 0s - loss: 0.0318 - accuracy: 0.99 - ETA: 0s - loss: 0.0317 - accuracy: 0.99 - ETA: 0s - loss: 0.0319 - accuracy: 0.99 - ETA: 0s - loss: 0.0317 - accuracy: 0.99 - ETA: 0s - loss: 0.0318 - accuracy: 0.99 - 4s 284us/step - loss: 0.0319 - accuracy: 0.9962 - val_loss: 0.3470 - val_accuracy: 0.8703\n",
      "Epoch 4/1000\n",
      "15663/15663 [==============================] - ETA: 4s - loss: 0.0450 - accuracy: 0.99 - ETA: 4s - loss: 0.0403 - accuracy: 0.99 - ETA: 4s - loss: 0.0330 - accuracy: 0.99 - ETA: 4s - loss: 0.0308 - accuracy: 0.99 - ETA: 4s - loss: 0.0294 - accuracy: 0.99 - ETA: 3s - loss: 0.0269 - accuracy: 0.99 - ETA: 3s - loss: 0.0256 - accuracy: 0.99 - ETA: 3s - loss: 0.0258 - accuracy: 0.99 - ETA: 3s - loss: 0.0270 - accuracy: 0.99 - ETA: 3s - loss: 0.0263 - accuracy: 0.99 - ETA: 3s - loss: 0.0271 - accuracy: 0.99 - ETA: 3s - loss: 0.0300 - accuracy: 0.99 - ETA: 3s - loss: 0.0305 - accuracy: 0.99 - ETA: 3s - loss: 0.0301 - accuracy: 0.99 - ETA: 3s - loss: 0.0297 - accuracy: 0.99 - ETA: 3s - loss: 0.0296 - accuracy: 0.99 - ETA: 3s - loss: 0.0295 - accuracy: 0.99 - ETA: 3s - loss: 0.0295 - accuracy: 0.99 - ETA: 3s - loss: 0.0291 - accuracy: 0.99 - ETA: 3s - loss: 0.0290 - accuracy: 0.99 - ETA: 3s - loss: 0.0295 - accuracy: 0.99 - ETA: 3s - loss: 0.0296 - accuracy: 0.99 - ETA: 3s - loss: 0.0304 - accuracy: 0.99 - ETA: 2s - loss: 0.0299 - accuracy: 0.99 - ETA: 2s - loss: 0.0298 - accuracy: 0.99 - ETA: 2s - loss: 0.0293 - accuracy: 0.99 - ETA: 2s - loss: 0.0296 - accuracy: 0.99 - ETA: 2s - loss: 0.0301 - accuracy: 0.99 - ETA: 2s - loss: 0.0300 - accuracy: 0.99 - ETA: 2s - loss: 0.0301 - accuracy: 0.99 - ETA: 2s - loss: 0.0299 - accuracy: 0.99 - ETA: 2s - loss: 0.0297 - accuracy: 0.99 - ETA: 2s - loss: 0.0298 - accuracy: 0.99 - ETA: 2s - loss: 0.0301 - accuracy: 0.99 - ETA: 2s - loss: 0.0302 - accuracy: 0.99 - ETA: 2s - loss: 0.0306 - accuracy: 0.99 - ETA: 2s - loss: 0.0309 - accuracy: 0.99 - ETA: 2s - loss: 0.0309 - accuracy: 0.99 - ETA: 2s - loss: 0.0310 - accuracy: 0.99 - ETA: 1s - loss: 0.0311 - accuracy: 0.99 - ETA: 1s - loss: 0.0308 - accuracy: 0.99 - ETA: 1s - loss: 0.0307 - accuracy: 0.99 - ETA: 1s - loss: 0.0308 - accuracy: 0.99 - ETA: 1s - loss: 0.0311 - accuracy: 0.99 - ETA: 1s - loss: 0.0311 - accuracy: 0.99 - ETA: 1s - loss: 0.0310 - accuracy: 0.99 - ETA: 1s - loss: 0.0309 - accuracy: 0.99 - ETA: 1s - loss: 0.0307 - accuracy: 0.99 - ETA: 1s - loss: 0.0309 - accuracy: 0.99 - ETA: 1s - loss: 0.0311 - accuracy: 0.99 - ETA: 1s - loss: 0.0314 - accuracy: 0.99 - ETA: 1s - loss: 0.0313 - accuracy: 0.99 - ETA: 1s - loss: 0.0311 - accuracy: 0.99 - ETA: 1s - loss: 0.0313 - accuracy: 0.99 - ETA: 1s - loss: 0.0311 - accuracy: 0.99 - ETA: 1s - loss: 0.0309 - accuracy: 0.99 - ETA: 1s - loss: 0.0311 - accuracy: 0.99 - ETA: 1s - loss: 0.0310 - accuracy: 0.99 - ETA: 0s - loss: 0.0316 - accuracy: 0.99 - ETA: 0s - loss: 0.0317 - accuracy: 0.99 - ETA: 0s - loss: 0.0315 - accuracy: 0.99 - ETA: 0s - loss: 0.0315 - accuracy: 0.99 - ETA: 0s - loss: 0.0313 - accuracy: 0.99 - ETA: 0s - loss: 0.0311 - accuracy: 0.99 - ETA: 0s - loss: 0.0310 - accuracy: 0.99 - ETA: 0s - loss: 0.0308 - accuracy: 0.99 - ETA: 0s - loss: 0.0307 - accuracy: 0.99 - ETA: 0s - loss: 0.0307 - accuracy: 0.99 - ETA: 0s - loss: 0.0304 - accuracy: 0.99 - ETA: 0s - loss: 0.0303 - accuracy: 0.99 - ETA: 0s - loss: 0.0303 - accuracy: 0.99 - ETA: 0s - loss: 0.0303 - accuracy: 0.99 - 4s 265us/step - loss: 0.0303 - accuracy: 0.9962 - val_loss: 0.3509 - val_accuracy: 0.8703\n"
     ]
    }
   ],
   "source": [
    "hist1 = model1.fit(x_train, y_train, batch_size=100, validation_data=(x_test, y_test), epochs=1000,\n",
    "                 callbacks=[EarlyStopping(patience=2, monitor='val_loss')])"
   ]
  },
  {
   "cell_type": "code",
   "execution_count": 214,
   "metadata": {},
   "outputs": [],
   "source": [
    "model2 = Sequential()\n",
    "model2.add(Embedding(input_dim=input_dim, output_dim=20))\n",
    "model2.add(GlobalAveragePooling1D())\n",
    "model2.add(Dense(5, activation='softmax'))\n",
    "model2.add(Dense(4, activation='softmax'))\n",
    "model2.add(Dense(3, activation='softmax'))\n",
    "model2.compile(loss='categorical_crossentropy', optimizer='adam', metrics=['accuracy'])"
   ]
  },
  {
   "cell_type": "code",
   "execution_count": 215,
   "metadata": {},
   "outputs": [
    {
     "name": "stderr",
     "output_type": "stream",
     "text": [
      "C:\\ProgramData\\Anaconda3\\lib\\site-packages\\tensorflow_core\\python\\framework\\indexed_slices.py:424: UserWarning: Converting sparse IndexedSlices to a dense Tensor of unknown shape. This may consume a large amount of memory.\n",
      "  \"Converting sparse IndexedSlices to a dense Tensor of unknown shape. \"\n"
     ]
    },
    {
     "name": "stdout",
     "output_type": "stream",
     "text": [
      "Train on 15663 samples, validate on 3916 samples\n",
      "Epoch 1/200\n",
      "15663/15663 [==============================] - ETA: 1s - loss: 1.0949 - accuracy: 0.38 - ETA: 0s - loss: 1.0899 - accuracy: 0.40 - ETA: 0s - loss: 1.0889 - accuracy: 0.40 - ETA: 0s - loss: 1.0888 - accuracy: 0.40 - ETA: 0s - loss: 1.0893 - accuracy: 0.40 - ETA: 0s - loss: 1.0881 - accuracy: 0.40 - ETA: 0s - loss: 1.0875 - accuracy: 0.40 - ETA: 0s - loss: 1.0875 - accuracy: 0.40 - 1s 51us/step - loss: 1.0880 - accuracy: 0.4051 - val_loss: 1.0900 - val_accuracy: 0.3971\n",
      "Epoch 2/200\n",
      "15663/15663 [==============================] - ETA: 0s - loss: 1.0918 - accuracy: 0.39 - ETA: 0s - loss: 1.0898 - accuracy: 0.39 - ETA: 0s - loss: 1.0873 - accuracy: 0.40 - ETA: 0s - loss: 1.0870 - accuracy: 0.40 - ETA: 0s - loss: 1.0868 - accuracy: 0.40 - ETA: 0s - loss: 1.0866 - accuracy: 0.40 - ETA: 0s - loss: 1.0873 - accuracy: 0.40 - ETA: 0s - loss: 1.0871 - accuracy: 0.40 - 1s 46us/step - loss: 1.0873 - accuracy: 0.4051 - val_loss: 1.0894 - val_accuracy: 0.3971\n",
      "Epoch 3/200\n",
      "15663/15663 [==============================] - ETA: 0s - loss: 1.0835 - accuracy: 0.41 - ETA: 0s - loss: 1.0824 - accuracy: 0.41 - ETA: 0s - loss: 1.0864 - accuracy: 0.40 - ETA: 0s - loss: 1.0869 - accuracy: 0.40 - ETA: 0s - loss: 1.0868 - accuracy: 0.40 - ETA: 0s - loss: 1.0865 - accuracy: 0.40 - ETA: 0s - loss: 1.0868 - accuracy: 0.40 - ETA: 0s - loss: 1.0873 - accuracy: 0.40 - 1s 47us/step - loss: 1.0871 - accuracy: 0.4051 - val_loss: 1.0892 - val_accuracy: 0.3971\n",
      "Epoch 4/200\n",
      "15663/15663 [==============================] - ETA: 0s - loss: 1.0893 - accuracy: 0.39 - ETA: 0s - loss: 1.0858 - accuracy: 0.40 - ETA: 0s - loss: 1.0861 - accuracy: 0.40 - ETA: 0s - loss: 1.0872 - accuracy: 0.40 - ETA: 0s - loss: 1.0875 - accuracy: 0.40 - ETA: 0s - loss: 1.0865 - accuracy: 0.40 - ETA: 0s - loss: 1.0870 - accuracy: 0.40 - ETA: 0s - loss: 1.0867 - accuracy: 0.40 - 1s 48us/step - loss: 1.0870 - accuracy: 0.4051 - val_loss: 1.0891 - val_accuracy: 0.3971\n",
      "Epoch 5/200\n",
      "15663/15663 [==============================] - ETA: 0s - loss: 1.0868 - accuracy: 0.41 - ETA: 0s - loss: 1.0849 - accuracy: 0.41 - ETA: 0s - loss: 1.0880 - accuracy: 0.40 - ETA: 0s - loss: 1.0860 - accuracy: 0.40 - ETA: 0s - loss: 1.0857 - accuracy: 0.40 - ETA: 0s - loss: 1.0845 - accuracy: 0.41 - ETA: 0s - loss: 1.0855 - accuracy: 0.40 - ETA: 0s - loss: 1.0868 - accuracy: 0.40 - 1s 49us/step - loss: 1.0870 - accuracy: 0.4051 - val_loss: 1.0891 - val_accuracy: 0.3971\n",
      "Epoch 6/200\n",
      "15663/15663 [==============================] - ETA: 0s - loss: 1.0926 - accuracy: 0.38 - ETA: 0s - loss: 1.0898 - accuracy: 0.39 - ETA: 0s - loss: 1.0898 - accuracy: 0.39 - ETA: 0s - loss: 1.0891 - accuracy: 0.39 - ETA: 0s - loss: 1.0889 - accuracy: 0.39 - ETA: 0s - loss: 1.0893 - accuracy: 0.39 - ETA: 0s - loss: 1.0885 - accuracy: 0.39 - ETA: 0s - loss: 1.0881 - accuracy: 0.40 - ETA: 0s - loss: 1.0870 - accuracy: 0.40 - ETA: 0s - loss: 1.0868 - accuracy: 0.40 - 1s 52us/step - loss: 1.0870 - accuracy: 0.4051 - val_loss: 1.0889 - val_accuracy: 0.3971\n",
      "Epoch 7/200\n",
      "15663/15663 [==============================] - ETA: 0s - loss: 1.0815 - accuracy: 0.42 - ETA: 0s - loss: 1.0845 - accuracy: 0.41 - ETA: 0s - loss: 1.0869 - accuracy: 0.40 - ETA: 0s - loss: 1.0866 - accuracy: 0.40 - ETA: 0s - loss: 1.0871 - accuracy: 0.40 - ETA: 0s - loss: 1.0867 - accuracy: 0.40 - ETA: 0s - loss: 1.0869 - accuracy: 0.40 - ETA: 0s - loss: 1.0871 - accuracy: 0.40 - 1s 48us/step - loss: 1.0869 - accuracy: 0.4051 - val_loss: 1.0889 - val_accuracy: 0.3971\n",
      "Epoch 8/200\n",
      "15663/15663 [==============================] - ETA: 0s - loss: 1.0777 - accuracy: 0.43 - ETA: 0s - loss: 1.0844 - accuracy: 0.41 - ETA: 0s - loss: 1.0852 - accuracy: 0.41 - ETA: 0s - loss: 1.0861 - accuracy: 0.40 - ETA: 0s - loss: 1.0864 - accuracy: 0.40 - ETA: 0s - loss: 1.0865 - accuracy: 0.40 - ETA: 0s - loss: 1.0864 - accuracy: 0.40 - ETA: 0s - loss: 1.0864 - accuracy: 0.40 - 1s 46us/step - loss: 1.0868 - accuracy: 0.4051 - val_loss: 1.0888 - val_accuracy: 0.3971\n",
      "Epoch 9/200\n",
      "15663/15663 [==============================] - ETA: 0s - loss: 1.0894 - accuracy: 0.39 - ETA: 0s - loss: 1.0852 - accuracy: 0.40 - ETA: 0s - loss: 1.0846 - accuracy: 0.40 - ETA: 0s - loss: 1.0851 - accuracy: 0.40 - ETA: 0s - loss: 1.0861 - accuracy: 0.40 - ETA: 0s - loss: 1.0866 - accuracy: 0.40 - ETA: 0s - loss: 1.0871 - accuracy: 0.40 - ETA: 0s - loss: 1.0872 - accuracy: 0.40 - 1s 46us/step - loss: 1.0867 - accuracy: 0.4051 - val_loss: 1.0887 - val_accuracy: 0.3971\n",
      "Epoch 10/200\n",
      "15663/15663 [==============================] - ETA: 0s - loss: 1.0840 - accuracy: 0.41 - ETA: 0s - loss: 1.0863 - accuracy: 0.40 - ETA: 0s - loss: 1.0862 - accuracy: 0.40 - ETA: 0s - loss: 1.0868 - accuracy: 0.40 - ETA: 0s - loss: 1.0872 - accuracy: 0.40 - ETA: 0s - loss: 1.0868 - accuracy: 0.40 - ETA: 0s - loss: 1.0872 - accuracy: 0.40 - ETA: 0s - loss: 1.0868 - accuracy: 0.40 - 1s 46us/step - loss: 1.0866 - accuracy: 0.4051 - val_loss: 1.0887 - val_accuracy: 0.3971\n",
      "Epoch 11/200\n",
      "15663/15663 [==============================] - ETA: 0s - loss: 1.0890 - accuracy: 0.39 - ETA: 0s - loss: 1.0911 - accuracy: 0.38 - ETA: 0s - loss: 1.0885 - accuracy: 0.39 - ETA: 0s - loss: 1.0875 - accuracy: 0.40 - ETA: 0s - loss: 1.0864 - accuracy: 0.40 - ETA: 0s - loss: 1.0862 - accuracy: 0.40 - ETA: 0s - loss: 1.0869 - accuracy: 0.40 - ETA: 0s - loss: 1.0867 - accuracy: 0.40 - 1s 46us/step - loss: 1.0864 - accuracy: 0.4051 - val_loss: 1.0884 - val_accuracy: 0.3971\n",
      "Epoch 12/200\n",
      "15663/15663 [==============================] - ETA: 0s - loss: 1.0816 - accuracy: 0.42 - ETA: 0s - loss: 1.0867 - accuracy: 0.40 - ETA: 0s - loss: 1.0840 - accuracy: 0.41 - ETA: 0s - loss: 1.0861 - accuracy: 0.40 - ETA: 0s - loss: 1.0847 - accuracy: 0.40 - ETA: 0s - loss: 1.0854 - accuracy: 0.40 - ETA: 0s - loss: 1.0860 - accuracy: 0.40 - ETA: 0s - loss: 1.0863 - accuracy: 0.40 - 1s 45us/step - loss: 1.0862 - accuracy: 0.4051 - val_loss: 1.0883 - val_accuracy: 0.3971\n",
      "Epoch 13/200\n",
      "15663/15663 [==============================] - ETA: 0s - loss: 1.0813 - accuracy: 0.42 - ETA: 0s - loss: 1.0878 - accuracy: 0.39 - ETA: 0s - loss: 1.0877 - accuracy: 0.39 - ETA: 0s - loss: 1.0864 - accuracy: 0.40 - ETA: 0s - loss: 1.0862 - accuracy: 0.40 - ETA: 0s - loss: 1.0858 - accuracy: 0.40 - ETA: 0s - loss: 1.0856 - accuracy: 0.40 - ETA: 0s - loss: 1.0860 - accuracy: 0.40 - 1s 48us/step - loss: 1.0860 - accuracy: 0.4051 - val_loss: 1.0880 - val_accuracy: 0.3971\n",
      "Epoch 14/200\n",
      "15663/15663 [==============================] - ETA: 0s - loss: 1.0972 - accuracy: 0.37 - ETA: 0s - loss: 1.0881 - accuracy: 0.39 - ETA: 0s - loss: 1.0876 - accuracy: 0.39 - ETA: 0s - loss: 1.0866 - accuracy: 0.40 - ETA: 0s - loss: 1.0865 - accuracy: 0.40 - ETA: 0s - loss: 1.0862 - accuracy: 0.40 - ETA: 0s - loss: 1.0860 - accuracy: 0.40 - ETA: 0s - loss: 1.0855 - accuracy: 0.40 - 1s 46us/step - loss: 1.0857 - accuracy: 0.4051 - val_loss: 1.0877 - val_accuracy: 0.3971\n",
      "Epoch 15/200\n",
      "15663/15663 [==============================] - ETA: 0s - loss: 1.0845 - accuracy: 0.41 - ETA: 0s - loss: 1.0821 - accuracy: 0.41 - ETA: 0s - loss: 1.0834 - accuracy: 0.41 - ETA: 0s - loss: 1.0855 - accuracy: 0.40 - ETA: 0s - loss: 1.0845 - accuracy: 0.40 - ETA: 0s - loss: 1.0850 - accuracy: 0.40 - ETA: 0s - loss: 1.0855 - accuracy: 0.40 - ETA: 0s - loss: 1.0856 - accuracy: 0.40 - 1s 47us/step - loss: 1.0853 - accuracy: 0.4051 - val_loss: 1.0873 - val_accuracy: 0.3971\n",
      "Epoch 16/200\n",
      "15663/15663 [==============================] - ETA: 0s - loss: 1.0831 - accuracy: 0.41 - ETA: 0s - loss: 1.0790 - accuracy: 0.42 - ETA: 0s - loss: 1.0812 - accuracy: 0.41 - ETA: 0s - loss: 1.0830 - accuracy: 0.41 - ETA: 0s - loss: 1.0830 - accuracy: 0.41 - ETA: 0s - loss: 1.0833 - accuracy: 0.41 - ETA: 0s - loss: 1.0842 - accuracy: 0.40 - ETA: 0s - loss: 1.0846 - accuracy: 0.40 - 1s 46us/step - loss: 1.0848 - accuracy: 0.4051 - val_loss: 1.0868 - val_accuracy: 0.3971\n",
      "Epoch 17/200\n"
     ]
    },
    {
     "name": "stdout",
     "output_type": "stream",
     "text": [
      "15663/15663 [==============================] - ETA: 0s - loss: 1.0815 - accuracy: 0.41 - ETA: 0s - loss: 1.0804 - accuracy: 0.41 - ETA: 0s - loss: 1.0831 - accuracy: 0.41 - ETA: 0s - loss: 1.0836 - accuracy: 0.40 - ETA: 0s - loss: 1.0841 - accuracy: 0.40 - ETA: 0s - loss: 1.0837 - accuracy: 0.40 - ETA: 0s - loss: 1.0841 - accuracy: 0.40 - ETA: 0s - loss: 1.0838 - accuracy: 0.40 - 1s 46us/step - loss: 1.0842 - accuracy: 0.4051 - val_loss: 1.0861 - val_accuracy: 0.3971\n",
      "Epoch 18/200\n",
      "15663/15663 [==============================] - ETA: 0s - loss: 1.0878 - accuracy: 0.39 - ETA: 0s - loss: 1.0839 - accuracy: 0.40 - ETA: 0s - loss: 1.0834 - accuracy: 0.40 - ETA: 0s - loss: 1.0842 - accuracy: 0.40 - ETA: 0s - loss: 1.0837 - accuracy: 0.40 - ETA: 0s - loss: 1.0841 - accuracy: 0.40 - ETA: 0s - loss: 1.0839 - accuracy: 0.40 - ETA: 0s - loss: 1.0834 - accuracy: 0.40 - 1s 46us/step - loss: 1.0833 - accuracy: 0.4051 - val_loss: 1.0851 - val_accuracy: 0.3971\n",
      "Epoch 19/200\n",
      "15663/15663 [==============================] - ETA: 0s - loss: 1.0841 - accuracy: 0.40 - ETA: 0s - loss: 1.0845 - accuracy: 0.39 - ETA: 0s - loss: 1.0840 - accuracy: 0.40 - ETA: 0s - loss: 1.0831 - accuracy: 0.40 - ETA: 0s - loss: 1.0828 - accuracy: 0.40 - ETA: 0s - loss: 1.0823 - accuracy: 0.40 - ETA: 0s - loss: 1.0822 - accuracy: 0.40 - ETA: 0s - loss: 1.0824 - accuracy: 0.40 - 1s 46us/step - loss: 1.0821 - accuracy: 0.4051 - val_loss: 1.0839 - val_accuracy: 0.3971\n",
      "Epoch 20/200\n",
      "15663/15663 [==============================] - ETA: 0s - loss: 1.0838 - accuracy: 0.39 - ETA: 0s - loss: 1.0797 - accuracy: 0.41 - ETA: 0s - loss: 1.0800 - accuracy: 0.40 - ETA: 0s - loss: 1.0814 - accuracy: 0.40 - ETA: 0s - loss: 1.0804 - accuracy: 0.40 - ETA: 0s - loss: 1.0804 - accuracy: 0.40 - ETA: 0s - loss: 1.0804 - accuracy: 0.40 - ETA: 0s - loss: 1.0805 - accuracy: 0.40 - 1s 47us/step - loss: 1.0806 - accuracy: 0.4051 - val_loss: 1.0824 - val_accuracy: 0.3971\n",
      "Epoch 21/200\n",
      "15663/15663 [==============================] - ETA: 0s - loss: 1.0757 - accuracy: 0.41 - ETA: 0s - loss: 1.0769 - accuracy: 0.41 - ETA: 0s - loss: 1.0803 - accuracy: 0.40 - ETA: 0s - loss: 1.0784 - accuracy: 0.40 - ETA: 0s - loss: 1.0777 - accuracy: 0.40 - ETA: 0s - loss: 1.0789 - accuracy: 0.40 - ETA: 0s - loss: 1.0782 - accuracy: 0.40 - ETA: 0s - loss: 1.0786 - accuracy: 0.40 - 1s 46us/step - loss: 1.0785 - accuracy: 0.4051 - val_loss: 1.0802 - val_accuracy: 0.3971\n",
      "Epoch 22/200\n",
      "15663/15663 [==============================] - ETA: 0s - loss: 1.0741 - accuracy: 0.41 - ETA: 0s - loss: 1.0757 - accuracy: 0.41 - ETA: 0s - loss: 1.0745 - accuracy: 0.41 - ETA: 0s - loss: 1.0758 - accuracy: 0.40 - ETA: 0s - loss: 1.0753 - accuracy: 0.40 - ETA: 0s - loss: 1.0760 - accuracy: 0.40 - ETA: 0s - loss: 1.0760 - accuracy: 0.40 - ETA: 0s - loss: 1.0760 - accuracy: 0.40 - 1s 46us/step - loss: 1.0757 - accuracy: 0.4051 - val_loss: 1.0773 - val_accuracy: 0.3971\n",
      "Epoch 23/200\n",
      "15663/15663 [==============================] - ETA: 0s - loss: 1.0717 - accuracy: 0.41 - ETA: 0s - loss: 1.0741 - accuracy: 0.40 - ETA: 0s - loss: 1.0743 - accuracy: 0.40 - ETA: 0s - loss: 1.0745 - accuracy: 0.40 - ETA: 0s - loss: 1.0729 - accuracy: 0.40 - ETA: 0s - loss: 1.0733 - accuracy: 0.40 - ETA: 0s - loss: 1.0720 - accuracy: 0.40 - ETA: 0s - loss: 1.0719 - accuracy: 0.40 - 1s 47us/step - loss: 1.0719 - accuracy: 0.4052 - val_loss: 1.0734 - val_accuracy: 0.3971\n",
      "Epoch 24/200\n",
      "15663/15663 [==============================] - ETA: 0s - loss: 1.0755 - accuracy: 0.38 - ETA: 0s - loss: 1.0693 - accuracy: 0.40 - ETA: 0s - loss: 1.0682 - accuracy: 0.40 - ETA: 0s - loss: 1.0686 - accuracy: 0.40 - ETA: 0s - loss: 1.0677 - accuracy: 0.40 - ETA: 0s - loss: 1.0677 - accuracy: 0.40 - ETA: 0s - loss: 1.0684 - accuracy: 0.40 - ETA: 0s - loss: 1.0674 - accuracy: 0.40 - ETA: 0s - loss: 1.0667 - accuracy: 0.40 - 1s 47us/step - loss: 1.0669 - accuracy: 0.4054 - val_loss: 1.0682 - val_accuracy: 0.3986\n",
      "Epoch 25/200\n",
      "15663/15663 [==============================] - ETA: 0s - loss: 1.0663 - accuracy: 0.39 - ETA: 0s - loss: 1.0651 - accuracy: 0.39 - ETA: 0s - loss: 1.0632 - accuracy: 0.40 - ETA: 0s - loss: 1.0621 - accuracy: 0.40 - ETA: 0s - loss: 1.0614 - accuracy: 0.40 - ETA: 0s - loss: 1.0614 - accuracy: 0.40 - ETA: 0s - loss: 1.0608 - accuracy: 0.40 - ETA: 0s - loss: 1.0604 - accuracy: 0.40 - 1s 47us/step - loss: 1.0604 - accuracy: 0.4087 - val_loss: 1.0616 - val_accuracy: 0.4042\n",
      "Epoch 26/200\n",
      "15663/15663 [==============================] - ETA: 0s - loss: 1.0469 - accuracy: 0.44 - ETA: 0s - loss: 1.0533 - accuracy: 0.41 - ETA: 0s - loss: 1.0524 - accuracy: 0.41 - ETA: 0s - loss: 1.0546 - accuracy: 0.41 - ETA: 0s - loss: 1.0557 - accuracy: 0.40 - ETA: 0s - loss: 1.0552 - accuracy: 0.40 - ETA: 0s - loss: 1.0537 - accuracy: 0.41 - ETA: 0s - loss: 1.0529 - accuracy: 0.41 - 1s 50us/step - loss: 1.0521 - accuracy: 0.4198 - val_loss: 1.0536 - val_accuracy: 0.4198\n",
      "Epoch 27/200\n",
      "15663/15663 [==============================] - ETA: 0s - loss: 1.0456 - accuracy: 0.44 - ETA: 0s - loss: 1.0444 - accuracy: 0.44 - ETA: 0s - loss: 1.0428 - accuracy: 0.44 - ETA: 0s - loss: 1.0425 - accuracy: 0.44 - ETA: 0s - loss: 1.0423 - accuracy: 0.44 - ETA: 0s - loss: 1.0426 - accuracy: 0.44 - ETA: 0s - loss: 1.0429 - accuracy: 0.44 - ETA: 0s - loss: 1.0429 - accuracy: 0.44 - ETA: 0s - loss: 1.0421 - accuracy: 0.44 - ETA: 0s - loss: 1.0421 - accuracy: 0.44 - ETA: 0s - loss: 1.0420 - accuracy: 0.44 - 1s 53us/step - loss: 1.0418 - accuracy: 0.4468 - val_loss: 1.0439 - val_accuracy: 0.4441\n",
      "Epoch 28/200\n",
      "15663/15663 [==============================] - ETA: 0s - loss: 1.0361 - accuracy: 0.46 - ETA: 0s - loss: 1.0333 - accuracy: 0.47 - ETA: 0s - loss: 1.0329 - accuracy: 0.47 - ETA: 0s - loss: 1.0302 - accuracy: 0.48 - ETA: 0s - loss: 1.0298 - accuracy: 0.48 - ETA: 0s - loss: 1.0306 - accuracy: 0.48 - ETA: 0s - loss: 1.0307 - accuracy: 0.48 - ETA: 0s - loss: 1.0309 - accuracy: 0.48 - ETA: 0s - loss: 1.0308 - accuracy: 0.48 - ETA: 0s - loss: 1.0298 - accuracy: 0.48 - 1s 51us/step - loss: 1.0296 - accuracy: 0.4827 - val_loss: 1.0327 - val_accuracy: 0.4816\n",
      "Epoch 29/200\n",
      "15663/15663 [==============================] - ETA: 0s - loss: 1.0197 - accuracy: 0.52 - ETA: 0s - loss: 1.0197 - accuracy: 0.52 - ETA: 0s - loss: 1.0196 - accuracy: 0.52 - ETA: 0s - loss: 1.0192 - accuracy: 0.52 - ETA: 0s - loss: 1.0192 - accuracy: 0.52 - ETA: 0s - loss: 1.0202 - accuracy: 0.52 - ETA: 0s - loss: 1.0189 - accuracy: 0.52 - ETA: 0s - loss: 1.0186 - accuracy: 0.52 - ETA: 0s - loss: 1.0173 - accuracy: 0.51 - ETA: 0s - loss: 1.0163 - accuracy: 0.52 - 1s 49us/step - loss: 1.0160 - accuracy: 0.5201 - val_loss: 1.0203 - val_accuracy: 0.5169\n",
      "Epoch 30/200\n",
      "15663/15663 [==============================] - ETA: 0s - loss: 1.0056 - accuracy: 0.54 - ETA: 0s - loss: 1.0069 - accuracy: 0.55 - ETA: 0s - loss: 1.0050 - accuracy: 0.56 - ETA: 0s - loss: 1.0040 - accuracy: 0.55 - ETA: 0s - loss: 1.0037 - accuracy: 0.55 - ETA: 0s - loss: 1.0031 - accuracy: 0.55 - ETA: 0s - loss: 1.0023 - accuracy: 0.55 - ETA: 0s - loss: 1.0008 - accuracy: 0.55 - 1s 45us/step - loss: 1.0010 - accuracy: 0.5530 - val_loss: 1.0074 - val_accuracy: 0.5470\n",
      "Epoch 31/200\n",
      "15663/15663 [==============================] - ETA: 0s - loss: 0.9923 - accuracy: 0.58 - ETA: 0s - loss: 0.9917 - accuracy: 0.58 - ETA: 0s - loss: 0.9886 - accuracy: 0.59 - ETA: 0s - loss: 0.9886 - accuracy: 0.58 - ETA: 0s - loss: 0.9870 - accuracy: 0.58 - ETA: 0s - loss: 0.9869 - accuracy: 0.57 - ETA: 0s - loss: 0.9863 - accuracy: 0.57 - ETA: 0s - loss: 0.9864 - accuracy: 0.57 - 1s 47us/step - loss: 0.9856 - accuracy: 0.5729 - val_loss: 0.9940 - val_accuracy: 0.5592\n",
      "Epoch 32/200\n",
      "15663/15663 [==============================] - ETA: 0s - loss: 0.9797 - accuracy: 0.57 - ETA: 0s - loss: 0.9791 - accuracy: 0.58 - ETA: 0s - loss: 0.9782 - accuracy: 0.58 - ETA: 0s - loss: 0.9757 - accuracy: 0.58 - ETA: 0s - loss: 0.9735 - accuracy: 0.58 - ETA: 0s - loss: 0.9727 - accuracy: 0.58 - ETA: 0s - loss: 0.9700 - accuracy: 0.58 - ETA: 0s - loss: 0.9690 - accuracy: 0.58 - 1s 45us/step - loss: 0.9688 - accuracy: 0.5892 - val_loss: 0.9803 - val_accuracy: 0.5603\n",
      "Epoch 33/200\n"
     ]
    },
    {
     "name": "stdout",
     "output_type": "stream",
     "text": [
      "15663/15663 [==============================] - ETA: 0s - loss: 0.9521 - accuracy: 0.61 - ETA: 0s - loss: 0.9555 - accuracy: 0.60 - ETA: 0s - loss: 0.9552 - accuracy: 0.60 - ETA: 0s - loss: 0.9552 - accuracy: 0.60 - ETA: 0s - loss: 0.9547 - accuracy: 0.60 - ETA: 0s - loss: 0.9539 - accuracy: 0.59 - ETA: 0s - loss: 0.9538 - accuracy: 0.59 - ETA: 0s - loss: 0.9521 - accuracy: 0.59 - 1s 48us/step - loss: 0.9521 - accuracy: 0.5978 - val_loss: 0.9667 - val_accuracy: 0.5728\n",
      "Epoch 34/200\n",
      "15663/15663 [==============================] - ETA: 0s - loss: 0.9512 - accuracy: 0.58 - ETA: 0s - loss: 0.9496 - accuracy: 0.59 - ETA: 0s - loss: 0.9450 - accuracy: 0.60 - ETA: 0s - loss: 0.9439 - accuracy: 0.60 - ETA: 0s - loss: 0.9435 - accuracy: 0.60 - ETA: 0s - loss: 0.9419 - accuracy: 0.60 - ETA: 0s - loss: 0.9404 - accuracy: 0.60 - ETA: 0s - loss: 0.9410 - accuracy: 0.60 - ETA: 0s - loss: 0.9388 - accuracy: 0.60 - ETA: 0s - loss: 0.9380 - accuracy: 0.60 - ETA: 0s - loss: 0.9374 - accuracy: 0.60 - ETA: 0s - loss: 0.9364 - accuracy: 0.60 - 1s 52us/step - loss: 0.9353 - accuracy: 0.6082 - val_loss: 0.9531 - val_accuracy: 0.5776\n",
      "Epoch 35/200\n",
      "15663/15663 [==============================] - ETA: 0s - loss: 0.9191 - accuracy: 0.63 - ETA: 0s - loss: 0.9218 - accuracy: 0.62 - ETA: 0s - loss: 0.9234 - accuracy: 0.62 - ETA: 0s - loss: 0.9220 - accuracy: 0.62 - ETA: 0s - loss: 0.9225 - accuracy: 0.61 - ETA: 0s - loss: 0.9213 - accuracy: 0.61 - ETA: 0s - loss: 0.9208 - accuracy: 0.61 - ETA: 0s - loss: 0.9199 - accuracy: 0.61 - ETA: 0s - loss: 0.9197 - accuracy: 0.61 - ETA: 0s - loss: 0.9184 - accuracy: 0.61 - 1s 51us/step - loss: 0.9186 - accuracy: 0.6159 - val_loss: 0.9397 - val_accuracy: 0.5822\n",
      "Epoch 36/200\n",
      "15663/15663 [==============================] - ETA: 0s - loss: 0.9246 - accuracy: 0.58 - ETA: 0s - loss: 0.9132 - accuracy: 0.60 - ETA: 0s - loss: 0.9089 - accuracy: 0.61 - ETA: 0s - loss: 0.9080 - accuracy: 0.61 - ETA: 0s - loss: 0.9065 - accuracy: 0.62 - ETA: 0s - loss: 0.9047 - accuracy: 0.62 - ETA: 0s - loss: 0.9042 - accuracy: 0.61 - ETA: 0s - loss: 0.9030 - accuracy: 0.62 - ETA: 0s - loss: 0.9026 - accuracy: 0.62 - 1s 49us/step - loss: 0.9021 - accuracy: 0.6219 - val_loss: 0.9272 - val_accuracy: 0.5827\n",
      "Epoch 37/200\n",
      "15663/15663 [==============================] - ETA: 0s - loss: 0.8995 - accuracy: 0.60 - ETA: 0s - loss: 0.8889 - accuracy: 0.62 - ETA: 0s - loss: 0.8912 - accuracy: 0.61 - ETA: 0s - loss: 0.8913 - accuracy: 0.61 - ETA: 0s - loss: 0.8915 - accuracy: 0.61 - ETA: 0s - loss: 0.8902 - accuracy: 0.62 - ETA: 0s - loss: 0.8903 - accuracy: 0.61 - ETA: 0s - loss: 0.8893 - accuracy: 0.61 - ETA: 0s - loss: 0.8879 - accuracy: 0.62 - ETA: 0s - loss: 0.8873 - accuracy: 0.62 - ETA: 0s - loss: 0.8869 - accuracy: 0.62 - ETA: 0s - loss: 0.8864 - accuracy: 0.62 - 1s 52us/step - loss: 0.8859 - accuracy: 0.6250 - val_loss: 0.9146 - val_accuracy: 0.5889\n",
      "Epoch 38/200\n",
      "15663/15663 [==============================] - ETA: 0s - loss: 0.8690 - accuracy: 0.63 - ETA: 0s - loss: 0.8742 - accuracy: 0.63 - ETA: 0s - loss: 0.8773 - accuracy: 0.63 - ETA: 0s - loss: 0.8770 - accuracy: 0.63 - ETA: 0s - loss: 0.8742 - accuracy: 0.63 - ETA: 0s - loss: 0.8731 - accuracy: 0.63 - ETA: 0s - loss: 0.8725 - accuracy: 0.63 - ETA: 0s - loss: 0.8721 - accuracy: 0.63 - ETA: 0s - loss: 0.8710 - accuracy: 0.63 - ETA: 0s - loss: 0.8705 - accuracy: 0.63 - 1s 51us/step - loss: 0.8700 - accuracy: 0.6320 - val_loss: 0.9024 - val_accuracy: 0.5927\n",
      "Epoch 39/200\n",
      "15663/15663 [==============================] - ETA: 0s - loss: 0.8586 - accuracy: 0.62 - ETA: 0s - loss: 0.8611 - accuracy: 0.63 - ETA: 0s - loss: 0.8588 - accuracy: 0.63 - ETA: 0s - loss: 0.8587 - accuracy: 0.63 - ETA: 0s - loss: 0.8573 - accuracy: 0.63 - ETA: 0s - loss: 0.8582 - accuracy: 0.63 - ETA: 0s - loss: 0.8561 - accuracy: 0.63 - ETA: 0s - loss: 0.8549 - accuracy: 0.63 - ETA: 0s - loss: 0.8542 - accuracy: 0.63 - 1s 49us/step - loss: 0.8547 - accuracy: 0.6356 - val_loss: 0.8910 - val_accuracy: 0.5958\n",
      "Epoch 40/200\n",
      "15663/15663 [==============================] - ETA: 0s - loss: 0.8562 - accuracy: 0.62 - ETA: 0s - loss: 0.8504 - accuracy: 0.63 - ETA: 0s - loss: 0.8491 - accuracy: 0.63 - ETA: 0s - loss: 0.8445 - accuracy: 0.64 - ETA: 0s - loss: 0.8434 - accuracy: 0.64 - ETA: 0s - loss: 0.8425 - accuracy: 0.63 - ETA: 0s - loss: 0.8405 - accuracy: 0.64 - ETA: 0s - loss: 0.8405 - accuracy: 0.63 - 1s 47us/step - loss: 0.8398 - accuracy: 0.6397 - val_loss: 0.8802 - val_accuracy: 0.6019\n",
      "Epoch 41/200\n",
      "15663/15663 [==============================] - ETA: 0s - loss: 0.8343 - accuracy: 0.64 - ETA: 0s - loss: 0.8438 - accuracy: 0.62 - ETA: 0s - loss: 0.8366 - accuracy: 0.63 - ETA: 0s - loss: 0.8356 - accuracy: 0.64 - ETA: 0s - loss: 0.8324 - accuracy: 0.64 - ETA: 0s - loss: 0.8281 - accuracy: 0.64 - ETA: 0s - loss: 0.8283 - accuracy: 0.64 - ETA: 0s - loss: 0.8269 - accuracy: 0.64 - ETA: 0s - loss: 0.8254 - accuracy: 0.64 - ETA: 0s - loss: 0.8259 - accuracy: 0.64 - 1s 49us/step - loss: 0.8256 - accuracy: 0.6440 - val_loss: 0.8703 - val_accuracy: 0.5981\n",
      "Epoch 42/200\n",
      "15663/15663 [==============================] - ETA: 0s - loss: 0.8313 - accuracy: 0.61 - ETA: 0s - loss: 0.8216 - accuracy: 0.63 - ETA: 0s - loss: 0.8178 - accuracy: 0.63 - ETA: 0s - loss: 0.8140 - accuracy: 0.64 - ETA: 0s - loss: 0.8128 - accuracy: 0.64 - ETA: 0s - loss: 0.8125 - accuracy: 0.64 - ETA: 0s - loss: 0.8105 - accuracy: 0.64 - ETA: 0s - loss: 0.8117 - accuracy: 0.64 - 1s 47us/step - loss: 0.8116 - accuracy: 0.6460 - val_loss: 0.8596 - val_accuracy: 0.6037\n",
      "Epoch 43/200\n",
      "15663/15663 [==============================] - ETA: 0s - loss: 0.8021 - accuracy: 0.64 - ETA: 0s - loss: 0.8056 - accuracy: 0.64 - ETA: 0s - loss: 0.8063 - accuracy: 0.64 - ETA: 0s - loss: 0.8031 - accuracy: 0.64 - ETA: 0s - loss: 0.8027 - accuracy: 0.64 - ETA: 0s - loss: 0.8017 - accuracy: 0.64 - ETA: 0s - loss: 0.8013 - accuracy: 0.64 - ETA: 0s - loss: 0.7984 - accuracy: 0.64 - 1s 47us/step - loss: 0.7980 - accuracy: 0.6494 - val_loss: 0.8499 - val_accuracy: 0.6052\n",
      "Epoch 44/200\n",
      "15663/15663 [==============================] - ETA: 0s - loss: 0.7849 - accuracy: 0.65 - ETA: 0s - loss: 0.7855 - accuracy: 0.65 - ETA: 0s - loss: 0.7880 - accuracy: 0.65 - ETA: 0s - loss: 0.7857 - accuracy: 0.65 - ETA: 0s - loss: 0.7850 - accuracy: 0.65 - ETA: 0s - loss: 0.7868 - accuracy: 0.65 - ETA: 0s - loss: 0.7864 - accuracy: 0.65 - ETA: 0s - loss: 0.7856 - accuracy: 0.65 - 1s 47us/step - loss: 0.7852 - accuracy: 0.6526 - val_loss: 0.8409 - val_accuracy: 0.6065\n",
      "Epoch 45/200\n",
      "15663/15663 [==============================] - ETA: 0s - loss: 0.7807 - accuracy: 0.64 - ETA: 0s - loss: 0.7706 - accuracy: 0.66 - ETA: 0s - loss: 0.7711 - accuracy: 0.66 - ETA: 0s - loss: 0.7716 - accuracy: 0.66 - ETA: 0s - loss: 0.7716 - accuracy: 0.66 - ETA: 0s - loss: 0.7725 - accuracy: 0.65 - ETA: 0s - loss: 0.7738 - accuracy: 0.65 - ETA: 0s - loss: 0.7729 - accuracy: 0.65 - 1s 47us/step - loss: 0.7730 - accuracy: 0.6555 - val_loss: 0.8322 - val_accuracy: 0.6078\n",
      "Epoch 46/200\n",
      "15663/15663 [==============================] - ETA: 0s - loss: 0.7784 - accuracy: 0.63 - ETA: 0s - loss: 0.7659 - accuracy: 0.64 - ETA: 0s - loss: 0.7663 - accuracy: 0.65 - ETA: 0s - loss: 0.7659 - accuracy: 0.65 - ETA: 0s - loss: 0.7659 - accuracy: 0.65 - ETA: 0s - loss: 0.7644 - accuracy: 0.65 - ETA: 0s - loss: 0.7639 - accuracy: 0.65 - ETA: 0s - loss: 0.7630 - accuracy: 0.65 - ETA: 0s - loss: 0.7618 - accuracy: 0.65 - 1s 50us/step - loss: 0.7609 - accuracy: 0.6580 - val_loss: 0.8238 - val_accuracy: 0.6093\n",
      "Epoch 47/200\n",
      "15663/15663 [==============================] - ETA: 0s - loss: 0.7577 - accuracy: 0.64 - ETA: 0s - loss: 0.7535 - accuracy: 0.64 - ETA: 0s - loss: 0.7562 - accuracy: 0.64 - ETA: 0s - loss: 0.7557 - accuracy: 0.64 - ETA: 0s - loss: 0.7553 - accuracy: 0.65 - ETA: 0s - loss: 0.7543 - accuracy: 0.65 - ETA: 0s - loss: 0.7522 - accuracy: 0.65 - ETA: 0s - loss: 0.7521 - accuracy: 0.65 - ETA: 0s - loss: 0.7518 - accuracy: 0.65 - ETA: 0s - loss: 0.7497 - accuracy: 0.65 - 1s 51us/step - loss: 0.7495 - accuracy: 0.6602 - val_loss: 0.8159 - val_accuracy: 0.6116\n",
      "Epoch 48/200\n"
     ]
    },
    {
     "name": "stdout",
     "output_type": "stream",
     "text": [
      "15663/15663 [==============================] - ETA: 0s - loss: 0.7397 - accuracy: 0.66 - ETA: 0s - loss: 0.7423 - accuracy: 0.65 - ETA: 0s - loss: 0.7450 - accuracy: 0.65 - ETA: 0s - loss: 0.7433 - accuracy: 0.65 - ETA: 0s - loss: 0.7448 - accuracy: 0.65 - ETA: 0s - loss: 0.7425 - accuracy: 0.65 - ETA: 0s - loss: 0.7414 - accuracy: 0.65 - ETA: 0s - loss: 0.7396 - accuracy: 0.65 - ETA: 0s - loss: 0.7394 - accuracy: 0.66 - ETA: 0s - loss: 0.7381 - accuracy: 0.66 - ETA: 0s - loss: 0.7372 - accuracy: 0.66 - ETA: 0s - loss: 0.7378 - accuracy: 0.66 - ETA: 0s - loss: 0.7382 - accuracy: 0.66 - ETA: 0s - loss: 0.7382 - accuracy: 0.66 - 1s 57us/step - loss: 0.7386 - accuracy: 0.6623 - val_loss: 0.8083 - val_accuracy: 0.6126\n",
      "Epoch 49/200\n",
      "15663/15663 [==============================] - ETA: 0s - loss: 0.7307 - accuracy: 0.67 - ETA: 0s - loss: 0.7285 - accuracy: 0.67 - ETA: 0s - loss: 0.7304 - accuracy: 0.67 - ETA: 0s - loss: 0.7300 - accuracy: 0.67 - ETA: 0s - loss: 0.7321 - accuracy: 0.66 - ETA: 0s - loss: 0.7320 - accuracy: 0.66 - ETA: 0s - loss: 0.7302 - accuracy: 0.66 - ETA: 0s - loss: 0.7284 - accuracy: 0.66 - ETA: 0s - loss: 0.7264 - accuracy: 0.67 - ETA: 0s - loss: 0.7272 - accuracy: 0.66 - ETA: 0s - loss: 0.7273 - accuracy: 0.66 - ETA: 0s - loss: 0.7280 - accuracy: 0.66 - 1s 54us/step - loss: 0.7282 - accuracy: 0.6639 - val_loss: 0.8014 - val_accuracy: 0.6147\n",
      "Epoch 50/200\n",
      "15663/15663 [==============================] - ETA: 0s - loss: 0.7122 - accuracy: 0.68 - ETA: 0s - loss: 0.7161 - accuracy: 0.67 - ETA: 0s - loss: 0.7212 - accuracy: 0.67 - ETA: 0s - loss: 0.7222 - accuracy: 0.66 - ETA: 0s - loss: 0.7238 - accuracy: 0.66 - ETA: 0s - loss: 0.7235 - accuracy: 0.66 - ETA: 0s - loss: 0.7242 - accuracy: 0.66 - ETA: 0s - loss: 0.7232 - accuracy: 0.66 - ETA: 0s - loss: 0.7209 - accuracy: 0.66 - ETA: 0s - loss: 0.7207 - accuracy: 0.66 - ETA: 0s - loss: 0.7201 - accuracy: 0.66 - ETA: 0s - loss: 0.7195 - accuracy: 0.66 - ETA: 0s - loss: 0.7187 - accuracy: 0.66 - ETA: 0s - loss: 0.7186 - accuracy: 0.66 - 1s 58us/step - loss: 0.7178 - accuracy: 0.6663 - val_loss: 0.7944 - val_accuracy: 0.6144\n",
      "Epoch 51/200\n",
      "15663/15663 [==============================] - ETA: 0s - loss: 0.7007 - accuracy: 0.66 - ETA: 0s - loss: 0.7020 - accuracy: 0.67 - ETA: 0s - loss: 0.7050 - accuracy: 0.67 - ETA: 0s - loss: 0.7078 - accuracy: 0.67 - ETA: 0s - loss: 0.7115 - accuracy: 0.66 - ETA: 0s - loss: 0.7112 - accuracy: 0.66 - ETA: 0s - loss: 0.7110 - accuracy: 0.66 - ETA: 0s - loss: 0.7104 - accuracy: 0.66 - ETA: 0s - loss: 0.7085 - accuracy: 0.66 - 1s 50us/step - loss: 0.7083 - accuracy: 0.6682 - val_loss: 0.7879 - val_accuracy: 0.6152\n",
      "Epoch 52/200\n",
      "15663/15663 [==============================] - ETA: 0s - loss: 0.7050 - accuracy: 0.69 - ETA: 0s - loss: 0.6964 - accuracy: 0.68 - ETA: 0s - loss: 0.6972 - accuracy: 0.67 - ETA: 0s - loss: 0.6964 - accuracy: 0.68 - ETA: 0s - loss: 0.6977 - accuracy: 0.67 - ETA: 0s - loss: 0.6965 - accuracy: 0.67 - ETA: 0s - loss: 0.6989 - accuracy: 0.67 - ETA: 0s - loss: 0.7005 - accuracy: 0.67 - ETA: 0s - loss: 0.6991 - accuracy: 0.67 - ETA: 0s - loss: 0.6992 - accuracy: 0.67 - ETA: 0s - loss: 0.6988 - accuracy: 0.66 - 1s 51us/step - loss: 0.6991 - accuracy: 0.6696 - val_loss: 0.7819 - val_accuracy: 0.6167\n",
      "Epoch 53/200\n",
      "15663/15663 [==============================] - ETA: 0s - loss: 0.7005 - accuracy: 0.66 - ETA: 0s - loss: 0.6993 - accuracy: 0.66 - ETA: 0s - loss: 0.6971 - accuracy: 0.67 - ETA: 0s - loss: 0.6919 - accuracy: 0.67 - ETA: 0s - loss: 0.6918 - accuracy: 0.67 - ETA: 0s - loss: 0.6915 - accuracy: 0.67 - ETA: 0s - loss: 0.6905 - accuracy: 0.67 - ETA: 0s - loss: 0.6907 - accuracy: 0.67 - 1s 49us/step - loss: 0.6903 - accuracy: 0.6715 - val_loss: 0.7762 - val_accuracy: 0.6177\n",
      "Epoch 54/200\n",
      "15663/15663 [==============================] - ETA: 0s - loss: 0.6845 - accuracy: 0.66 - ETA: 0s - loss: 0.6821 - accuracy: 0.66 - ETA: 0s - loss: 0.6852 - accuracy: 0.66 - ETA: 0s - loss: 0.6863 - accuracy: 0.66 - ETA: 0s - loss: 0.6884 - accuracy: 0.66 - ETA: 0s - loss: 0.6863 - accuracy: 0.66 - ETA: 0s - loss: 0.6849 - accuracy: 0.67 - ETA: 0s - loss: 0.6826 - accuracy: 0.67 - 1s 49us/step - loss: 0.6821 - accuracy: 0.6733 - val_loss: 0.7704 - val_accuracy: 0.6195\n",
      "Epoch 55/200\n",
      "15663/15663 [==============================] - ETA: 0s - loss: 0.6737 - accuracy: 0.68 - ETA: 0s - loss: 0.6715 - accuracy: 0.67 - ETA: 0s - loss: 0.6696 - accuracy: 0.67 - ETA: 0s - loss: 0.6716 - accuracy: 0.68 - ETA: 0s - loss: 0.6719 - accuracy: 0.67 - ETA: 0s - loss: 0.6728 - accuracy: 0.67 - ETA: 0s - loss: 0.6745 - accuracy: 0.67 - ETA: 0s - loss: 0.6744 - accuracy: 0.67 - 1s 49us/step - loss: 0.6740 - accuracy: 0.6743 - val_loss: 0.7680 - val_accuracy: 0.6185\n",
      "Epoch 56/200\n",
      "15663/15663 [==============================] - ETA: 0s - loss: 0.6829 - accuracy: 0.66 - ETA: 0s - loss: 0.6650 - accuracy: 0.68 - ETA: 0s - loss: 0.6676 - accuracy: 0.68 - ETA: 0s - loss: 0.6692 - accuracy: 0.67 - ETA: 0s - loss: 0.6684 - accuracy: 0.67 - ETA: 0s - loss: 0.6684 - accuracy: 0.67 - ETA: 0s - loss: 0.6675 - accuracy: 0.67 - ETA: 0s - loss: 0.6669 - accuracy: 0.67 - 1s 49us/step - loss: 0.6666 - accuracy: 0.6753 - val_loss: 0.7617 - val_accuracy: 0.6195\n",
      "Epoch 57/200\n",
      "15663/15663 [==============================] - ETA: 0s - loss: 0.6542 - accuracy: 0.67 - ETA: 0s - loss: 0.6543 - accuracy: 0.67 - ETA: 0s - loss: 0.6571 - accuracy: 0.67 - ETA: 0s - loss: 0.6545 - accuracy: 0.67 - ETA: 0s - loss: 0.6571 - accuracy: 0.67 - ETA: 0s - loss: 0.6595 - accuracy: 0.67 - ETA: 0s - loss: 0.6586 - accuracy: 0.67 - ETA: 0s - loss: 0.6591 - accuracy: 0.67 - ETA: 0s - loss: 0.6595 - accuracy: 0.67 - ETA: 0s - loss: 0.6591 - accuracy: 0.67 - 1s 50us/step - loss: 0.6593 - accuracy: 0.6764 - val_loss: 0.7564 - val_accuracy: 0.6203\n",
      "Epoch 58/200\n",
      "15663/15663 [==============================] - ETA: 0s - loss: 0.6523 - accuracy: 0.68 - ETA: 0s - loss: 0.6519 - accuracy: 0.67 - ETA: 0s - loss: 0.6577 - accuracy: 0.67 - ETA: 0s - loss: 0.6573 - accuracy: 0.67 - ETA: 0s - loss: 0.6559 - accuracy: 0.67 - ETA: 0s - loss: 0.6557 - accuracy: 0.67 - ETA: 0s - loss: 0.6550 - accuracy: 0.67 - ETA: 0s - loss: 0.6531 - accuracy: 0.67 - 1s 49us/step - loss: 0.6522 - accuracy: 0.6776 - val_loss: 0.7521 - val_accuracy: 0.6208\n",
      "Epoch 59/200\n",
      "15663/15663 [==============================] - ETA: 0s - loss: 0.6552 - accuracy: 0.66 - ETA: 0s - loss: 0.6602 - accuracy: 0.65 - ETA: 0s - loss: 0.6570 - accuracy: 0.65 - ETA: 0s - loss: 0.6519 - accuracy: 0.66 - ETA: 0s - loss: 0.6498 - accuracy: 0.66 - ETA: 0s - loss: 0.6494 - accuracy: 0.67 - ETA: 0s - loss: 0.6482 - accuracy: 0.67 - ETA: 0s - loss: 0.6483 - accuracy: 0.67 - ETA: 0s - loss: 0.6466 - accuracy: 0.67 - ETA: 0s - loss: 0.6458 - accuracy: 0.67 - 1s 49us/step - loss: 0.6458 - accuracy: 0.6784 - val_loss: 0.7471 - val_accuracy: 0.6221\n",
      "Epoch 60/200\n",
      "15663/15663 [==============================] - ETA: 0s - loss: 0.6291 - accuracy: 0.70 - ETA: 0s - loss: 0.6395 - accuracy: 0.68 - ETA: 0s - loss: 0.6382 - accuracy: 0.68 - ETA: 0s - loss: 0.6384 - accuracy: 0.68 - ETA: 0s - loss: 0.6410 - accuracy: 0.68 - ETA: 0s - loss: 0.6402 - accuracy: 0.67 - ETA: 0s - loss: 0.6380 - accuracy: 0.68 - ETA: 0s - loss: 0.6393 - accuracy: 0.67 - 1s 48us/step - loss: 0.6395 - accuracy: 0.6796 - val_loss: 0.7435 - val_accuracy: 0.6218\n",
      "Epoch 61/200\n",
      "15663/15663 [==============================] - ETA: 0s - loss: 0.6333 - accuracy: 0.68 - ETA: 0s - loss: 0.6354 - accuracy: 0.67 - ETA: 0s - loss: 0.6339 - accuracy: 0.68 - ETA: 0s - loss: 0.6304 - accuracy: 0.68 - ETA: 0s - loss: 0.6299 - accuracy: 0.68 - ETA: 0s - loss: 0.6320 - accuracy: 0.68 - ETA: 0s - loss: 0.6330 - accuracy: 0.68 - ETA: 0s - loss: 0.6337 - accuracy: 0.67 - 1s 48us/step - loss: 0.6336 - accuracy: 0.6798 - val_loss: 0.7406 - val_accuracy: 0.6228\n",
      "Epoch 62/200\n",
      "15663/15663 [==============================] - ETA: 0s - loss: 0.6322 - accuracy: 0.67 - ETA: 0s - loss: 0.6268 - accuracy: 0.68 - ETA: 0s - loss: 0.6276 - accuracy: 0.68 - ETA: 0s - loss: 0.6275 - accuracy: 0.68 - ETA: 0s - loss: 0.6286 - accuracy: 0.68 - ETA: 0s - loss: 0.6297 - accuracy: 0.67 - ETA: 0s - loss: 0.6286 - accuracy: 0.68 - ETA: 0s - loss: 0.6282 - accuracy: 0.68 - 1s 48us/step - loss: 0.6279 - accuracy: 0.6812 - val_loss: 0.7361 - val_accuracy: 0.6228\n"
     ]
    },
    {
     "name": "stdout",
     "output_type": "stream",
     "text": [
      "Epoch 63/200\n",
      "15663/15663 [==============================] - ETA: 0s - loss: 0.6356 - accuracy: 0.66 - ETA: 0s - loss: 0.6245 - accuracy: 0.67 - ETA: 0s - loss: 0.6232 - accuracy: 0.67 - ETA: 0s - loss: 0.6248 - accuracy: 0.67 - ETA: 0s - loss: 0.6230 - accuracy: 0.68 - ETA: 0s - loss: 0.6240 - accuracy: 0.68 - ETA: 0s - loss: 0.6227 - accuracy: 0.68 - ETA: 0s - loss: 0.6231 - accuracy: 0.68 - 1s 49us/step - loss: 0.6226 - accuracy: 0.6817 - val_loss: 0.7335 - val_accuracy: 0.6226\n",
      "Epoch 64/200\n",
      "15663/15663 [==============================] - ETA: 0s - loss: 0.6226 - accuracy: 0.68 - ETA: 0s - loss: 0.6214 - accuracy: 0.68 - ETA: 0s - loss: 0.6211 - accuracy: 0.68 - ETA: 0s - loss: 0.6197 - accuracy: 0.67 - ETA: 0s - loss: 0.6192 - accuracy: 0.67 - ETA: 0s - loss: 0.6185 - accuracy: 0.68 - ETA: 0s - loss: 0.6186 - accuracy: 0.68 - ETA: 0s - loss: 0.6186 - accuracy: 0.68 - 1s 47us/step - loss: 0.6175 - accuracy: 0.6822 - val_loss: 0.7318 - val_accuracy: 0.6223\n",
      "Epoch 65/200\n",
      "15663/15663 [==============================] - ETA: 0s - loss: 0.6250 - accuracy: 0.66 - ETA: 0s - loss: 0.6122 - accuracy: 0.68 - ETA: 0s - loss: 0.6134 - accuracy: 0.68 - ETA: 0s - loss: 0.6108 - accuracy: 0.68 - ETA: 0s - loss: 0.6130 - accuracy: 0.68 - ETA: 0s - loss: 0.6132 - accuracy: 0.68 - ETA: 0s - loss: 0.6131 - accuracy: 0.68 - ETA: 0s - loss: 0.6126 - accuracy: 0.68 - 1s 46us/step - loss: 0.6127 - accuracy: 0.6824 - val_loss: 0.7279 - val_accuracy: 0.6233\n",
      "Epoch 66/200\n",
      "15663/15663 [==============================] - ETA: 0s - loss: 0.6107 - accuracy: 0.68 - ETA: 0s - loss: 0.6088 - accuracy: 0.68 - ETA: 0s - loss: 0.6062 - accuracy: 0.68 - ETA: 0s - loss: 0.6099 - accuracy: 0.68 - ETA: 0s - loss: 0.6094 - accuracy: 0.68 - ETA: 0s - loss: 0.6087 - accuracy: 0.68 - ETA: 0s - loss: 0.6075 - accuracy: 0.68 - ETA: 0s - loss: 0.6082 - accuracy: 0.68 - 1s 47us/step - loss: 0.6080 - accuracy: 0.6830 - val_loss: 0.7243 - val_accuracy: 0.6233\n",
      "Epoch 67/200\n",
      "15663/15663 [==============================] - ETA: 0s - loss: 0.6034 - accuracy: 0.68 - ETA: 0s - loss: 0.6020 - accuracy: 0.68 - ETA: 0s - loss: 0.6027 - accuracy: 0.68 - ETA: 0s - loss: 0.6012 - accuracy: 0.68 - ETA: 0s - loss: 0.6020 - accuracy: 0.68 - ETA: 0s - loss: 0.6013 - accuracy: 0.68 - ETA: 0s - loss: 0.6024 - accuracy: 0.68 - ETA: 0s - loss: 0.6036 - accuracy: 0.68 - 1s 49us/step - loss: 0.6037 - accuracy: 0.6837 - val_loss: 0.7222 - val_accuracy: 0.6239\n",
      "Epoch 68/200\n",
      "15663/15663 [==============================] - ETA: 0s - loss: 0.6078 - accuracy: 0.68 - ETA: 0s - loss: 0.6069 - accuracy: 0.68 - ETA: 0s - loss: 0.6043 - accuracy: 0.68 - ETA: 0s - loss: 0.6059 - accuracy: 0.68 - ETA: 0s - loss: 0.6031 - accuracy: 0.68 - ETA: 0s - loss: 0.6008 - accuracy: 0.68 - ETA: 0s - loss: 0.6015 - accuracy: 0.68 - ETA: 0s - loss: 0.6006 - accuracy: 0.68 - 1s 49us/step - loss: 0.5995 - accuracy: 0.6843 - val_loss: 0.7189 - val_accuracy: 0.6249\n",
      "Epoch 69/200\n",
      "15663/15663 [==============================] - ETA: 0s - loss: 0.6012 - accuracy: 0.67 - ETA: 0s - loss: 0.5949 - accuracy: 0.68 - ETA: 0s - loss: 0.5965 - accuracy: 0.68 - ETA: 0s - loss: 0.5944 - accuracy: 0.68 - ETA: 0s - loss: 0.5933 - accuracy: 0.68 - ETA: 0s - loss: 0.5938 - accuracy: 0.68 - ETA: 0s - loss: 0.5957 - accuracy: 0.68 - ETA: 0s - loss: 0.5958 - accuracy: 0.68 - 1s 49us/step - loss: 0.5955 - accuracy: 0.6847 - val_loss: 0.7176 - val_accuracy: 0.6239\n",
      "Epoch 70/200\n",
      "15663/15663 [==============================] - ETA: 0s - loss: 0.5826 - accuracy: 0.70 - ETA: 0s - loss: 0.5916 - accuracy: 0.68 - ETA: 0s - loss: 0.5961 - accuracy: 0.68 - ETA: 0s - loss: 0.5962 - accuracy: 0.68 - ETA: 0s - loss: 0.5943 - accuracy: 0.68 - ETA: 0s - loss: 0.5916 - accuracy: 0.68 - ETA: 0s - loss: 0.5914 - accuracy: 0.68 - ETA: 0s - loss: 0.5912 - accuracy: 0.68 - 1s 48us/step - loss: 0.5917 - accuracy: 0.6854 - val_loss: 0.7155 - val_accuracy: 0.6236\n",
      "Epoch 71/200\n",
      "15663/15663 [==============================] - ETA: 0s - loss: 0.5886 - accuracy: 0.67 - ETA: 0s - loss: 0.5903 - accuracy: 0.68 - ETA: 0s - loss: 0.5906 - accuracy: 0.68 - ETA: 0s - loss: 0.5930 - accuracy: 0.68 - ETA: 0s - loss: 0.5921 - accuracy: 0.68 - ETA: 0s - loss: 0.5906 - accuracy: 0.68 - ETA: 0s - loss: 0.5883 - accuracy: 0.68 - ETA: 0s - loss: 0.5874 - accuracy: 0.68 - 1s 46us/step - loss: 0.5881 - accuracy: 0.6858 - val_loss: 0.7122 - val_accuracy: 0.6256\n",
      "Epoch 72/200\n",
      "15663/15663 [==============================] - ETA: 0s - loss: 0.5893 - accuracy: 0.67 - ETA: 0s - loss: 0.5838 - accuracy: 0.67 - ETA: 0s - loss: 0.5807 - accuracy: 0.68 - ETA: 0s - loss: 0.5831 - accuracy: 0.68 - ETA: 0s - loss: 0.5868 - accuracy: 0.68 - ETA: 0s - loss: 0.5849 - accuracy: 0.68 - ETA: 0s - loss: 0.5854 - accuracy: 0.68 - ETA: 0s - loss: 0.5846 - accuracy: 0.68 - 1s 47us/step - loss: 0.5845 - accuracy: 0.6862 - val_loss: 0.7094 - val_accuracy: 0.6272\n",
      "Epoch 73/200\n",
      "15663/15663 [==============================] - ETA: 0s - loss: 0.5840 - accuracy: 0.68 - ETA: 0s - loss: 0.5816 - accuracy: 0.68 - ETA: 0s - loss: 0.5791 - accuracy: 0.68 - ETA: 0s - loss: 0.5796 - accuracy: 0.69 - ETA: 0s - loss: 0.5796 - accuracy: 0.68 - ETA: 0s - loss: 0.5817 - accuracy: 0.68 - ETA: 0s - loss: 0.5809 - accuracy: 0.68 - ETA: 0s - loss: 0.5816 - accuracy: 0.68 - 1s 47us/step - loss: 0.5814 - accuracy: 0.6865 - val_loss: 0.7098 - val_accuracy: 0.6236\n",
      "Epoch 74/200\n",
      "15663/15663 [==============================] - ETA: 0s - loss: 0.5798 - accuracy: 0.67 - ETA: 0s - loss: 0.5811 - accuracy: 0.68 - ETA: 0s - loss: 0.5811 - accuracy: 0.69 - ETA: 0s - loss: 0.5766 - accuracy: 0.69 - ETA: 0s - loss: 0.5797 - accuracy: 0.68 - ETA: 0s - loss: 0.5794 - accuracy: 0.68 - ETA: 0s - loss: 0.5787 - accuracy: 0.68 - ETA: 0s - loss: 0.5782 - accuracy: 0.68 - ETA: 0s - loss: 0.5789 - accuracy: 0.68 - 1s 49us/step - loss: 0.5783 - accuracy: 0.6870 - val_loss: 0.7078 - val_accuracy: 0.6239\n",
      "Epoch 75/200\n",
      "15663/15663 [==============================] - ETA: 0s - loss: 0.5787 - accuracy: 0.69 - ETA: 0s - loss: 0.5763 - accuracy: 0.69 - ETA: 0s - loss: 0.5808 - accuracy: 0.68 - ETA: 0s - loss: 0.5763 - accuracy: 0.68 - ETA: 0s - loss: 0.5753 - accuracy: 0.68 - ETA: 0s - loss: 0.5736 - accuracy: 0.69 - ETA: 0s - loss: 0.5742 - accuracy: 0.68 - ETA: 0s - loss: 0.5740 - accuracy: 0.68 - 1s 47us/step - loss: 0.5752 - accuracy: 0.6874 - val_loss: 0.7066 - val_accuracy: 0.6228\n",
      "Epoch 76/200\n",
      "15663/15663 [==============================] - ETA: 0s - loss: 0.5827 - accuracy: 0.67 - ETA: 0s - loss: 0.5803 - accuracy: 0.67 - ETA: 0s - loss: 0.5755 - accuracy: 0.68 - ETA: 0s - loss: 0.5778 - accuracy: 0.68 - ETA: 0s - loss: 0.5766 - accuracy: 0.68 - ETA: 0s - loss: 0.5760 - accuracy: 0.68 - ETA: 0s - loss: 0.5753 - accuracy: 0.68 - ETA: 0s - loss: 0.5736 - accuracy: 0.68 - ETA: 0s - loss: 0.5738 - accuracy: 0.68 - ETA: 0s - loss: 0.5724 - accuracy: 0.68 - 1s 50us/step - loss: 0.5723 - accuracy: 0.6878 - val_loss: 0.7035 - val_accuracy: 0.6254\n",
      "Epoch 77/200\n",
      "15663/15663 [==============================] - ETA: 0s - loss: 0.5732 - accuracy: 0.67 - ETA: 0s - loss: 0.5750 - accuracy: 0.68 - ETA: 0s - loss: 0.5718 - accuracy: 0.68 - ETA: 0s - loss: 0.5749 - accuracy: 0.68 - ETA: 0s - loss: 0.5723 - accuracy: 0.68 - ETA: 0s - loss: 0.5674 - accuracy: 0.68 - ETA: 0s - loss: 0.5689 - accuracy: 0.69 - ETA: 0s - loss: 0.5708 - accuracy: 0.68 - ETA: 0s - loss: 0.5703 - accuracy: 0.68 - ETA: 0s - loss: 0.5705 - accuracy: 0.68 - ETA: 0s - loss: 0.5700 - accuracy: 0.68 - 1s 52us/step - loss: 0.5695 - accuracy: 0.6880 - val_loss: 0.7019 - val_accuracy: 0.6256\n",
      "Epoch 78/200\n",
      "15663/15663 [==============================] - ETA: 0s - loss: 0.5663 - accuracy: 0.68 - ETA: 0s - loss: 0.5581 - accuracy: 0.69 - ETA: 0s - loss: 0.5611 - accuracy: 0.69 - ETA: 0s - loss: 0.5658 - accuracy: 0.69 - ETA: 0s - loss: 0.5677 - accuracy: 0.68 - ETA: 0s - loss: 0.5667 - accuracy: 0.68 - ETA: 0s - loss: 0.5670 - accuracy: 0.68 - ETA: 0s - loss: 0.5672 - accuracy: 0.68 - 1s 47us/step - loss: 0.5669 - accuracy: 0.6884 - val_loss: 0.7016 - val_accuracy: 0.6251\n",
      "Epoch 79/200\n"
     ]
    },
    {
     "name": "stdout",
     "output_type": "stream",
     "text": [
      "15663/15663 [==============================] - ETA: 0s - loss: 0.5650 - accuracy: 0.67 - ETA: 0s - loss: 0.5728 - accuracy: 0.67 - ETA: 0s - loss: 0.5659 - accuracy: 0.68 - ETA: 0s - loss: 0.5693 - accuracy: 0.67 - ETA: 0s - loss: 0.5670 - accuracy: 0.68 - ETA: 0s - loss: 0.5666 - accuracy: 0.68 - ETA: 0s - loss: 0.5653 - accuracy: 0.68 - ETA: 0s - loss: 0.5645 - accuracy: 0.68 - 1s 49us/step - loss: 0.5645 - accuracy: 0.6886 - val_loss: 0.7011 - val_accuracy: 0.6251\n",
      "Epoch 80/200\n",
      "15663/15663 [==============================] - ETA: 0s - loss: 0.5654 - accuracy: 0.68 - ETA: 0s - loss: 0.5616 - accuracy: 0.69 - ETA: 0s - loss: 0.5666 - accuracy: 0.68 - ETA: 0s - loss: 0.5632 - accuracy: 0.68 - ETA: 0s - loss: 0.5612 - accuracy: 0.68 - ETA: 0s - loss: 0.5634 - accuracy: 0.68 - ETA: 0s - loss: 0.5612 - accuracy: 0.68 - ETA: 0s - loss: 0.5616 - accuracy: 0.68 - 1s 47us/step - loss: 0.5620 - accuracy: 0.6889 - val_loss: 0.6995 - val_accuracy: 0.6256\n",
      "Epoch 81/200\n",
      "15663/15663 [==============================] - ETA: 0s - loss: 0.5689 - accuracy: 0.68 - ETA: 0s - loss: 0.5503 - accuracy: 0.69 - ETA: 0s - loss: 0.5569 - accuracy: 0.69 - ETA: 0s - loss: 0.5610 - accuracy: 0.68 - ETA: 0s - loss: 0.5582 - accuracy: 0.69 - ETA: 0s - loss: 0.5593 - accuracy: 0.69 - ETA: 0s - loss: 0.5602 - accuracy: 0.68 - ETA: 0s - loss: 0.5594 - accuracy: 0.68 - 1s 47us/step - loss: 0.5598 - accuracy: 0.6889 - val_loss: 0.7001 - val_accuracy: 0.6241\n",
      "Epoch 82/200\n",
      "15663/15663 [==============================] - ETA: 0s - loss: 0.5798 - accuracy: 0.64 - ETA: 0s - loss: 0.5686 - accuracy: 0.67 - ETA: 0s - loss: 0.5658 - accuracy: 0.67 - ETA: 0s - loss: 0.5630 - accuracy: 0.68 - ETA: 0s - loss: 0.5629 - accuracy: 0.68 - ETA: 0s - loss: 0.5607 - accuracy: 0.68 - ETA: 0s - loss: 0.5603 - accuracy: 0.68 - ETA: 0s - loss: 0.5581 - accuracy: 0.68 - 1s 49us/step - loss: 0.5576 - accuracy: 0.6891 - val_loss: 0.6975 - val_accuracy: 0.6261\n",
      "Epoch 83/200\n",
      "15663/15663 [==============================] - ETA: 0s - loss: 0.5640 - accuracy: 0.69 - ETA: 0s - loss: 0.5592 - accuracy: 0.69 - ETA: 0s - loss: 0.5591 - accuracy: 0.69 - ETA: 0s - loss: 0.5595 - accuracy: 0.69 - ETA: 0s - loss: 0.5601 - accuracy: 0.69 - ETA: 0s - loss: 0.5596 - accuracy: 0.69 - ETA: 0s - loss: 0.5565 - accuracy: 0.69 - ETA: 0s - loss: 0.5558 - accuracy: 0.68 - 1s 48us/step - loss: 0.5555 - accuracy: 0.6893 - val_loss: 0.6958 - val_accuracy: 0.6251\n",
      "Epoch 84/200\n",
      "15663/15663 [==============================] - ETA: 0s - loss: 0.5355 - accuracy: 0.71 - ETA: 0s - loss: 0.5501 - accuracy: 0.69 - ETA: 0s - loss: 0.5502 - accuracy: 0.69 - ETA: 0s - loss: 0.5519 - accuracy: 0.69 - ETA: 0s - loss: 0.5548 - accuracy: 0.69 - ETA: 0s - loss: 0.5554 - accuracy: 0.69 - ETA: 0s - loss: 0.5544 - accuracy: 0.69 - ETA: 0s - loss: 0.5545 - accuracy: 0.69 - 1s 47us/step - loss: 0.5535 - accuracy: 0.6898 - val_loss: 0.6939 - val_accuracy: 0.6259\n",
      "Epoch 85/200\n",
      "15663/15663 [==============================] - ETA: 0s - loss: 0.5554 - accuracy: 0.69 - ETA: 0s - loss: 0.5511 - accuracy: 0.68 - ETA: 0s - loss: 0.5535 - accuracy: 0.68 - ETA: 0s - loss: 0.5523 - accuracy: 0.68 - ETA: 0s - loss: 0.5524 - accuracy: 0.68 - ETA: 0s - loss: 0.5524 - accuracy: 0.68 - ETA: 0s - loss: 0.5513 - accuracy: 0.68 - ETA: 0s - loss: 0.5510 - accuracy: 0.69 - 1s 49us/step - loss: 0.5514 - accuracy: 0.6900 - val_loss: 0.6931 - val_accuracy: 0.6259\n",
      "Epoch 86/200\n",
      "15663/15663 [==============================] - ETA: 0s - loss: 0.5394 - accuracy: 0.68 - ETA: 0s - loss: 0.5427 - accuracy: 0.68 - ETA: 0s - loss: 0.5494 - accuracy: 0.68 - ETA: 0s - loss: 0.5492 - accuracy: 0.68 - ETA: 0s - loss: 0.5493 - accuracy: 0.68 - ETA: 0s - loss: 0.5478 - accuracy: 0.68 - ETA: 0s - loss: 0.5495 - accuracy: 0.68 - ETA: 0s - loss: 0.5487 - accuracy: 0.68 - ETA: 0s - loss: 0.5505 - accuracy: 0.68 - ETA: 0s - loss: 0.5490 - accuracy: 0.68 - ETA: 0s - loss: 0.5484 - accuracy: 0.69 - ETA: 0s - loss: 0.5489 - accuracy: 0.68 - ETA: 0s - loss: 0.5490 - accuracy: 0.68 - 1s 57us/step - loss: 0.5495 - accuracy: 0.6900 - val_loss: 0.6926 - val_accuracy: 0.6256\n",
      "Epoch 87/200\n",
      "15663/15663 [==============================] - ETA: 0s - loss: 0.5453 - accuracy: 0.70 - ETA: 0s - loss: 0.5456 - accuracy: 0.68 - ETA: 0s - loss: 0.5434 - accuracy: 0.69 - ETA: 0s - loss: 0.5495 - accuracy: 0.68 - ETA: 0s - loss: 0.5440 - accuracy: 0.69 - ETA: 0s - loss: 0.5481 - accuracy: 0.68 - ETA: 0s - loss: 0.5476 - accuracy: 0.69 - ETA: 0s - loss: 0.5479 - accuracy: 0.69 - ETA: 0s - loss: 0.5464 - accuracy: 0.69 - ETA: 0s - loss: 0.5477 - accuracy: 0.69 - 1s 51us/step - loss: 0.5479 - accuracy: 0.6902 - val_loss: 0.6915 - val_accuracy: 0.6261\n",
      "Epoch 88/200\n",
      "15663/15663 [==============================] - ETA: 0s - loss: 0.5468 - accuracy: 0.68 - ETA: 0s - loss: 0.5456 - accuracy: 0.68 - ETA: 0s - loss: 0.5474 - accuracy: 0.68 - ETA: 0s - loss: 0.5483 - accuracy: 0.69 - ETA: 0s - loss: 0.5482 - accuracy: 0.68 - ETA: 0s - loss: 0.5458 - accuracy: 0.68 - ETA: 0s - loss: 0.5445 - accuracy: 0.69 - ETA: 0s - loss: 0.5463 - accuracy: 0.68 - ETA: 0s - loss: 0.5461 - accuracy: 0.69 - 1s 50us/step - loss: 0.5461 - accuracy: 0.6904 - val_loss: 0.6908 - val_accuracy: 0.6259\n",
      "Epoch 89/200\n",
      "15663/15663 [==============================] - ETA: 0s - loss: 0.5559 - accuracy: 0.70 - ETA: 0s - loss: 0.5503 - accuracy: 0.68 - ETA: 0s - loss: 0.5476 - accuracy: 0.68 - ETA: 0s - loss: 0.5463 - accuracy: 0.68 - ETA: 0s - loss: 0.5464 - accuracy: 0.68 - ETA: 0s - loss: 0.5476 - accuracy: 0.68 - ETA: 0s - loss: 0.5471 - accuracy: 0.68 - ETA: 0s - loss: 0.5469 - accuracy: 0.68 - ETA: 0s - loss: 0.5453 - accuracy: 0.69 - ETA: 0s - loss: 0.5460 - accuracy: 0.69 - ETA: 0s - loss: 0.5453 - accuracy: 0.69 - ETA: 0s - loss: 0.5447 - accuracy: 0.69 - 1s 56us/step - loss: 0.5444 - accuracy: 0.6906 - val_loss: 0.6918 - val_accuracy: 0.6267\n",
      "Epoch 90/200\n",
      "15663/15663 [==============================] - ETA: 0s - loss: 0.5393 - accuracy: 0.70 - ETA: 0s - loss: 0.5377 - accuracy: 0.69 - ETA: 0s - loss: 0.5408 - accuracy: 0.69 - ETA: 0s - loss: 0.5379 - accuracy: 0.69 - ETA: 0s - loss: 0.5349 - accuracy: 0.69 - ETA: 0s - loss: 0.5411 - accuracy: 0.68 - ETA: 0s - loss: 0.5412 - accuracy: 0.68 - ETA: 0s - loss: 0.5403 - accuracy: 0.68 - ETA: 0s - loss: 0.5417 - accuracy: 0.68 - ETA: 0s - loss: 0.5418 - accuracy: 0.69 - ETA: 0s - loss: 0.5426 - accuracy: 0.69 - 1s 53us/step - loss: 0.5429 - accuracy: 0.6907 - val_loss: 0.6916 - val_accuracy: 0.6267\n"
     ]
    }
   ],
   "source": [
    "hist2 = model2.fit(x_train, y_train, batch_size=1000, validation_data=(x_test, y_test), epochs=200,\n",
    "                 callbacks=[EarlyStopping(patience=2, monitor='val_loss')])"
   ]
  },
  {
   "cell_type": "code",
   "execution_count": 216,
   "metadata": {},
   "outputs": [],
   "source": [
    "model3 = Sequential()\n",
    "model3.add(Embedding(input_dim=input_dim, output_dim=20))\n",
    "model3.add(GlobalAveragePooling1D())\n",
    "model3.add(Dense(4, activation='softmax'))\n",
    "model3.add(Dense(5, activation='softmax'))\n",
    "model3.add(Dense(4, activation='softmax'))\n",
    "model3.add(Dense(3, activation='softmax'))\n",
    "model3.compile(loss='categorical_crossentropy', optimizer='adam', metrics=['accuracy'])"
   ]
  },
  {
   "cell_type": "code",
   "execution_count": 217,
   "metadata": {},
   "outputs": [
    {
     "name": "stderr",
     "output_type": "stream",
     "text": [
      "C:\\ProgramData\\Anaconda3\\lib\\site-packages\\tensorflow_core\\python\\framework\\indexed_slices.py:424: UserWarning: Converting sparse IndexedSlices to a dense Tensor of unknown shape. This may consume a large amount of memory.\n",
      "  \"Converting sparse IndexedSlices to a dense Tensor of unknown shape. \"\n"
     ]
    },
    {
     "name": "stdout",
     "output_type": "stream",
     "text": [
      "Train on 15663 samples, validate on 3916 samples\n",
      "Epoch 1/200\n",
      "15663/15663 [==============================] - ETA: 2s - loss: 1.1155 - accuracy: 0.29 - ETA: 0s - loss: 1.1134 - accuracy: 0.30 - ETA: 0s - loss: 1.1130 - accuracy: 0.29 - ETA: 0s - loss: 1.1124 - accuracy: 0.28 - ETA: 0s - loss: 1.1118 - accuracy: 0.28 - ETA: 0s - loss: 1.1110 - accuracy: 0.28 - ETA: 0s - loss: 1.1106 - accuracy: 0.28 - ETA: 0s - loss: 1.1098 - accuracy: 0.28 - 1s 55us/step - loss: 1.1097 - accuracy: 0.2883 - val_loss: 1.1049 - val_accuracy: 0.2858\n",
      "Epoch 2/200\n",
      "15663/15663 [==============================] - ETA: 0s - loss: 1.1052 - accuracy: 0.30 - ETA: 0s - loss: 1.1053 - accuracy: 0.28 - ETA: 0s - loss: 1.1045 - accuracy: 0.28 - ETA: 0s - loss: 1.1041 - accuracy: 0.29 - ETA: 0s - loss: 1.1037 - accuracy: 0.29 - ETA: 0s - loss: 1.1033 - accuracy: 0.28 - ETA: 0s - loss: 1.1029 - accuracy: 0.28 - ETA: 0s - loss: 1.1025 - accuracy: 0.28 - 1s 49us/step - loss: 1.1024 - accuracy: 0.2892 - val_loss: 1.0990 - val_accuracy: 0.3156\n",
      "Epoch 3/200\n",
      "15663/15663 [==============================] - ETA: 0s - loss: 1.0990 - accuracy: 0.31 - ETA: 0s - loss: 1.0988 - accuracy: 0.31 - ETA: 0s - loss: 1.0987 - accuracy: 0.33 - ETA: 0s - loss: 1.0984 - accuracy: 0.36 - ETA: 0s - loss: 1.0980 - accuracy: 0.38 - ETA: 0s - loss: 1.0977 - accuracy: 0.38 - ETA: 0s - loss: 1.0974 - accuracy: 0.39 - ETA: 0s - loss: 1.0970 - accuracy: 0.39 - ETA: 0s - loss: 1.0969 - accuracy: 0.39 - 1s 49us/step - loss: 1.0968 - accuracy: 0.3940 - val_loss: 1.0948 - val_accuracy: 0.3971\n",
      "Epoch 4/200\n",
      "15663/15663 [==============================] - ETA: 0s - loss: 1.0955 - accuracy: 0.39 - ETA: 0s - loss: 1.0940 - accuracy: 0.40 - ETA: 0s - loss: 1.0936 - accuracy: 0.40 - ETA: 0s - loss: 1.0938 - accuracy: 0.40 - ETA: 0s - loss: 1.0936 - accuracy: 0.40 - ETA: 0s - loss: 1.0938 - accuracy: 0.40 - ETA: 0s - loss: 1.0935 - accuracy: 0.40 - ETA: 0s - loss: 1.0933 - accuracy: 0.40 - 1s 49us/step - loss: 1.0928 - accuracy: 0.4051 - val_loss: 1.0921 - val_accuracy: 0.3971\n",
      "Epoch 5/200\n",
      "15663/15663 [==============================] - ETA: 0s - loss: 1.0904 - accuracy: 0.41 - ETA: 0s - loss: 1.0912 - accuracy: 0.40 - ETA: 0s - loss: 1.0902 - accuracy: 0.41 - ETA: 0s - loss: 1.0903 - accuracy: 0.40 - ETA: 0s - loss: 1.0900 - accuracy: 0.41 - ETA: 0s - loss: 1.0900 - accuracy: 0.40 - ETA: 0s - loss: 1.0900 - accuracy: 0.40 - ETA: 0s - loss: 1.0901 - accuracy: 0.40 - ETA: 0s - loss: 1.0903 - accuracy: 0.40 - 1s 49us/step - loss: 1.0904 - accuracy: 0.4051 - val_loss: 1.0904 - val_accuracy: 0.3971\n",
      "Epoch 6/200\n",
      "15663/15663 [==============================] - ETA: 0s - loss: 1.0918 - accuracy: 0.38 - ETA: 0s - loss: 1.0904 - accuracy: 0.39 - ETA: 0s - loss: 1.0899 - accuracy: 0.39 - ETA: 0s - loss: 1.0891 - accuracy: 0.40 - ETA: 0s - loss: 1.0886 - accuracy: 0.40 - ETA: 0s - loss: 1.0882 - accuracy: 0.40 - ETA: 0s - loss: 1.0882 - accuracy: 0.40 - ETA: 0s - loss: 1.0884 - accuracy: 0.40 - ETA: 0s - loss: 1.0884 - accuracy: 0.40 - 1s 51us/step - loss: 1.0887 - accuracy: 0.4051 - val_loss: 1.0896 - val_accuracy: 0.3971\n",
      "Epoch 7/200\n",
      "15663/15663 [==============================] - ETA: 0s - loss: 1.0866 - accuracy: 0.41 - ETA: 0s - loss: 1.0888 - accuracy: 0.40 - ETA: 0s - loss: 1.0887 - accuracy: 0.40 - ETA: 0s - loss: 1.0882 - accuracy: 0.40 - ETA: 0s - loss: 1.0878 - accuracy: 0.40 - ETA: 0s - loss: 1.0879 - accuracy: 0.40 - ETA: 0s - loss: 1.0881 - accuracy: 0.40 - ETA: 0s - loss: 1.0881 - accuracy: 0.40 - ETA: 0s - loss: 1.0876 - accuracy: 0.40 - ETA: 0s - loss: 1.0880 - accuracy: 0.40 - 1s 52us/step - loss: 1.0879 - accuracy: 0.4051 - val_loss: 1.0892 - val_accuracy: 0.3971\n",
      "Epoch 8/200\n",
      "15663/15663 [==============================] - ETA: 0s - loss: 1.0867 - accuracy: 0.40 - ETA: 0s - loss: 1.0868 - accuracy: 0.40 - ETA: 0s - loss: 1.0865 - accuracy: 0.40 - ETA: 0s - loss: 1.0869 - accuracy: 0.40 - ETA: 0s - loss: 1.0873 - accuracy: 0.40 - ETA: 0s - loss: 1.0865 - accuracy: 0.40 - ETA: 0s - loss: 1.0867 - accuracy: 0.40 - ETA: 0s - loss: 1.0872 - accuracy: 0.40 - 1s 49us/step - loss: 1.0874 - accuracy: 0.4051 - val_loss: 1.0891 - val_accuracy: 0.3971\n",
      "Epoch 9/200\n",
      "15663/15663 [==============================] - ETA: 0s - loss: 1.0863 - accuracy: 0.40 - ETA: 0s - loss: 1.0903 - accuracy: 0.39 - ETA: 0s - loss: 1.0889 - accuracy: 0.39 - ETA: 0s - loss: 1.0884 - accuracy: 0.39 - ETA: 0s - loss: 1.0872 - accuracy: 0.40 - ETA: 0s - loss: 1.0874 - accuracy: 0.40 - ETA: 0s - loss: 1.0878 - accuracy: 0.40 - ETA: 0s - loss: 1.0876 - accuracy: 0.40 - 1s 49us/step - loss: 1.0872 - accuracy: 0.4051 - val_loss: 1.0890 - val_accuracy: 0.3971\n",
      "Epoch 10/200\n",
      "15663/15663 [==============================] - ETA: 0s - loss: 1.0890 - accuracy: 0.39 - ETA: 0s - loss: 1.0864 - accuracy: 0.40 - ETA: 0s - loss: 1.0858 - accuracy: 0.40 - ETA: 0s - loss: 1.0864 - accuracy: 0.40 - ETA: 0s - loss: 1.0883 - accuracy: 0.39 - ETA: 0s - loss: 1.0880 - accuracy: 0.40 - ETA: 0s - loss: 1.0883 - accuracy: 0.40 - ETA: 0s - loss: 1.0872 - accuracy: 0.40 - ETA: 0s - loss: 1.0875 - accuracy: 0.40 - ETA: 0s - loss: 1.0870 - accuracy: 0.40 - 1s 53us/step - loss: 1.0871 - accuracy: 0.4051 - val_loss: 1.0890 - val_accuracy: 0.3971\n",
      "Epoch 11/200\n",
      "15663/15663 [==============================] - ETA: 0s - loss: 1.0919 - accuracy: 0.39 - ETA: 0s - loss: 1.0860 - accuracy: 0.41 - ETA: 0s - loss: 1.0871 - accuracy: 0.40 - ETA: 0s - loss: 1.0882 - accuracy: 0.40 - ETA: 0s - loss: 1.0878 - accuracy: 0.40 - ETA: 0s - loss: 1.0869 - accuracy: 0.40 - ETA: 0s - loss: 1.0862 - accuracy: 0.40 - ETA: 0s - loss: 1.0870 - accuracy: 0.40 - ETA: 0s - loss: 1.0873 - accuracy: 0.40 - ETA: 0s - loss: 1.0872 - accuracy: 0.40 - 1s 51us/step - loss: 1.0871 - accuracy: 0.4051 - val_loss: 1.0891 - val_accuracy: 0.3971\n"
     ]
    }
   ],
   "source": [
    "hist3 = model3.fit(x_train, y_train, batch_size=1000, validation_data=(x_test, y_test), epochs=200,\n",
    "                 callbacks=[EarlyStopping(patience=2, monitor='val_loss')])"
   ]
  },
  {
   "cell_type": "code",
   "execution_count": 218,
   "metadata": {},
   "outputs": [],
   "source": [
    "model4 = Sequential()\n",
    "model4.add(Embedding(input_dim=input_dim, output_dim=20))\n",
    "model4.add(GlobalAveragePooling1D())\n",
    "model4.add(Dense(3, activation='softmax'))\n",
    "model4.add(Dense(4, activation='softmax'))\n",
    "model4.add(Dense(5, activation='softmax'))\n",
    "model4.add(Dense(4, activation='softmax'))\n",
    "model4.add(Dense(3, activation='softmax'))\n",
    "model4.compile(loss='categorical_crossentropy', optimizer='adam', metrics=['accuracy'])"
   ]
  },
  {
   "cell_type": "code",
   "execution_count": 219,
   "metadata": {},
   "outputs": [
    {
     "name": "stderr",
     "output_type": "stream",
     "text": [
      "C:\\ProgramData\\Anaconda3\\lib\\site-packages\\tensorflow_core\\python\\framework\\indexed_slices.py:424: UserWarning: Converting sparse IndexedSlices to a dense Tensor of unknown shape. This may consume a large amount of memory.\n",
      "  \"Converting sparse IndexedSlices to a dense Tensor of unknown shape. \"\n"
     ]
    },
    {
     "name": "stdout",
     "output_type": "stream",
     "text": [
      "Train on 15663 samples, validate on 3916 samples\n",
      "Epoch 1/200\n",
      "15663/15663 [==============================] - ETA: 2s - loss: 1.1280 - accuracy: 0.29 - ETA: 1s - loss: 1.1253 - accuracy: 0.30 - ETA: 0s - loss: 1.1245 - accuracy: 0.30 - ETA: 0s - loss: 1.1219 - accuracy: 0.30 - ETA: 0s - loss: 1.1215 - accuracy: 0.30 - ETA: 0s - loss: 1.1216 - accuracy: 0.30 - ETA: 0s - loss: 1.1217 - accuracy: 0.30 - ETA: 0s - loss: 1.1212 - accuracy: 0.30 - ETA: 0s - loss: 1.1209 - accuracy: 0.30 - 1s 58us/step - loss: 1.1204 - accuracy: 0.3066 - val_loss: 1.1122 - val_accuracy: 0.3172\n",
      "Epoch 2/200\n",
      "15663/15663 [==============================] - ETA: 0s - loss: 1.1189 - accuracy: 0.29 - ETA: 0s - loss: 1.1151 - accuracy: 0.30 - ETA: 0s - loss: 1.1149 - accuracy: 0.30 - ETA: 0s - loss: 1.1144 - accuracy: 0.30 - ETA: 0s - loss: 1.1147 - accuracy: 0.30 - ETA: 0s - loss: 1.1126 - accuracy: 0.30 - ETA: 0s - loss: 1.1128 - accuracy: 0.30 - ETA: 0s - loss: 1.1127 - accuracy: 0.30 - ETA: 0s - loss: 1.1122 - accuracy: 0.30 - ETA: 0s - loss: 1.1119 - accuracy: 0.30 - 1s 50us/step - loss: 1.1117 - accuracy: 0.3066 - val_loss: 1.1052 - val_accuracy: 0.3172\n",
      "Epoch 3/200\n",
      "15663/15663 [==============================] - ETA: 0s - loss: 1.1046 - accuracy: 0.31 - ETA: 0s - loss: 1.1043 - accuracy: 0.31 - ETA: 0s - loss: 1.1060 - accuracy: 0.31 - ETA: 0s - loss: 1.1058 - accuracy: 0.30 - ETA: 0s - loss: 1.1050 - accuracy: 0.31 - ETA: 0s - loss: 1.1046 - accuracy: 0.31 - ETA: 0s - loss: 1.1047 - accuracy: 0.31 - ETA: 0s - loss: 1.1044 - accuracy: 0.31 - ETA: 0s - loss: 1.1046 - accuracy: 0.30 - 1s 50us/step - loss: 1.1047 - accuracy: 0.3066 - val_loss: 1.1000 - val_accuracy: 0.3172\n",
      "Epoch 4/200\n",
      "15663/15663 [==============================] - ETA: 0s - loss: 1.1020 - accuracy: 0.30 - ETA: 0s - loss: 1.0993 - accuracy: 0.30 - ETA: 0s - loss: 1.1005 - accuracy: 0.30 - ETA: 0s - loss: 1.1010 - accuracy: 0.30 - ETA: 0s - loss: 1.1006 - accuracy: 0.30 - ETA: 0s - loss: 1.1007 - accuracy: 0.30 - ETA: 0s - loss: 1.1006 - accuracy: 0.30 - ETA: 0s - loss: 1.1004 - accuracy: 0.30 - ETA: 0s - loss: 1.1008 - accuracy: 0.30 - ETA: 0s - loss: 1.1008 - accuracy: 0.30 - ETA: 0s - loss: 1.1001 - accuracy: 0.30 - ETA: 0s - loss: 1.0998 - accuracy: 0.30 - 1s 53us/step - loss: 1.0995 - accuracy: 0.3066 - val_loss: 1.0960 - val_accuracy: 0.3172\n",
      "Epoch 5/200\n",
      "15663/15663 [==============================] - ETA: 0s - loss: 1.0915 - accuracy: 0.31 - ETA: 0s - loss: 1.0926 - accuracy: 0.31 - ETA: 0s - loss: 1.0950 - accuracy: 0.31 - ETA: 0s - loss: 1.0952 - accuracy: 0.31 - ETA: 0s - loss: 1.0945 - accuracy: 0.31 - ETA: 0s - loss: 1.0945 - accuracy: 0.31 - ETA: 0s - loss: 1.0946 - accuracy: 0.31 - ETA: 0s - loss: 1.0948 - accuracy: 0.31 - ETA: 0s - loss: 1.0955 - accuracy: 0.30 - ETA: 0s - loss: 1.0958 - accuracy: 0.30 - ETA: 0s - loss: 1.0958 - accuracy: 0.30 - ETA: 0s - loss: 1.0955 - accuracy: 0.30 - ETA: 0s - loss: 1.0954 - accuracy: 0.30 - 1s 57us/step - loss: 1.0955 - accuracy: 0.3066 - val_loss: 1.0933 - val_accuracy: 0.3971\n",
      "Epoch 6/200\n",
      "15663/15663 [==============================] - ETA: 0s - loss: 1.0913 - accuracy: 0.42 - ETA: 0s - loss: 1.0901 - accuracy: 0.41 - ETA: 0s - loss: 1.0939 - accuracy: 0.40 - ETA: 0s - loss: 1.0942 - accuracy: 0.40 - ETA: 0s - loss: 1.0949 - accuracy: 0.40 - ETA: 0s - loss: 1.0944 - accuracy: 0.40 - ETA: 0s - loss: 1.0943 - accuracy: 0.40 - ETA: 0s - loss: 1.0938 - accuracy: 0.40 - ETA: 0s - loss: 1.0938 - accuracy: 0.40 - ETA: 0s - loss: 1.0933 - accuracy: 0.40 - 1s 52us/step - loss: 1.0927 - accuracy: 0.4051 - val_loss: 1.0915 - val_accuracy: 0.3971\n",
      "Epoch 7/200\n",
      "15663/15663 [==============================] - ETA: 0s - loss: 1.0927 - accuracy: 0.41 - ETA: 0s - loss: 1.0939 - accuracy: 0.39 - ETA: 0s - loss: 1.0938 - accuracy: 0.39 - ETA: 0s - loss: 1.0943 - accuracy: 0.39 - ETA: 0s - loss: 1.0937 - accuracy: 0.39 - ETA: 0s - loss: 1.0921 - accuracy: 0.39 - ETA: 0s - loss: 1.0915 - accuracy: 0.40 - ETA: 0s - loss: 1.0914 - accuracy: 0.39 - ETA: 0s - loss: 1.0914 - accuracy: 0.40 - ETA: 0s - loss: 1.0911 - accuracy: 0.40 - ETA: 0s - loss: 1.0913 - accuracy: 0.40 - ETA: 0s - loss: 1.0912 - accuracy: 0.40 - ETA: 0s - loss: 1.0909 - accuracy: 0.40 - 1s 55us/step - loss: 1.0907 - accuracy: 0.4051 - val_loss: 1.0903 - val_accuracy: 0.3971\n",
      "Epoch 8/200\n",
      "15663/15663 [==============================] - ETA: 0s - loss: 1.0903 - accuracy: 0.39 - ETA: 0s - loss: 1.0912 - accuracy: 0.39 - ETA: 0s - loss: 1.0900 - accuracy: 0.40 - ETA: 0s - loss: 1.0895 - accuracy: 0.40 - ETA: 0s - loss: 1.0905 - accuracy: 0.40 - ETA: 0s - loss: 1.0893 - accuracy: 0.40 - ETA: 0s - loss: 1.0897 - accuracy: 0.40 - ETA: 0s - loss: 1.0892 - accuracy: 0.40 - 1s 49us/step - loss: 1.0894 - accuracy: 0.4051 - val_loss: 1.0896 - val_accuracy: 0.3971\n",
      "Epoch 9/200\n",
      "15663/15663 [==============================] - ETA: 0s - loss: 1.0880 - accuracy: 0.39 - ETA: 0s - loss: 1.0892 - accuracy: 0.40 - ETA: 0s - loss: 1.0880 - accuracy: 0.40 - ETA: 0s - loss: 1.0885 - accuracy: 0.40 - ETA: 0s - loss: 1.0883 - accuracy: 0.40 - ETA: 0s - loss: 1.0890 - accuracy: 0.40 - ETA: 0s - loss: 1.0893 - accuracy: 0.40 - ETA: 0s - loss: 1.0891 - accuracy: 0.40 - ETA: 0s - loss: 1.0888 - accuracy: 0.40 - 1s 51us/step - loss: 1.0885 - accuracy: 0.4051 - val_loss: 1.0892 - val_accuracy: 0.3971\n",
      "Epoch 10/200\n",
      "15663/15663 [==============================] - ETA: 0s - loss: 1.0869 - accuracy: 0.40 - ETA: 0s - loss: 1.0904 - accuracy: 0.39 - ETA: 0s - loss: 1.0882 - accuracy: 0.40 - ETA: 0s - loss: 1.0880 - accuracy: 0.40 - ETA: 0s - loss: 1.0887 - accuracy: 0.40 - ETA: 0s - loss: 1.0888 - accuracy: 0.40 - ETA: 0s - loss: 1.0886 - accuracy: 0.40 - ETA: 0s - loss: 1.0881 - accuracy: 0.40 - ETA: 0s - loss: 1.0878 - accuracy: 0.40 - ETA: 0s - loss: 1.0878 - accuracy: 0.40 - 1s 49us/step - loss: 1.0879 - accuracy: 0.4051 - val_loss: 1.0890 - val_accuracy: 0.3971\n",
      "Epoch 11/200\n",
      "15663/15663 [==============================] - ETA: 0s - loss: 1.0870 - accuracy: 0.40 - ETA: 0s - loss: 1.0887 - accuracy: 0.40 - ETA: 0s - loss: 1.0881 - accuracy: 0.40 - ETA: 0s - loss: 1.0887 - accuracy: 0.40 - ETA: 0s - loss: 1.0882 - accuracy: 0.40 - ETA: 0s - loss: 1.0884 - accuracy: 0.40 - ETA: 0s - loss: 1.0888 - accuracy: 0.40 - ETA: 0s - loss: 1.0885 - accuracy: 0.40 - ETA: 0s - loss: 1.0880 - accuracy: 0.40 - 1s 48us/step - loss: 1.0876 - accuracy: 0.4051 - val_loss: 1.0889 - val_accuracy: 0.3971\n",
      "Epoch 12/200\n",
      "15663/15663 [==============================] - ETA: 0s - loss: 1.0935 - accuracy: 0.37 - ETA: 0s - loss: 1.0897 - accuracy: 0.39 - ETA: 0s - loss: 1.0884 - accuracy: 0.40 - ETA: 0s - loss: 1.0889 - accuracy: 0.40 - ETA: 0s - loss: 1.0885 - accuracy: 0.40 - ETA: 0s - loss: 1.0881 - accuracy: 0.40 - ETA: 0s - loss: 1.0881 - accuracy: 0.40 - ETA: 0s - loss: 1.0874 - accuracy: 0.40 - 1s 46us/step - loss: 1.0874 - accuracy: 0.4051 - val_loss: 1.0889 - val_accuracy: 0.3971\n",
      "Epoch 13/200\n",
      "15663/15663 [==============================] - ETA: 0s - loss: 1.0844 - accuracy: 0.40 - ETA: 0s - loss: 1.0873 - accuracy: 0.40 - ETA: 0s - loss: 1.0871 - accuracy: 0.40 - ETA: 0s - loss: 1.0872 - accuracy: 0.40 - ETA: 0s - loss: 1.0876 - accuracy: 0.40 - ETA: 0s - loss: 1.0887 - accuracy: 0.40 - ETA: 0s - loss: 1.0880 - accuracy: 0.40 - ETA: 0s - loss: 1.0877 - accuracy: 0.40 - 1s 46us/step - loss: 1.0873 - accuracy: 0.4051 - val_loss: 1.0889 - val_accuracy: 0.3971\n",
      "Epoch 14/200\n",
      "15663/15663 [==============================] - ETA: 0s - loss: 1.0814 - accuracy: 0.42 - ETA: 0s - loss: 1.0823 - accuracy: 0.42 - ETA: 0s - loss: 1.0859 - accuracy: 0.40 - ETA: 0s - loss: 1.0860 - accuracy: 0.40 - ETA: 0s - loss: 1.0868 - accuracy: 0.40 - ETA: 0s - loss: 1.0875 - accuracy: 0.40 - ETA: 0s - loss: 1.0870 - accuracy: 0.40 - ETA: 0s - loss: 1.0874 - accuracy: 0.40 - 1s 45us/step - loss: 1.0872 - accuracy: 0.4051 - val_loss: 1.0890 - val_accuracy: 0.3971\n"
     ]
    }
   ],
   "source": [
    "hist4 = model4.fit(x_train, y_train, batch_size=1000, validation_data=(x_test, y_test), epochs=200,\n",
    "                 callbacks=[EarlyStopping(patience=2, monitor='val_loss')])"
   ]
  },
  {
   "cell_type": "code",
   "execution_count": 237,
   "metadata": {},
   "outputs": [],
   "source": [
    "model5 = Sequential()\n",
    "model5.add(Embedding(input_dim=input_dim, output_dim=20))\n",
    "model5.add(GlobalAveragePooling1D())\n",
    "model5.add(Dense(2, activation='softmax'))\n",
    "model5.add(Dense(3, activation='softmax'))\n",
    "model5.add(Dense(4, activation='softmax'))\n",
    "model5.add(Dense(5, activation='softmax'))\n",
    "model5.add(Dense(4, activation='softmax'))\n",
    "model5.add(Dense(3, activation='softmax'))\n",
    "model5.compile(loss='categorical_crossentropy', optimizer='adam', metrics=['accuracy'])"
   ]
  },
  {
   "cell_type": "code",
   "execution_count": 238,
   "metadata": {},
   "outputs": [
    {
     "name": "stderr",
     "output_type": "stream",
     "text": [
      "C:\\ProgramData\\Anaconda3\\lib\\site-packages\\tensorflow_core\\python\\framework\\indexed_slices.py:424: UserWarning: Converting sparse IndexedSlices to a dense Tensor of unknown shape. This may consume a large amount of memory.\n",
      "  \"Converting sparse IndexedSlices to a dense Tensor of unknown shape. \"\n"
     ]
    },
    {
     "name": "stdout",
     "output_type": "stream",
     "text": [
      "Train on 15663 samples, validate on 3916 samples\n",
      "Epoch 1/200\n",
      "15663/15663 [==============================] - ETA: 2s - loss: 1.0895 - accuracy: 0.41 - ETA: 1s - loss: 1.0898 - accuracy: 0.40 - ETA: 0s - loss: 1.0877 - accuracy: 0.41 - ETA: 0s - loss: 1.0886 - accuracy: 0.40 - ETA: 0s - loss: 1.0892 - accuracy: 0.40 - ETA: 0s - loss: 1.0884 - accuracy: 0.40 - ETA: 0s - loss: 1.0890 - accuracy: 0.40 - ETA: 0s - loss: 1.0887 - accuracy: 0.40 - 1s 56us/step - loss: 1.0887 - accuracy: 0.4051 - val_loss: 1.0891 - val_accuracy: 0.3971\n",
      "Epoch 2/200\n",
      "15663/15663 [==============================] - ETA: 0s - loss: 1.0915 - accuracy: 0.39 - ETA: 0s - loss: 1.0925 - accuracy: 0.38 - ETA: 0s - loss: 1.0908 - accuracy: 0.39 - ETA: 0s - loss: 1.0904 - accuracy: 0.39 - ETA: 0s - loss: 1.0887 - accuracy: 0.40 - ETA: 0s - loss: 1.0886 - accuracy: 0.40 - ETA: 0s - loss: 1.0880 - accuracy: 0.40 - ETA: 0s - loss: 1.0872 - accuracy: 0.40 - 1s 47us/step - loss: 1.0873 - accuracy: 0.4051 - val_loss: 1.0890 - val_accuracy: 0.3971\n",
      "Epoch 3/200\n",
      "15663/15663 [==============================] - ETA: 0s - loss: 1.0923 - accuracy: 0.38 - ETA: 0s - loss: 1.0869 - accuracy: 0.40 - ETA: 0s - loss: 1.0877 - accuracy: 0.40 - ETA: 0s - loss: 1.0875 - accuracy: 0.40 - ETA: 0s - loss: 1.0875 - accuracy: 0.40 - ETA: 0s - loss: 1.0871 - accuracy: 0.40 - ETA: 0s - loss: 1.0876 - accuracy: 0.40 - ETA: 0s - loss: 1.0874 - accuracy: 0.40 - 1s 47us/step - loss: 1.0871 - accuracy: 0.4051 - val_loss: 1.0891 - val_accuracy: 0.3971\n",
      "Epoch 4/200\n",
      "15663/15663 [==============================] - ETA: 0s - loss: 1.0953 - accuracy: 0.37 - ETA: 0s - loss: 1.0866 - accuracy: 0.40 - ETA: 0s - loss: 1.0882 - accuracy: 0.40 - ETA: 0s - loss: 1.0871 - accuracy: 0.40 - ETA: 0s - loss: 1.0875 - accuracy: 0.40 - ETA: 0s - loss: 1.0867 - accuracy: 0.40 - ETA: 0s - loss: 1.0873 - accuracy: 0.40 - ETA: 0s - loss: 1.0870 - accuracy: 0.40 - ETA: 0s - loss: 1.0870 - accuracy: 0.40 - ETA: 0s - loss: 1.0871 - accuracy: 0.40 - 1s 51us/step - loss: 1.0871 - accuracy: 0.4051 - val_loss: 1.0892 - val_accuracy: 0.3971\n"
     ]
    }
   ],
   "source": [
    "hist5 = model5.fit(x_train, y_train, batch_size=1000, validation_data=(x_test, y_test), epochs=200,\n",
    "                 callbacks=[EarlyStopping(patience=2, monitor='val_loss')])"
   ]
  },
  {
   "cell_type": "code",
   "execution_count": 240,
   "metadata": {},
   "outputs": [
    {
     "name": "stdout",
     "output_type": "stream",
     "text": [
      "3916/3916 [==============================] - ETA:  - ETA:  - 0s 19us/step\n",
      "3916/3916 [==============================] - ETA:  - ETA:  - 0s 17us/step\n",
      "3916/3916 [==============================] - ETA:  - ETA:  - 0s 17us/step\n",
      "3916/3916 [==============================] - ETA:  - ETA:  - 0s 18us/step\n",
      "3916/3916 [==============================] - ETA:  - ETA:  - 0s 18us/step\n",
      "3916/3916 [==============================] - ETA:  - ETA:  - 0s 19us/step\n"
     ]
    }
   ],
   "source": [
    "accuracy = model.evaluate(X_testset, Y_testset)\n",
    "accuracy1 = model1.evaluate(X_testset, Y_testset)\n",
    "accuracy2 = model2.evaluate(X_testset, Y_testset)\n",
    "accuracy3 = model3.evaluate(X_testset, Y_testset)\n",
    "accuracy4 = model4.evaluate(X_testset, Y_testset)\n",
    "accuracy5 = model5.evaluate(X_testset, Y_testset)"
   ]
  },
  {
   "cell_type": "code",
   "execution_count": 242,
   "metadata": {},
   "outputs": [
    {
     "name": "stdout",
     "output_type": "stream",
     "text": [
      "Accuracy for 0 hidden layer: 68.44 %\n",
      "Loss for 0 hidden layer: 57.42 %\n",
      "Accuracy for 1 hidden layer: 96.68 %\n",
      "Loss for 1 hidden layer: 14.65 %\n",
      "Accuracy for 2 hidden layers: 68.34 %\n",
      "Loss for 2 hidden layers: 56.57 %\n",
      "Accuracy for 3 hidden layers: 39.79 %\n",
      "Loss for 3 hidden layers: 108.96 %\n",
      "Accuracy for 4 hidden layers: 39.79 %\n",
      "Loss for 4 hidden layers: 108.98 %\n",
      "Accuracy for 5 hidden layers: 39.79 %\n",
      "Loss for 5 hidden layers: 108.98 %\n"
     ]
    }
   ],
   "source": [
    "print('Accuracy for 0 hidden layer: %.2f' % (accuracy[1]*100),'%')\n",
    "print('Loss for 0 hidden layer: %.2f' % (accuracy[0]*100),'%')\n",
    "print('Accuracy for 1 hidden layer: %.2f' % (accuracy1[1]*100),'%')\n",
    "print('Loss for 1 hidden layer: %.2f' % (accuracy1[0]*100),'%')\n",
    "print('Accuracy for 2 hidden layers: %.2f' % (accuracy2[1]*100),'%')\n",
    "print('Loss for 2 hidden layers: %.2f' % (accuracy2[0]*100),'%')\n",
    "print('Accuracy for 3 hidden layers: %.2f' % (accuracy3[1]*100),'%')\n",
    "print('Loss for 3 hidden layers: %.2f' % (accuracy3[0]*100),'%')\n",
    "print('Accuracy for 4 hidden layers: %.2f' % (accuracy4[1]*100),'%')\n",
    "print('Loss for 4 hidden layers: %.2f' % (accuracy4[0]*100),'%')\n",
    "print('Accuracy for 5 hidden layers: %.2f' % (accuracy5[1]*100),'%')\n",
    "print('Loss for 5 hidden layers: %.2f' % (accuracy5[0]*100),'%')"
   ]
  },
  {
   "cell_type": "code",
   "execution_count": 243,
   "metadata": {},
   "outputs": [],
   "source": [
    "Accuracies ={0:accuracy[1]*100, 1:accuracy1[1]*100, 2:accuracy2[1]*100, 3:accuracy3[1]*100, 4:accuracy4[1]*100,\n",
    "            5:accuracy5[1]*100}"
   ]
  },
  {
   "cell_type": "code",
   "execution_count": 244,
   "metadata": {},
   "outputs": [],
   "source": [
    "import matplotlib.pylab as plt"
   ]
  },
  {
   "cell_type": "code",
   "execution_count": 246,
   "metadata": {},
   "outputs": [
    {
     "data": {
      "image/png": "[encoded data removed]",
      "text/plain": [
       "<Figure size 432x288 with 1 Axes>"
      ]
     },
     "metadata": {
      "needs_background": "light"
     },
     "output_type": "display_data"
    }
   ],
   "source": [
    "lists = sorted(Accuracies.items()) # sorted by key, return a list of tuples\n",
    "x, y = zip(*lists) # unpack a list of pairs into two tuples\n",
    "plt.plot(x, y)\n",
    "plt.title('Accuracies for different depths')\n",
    "plt.ylabel('Accuracy (%)')\n",
    "plt.xlabel('Depth')\n",
    "plt.legend(['Accuracy'], loc='best')\n",
    "plt.show()"
   ]
  },
  {
   "cell_type": "code",
   "execution_count": null,
   "metadata": {},
   "outputs": [],
   "source": [
    "from keras.layers import Dense, Flatten, Activation, Dropout"
   ]
  },
  {
   "cell_type": "code",
   "execution_count": null,
   "metadata": {},
   "outputs": [],
   "source": [
    "model_drop = Sequential()\n",
    "model_drop.add(Dense(12, input_dim=256, activation='sigmoid'))\n",
    "model_drop.add(Dropout(0.2))\n",
    "model_drop.add(Activation('sigmoid'))\n",
    "model_drop.add(Dense(8))\n",
    "model_drop.add(Dropout(0.2))\n",
    "model_drop.add(Activation('sigmoid'))\n",
    "model_drop.add(Dense(3, activation='softmax'))"
   ]
  },
  {
   "cell_type": "code",
   "execution_count": 253,
   "metadata": {},
   "outputs": [],
   "source": [
    "model_drop = Sequential()\n",
    "model_drop.add(Embedding(input_dim=input_dim, output_dim=20))\n",
    "model_drop.add(GlobalAveragePooling1D())\n",
    "model_drop.add(Dropout(0.2))\n",
    "model_drop.add(Dense(4, activation='softmax'))\n",
    "model_drop.add(Dropout(0.2))\n",
    "model_drop.add(Dense(3, activation='softmax'))\n",
    "model_drop.compile(loss='categorical_crossentropy', optimizer='adam', metrics=['accuracy'])"
   ]
  },
  {
   "cell_type": "code",
   "execution_count": 256,
   "metadata": {},
   "outputs": [
    {
     "name": "stdout",
     "output_type": "stream",
     "text": [
      "Train on 15663 samples, validate on 3916 samples\n",
      "Epoch 1/1000\n",
      "15663/15663 [==============================] - ETA: 0s - loss: 1.0026 - accuracy: 0.48 - 0s 27us/step - loss: 1.0023 - accuracy: 0.4891 - val_loss: 1.0012 - val_accuracy: 0.5301\n",
      "Epoch 2/1000\n",
      "15663/15663 [==============================] - ETA: 0s - loss: 1.0019 - accuracy: 0.49 - 0s 27us/step - loss: 1.0018 - accuracy: 0.4958 - val_loss: 1.0000 - val_accuracy: 0.5324\n",
      "Epoch 3/1000\n",
      "15663/15663 [==============================] - ETA: 0s - loss: 0.9988 - accuracy: 0.49 - 0s 27us/step - loss: 0.9993 - accuracy: 0.4959 - val_loss: 0.9989 - val_accuracy: 0.5312\n",
      "Epoch 4/1000\n",
      "15663/15663 [==============================] - ETA: 0s - loss: 1.0007 - accuracy: 0.49 - 0s 27us/step - loss: 0.9999 - accuracy: 0.4925 - val_loss: 0.9978 - val_accuracy: 0.5286\n",
      "Epoch 5/1000\n",
      "15663/15663 [==============================] - ETA: 0s - loss: 0.9942 - accuracy: 0.49 - 0s 27us/step - loss: 0.9954 - accuracy: 0.4964 - val_loss: 0.9968 - val_accuracy: 0.5271\n",
      "Epoch 6/1000\n",
      "15663/15663 [==============================] - ETA: 0s - loss: 0.9994 - accuracy: 0.49 - 0s 27us/step - loss: 0.9958 - accuracy: 0.4974 - val_loss: 0.9958 - val_accuracy: 0.5258\n",
      "Epoch 7/1000\n",
      "15663/15663 [==============================] - ETA: 0s - loss: 0.9955 - accuracy: 0.49 - 0s 27us/step - loss: 0.9949 - accuracy: 0.4961 - val_loss: 0.9947 - val_accuracy: 0.5243\n",
      "Epoch 8/1000\n",
      "15663/15663 [==============================] - ETA: 0s - loss: 0.9927 - accuracy: 0.49 - 0s 28us/step - loss: 0.9930 - accuracy: 0.4948 - val_loss: 0.9936 - val_accuracy: 0.5260\n",
      "Epoch 9/1000\n",
      "15663/15663 [==============================] - ETA: 0s - loss: 0.9879 - accuracy: 0.50 - 0s 27us/step - loss: 0.9902 - accuracy: 0.5002 - val_loss: 0.9924 - val_accuracy: 0.5286\n",
      "Epoch 10/1000\n",
      "15663/15663 [==============================] - ETA: 0s - loss: 0.9947 - accuracy: 0.49 - 0s 27us/step - loss: 0.9927 - accuracy: 0.4966 - val_loss: 0.9911 - val_accuracy: 0.5329\n",
      "Epoch 11/1000\n",
      "15663/15663 [==============================] - ETA: 0s - loss: 0.9893 - accuracy: 0.49 - 0s 28us/step - loss: 0.9900 - accuracy: 0.4985 - val_loss: 0.9897 - val_accuracy: 0.5365\n",
      "Epoch 12/1000\n",
      "15663/15663 [==============================] - ETA: 0s - loss: 0.9890 - accuracy: 0.50 - 0s 30us/step - loss: 0.9896 - accuracy: 0.4983 - val_loss: 0.9885 - val_accuracy: 0.5380\n",
      "Epoch 13/1000\n",
      "15663/15663 [==============================] - ETA: 0s - loss: 0.9884 - accuracy: 0.49 - 0s 27us/step - loss: 0.9878 - accuracy: 0.4981 - val_loss: 0.9873 - val_accuracy: 0.5398\n",
      "Epoch 14/1000\n",
      "15663/15663 [==============================] - ETA: 0s - loss: 0.9920 - accuracy: 0.49 - 0s 27us/step - loss: 0.9896 - accuracy: 0.4979 - val_loss: 0.9861 - val_accuracy: 0.5414\n",
      "Epoch 15/1000\n",
      "15663/15663 [==============================] - ETA: 0s - loss: 0.9891 - accuracy: 0.49 - 0s 30us/step - loss: 0.9881 - accuracy: 0.4981 - val_loss: 0.9849 - val_accuracy: 0.5432\n",
      "Epoch 16/1000\n",
      "15663/15663 [==============================] - ETA: 0s - loss: 0.9789 - accuracy: 0.51 - 0s 27us/step - loss: 0.9804 - accuracy: 0.5073 - val_loss: 0.9837 - val_accuracy: 0.5444\n",
      "Epoch 17/1000\n",
      "15663/15663 [==============================] - ETA: 0s - loss: 0.9866 - accuracy: 0.50 - 0s 27us/step - loss: 0.9857 - accuracy: 0.5018 - val_loss: 0.9826 - val_accuracy: 0.5434\n",
      "Epoch 18/1000\n",
      "15663/15663 [==============================] - ETA: 0s - loss: 0.9845 - accuracy: 0.49 - 0s 27us/step - loss: 0.9813 - accuracy: 0.5048 - val_loss: 0.9816 - val_accuracy: 0.5414\n",
      "Epoch 19/1000\n",
      "15663/15663 [==============================] - ETA: 0s - loss: 0.9800 - accuracy: 0.50 - 0s 27us/step - loss: 0.9798 - accuracy: 0.5038 - val_loss: 0.9805 - val_accuracy: 0.5411\n",
      "Epoch 20/1000\n",
      "15663/15663 [==============================] - ETA: 0s - loss: 0.9826 - accuracy: 0.49 - 0s 27us/step - loss: 0.9831 - accuracy: 0.4975 - val_loss: 0.9793 - val_accuracy: 0.5424\n",
      "Epoch 21/1000\n",
      "15663/15663 [==============================] - ETA: 0s - loss: 0.9773 - accuracy: 0.50 - 0s 26us/step - loss: 0.9780 - accuracy: 0.5052 - val_loss: 0.9780 - val_accuracy: 0.5460\n",
      "Epoch 22/1000\n",
      "15663/15663 [==============================] - ETA: 0s - loss: 0.9760 - accuracy: 0.50 - 0s 27us/step - loss: 0.9759 - accuracy: 0.5050 - val_loss: 0.9767 - val_accuracy: 0.5501\n",
      "Epoch 23/1000\n",
      "15663/15663 [==============================] - ETA: 0s - loss: 0.9788 - accuracy: 0.50 - 0s 27us/step - loss: 0.9782 - accuracy: 0.5070 - val_loss: 0.9754 - val_accuracy: 0.5544\n",
      "Epoch 24/1000\n",
      "15663/15663 [==============================] - ETA: 0s - loss: 0.9754 - accuracy: 0.50 - 0s 28us/step - loss: 0.9747 - accuracy: 0.5094 - val_loss: 0.9741 - val_accuracy: 0.5557\n",
      "Epoch 25/1000\n",
      "15663/15663 [==============================] - ETA: 0s - loss: 0.9675 - accuracy: 0.51 - 0s 26us/step - loss: 0.9706 - accuracy: 0.5121 - val_loss: 0.9730 - val_accuracy: 0.5569\n",
      "Epoch 26/1000\n",
      "15663/15663 [==============================] - ETA: 0s - loss: 0.9724 - accuracy: 0.50 - 0s 27us/step - loss: 0.9728 - accuracy: 0.5047 - val_loss: 0.9718 - val_accuracy: 0.5569\n",
      "Epoch 27/1000\n",
      "15663/15663 [==============================] - ETA: 0s - loss: 0.9713 - accuracy: 0.50 - 0s 27us/step - loss: 0.9717 - accuracy: 0.5066 - val_loss: 0.9706 - val_accuracy: 0.5575\n",
      "Epoch 28/1000\n",
      "15663/15663 [==============================] - ETA: 0s - loss: 0.9716 - accuracy: 0.50 - 0s 28us/step - loss: 0.9691 - accuracy: 0.5118 - val_loss: 0.9695 - val_accuracy: 0.5575\n",
      "Epoch 29/1000\n",
      "15663/15663 [==============================] - ETA: 0s - loss: 0.9657 - accuracy: 0.51 - 0s 28us/step - loss: 0.9689 - accuracy: 0.5095 - val_loss: 0.9684 - val_accuracy: 0.5577\n",
      "Epoch 30/1000\n",
      "15663/15663 [==============================] - ETA: 0s - loss: 0.9695 - accuracy: 0.51 - 0s 28us/step - loss: 0.9674 - accuracy: 0.5124 - val_loss: 0.9672 - val_accuracy: 0.5580\n",
      "Epoch 31/1000\n",
      "15663/15663 [==============================] - ETA: 0s - loss: 0.9685 - accuracy: 0.50 - 0s 28us/step - loss: 0.9659 - accuracy: 0.5121 - val_loss: 0.9659 - val_accuracy: 0.5600\n",
      "Epoch 32/1000\n",
      "15663/15663 [==============================] - ETA: 0s - loss: 0.9643 - accuracy: 0.51 - 0s 28us/step - loss: 0.9635 - accuracy: 0.5140 - val_loss: 0.9645 - val_accuracy: 0.5633\n",
      "Epoch 33/1000\n",
      "15663/15663 [==============================] - ETA: 0s - loss: 0.9650 - accuracy: 0.51 - 0s 28us/step - loss: 0.9675 - accuracy: 0.5116 - val_loss: 0.9632 - val_accuracy: 0.5659\n",
      "Epoch 34/1000\n",
      "15663/15663 [==============================] - ETA: 0s - loss: 0.9581 - accuracy: 0.52 - 0s 28us/step - loss: 0.9600 - accuracy: 0.5222 - val_loss: 0.9620 - val_accuracy: 0.5664\n",
      "Epoch 35/1000\n",
      "15663/15663 [==============================] - ETA: 0s - loss: 0.9632 - accuracy: 0.51 - 0s 29us/step - loss: 0.9604 - accuracy: 0.5137 - val_loss: 0.9609 - val_accuracy: 0.5666\n",
      "Epoch 36/1000\n",
      "15663/15663 [==============================] - ETA: 0s - loss: 0.9621 - accuracy: 0.51 - 0s 27us/step - loss: 0.9618 - accuracy: 0.5137 - val_loss: 0.9597 - val_accuracy: 0.5669\n",
      "Epoch 37/1000\n",
      "15663/15663 [==============================] - ETA: 0s - loss: 0.9611 - accuracy: 0.51 - 0s 28us/step - loss: 0.9604 - accuracy: 0.5124 - val_loss: 0.9586 - val_accuracy: 0.5664\n",
      "Epoch 38/1000\n",
      "15663/15663 [==============================] - ETA: 0s - loss: 0.9514 - accuracy: 0.52 - 0s 28us/step - loss: 0.9568 - accuracy: 0.5162 - val_loss: 0.9575 - val_accuracy: 0.5661\n",
      "Epoch 39/1000\n",
      "15663/15663 [==============================] - ETA: 0s - loss: 0.9577 - accuracy: 0.51 - 0s 27us/step - loss: 0.9570 - accuracy: 0.5157 - val_loss: 0.9563 - val_accuracy: 0.5666\n",
      "Epoch 40/1000\n",
      "15663/15663 [==============================] - ETA: 0s - loss: 0.9556 - accuracy: 0.51 - 0s 27us/step - loss: 0.9566 - accuracy: 0.5152 - val_loss: 0.9550 - val_accuracy: 0.5689\n",
      "Epoch 41/1000\n",
      "15663/15663 [==============================] - ETA: 0s - loss: 0.9521 - accuracy: 0.52 - 0s 27us/step - loss: 0.9532 - accuracy: 0.5159 - val_loss: 0.9537 - val_accuracy: 0.5712\n",
      "Epoch 42/1000\n",
      "15663/15663 [==============================] - ETA: 0s - loss: 0.9499 - accuracy: 0.51 - 0s 26us/step - loss: 0.9511 - accuracy: 0.5217 - val_loss: 0.9524 - val_accuracy: 0.5735\n",
      "Epoch 43/1000\n"
     ]
    },
    {
     "name": "stdout",
     "output_type": "stream",
     "text": [
      "15663/15663 [==============================] - ETA: 0s - loss: 0.9474 - accuracy: 0.52 - 0s 28us/step - loss: 0.9479 - accuracy: 0.5268 - val_loss: 0.9511 - val_accuracy: 0.5751\n",
      "Epoch 44/1000\n",
      "15663/15663 [==============================] - ETA: 0s - loss: 0.9483 - accuracy: 0.52 - 0s 27us/step - loss: 0.9510 - accuracy: 0.5200 - val_loss: 0.9499 - val_accuracy: 0.5758\n",
      "Epoch 45/1000\n",
      "15663/15663 [==============================] - ETA: 0s - loss: 0.9508 - accuracy: 0.51 - 0s 28us/step - loss: 0.9509 - accuracy: 0.5171 - val_loss: 0.9487 - val_accuracy: 0.5769\n",
      "Epoch 46/1000\n",
      "15663/15663 [==============================] - ETA: 0s - loss: 0.9458 - accuracy: 0.52 - 0s 27us/step - loss: 0.9460 - accuracy: 0.5261 - val_loss: 0.9476 - val_accuracy: 0.5764\n",
      "Epoch 47/1000\n",
      "15663/15663 [==============================] - ETA: 0s - loss: 0.9472 - accuracy: 0.52 - 0s 28us/step - loss: 0.9443 - accuracy: 0.5233 - val_loss: 0.9465 - val_accuracy: 0.5761\n",
      "Epoch 48/1000\n",
      "15663/15663 [==============================] - ETA: 0s - loss: 0.9442 - accuracy: 0.52 - 0s 27us/step - loss: 0.9456 - accuracy: 0.5203 - val_loss: 0.9453 - val_accuracy: 0.5766\n",
      "Epoch 49/1000\n",
      "15663/15663 [==============================] - ETA: 0s - loss: 0.9407 - accuracy: 0.52 - 0s 28us/step - loss: 0.9400 - accuracy: 0.5274 - val_loss: 0.9440 - val_accuracy: 0.5781\n",
      "Epoch 50/1000\n",
      "15663/15663 [==============================] - ETA: 0s - loss: 0.9401 - accuracy: 0.52 - 0s 27us/step - loss: 0.9413 - accuracy: 0.5251 - val_loss: 0.9427 - val_accuracy: 0.5792\n",
      "Epoch 51/1000\n",
      "15663/15663 [==============================] - ETA: 0s - loss: 0.9396 - accuracy: 0.52 - 0s 30us/step - loss: 0.9388 - accuracy: 0.5293 - val_loss: 0.9415 - val_accuracy: 0.5797\n",
      "Epoch 52/1000\n",
      "15663/15663 [==============================] - ETA: 0s - loss: 0.9395 - accuracy: 0.52 - 0s 28us/step - loss: 0.9402 - accuracy: 0.5239 - val_loss: 0.9404 - val_accuracy: 0.5794\n",
      "Epoch 53/1000\n",
      "15663/15663 [==============================] - ETA: 0s - loss: 0.9400 - accuracy: 0.52 - 0s 28us/step - loss: 0.9398 - accuracy: 0.5235 - val_loss: 0.9392 - val_accuracy: 0.5804\n",
      "Epoch 54/1000\n",
      "15663/15663 [==============================] - ETA: 0s - loss: 0.9371 - accuracy: 0.52 - 0s 28us/step - loss: 0.9364 - accuracy: 0.5271 - val_loss: 0.9378 - val_accuracy: 0.5804\n",
      "Epoch 55/1000\n",
      "15663/15663 [==============================] - ETA: 0s - loss: 0.9367 - accuracy: 0.52 - 0s 27us/step - loss: 0.9364 - accuracy: 0.5275 - val_loss: 0.9366 - val_accuracy: 0.5815\n",
      "Epoch 56/1000\n",
      "15663/15663 [==============================] - ETA: 0s - loss: 0.9370 - accuracy: 0.52 - 0s 27us/step - loss: 0.9323 - accuracy: 0.5322 - val_loss: 0.9355 - val_accuracy: 0.5815\n",
      "Epoch 57/1000\n",
      "15663/15663 [==============================] - ETA: 0s - loss: 0.9387 - accuracy: 0.52 - 0s 28us/step - loss: 0.9385 - accuracy: 0.5224 - val_loss: 0.9344 - val_accuracy: 0.5802\n",
      "Epoch 58/1000\n",
      "15663/15663 [==============================] - ETA: 0s - loss: 0.9370 - accuracy: 0.52 - 0s 27us/step - loss: 0.9350 - accuracy: 0.5254 - val_loss: 0.9333 - val_accuracy: 0.5804\n",
      "Epoch 59/1000\n",
      "15663/15663 [==============================] - ETA: 0s - loss: 0.9272 - accuracy: 0.53 - 0s 27us/step - loss: 0.9298 - accuracy: 0.5288 - val_loss: 0.9321 - val_accuracy: 0.5827\n",
      "Epoch 60/1000\n",
      "15663/15663 [==============================] - ETA: 0s - loss: 0.9318 - accuracy: 0.52 - 0s 28us/step - loss: 0.9304 - accuracy: 0.5274 - val_loss: 0.9308 - val_accuracy: 0.5845\n",
      "Epoch 61/1000\n",
      "15663/15663 [==============================] - ETA: 0s - loss: 0.9230 - accuracy: 0.53 - 0s 29us/step - loss: 0.9228 - accuracy: 0.5380 - val_loss: 0.9295 - val_accuracy: 0.5853\n",
      "Epoch 62/1000\n",
      "15663/15663 [==============================] - ETA: 0s - loss: 0.9271 - accuracy: 0.53 - 0s 27us/step - loss: 0.9265 - accuracy: 0.5312 - val_loss: 0.9283 - val_accuracy: 0.5868\n",
      "Epoch 63/1000\n",
      "15663/15663 [==============================] - ETA: 0s - loss: 0.9302 - accuracy: 0.52 - 0s 29us/step - loss: 0.9275 - accuracy: 0.5277 - val_loss: 0.9271 - val_accuracy: 0.5873\n",
      "Epoch 64/1000\n",
      "15663/15663 [==============================] - ETA: 0s - loss: 0.9182 - accuracy: 0.54 - 0s 28us/step - loss: 0.9212 - accuracy: 0.5342 - val_loss: 0.9261 - val_accuracy: 0.5850\n",
      "Epoch 65/1000\n",
      "15663/15663 [==============================] - ETA: 0s - loss: 0.9216 - accuracy: 0.53 - 0s 27us/step - loss: 0.9218 - accuracy: 0.5317 - val_loss: 0.9251 - val_accuracy: 0.5855\n",
      "Epoch 66/1000\n",
      "15663/15663 [==============================] - ETA: 0s - loss: 0.9237 - accuracy: 0.53 - 0s 30us/step - loss: 0.9211 - accuracy: 0.5363 - val_loss: 0.9240 - val_accuracy: 0.5845\n",
      "Epoch 67/1000\n",
      "15663/15663 [==============================] - ETA: 0s - loss: 0.9164 - accuracy: 0.54 - 0s 27us/step - loss: 0.9178 - accuracy: 0.5378 - val_loss: 0.9226 - val_accuracy: 0.5868\n",
      "Epoch 68/1000\n",
      "15663/15663 [==============================] - ETA: 0s - loss: 0.9128 - accuracy: 0.54 - 0s 28us/step - loss: 0.9159 - accuracy: 0.5402 - val_loss: 0.9211 - val_accuracy: 0.5896\n",
      "Epoch 69/1000\n",
      "15663/15663 [==============================] - ETA: 0s - loss: 0.9130 - accuracy: 0.53 - 0s 28us/step - loss: 0.9172 - accuracy: 0.5359 - val_loss: 0.9199 - val_accuracy: 0.5914\n",
      "Epoch 70/1000\n",
      "15663/15663 [==============================] - ETA: 0s - loss: 0.9139 - accuracy: 0.54 - 0s 29us/step - loss: 0.9154 - accuracy: 0.5387 - val_loss: 0.9189 - val_accuracy: 0.5901\n",
      "Epoch 71/1000\n",
      "15663/15663 [==============================] - ETA: 0s - loss: 0.9121 - accuracy: 0.53 - 0s 29us/step - loss: 0.9165 - accuracy: 0.5346 - val_loss: 0.9179 - val_accuracy: 0.5891\n",
      "Epoch 72/1000\n",
      "15663/15663 [==============================] - ETA: 0s - loss: 0.9170 - accuracy: 0.53 - 0s 27us/step - loss: 0.9165 - accuracy: 0.5334 - val_loss: 0.9168 - val_accuracy: 0.5889\n",
      "Epoch 73/1000\n",
      "15663/15663 [==============================] - ETA: 0s - loss: 0.9129 - accuracy: 0.53 - 0s 27us/step - loss: 0.9149 - accuracy: 0.5320 - val_loss: 0.9156 - val_accuracy: 0.5899\n",
      "Epoch 74/1000\n",
      "15663/15663 [==============================] - ETA: 0s - loss: 0.9090 - accuracy: 0.53 - 0s 27us/step - loss: 0.9101 - accuracy: 0.5376 - val_loss: 0.9143 - val_accuracy: 0.5927\n",
      "Epoch 75/1000\n",
      "15663/15663 [==============================] - ETA: 0s - loss: 0.9129 - accuracy: 0.53 - 0s 27us/step - loss: 0.9109 - accuracy: 0.5376 - val_loss: 0.9131 - val_accuracy: 0.5937\n",
      "Epoch 76/1000\n",
      "15663/15663 [==============================] - ETA: 0s - loss: 0.9103 - accuracy: 0.53 - 0s 28us/step - loss: 0.9073 - accuracy: 0.5413 - val_loss: 0.9121 - val_accuracy: 0.5932\n",
      "Epoch 77/1000\n",
      "15663/15663 [==============================] - ETA: 0s - loss: 0.9149 - accuracy: 0.52 - 0s 28us/step - loss: 0.9089 - accuracy: 0.5387 - val_loss: 0.9112 - val_accuracy: 0.5912\n",
      "Epoch 78/1000\n",
      "15663/15663 [==============================] - ETA: 0s - loss: 0.9030 - accuracy: 0.54 - 0s 28us/step - loss: 0.9048 - accuracy: 0.5385 - val_loss: 0.9102 - val_accuracy: 0.5901\n",
      "Epoch 79/1000\n",
      "15663/15663 [==============================] - ETA: 0s - loss: 0.9052 - accuracy: 0.53 - 0s 26us/step - loss: 0.9050 - accuracy: 0.5384 - val_loss: 0.9090 - val_accuracy: 0.5914\n",
      "Epoch 80/1000\n",
      "15663/15663 [==============================] - ETA: 0s - loss: 0.8997 - accuracy: 0.54 - 0s 29us/step - loss: 0.9014 - accuracy: 0.5449 - val_loss: 0.9076 - val_accuracy: 0.5937\n",
      "Epoch 81/1000\n",
      "15663/15663 [==============================] - ETA: 0s - loss: 0.9005 - accuracy: 0.54 - 0s 28us/step - loss: 0.9015 - accuracy: 0.5400 - val_loss: 0.9063 - val_accuracy: 0.5945\n",
      "Epoch 82/1000\n",
      "15663/15663 [==============================] - ETA: 0s - loss: 0.9033 - accuracy: 0.54 - 0s 27us/step - loss: 0.9005 - accuracy: 0.5431 - val_loss: 0.9051 - val_accuracy: 0.5953\n",
      "Epoch 83/1000\n",
      "15663/15663 [==============================] - ETA: 0s - loss: 0.8991 - accuracy: 0.54 - 0s 28us/step - loss: 0.8987 - accuracy: 0.5411 - val_loss: 0.9040 - val_accuracy: 0.5955\n",
      "Epoch 84/1000\n",
      "15663/15663 [==============================] - ETA: 0s - loss: 0.8971 - accuracy: 0.54 - 0s 27us/step - loss: 0.8996 - accuracy: 0.5428 - val_loss: 0.9029 - val_accuracy: 0.5965\n",
      "Epoch 85/1000\n",
      "15663/15663 [==============================] - ETA: 0s - loss: 0.8961 - accuracy: 0.54 - 0s 28us/step - loss: 0.8957 - accuracy: 0.5423 - val_loss: 0.9019 - val_accuracy: 0.5963\n"
     ]
    },
    {
     "name": "stdout",
     "output_type": "stream",
     "text": [
      "Epoch 86/1000\n",
      "15663/15663 [==============================] - ETA: 0s - loss: 0.8893 - accuracy: 0.55 - 0s 27us/step - loss: 0.8949 - accuracy: 0.5437 - val_loss: 0.9006 - val_accuracy: 0.5975\n",
      "Epoch 87/1000\n",
      "15663/15663 [==============================] - ETA: 0s - loss: 0.9010 - accuracy: 0.53 - 0s 30us/step - loss: 0.8961 - accuracy: 0.5417 - val_loss: 0.8994 - val_accuracy: 0.5993\n",
      "Epoch 88/1000\n",
      "15663/15663 [==============================] - ETA: 0s - loss: 0.8942 - accuracy: 0.54 - 0s 29us/step - loss: 0.8936 - accuracy: 0.5441 - val_loss: 0.8983 - val_accuracy: 0.6001\n",
      "Epoch 89/1000\n",
      "15663/15663 [==============================] - ETA: 0s - loss: 0.8921 - accuracy: 0.54 - 0s 29us/step - loss: 0.8936 - accuracy: 0.5423 - val_loss: 0.8973 - val_accuracy: 0.6001\n",
      "Epoch 90/1000\n",
      "15663/15663 [==============================] - ETA: 0s - loss: 0.8944 - accuracy: 0.54 - 0s 28us/step - loss: 0.8931 - accuracy: 0.5436 - val_loss: 0.8962 - val_accuracy: 0.6004\n",
      "Epoch 91/1000\n",
      "15663/15663 [==============================] - ETA: 0s - loss: 0.8946 - accuracy: 0.54 - 0s 29us/step - loss: 0.8958 - accuracy: 0.5401 - val_loss: 0.8951 - val_accuracy: 0.6006\n",
      "Epoch 92/1000\n",
      "15663/15663 [==============================] - ETA: 0s - loss: 0.8922 - accuracy: 0.53 - 0s 29us/step - loss: 0.8888 - accuracy: 0.5464 - val_loss: 0.8941 - val_accuracy: 0.6006\n",
      "Epoch 93/1000\n",
      "15663/15663 [==============================] - ETA: 0s - loss: 0.8926 - accuracy: 0.54 - 0s 29us/step - loss: 0.8906 - accuracy: 0.5446 - val_loss: 0.8931 - val_accuracy: 0.5996\n",
      "Epoch 94/1000\n",
      "15663/15663 [==============================] - ETA: 0s - loss: 0.8827 - accuracy: 0.55 - 0s 31us/step - loss: 0.8866 - accuracy: 0.5482 - val_loss: 0.8919 - val_accuracy: 0.6016\n",
      "Epoch 95/1000\n",
      "15663/15663 [==============================] - ETA: 0s - loss: 0.8861 - accuracy: 0.54 - 0s 30us/step - loss: 0.8879 - accuracy: 0.5423 - val_loss: 0.8908 - val_accuracy: 0.6024\n",
      "Epoch 96/1000\n",
      "15663/15663 [==============================] - ETA: 0s - loss: 0.8790 - accuracy: 0.55 - 0s 28us/step - loss: 0.8837 - accuracy: 0.5458 - val_loss: 0.8897 - val_accuracy: 0.6027\n",
      "Epoch 97/1000\n",
      "15663/15663 [==============================] - ETA: 0s - loss: 0.8851 - accuracy: 0.54 - 0s 28us/step - loss: 0.8846 - accuracy: 0.5478 - val_loss: 0.8888 - val_accuracy: 0.6029\n",
      "Epoch 98/1000\n",
      "15663/15663 [==============================] - ETA: 0s - loss: 0.8793 - accuracy: 0.55 - 0s 27us/step - loss: 0.8770 - accuracy: 0.5544 - val_loss: 0.8877 - val_accuracy: 0.6029\n",
      "Epoch 99/1000\n",
      "15663/15663 [==============================] - ETA: 0s - loss: 0.8817 - accuracy: 0.54 - 0s 28us/step - loss: 0.8829 - accuracy: 0.5462 - val_loss: 0.8864 - val_accuracy: 0.6055\n",
      "Epoch 100/1000\n",
      "15663/15663 [==============================] - ETA: 0s - loss: 0.8777 - accuracy: 0.55 - 0s 29us/step - loss: 0.8788 - accuracy: 0.5501 - val_loss: 0.8852 - val_accuracy: 0.6065\n",
      "Epoch 101/1000\n",
      "15663/15663 [==============================] - ETA: 0s - loss: 0.8809 - accuracy: 0.54 - 0s 28us/step - loss: 0.8771 - accuracy: 0.5484 - val_loss: 0.8840 - val_accuracy: 0.6067\n",
      "Epoch 102/1000\n",
      "15663/15663 [==============================] - ETA: 0s - loss: 0.8778 - accuracy: 0.55 - 0s 28us/step - loss: 0.8761 - accuracy: 0.5508 - val_loss: 0.8830 - val_accuracy: 0.6070\n",
      "Epoch 103/1000\n",
      "15663/15663 [==============================] - ETA: 0s - loss: 0.8782 - accuracy: 0.54 - 0s 28us/step - loss: 0.8763 - accuracy: 0.5482 - val_loss: 0.8823 - val_accuracy: 0.6070\n",
      "Epoch 104/1000\n",
      "15663/15663 [==============================] - ETA: 0s - loss: 0.8787 - accuracy: 0.54 - 0s 29us/step - loss: 0.8755 - accuracy: 0.5489 - val_loss: 0.8817 - val_accuracy: 0.6047\n",
      "Epoch 105/1000\n",
      "15663/15663 [==============================] - ETA: 0s - loss: 0.8765 - accuracy: 0.54 - 0s 31us/step - loss: 0.8745 - accuracy: 0.5502 - val_loss: 0.8808 - val_accuracy: 0.6044\n",
      "Epoch 106/1000\n",
      "15663/15663 [==============================] - ETA: 0s - loss: 0.8679 - accuracy: 0.55 - 0s 31us/step - loss: 0.8723 - accuracy: 0.5497 - val_loss: 0.8793 - val_accuracy: 0.6070\n",
      "Epoch 107/1000\n",
      "15663/15663 [==============================] - ETA: 0s - loss: 0.8708 - accuracy: 0.55 - 0s 30us/step - loss: 0.8703 - accuracy: 0.5537 - val_loss: 0.8779 - val_accuracy: 0.6083\n",
      "Epoch 108/1000\n",
      "15663/15663 [==============================] - ETA: 0s - loss: 0.8726 - accuracy: 0.55 - 0s 28us/step - loss: 0.8698 - accuracy: 0.5539 - val_loss: 0.8767 - val_accuracy: 0.6088\n",
      "Epoch 109/1000\n",
      "15663/15663 [==============================] - ETA: 0s - loss: 0.8680 - accuracy: 0.55 - 0s 28us/step - loss: 0.8685 - accuracy: 0.5565 - val_loss: 0.8757 - val_accuracy: 0.6085\n",
      "Epoch 110/1000\n",
      "15663/15663 [==============================] - ETA: 0s - loss: 0.8670 - accuracy: 0.55 - 0s 28us/step - loss: 0.8672 - accuracy: 0.5541 - val_loss: 0.8749 - val_accuracy: 0.6090\n",
      "Epoch 111/1000\n",
      "15663/15663 [==============================] - ETA: 0s - loss: 0.8660 - accuracy: 0.55 - 0s 27us/step - loss: 0.8665 - accuracy: 0.5530 - val_loss: 0.8742 - val_accuracy: 0.6085\n",
      "Epoch 112/1000\n",
      "15663/15663 [==============================] - ETA: 0s - loss: 0.8618 - accuracy: 0.55 - 0s 27us/step - loss: 0.8629 - accuracy: 0.5537 - val_loss: 0.8731 - val_accuracy: 0.6083\n",
      "Epoch 113/1000\n",
      "15663/15663 [==============================] - ETA: 0s - loss: 0.8704 - accuracy: 0.54 - 0s 26us/step - loss: 0.8713 - accuracy: 0.5453 - val_loss: 0.8721 - val_accuracy: 0.6085\n",
      "Epoch 114/1000\n",
      "15663/15663 [==============================] - ETA: 0s - loss: 0.8666 - accuracy: 0.54 - 0s 27us/step - loss: 0.8647 - accuracy: 0.5495 - val_loss: 0.8708 - val_accuracy: 0.6096\n",
      "Epoch 115/1000\n",
      "15663/15663 [==============================] - ETA: 0s - loss: 0.8632 - accuracy: 0.55 - 0s 27us/step - loss: 0.8592 - accuracy: 0.5565 - val_loss: 0.8696 - val_accuracy: 0.6101\n",
      "Epoch 116/1000\n",
      "15663/15663 [==============================] - ETA: 0s - loss: 0.8613 - accuracy: 0.55 - 0s 26us/step - loss: 0.8628 - accuracy: 0.5512 - val_loss: 0.8687 - val_accuracy: 0.6101\n",
      "Epoch 117/1000\n",
      "15663/15663 [==============================] - ETA: 0s - loss: 0.8572 - accuracy: 0.56 - 0s 26us/step - loss: 0.8597 - accuracy: 0.5564 - val_loss: 0.8680 - val_accuracy: 0.6108\n",
      "Epoch 118/1000\n",
      "15663/15663 [==============================] - ETA: 0s - loss: 0.8613 - accuracy: 0.55 - 0s 27us/step - loss: 0.8574 - accuracy: 0.5561 - val_loss: 0.8674 - val_accuracy: 0.6101\n",
      "Epoch 119/1000\n",
      "15663/15663 [==============================] - ETA: 0s - loss: 0.8607 - accuracy: 0.54 - 0s 27us/step - loss: 0.8593 - accuracy: 0.5533 - val_loss: 0.8665 - val_accuracy: 0.6098\n",
      "Epoch 120/1000\n",
      "15663/15663 [==============================] - ETA: 0s - loss: 0.8567 - accuracy: 0.55 - 0s 27us/step - loss: 0.8589 - accuracy: 0.5537 - val_loss: 0.8652 - val_accuracy: 0.6106\n",
      "Epoch 121/1000\n",
      "15663/15663 [==============================] - ETA: 0s - loss: 0.8533 - accuracy: 0.55 - 0s 27us/step - loss: 0.8564 - accuracy: 0.5539 - val_loss: 0.8641 - val_accuracy: 0.6103\n",
      "Epoch 122/1000\n",
      "15663/15663 [==============================] - ETA: 0s - loss: 0.8509 - accuracy: 0.55 - 0s 27us/step - loss: 0.8518 - accuracy: 0.5592 - val_loss: 0.8631 - val_accuracy: 0.6108\n",
      "Epoch 123/1000\n",
      "15663/15663 [==============================] - ETA: 0s - loss: 0.8539 - accuracy: 0.55 - 0s 27us/step - loss: 0.8543 - accuracy: 0.5526 - val_loss: 0.8622 - val_accuracy: 0.6108\n",
      "Epoch 124/1000\n",
      "15663/15663 [==============================] - ETA: 0s - loss: 0.8507 - accuracy: 0.56 - 0s 28us/step - loss: 0.8490 - accuracy: 0.5622 - val_loss: 0.8616 - val_accuracy: 0.6111\n",
      "Epoch 125/1000\n",
      "15663/15663 [==============================] - ETA: 0s - loss: 0.8486 - accuracy: 0.56 - 0s 27us/step - loss: 0.8487 - accuracy: 0.5620 - val_loss: 0.8607 - val_accuracy: 0.6108\n",
      "Epoch 126/1000\n",
      "15663/15663 [==============================] - ETA: 0s - loss: 0.8478 - accuracy: 0.56 - 0s 26us/step - loss: 0.8491 - accuracy: 0.5591 - val_loss: 0.8593 - val_accuracy: 0.6131\n",
      "Epoch 127/1000\n",
      "15663/15663 [==============================] - ETA: 0s - loss: 0.8611 - accuracy: 0.54 - 0s 26us/step - loss: 0.8576 - accuracy: 0.5507 - val_loss: 0.8582 - val_accuracy: 0.6147\n",
      "Epoch 128/1000\n"
     ]
    },
    {
     "name": "stdout",
     "output_type": "stream",
     "text": [
      "15663/15663 [==============================] - ETA: 0s - loss: 0.8503 - accuracy: 0.55 - 0s 27us/step - loss: 0.8499 - accuracy: 0.5549 - val_loss: 0.8572 - val_accuracy: 0.6154\n",
      "Epoch 129/1000\n",
      "15663/15663 [==============================] - ETA: 0s - loss: 0.8477 - accuracy: 0.55 - 0s 27us/step - loss: 0.8481 - accuracy: 0.5559 - val_loss: 0.8563 - val_accuracy: 0.6157\n",
      "Epoch 130/1000\n",
      "15663/15663 [==============================] - ETA: 0s - loss: 0.8468 - accuracy: 0.55 - 0s 27us/step - loss: 0.8507 - accuracy: 0.5530 - val_loss: 0.8556 - val_accuracy: 0.6147\n",
      "Epoch 131/1000\n",
      "15663/15663 [==============================] - ETA: 0s - loss: 0.8428 - accuracy: 0.56 - 0s 27us/step - loss: 0.8424 - accuracy: 0.5637 - val_loss: 0.8550 - val_accuracy: 0.6141\n",
      "Epoch 132/1000\n",
      "15663/15663 [==============================] - ETA: 0s - loss: 0.8483 - accuracy: 0.55 - 0s 27us/step - loss: 0.8457 - accuracy: 0.5555 - val_loss: 0.8541 - val_accuracy: 0.6152\n",
      "Epoch 133/1000\n",
      "15663/15663 [==============================] - ETA: 0s - loss: 0.8484 - accuracy: 0.55 - 0s 28us/step - loss: 0.8462 - accuracy: 0.5545 - val_loss: 0.8528 - val_accuracy: 0.6167\n",
      "Epoch 134/1000\n",
      "15663/15663 [==============================] - ETA: 0s - loss: 0.8423 - accuracy: 0.56 - 0s 27us/step - loss: 0.8414 - accuracy: 0.5627 - val_loss: 0.8516 - val_accuracy: 0.6182\n",
      "Epoch 135/1000\n",
      "15663/15663 [==============================] - ETA: 0s - loss: 0.8437 - accuracy: 0.55 - 0s 28us/step - loss: 0.8396 - accuracy: 0.5609 - val_loss: 0.8509 - val_accuracy: 0.6175\n",
      "Epoch 136/1000\n",
      "15663/15663 [==============================] - ETA: 0s - loss: 0.8401 - accuracy: 0.56 - 0s 29us/step - loss: 0.8386 - accuracy: 0.5641 - val_loss: 0.8502 - val_accuracy: 0.6177\n",
      "Epoch 137/1000\n",
      "15663/15663 [==============================] - ETA: 0s - loss: 0.8373 - accuracy: 0.56 - 0s 29us/step - loss: 0.8393 - accuracy: 0.5611 - val_loss: 0.8496 - val_accuracy: 0.6159\n",
      "Epoch 138/1000\n",
      "15663/15663 [==============================] - ETA: 0s - loss: 0.8429 - accuracy: 0.55 - 0s 28us/step - loss: 0.8385 - accuracy: 0.5586 - val_loss: 0.8487 - val_accuracy: 0.6167\n",
      "Epoch 139/1000\n",
      "15663/15663 [==============================] - ETA: 0s - loss: 0.8423 - accuracy: 0.55 - 0s 29us/step - loss: 0.8367 - accuracy: 0.5617 - val_loss: 0.8475 - val_accuracy: 0.6182\n",
      "Epoch 140/1000\n",
      "15663/15663 [==============================] - ETA: 0s - loss: 0.8323 - accuracy: 0.56 - 0s 28us/step - loss: 0.8326 - accuracy: 0.5643 - val_loss: 0.8463 - val_accuracy: 0.6190\n",
      "Epoch 141/1000\n",
      "15663/15663 [==============================] - ETA: 0s - loss: 0.8303 - accuracy: 0.56 - 0s 30us/step - loss: 0.8318 - accuracy: 0.5636 - val_loss: 0.8452 - val_accuracy: 0.6193\n",
      "Epoch 142/1000\n",
      "15663/15663 [==============================] - ETA: 0s - loss: 0.8257 - accuracy: 0.56 - 0s 29us/step - loss: 0.8280 - accuracy: 0.5696 - val_loss: 0.8447 - val_accuracy: 0.6198\n",
      "Epoch 143/1000\n",
      "15663/15663 [==============================] - ETA: 0s - loss: 0.8370 - accuracy: 0.55 - 0s 30us/step - loss: 0.8303 - accuracy: 0.5662 - val_loss: 0.8441 - val_accuracy: 0.6190\n",
      "Epoch 144/1000\n",
      "15663/15663 [==============================] - ETA: 0s - loss: 0.8313 - accuracy: 0.56 - 0s 29us/step - loss: 0.8326 - accuracy: 0.5611 - val_loss: 0.8432 - val_accuracy: 0.6193\n",
      "Epoch 145/1000\n",
      "15663/15663 [==============================] - ETA: 0s - loss: 0.8275 - accuracy: 0.56 - 0s 29us/step - loss: 0.8314 - accuracy: 0.5614 - val_loss: 0.8420 - val_accuracy: 0.6198\n",
      "Epoch 146/1000\n",
      "15663/15663 [==============================] - ETA: 0s - loss: 0.8339 - accuracy: 0.55 - 0s 27us/step - loss: 0.8307 - accuracy: 0.5615 - val_loss: 0.8408 - val_accuracy: 0.6218\n",
      "Epoch 147/1000\n",
      "15663/15663 [==============================] - ETA: 0s - loss: 0.8294 - accuracy: 0.56 - 0s 30us/step - loss: 0.8292 - accuracy: 0.5632 - val_loss: 0.8400 - val_accuracy: 0.6218\n",
      "Epoch 148/1000\n",
      "15663/15663 [==============================] - ETA: 0s - loss: 0.8238 - accuracy: 0.56 - 0s 30us/step - loss: 0.8246 - accuracy: 0.5666 - val_loss: 0.8394 - val_accuracy: 0.6205\n",
      "Epoch 149/1000\n",
      "15663/15663 [==============================] - ETA: 0s - loss: 0.8220 - accuracy: 0.57 - 0s 27us/step - loss: 0.8246 - accuracy: 0.5673 - val_loss: 0.8389 - val_accuracy: 0.6195\n",
      "Epoch 150/1000\n",
      "15663/15663 [==============================] - ETA: 0s - loss: 0.8243 - accuracy: 0.57 - 0s 27us/step - loss: 0.8240 - accuracy: 0.5685 - val_loss: 0.8382 - val_accuracy: 0.6205\n",
      "Epoch 151/1000\n",
      "15663/15663 [==============================] - ETA: 0s - loss: 0.8231 - accuracy: 0.56 - 0s 28us/step - loss: 0.8260 - accuracy: 0.5638 - val_loss: 0.8370 - val_accuracy: 0.6213\n",
      "Epoch 152/1000\n",
      "15663/15663 [==============================] - ETA: 0s - loss: 0.8258 - accuracy: 0.56 - 0s 31us/step - loss: 0.8228 - accuracy: 0.5656 - val_loss: 0.8358 - val_accuracy: 0.6216\n",
      "Epoch 153/1000\n",
      "15663/15663 [==============================] - ETA: 0s - loss: 0.8206 - accuracy: 0.56 - 0s 30us/step - loss: 0.8205 - accuracy: 0.5681 - val_loss: 0.8349 - val_accuracy: 0.6221\n",
      "Epoch 154/1000\n",
      "15663/15663 [==============================] - ETA: 0s - loss: 0.8198 - accuracy: 0.56 - 0s 29us/step - loss: 0.8216 - accuracy: 0.5667 - val_loss: 0.8342 - val_accuracy: 0.6216\n",
      "Epoch 155/1000\n",
      "15663/15663 [==============================] - ETA: 0s - loss: 0.8179 - accuracy: 0.56 - 0s 29us/step - loss: 0.8182 - accuracy: 0.5666 - val_loss: 0.8334 - val_accuracy: 0.6216\n",
      "Epoch 156/1000\n",
      "15663/15663 [==============================] - ETA: 0s - loss: 0.8203 - accuracy: 0.56 - 0s 28us/step - loss: 0.8200 - accuracy: 0.5662 - val_loss: 0.8327 - val_accuracy: 0.6218\n",
      "Epoch 157/1000\n",
      "15663/15663 [==============================] - ETA: 0s - loss: 0.8210 - accuracy: 0.56 - 0s 27us/step - loss: 0.8200 - accuracy: 0.5645 - val_loss: 0.8322 - val_accuracy: 0.6218\n",
      "Epoch 158/1000\n",
      "15663/15663 [==============================] - ETA: 0s - loss: 0.8053 - accuracy: 0.57 - 0s 26us/step - loss: 0.8092 - accuracy: 0.5763 - val_loss: 0.8313 - val_accuracy: 0.6221\n",
      "Epoch 159/1000\n",
      "15663/15663 [==============================] - ETA: 0s - loss: 0.8136 - accuracy: 0.57 - 0s 29us/step - loss: 0.8144 - accuracy: 0.5684 - val_loss: 0.8303 - val_accuracy: 0.6223\n",
      "Epoch 160/1000\n",
      "15663/15663 [==============================] - ETA: 0s - loss: 0.8115 - accuracy: 0.57 - 0s 27us/step - loss: 0.8125 - accuracy: 0.5726 - val_loss: 0.8291 - val_accuracy: 0.6246\n",
      "Epoch 161/1000\n",
      "15663/15663 [==============================] - ETA: 0s - loss: 0.8111 - accuracy: 0.57 - 0s 28us/step - loss: 0.8092 - accuracy: 0.5722 - val_loss: 0.8278 - val_accuracy: 0.6254\n",
      "Epoch 162/1000\n",
      "15663/15663 [==============================] - ETA: 0s - loss: 0.8125 - accuracy: 0.57 - 0s 30us/step - loss: 0.8088 - accuracy: 0.5730 - val_loss: 0.8271 - val_accuracy: 0.6251\n",
      "Epoch 163/1000\n",
      "15663/15663 [==============================] - ETA: 0s - loss: 0.8048 - accuracy: 0.57 - 0s 29us/step - loss: 0.8078 - accuracy: 0.5750 - val_loss: 0.8266 - val_accuracy: 0.6244\n",
      "Epoch 164/1000\n",
      "15663/15663 [==============================] - ETA: 0s - loss: 0.8156 - accuracy: 0.56 - 0s 28us/step - loss: 0.8126 - accuracy: 0.5659 - val_loss: 0.8260 - val_accuracy: 0.6228\n",
      "Epoch 165/1000\n",
      "15663/15663 [==============================] - ETA: 0s - loss: 0.8040 - accuracy: 0.57 - 0s 28us/step - loss: 0.8084 - accuracy: 0.5709 - val_loss: 0.8253 - val_accuracy: 0.6236\n",
      "Epoch 166/1000\n",
      "15663/15663 [==============================] - ETA: 0s - loss: 0.8083 - accuracy: 0.57 - 0s 28us/step - loss: 0.8110 - accuracy: 0.5717 - val_loss: 0.8245 - val_accuracy: 0.6236\n",
      "Epoch 167/1000\n",
      "15663/15663 [==============================] - ETA: 0s - loss: 0.8070 - accuracy: 0.57 - 0s 28us/step - loss: 0.8067 - accuracy: 0.5726 - val_loss: 0.8235 - val_accuracy: 0.6233\n",
      "Epoch 168/1000\n",
      "15663/15663 [==============================] - ETA: 0s - loss: 0.7995 - accuracy: 0.57 - 0s 29us/step - loss: 0.8030 - accuracy: 0.5730 - val_loss: 0.8225 - val_accuracy: 0.6241\n",
      "Epoch 169/1000\n",
      "15663/15663 [==============================] - ETA: 0s - loss: 0.8062 - accuracy: 0.57 - 0s 29us/step - loss: 0.8102 - accuracy: 0.5687 - val_loss: 0.8216 - val_accuracy: 0.6249\n",
      "Epoch 170/1000\n"
     ]
    },
    {
     "name": "stdout",
     "output_type": "stream",
     "text": [
      "15663/15663 [==============================] - ETA: 0s - loss: 0.8017 - accuracy: 0.57 - 0s 29us/step - loss: 0.8053 - accuracy: 0.5745 - val_loss: 0.8210 - val_accuracy: 0.6239\n",
      "Epoch 171/1000\n",
      "15663/15663 [==============================] - ETA: 0s - loss: 0.8011 - accuracy: 0.57 - 0s 28us/step - loss: 0.8012 - accuracy: 0.5746 - val_loss: 0.8205 - val_accuracy: 0.6241\n",
      "Epoch 172/1000\n",
      "15663/15663 [==============================] - ETA: 0s - loss: 0.8031 - accuracy: 0.57 - 0s 28us/step - loss: 0.8058 - accuracy: 0.5709 - val_loss: 0.8194 - val_accuracy: 0.6241\n",
      "Epoch 173/1000\n",
      "15663/15663 [==============================] - ETA: 0s - loss: 0.8041 - accuracy: 0.57 - 0s 29us/step - loss: 0.8019 - accuracy: 0.5736 - val_loss: 0.8187 - val_accuracy: 0.6246\n",
      "Epoch 174/1000\n",
      "15663/15663 [==============================] - ETA: 0s - loss: 0.7980 - accuracy: 0.57 - 0s 31us/step - loss: 0.7971 - accuracy: 0.5790 - val_loss: 0.8181 - val_accuracy: 0.6244\n",
      "Epoch 175/1000\n",
      "15663/15663 [==============================] - ETA: 0s - loss: 0.7995 - accuracy: 0.57 - 0s 31us/step - loss: 0.8000 - accuracy: 0.5748 - val_loss: 0.8174 - val_accuracy: 0.6244\n",
      "Epoch 176/1000\n",
      "15663/15663 [==============================] - ETA: 0s - loss: 0.7969 - accuracy: 0.57 - 0s 29us/step - loss: 0.7957 - accuracy: 0.5793 - val_loss: 0.8165 - val_accuracy: 0.6254\n",
      "Epoch 177/1000\n",
      "15663/15663 [==============================] - ETA: 0s - loss: 0.8030 - accuracy: 0.57 - 0s 28us/step - loss: 0.8036 - accuracy: 0.5757 - val_loss: 0.8156 - val_accuracy: 0.6254\n",
      "Epoch 178/1000\n",
      "15663/15663 [==============================] - ETA: 0s - loss: 0.7968 - accuracy: 0.57 - 0s 28us/step - loss: 0.7959 - accuracy: 0.5772 - val_loss: 0.8150 - val_accuracy: 0.6256\n",
      "Epoch 179/1000\n",
      "15663/15663 [==============================] - ETA: 0s - loss: 0.7973 - accuracy: 0.57 - 0s 28us/step - loss: 0.7969 - accuracy: 0.5748 - val_loss: 0.8142 - val_accuracy: 0.6256\n",
      "Epoch 180/1000\n",
      "15663/15663 [==============================] - ETA: 0s - loss: 0.7982 - accuracy: 0.57 - 0s 28us/step - loss: 0.7963 - accuracy: 0.5781 - val_loss: 0.8137 - val_accuracy: 0.6259\n",
      "Epoch 181/1000\n",
      "15663/15663 [==============================] - ETA: 0s - loss: 0.7904 - accuracy: 0.58 - 0s 28us/step - loss: 0.7924 - accuracy: 0.5822 - val_loss: 0.8130 - val_accuracy: 0.6267\n",
      "Epoch 182/1000\n",
      "15663/15663 [==============================] - ETA: 0s - loss: 0.7859 - accuracy: 0.58 - 0s 27us/step - loss: 0.7895 - accuracy: 0.5826 - val_loss: 0.8120 - val_accuracy: 0.6267\n",
      "Epoch 183/1000\n",
      "15663/15663 [==============================] - ETA: 0s - loss: 0.7915 - accuracy: 0.57 - 1s 33us/step - loss: 0.7898 - accuracy: 0.5805 - val_loss: 0.8110 - val_accuracy: 0.6272\n",
      "Epoch 184/1000\n",
      "15663/15663 [==============================] - ETA: 0s - loss: 0.7952 - accuracy: 0.57 - 1s 33us/step - loss: 0.7913 - accuracy: 0.5796 - val_loss: 0.8102 - val_accuracy: 0.6272\n",
      "Epoch 185/1000\n",
      "15663/15663 [==============================] - ETA: 0s - loss: 0.7936 - accuracy: 0.57 - 0s 28us/step - loss: 0.7912 - accuracy: 0.5811 - val_loss: 0.8097 - val_accuracy: 0.6274\n",
      "Epoch 186/1000\n",
      "15663/15663 [==============================] - ETA: 0s - loss: 0.7873 - accuracy: 0.58 - 0s 26us/step - loss: 0.7848 - accuracy: 0.5874 - val_loss: 0.8090 - val_accuracy: 0.6277\n",
      "Epoch 187/1000\n",
      "15663/15663 [==============================] - ETA: 0s - loss: 0.7908 - accuracy: 0.57 - 0s 30us/step - loss: 0.7916 - accuracy: 0.5779 - val_loss: 0.8080 - val_accuracy: 0.6279\n",
      "Epoch 188/1000\n",
      "15663/15663 [==============================] - ETA: 0s - loss: 0.7922 - accuracy: 0.58 - 0s 28us/step - loss: 0.7902 - accuracy: 0.5794 - val_loss: 0.8071 - val_accuracy: 0.6292\n",
      "Epoch 189/1000\n",
      "15663/15663 [==============================] - ETA: 0s - loss: 0.7810 - accuracy: 0.59 - 0s 27us/step - loss: 0.7824 - accuracy: 0.5874 - val_loss: 0.8063 - val_accuracy: 0.6300\n",
      "Epoch 190/1000\n",
      "15663/15663 [==============================] - ETA: 0s - loss: 0.7809 - accuracy: 0.58 - 0s 27us/step - loss: 0.7848 - accuracy: 0.5835 - val_loss: 0.8061 - val_accuracy: 0.6295\n",
      "Epoch 191/1000\n",
      "15663/15663 [==============================] - ETA: 0s - loss: 0.7877 - accuracy: 0.57 - 0s 26us/step - loss: 0.7859 - accuracy: 0.5791 - val_loss: 0.8060 - val_accuracy: 0.6287\n",
      "Epoch 192/1000\n",
      "15663/15663 [==============================] - ETA: 0s - loss: 0.7888 - accuracy: 0.58 - 0s 25us/step - loss: 0.7859 - accuracy: 0.5837 - val_loss: 0.8049 - val_accuracy: 0.6300\n",
      "Epoch 193/1000\n",
      "15663/15663 [==============================] - ETA: 0s - loss: 0.7813 - accuracy: 0.58 - 0s 25us/step - loss: 0.7815 - accuracy: 0.5862 - val_loss: 0.8035 - val_accuracy: 0.6307\n",
      "Epoch 194/1000\n",
      "15663/15663 [==============================] - ETA: 0s - loss: 0.7855 - accuracy: 0.58 - 0s 26us/step - loss: 0.7847 - accuracy: 0.5842 - val_loss: 0.8024 - val_accuracy: 0.6310\n",
      "Epoch 195/1000\n",
      "15663/15663 [==============================] - ETA: 0s - loss: 0.7816 - accuracy: 0.58 - 0s 26us/step - loss: 0.7782 - accuracy: 0.5876 - val_loss: 0.8017 - val_accuracy: 0.6313\n",
      "Epoch 196/1000\n",
      "15663/15663 [==============================] - ETA: 0s - loss: 0.7855 - accuracy: 0.57 - 0s 25us/step - loss: 0.7833 - accuracy: 0.5814 - val_loss: 0.8012 - val_accuracy: 0.6310\n",
      "Epoch 197/1000\n",
      "15663/15663 [==============================] - ETA: 0s - loss: 0.7857 - accuracy: 0.58 - 0s 26us/step - loss: 0.7805 - accuracy: 0.5882 - val_loss: 0.8008 - val_accuracy: 0.6320\n",
      "Epoch 198/1000\n",
      "15663/15663 [==============================] - ETA: 0s - loss: 0.7736 - accuracy: 0.59 - 0s 26us/step - loss: 0.7752 - accuracy: 0.5923 - val_loss: 0.7999 - val_accuracy: 0.6323\n",
      "Epoch 199/1000\n",
      "15663/15663 [==============================] - ETA: 0s - loss: 0.7771 - accuracy: 0.59 - 0s 26us/step - loss: 0.7760 - accuracy: 0.5899 - val_loss: 0.7988 - val_accuracy: 0.6323\n",
      "Epoch 200/1000\n",
      "15663/15663 [==============================] - ETA: 0s - loss: 0.7741 - accuracy: 0.59 - 0s 27us/step - loss: 0.7746 - accuracy: 0.5918 - val_loss: 0.7979 - val_accuracy: 0.6338\n",
      "Epoch 201/1000\n",
      "15663/15663 [==============================] - ETA: 0s - loss: 0.7798 - accuracy: 0.58 - 0s 26us/step - loss: 0.7788 - accuracy: 0.5869 - val_loss: 0.7975 - val_accuracy: 0.6330\n",
      "Epoch 202/1000\n",
      "15663/15663 [==============================] - ETA: 0s - loss: 0.7767 - accuracy: 0.59 - 0s 27us/step - loss: 0.7750 - accuracy: 0.5904 - val_loss: 0.7972 - val_accuracy: 0.6330\n",
      "Epoch 203/1000\n",
      "15663/15663 [==============================] - ETA: 0s - loss: 0.7712 - accuracy: 0.59 - 0s 28us/step - loss: 0.7728 - accuracy: 0.5932 - val_loss: 0.7965 - val_accuracy: 0.6338\n",
      "Epoch 204/1000\n",
      "15663/15663 [==============================] - ETA: 0s - loss: 0.7672 - accuracy: 0.59 - 0s 28us/step - loss: 0.7695 - accuracy: 0.5934 - val_loss: 0.7957 - val_accuracy: 0.6338\n",
      "Epoch 205/1000\n",
      "15663/15663 [==============================] - ETA: 0s - loss: 0.7718 - accuracy: 0.59 - 0s 27us/step - loss: 0.7713 - accuracy: 0.5916 - val_loss: 0.7946 - val_accuracy: 0.6341\n",
      "Epoch 206/1000\n",
      "15663/15663 [==============================] - ETA: 0s - loss: 0.7705 - accuracy: 0.59 - 0s 26us/step - loss: 0.7678 - accuracy: 0.5977 - val_loss: 0.7940 - val_accuracy: 0.6348\n",
      "Epoch 207/1000\n",
      "15663/15663 [==============================] - ETA: 0s - loss: 0.7684 - accuracy: 0.59 - 0s 26us/step - loss: 0.7686 - accuracy: 0.5928 - val_loss: 0.7935 - val_accuracy: 0.6356\n",
      "Epoch 208/1000\n",
      "15663/15663 [==============================] - ETA: 0s - loss: 0.7664 - accuracy: 0.59 - 0s 26us/step - loss: 0.7697 - accuracy: 0.5938 - val_loss: 0.7927 - val_accuracy: 0.6361\n",
      "Epoch 209/1000\n",
      "15663/15663 [==============================] - ETA: 0s - loss: 0.7713 - accuracy: 0.58 - 0s 26us/step - loss: 0.7707 - accuracy: 0.5909 - val_loss: 0.7918 - val_accuracy: 0.6361\n",
      "Epoch 210/1000\n",
      "15663/15663 [==============================] - ETA: 0s - loss: 0.7646 - accuracy: 0.60 - 0s 26us/step - loss: 0.7663 - accuracy: 0.5998 - val_loss: 0.7908 - val_accuracy: 0.6359\n",
      "Epoch 211/1000\n",
      "15663/15663 [==============================] - ETA: 0s - loss: 0.7660 - accuracy: 0.60 - 0s 28us/step - loss: 0.7638 - accuracy: 0.6004 - val_loss: 0.7898 - val_accuracy: 0.6374\n",
      "Epoch 212/1000\n"
     ]
    },
    {
     "name": "stdout",
     "output_type": "stream",
     "text": [
      "15663/15663 [==============================] - ETA: 0s - loss: 0.7650 - accuracy: 0.59 - 0s 29us/step - loss: 0.7643 - accuracy: 0.5999 - val_loss: 0.7894 - val_accuracy: 0.6369\n",
      "Epoch 213/1000\n",
      "15663/15663 [==============================] - ETA: 0s - loss: 0.7644 - accuracy: 0.60 - 0s 29us/step - loss: 0.7628 - accuracy: 0.6023 - val_loss: 0.7888 - val_accuracy: 0.6376\n",
      "Epoch 214/1000\n",
      "15663/15663 [==============================] - ETA: 0s - loss: 0.7615 - accuracy: 0.59 - 0s 29us/step - loss: 0.7634 - accuracy: 0.5996 - val_loss: 0.7880 - val_accuracy: 0.6387\n",
      "Epoch 215/1000\n",
      "15663/15663 [==============================] - ETA: 0s - loss: 0.7598 - accuracy: 0.60 - 0s 29us/step - loss: 0.7611 - accuracy: 0.6035 - val_loss: 0.7871 - val_accuracy: 0.6392\n",
      "Epoch 216/1000\n",
      "15663/15663 [==============================] - ETA: 0s - loss: 0.7584 - accuracy: 0.60 - 0s 30us/step - loss: 0.7613 - accuracy: 0.6029 - val_loss: 0.7863 - val_accuracy: 0.6394\n",
      "Epoch 217/1000\n",
      "15663/15663 [==============================] - ETA: 0s - loss: 0.7626 - accuracy: 0.59 - 0s 29us/step - loss: 0.7595 - accuracy: 0.6032 - val_loss: 0.7857 - val_accuracy: 0.6399\n",
      "Epoch 218/1000\n",
      "15663/15663 [==============================] - ETA: 0s - loss: 0.7531 - accuracy: 0.60 - 0s 28us/step - loss: 0.7556 - accuracy: 0.6095 - val_loss: 0.7848 - val_accuracy: 0.6407\n",
      "Epoch 219/1000\n",
      "15663/15663 [==============================] - ETA: 0s - loss: 0.7565 - accuracy: 0.60 - 0s 27us/step - loss: 0.7563 - accuracy: 0.6045 - val_loss: 0.7837 - val_accuracy: 0.6425\n",
      "Epoch 220/1000\n",
      "15663/15663 [==============================] - ETA: 0s - loss: 0.7513 - accuracy: 0.61 - 0s 27us/step - loss: 0.7552 - accuracy: 0.6109 - val_loss: 0.7828 - val_accuracy: 0.6443\n",
      "Epoch 221/1000\n",
      "15663/15663 [==============================] - ETA: 0s - loss: 0.7504 - accuracy: 0.61 - 0s 27us/step - loss: 0.7526 - accuracy: 0.6112 - val_loss: 0.7824 - val_accuracy: 0.6438\n",
      "Epoch 222/1000\n",
      "15663/15663 [==============================] - ETA: 0s - loss: 0.7581 - accuracy: 0.60 - 0s 28us/step - loss: 0.7550 - accuracy: 0.6086 - val_loss: 0.7820 - val_accuracy: 0.6438\n",
      "Epoch 223/1000\n",
      "15663/15663 [==============================] - ETA: 0s - loss: 0.7506 - accuracy: 0.61 - 0s 26us/step - loss: 0.7522 - accuracy: 0.6112 - val_loss: 0.7815 - val_accuracy: 0.6453\n",
      "Epoch 224/1000\n",
      "15663/15663 [==============================] - ETA: 0s - loss: 0.7456 - accuracy: 0.61 - 0s 27us/step - loss: 0.7488 - accuracy: 0.6151 - val_loss: 0.7800 - val_accuracy: 0.6468\n",
      "Epoch 225/1000\n",
      "15663/15663 [==============================] - ETA: 0s - loss: 0.7439 - accuracy: 0.61 - 0s 27us/step - loss: 0.7457 - accuracy: 0.6161 - val_loss: 0.7787 - val_accuracy: 0.6484\n",
      "Epoch 226/1000\n",
      "15663/15663 [==============================] - ETA: 0s - loss: 0.7503 - accuracy: 0.61 - 0s 28us/step - loss: 0.7492 - accuracy: 0.6160 - val_loss: 0.7779 - val_accuracy: 0.6504\n",
      "Epoch 227/1000\n",
      "15663/15663 [==============================] - ETA: 0s - loss: 0.7523 - accuracy: 0.61 - 0s 27us/step - loss: 0.7507 - accuracy: 0.6164 - val_loss: 0.7776 - val_accuracy: 0.6512\n",
      "Epoch 228/1000\n",
      "15663/15663 [==============================] - ETA: 0s - loss: 0.7509 - accuracy: 0.61 - 0s 28us/step - loss: 0.7478 - accuracy: 0.6193 - val_loss: 0.7769 - val_accuracy: 0.6522\n",
      "Epoch 229/1000\n",
      "15663/15663 [==============================] - ETA: 0s - loss: 0.7419 - accuracy: 0.62 - 0s 26us/step - loss: 0.7448 - accuracy: 0.6208 - val_loss: 0.7758 - val_accuracy: 0.6537\n",
      "Epoch 230/1000\n",
      "15663/15663 [==============================] - ETA: 0s - loss: 0.7461 - accuracy: 0.62 - 0s 27us/step - loss: 0.7430 - accuracy: 0.6221 - val_loss: 0.7746 - val_accuracy: 0.6550\n",
      "Epoch 231/1000\n",
      "15663/15663 [==============================] - ETA: 0s - loss: 0.7459 - accuracy: 0.62 - 0s 26us/step - loss: 0.7410 - accuracy: 0.6284 - val_loss: 0.7734 - val_accuracy: 0.6565\n",
      "Epoch 232/1000\n",
      "15663/15663 [==============================] - ETA: 0s - loss: 0.7348 - accuracy: 0.63 - 0s 26us/step - loss: 0.7384 - accuracy: 0.6303 - val_loss: 0.7725 - val_accuracy: 0.6565\n",
      "Epoch 233/1000\n",
      "15663/15663 [==============================] - ETA: 0s - loss: 0.7483 - accuracy: 0.62 - 0s 27us/step - loss: 0.7443 - accuracy: 0.6238 - val_loss: 0.7721 - val_accuracy: 0.6586\n",
      "Epoch 234/1000\n",
      "15663/15663 [==============================] - ETA: 0s - loss: 0.7378 - accuracy: 0.62 - 0s 27us/step - loss: 0.7414 - accuracy: 0.6251 - val_loss: 0.7715 - val_accuracy: 0.6596\n",
      "Epoch 235/1000\n",
      "15663/15663 [==============================] - ETA: 0s - loss: 0.7399 - accuracy: 0.62 - 0s 26us/step - loss: 0.7391 - accuracy: 0.6296 - val_loss: 0.7708 - val_accuracy: 0.6619\n",
      "Epoch 236/1000\n",
      "15663/15663 [==============================] - ETA: 0s - loss: 0.7380 - accuracy: 0.62 - 0s 27us/step - loss: 0.7387 - accuracy: 0.6294 - val_loss: 0.7696 - val_accuracy: 0.6647\n",
      "Epoch 237/1000\n",
      "15663/15663 [==============================] - ETA: 0s - loss: 0.7369 - accuracy: 0.63 - 0s 26us/step - loss: 0.7375 - accuracy: 0.6321 - val_loss: 0.7682 - val_accuracy: 0.6683\n",
      "Epoch 238/1000\n",
      "15663/15663 [==============================] - ETA: 0s - loss: 0.7318 - accuracy: 0.64 - 0s 27us/step - loss: 0.7352 - accuracy: 0.6364 - val_loss: 0.7671 - val_accuracy: 0.6719\n",
      "Epoch 239/1000\n",
      "15663/15663 [==============================] - ETA: 0s - loss: 0.7340 - accuracy: 0.63 - 0s 26us/step - loss: 0.7336 - accuracy: 0.6386 - val_loss: 0.7667 - val_accuracy: 0.6736\n",
      "Epoch 240/1000\n",
      "15663/15663 [==============================] - ETA: 0s - loss: 0.7352 - accuracy: 0.63 - 0s 26us/step - loss: 0.7363 - accuracy: 0.6327 - val_loss: 0.7665 - val_accuracy: 0.6747\n",
      "Epoch 241/1000\n",
      "15663/15663 [==============================] - ETA: 0s - loss: 0.7311 - accuracy: 0.64 - 0s 26us/step - loss: 0.7323 - accuracy: 0.6399 - val_loss: 0.7658 - val_accuracy: 0.6757\n",
      "Epoch 242/1000\n",
      "15663/15663 [==============================] - ETA: 0s - loss: 0.7266 - accuracy: 0.64 - 0s 26us/step - loss: 0.7314 - accuracy: 0.6418 - val_loss: 0.7643 - val_accuracy: 0.6808\n",
      "Epoch 243/1000\n",
      "15663/15663 [==============================] - ETA: 0s - loss: 0.7233 - accuracy: 0.64 - 0s 27us/step - loss: 0.7293 - accuracy: 0.6437 - val_loss: 0.7631 - val_accuracy: 0.6836\n",
      "Epoch 244/1000\n",
      "15663/15663 [==============================] - ETA: 0s - loss: 0.7254 - accuracy: 0.65 - 0s 26us/step - loss: 0.7265 - accuracy: 0.6511 - val_loss: 0.7622 - val_accuracy: 0.6864\n",
      "Epoch 245/1000\n",
      "15663/15663 [==============================] - ETA: 0s - loss: 0.7237 - accuracy: 0.65 - 0s 26us/step - loss: 0.7222 - accuracy: 0.6575 - val_loss: 0.7615 - val_accuracy: 0.6869\n",
      "Epoch 246/1000\n",
      "15663/15663 [==============================] - ETA: 0s - loss: 0.7264 - accuracy: 0.65 - 0s 27us/step - loss: 0.7257 - accuracy: 0.6525 - val_loss: 0.7605 - val_accuracy: 0.6872\n",
      "Epoch 247/1000\n",
      "15663/15663 [==============================] - ETA: 0s - loss: 0.7267 - accuracy: 0.65 - 0s 26us/step - loss: 0.7257 - accuracy: 0.6511 - val_loss: 0.7592 - val_accuracy: 0.6895\n",
      "Epoch 248/1000\n",
      "15663/15663 [==============================] - ETA: 0s - loss: 0.7226 - accuracy: 0.66 - 0s 26us/step - loss: 0.7270 - accuracy: 0.6552 - val_loss: 0.7582 - val_accuracy: 0.6931\n",
      "Epoch 249/1000\n",
      "15663/15663 [==============================] - ETA: 0s - loss: 0.7220 - accuracy: 0.65 - 0s 28us/step - loss: 0.7223 - accuracy: 0.6605 - val_loss: 0.7572 - val_accuracy: 0.6941\n",
      "Epoch 250/1000\n",
      "15663/15663 [==============================] - ETA: 0s - loss: 0.7137 - accuracy: 0.66 - 0s 28us/step - loss: 0.7187 - accuracy: 0.6592 - val_loss: 0.7562 - val_accuracy: 0.6961\n",
      "Epoch 251/1000\n",
      "15663/15663 [==============================] - ETA: 0s - loss: 0.7181 - accuracy: 0.66 - 0s 28us/step - loss: 0.7146 - accuracy: 0.6672 - val_loss: 0.7552 - val_accuracy: 0.6971\n",
      "Epoch 252/1000\n",
      "15663/15663 [==============================] - ETA: 0s - loss: 0.7139 - accuracy: 0.66 - 0s 30us/step - loss: 0.7146 - accuracy: 0.6647 - val_loss: 0.7540 - val_accuracy: 0.6987\n",
      "Epoch 253/1000\n",
      "15663/15663 [==============================] - ETA: 0s - loss: 0.7188 - accuracy: 0.66 - 0s 27us/step - loss: 0.7156 - accuracy: 0.6639 - val_loss: 0.7530 - val_accuracy: 0.6984\n",
      "Epoch 254/1000\n"
     ]
    },
    {
     "name": "stdout",
     "output_type": "stream",
     "text": [
      "15663/15663 [==============================] - ETA: 0s - loss: 0.7148 - accuracy: 0.66 - 0s 28us/step - loss: 0.7174 - accuracy: 0.6629 - val_loss: 0.7521 - val_accuracy: 0.6997\n",
      "Epoch 255/1000\n",
      "15663/15663 [==============================] - ETA: 0s - loss: 0.7067 - accuracy: 0.67 - 0s 26us/step - loss: 0.7105 - accuracy: 0.6693 - val_loss: 0.7510 - val_accuracy: 0.7010\n",
      "Epoch 256/1000\n",
      "15663/15663 [==============================] - ETA: 0s - loss: 0.7150 - accuracy: 0.66 - 0s 26us/step - loss: 0.7137 - accuracy: 0.6659 - val_loss: 0.7496 - val_accuracy: 0.7058\n",
      "Epoch 257/1000\n",
      "15663/15663 [==============================] - ETA: 0s - loss: 0.7199 - accuracy: 0.65 - 0s 27us/step - loss: 0.7135 - accuracy: 0.6665 - val_loss: 0.7484 - val_accuracy: 0.7094\n",
      "Epoch 258/1000\n",
      "15663/15663 [==============================] - ETA: 0s - loss: 0.7070 - accuracy: 0.67 - 0s 25us/step - loss: 0.7058 - accuracy: 0.6755 - val_loss: 0.7473 - val_accuracy: 0.7114\n",
      "Epoch 259/1000\n",
      "15663/15663 [==============================] - ETA: 0s - loss: 0.7082 - accuracy: 0.67 - 0s 27us/step - loss: 0.7106 - accuracy: 0.6731 - val_loss: 0.7462 - val_accuracy: 0.7132\n",
      "Epoch 260/1000\n",
      "15663/15663 [==============================] - ETA: 0s - loss: 0.7066 - accuracy: 0.68 - 0s 26us/step - loss: 0.7098 - accuracy: 0.6755 - val_loss: 0.7454 - val_accuracy: 0.7155\n",
      "Epoch 261/1000\n",
      "15663/15663 [==============================] - ETA: 0s - loss: 0.7030 - accuracy: 0.67 - 0s 26us/step - loss: 0.7064 - accuracy: 0.6776 - val_loss: 0.7445 - val_accuracy: 0.7186\n",
      "Epoch 262/1000\n",
      "15663/15663 [==============================] - ETA: 0s - loss: 0.7072 - accuracy: 0.67 - 0s 26us/step - loss: 0.7044 - accuracy: 0.6812 - val_loss: 0.7434 - val_accuracy: 0.7209\n",
      "Epoch 263/1000\n",
      "15663/15663 [==============================] - ETA: 0s - loss: 0.7039 - accuracy: 0.67 - 0s 26us/step - loss: 0.7008 - accuracy: 0.6830 - val_loss: 0.7420 - val_accuracy: 0.7250\n",
      "Epoch 264/1000\n",
      "15663/15663 [==============================] - ETA: 0s - loss: 0.7025 - accuracy: 0.68 - 0s 26us/step - loss: 0.7013 - accuracy: 0.6893 - val_loss: 0.7408 - val_accuracy: 0.7273\n",
      "Epoch 265/1000\n",
      "15663/15663 [==============================] - ETA: 0s - loss: 0.7049 - accuracy: 0.68 - 0s 26us/step - loss: 0.7001 - accuracy: 0.6874 - val_loss: 0.7397 - val_accuracy: 0.7311\n",
      "Epoch 266/1000\n",
      "15663/15663 [==============================] - ETA: 0s - loss: 0.7024 - accuracy: 0.68 - 0s 27us/step - loss: 0.7019 - accuracy: 0.6883 - val_loss: 0.7384 - val_accuracy: 0.7339\n",
      "Epoch 267/1000\n",
      "15663/15663 [==============================] - ETA: 0s - loss: 0.6981 - accuracy: 0.69 - 0s 27us/step - loss: 0.6973 - accuracy: 0.6962 - val_loss: 0.7374 - val_accuracy: 0.7352\n",
      "Epoch 268/1000\n",
      "15663/15663 [==============================] - ETA: 0s - loss: 0.6917 - accuracy: 0.69 - 0s 26us/step - loss: 0.6914 - accuracy: 0.6994 - val_loss: 0.7362 - val_accuracy: 0.7367\n",
      "Epoch 269/1000\n",
      "15663/15663 [==============================] - ETA: 0s - loss: 0.6966 - accuracy: 0.69 - 0s 26us/step - loss: 0.6945 - accuracy: 0.6962 - val_loss: 0.7348 - val_accuracy: 0.7372\n",
      "Epoch 270/1000\n",
      "15663/15663 [==============================] - ETA: 0s - loss: 0.6982 - accuracy: 0.68 - 0s 26us/step - loss: 0.6974 - accuracy: 0.6901 - val_loss: 0.7335 - val_accuracy: 0.7398\n",
      "Epoch 271/1000\n",
      "15663/15663 [==============================] - ETA: 0s - loss: 0.6903 - accuracy: 0.69 - 0s 26us/step - loss: 0.6941 - accuracy: 0.6966 - val_loss: 0.7323 - val_accuracy: 0.7423\n",
      "Epoch 272/1000\n",
      "15663/15663 [==============================] - ETA: 0s - loss: 0.6925 - accuracy: 0.69 - 0s 27us/step - loss: 0.6919 - accuracy: 0.6989 - val_loss: 0.7313 - val_accuracy: 0.7434\n",
      "Epoch 273/1000\n",
      "15663/15663 [==============================] - ETA: 0s - loss: 0.6903 - accuracy: 0.70 - 0s 27us/step - loss: 0.6897 - accuracy: 0.6994 - val_loss: 0.7301 - val_accuracy: 0.7457\n",
      "Epoch 274/1000\n",
      "15663/15663 [==============================] - ETA: 0s - loss: 0.6862 - accuracy: 0.70 - 0s 26us/step - loss: 0.6860 - accuracy: 0.7032 - val_loss: 0.7288 - val_accuracy: 0.7469\n",
      "Epoch 275/1000\n",
      "15663/15663 [==============================] - ETA: 0s - loss: 0.6822 - accuracy: 0.70 - 0s 26us/step - loss: 0.6802 - accuracy: 0.7117 - val_loss: 0.7276 - val_accuracy: 0.7490\n",
      "Epoch 276/1000\n",
      "15663/15663 [==============================] - ETA: 0s - loss: 0.6893 - accuracy: 0.70 - 0s 26us/step - loss: 0.6865 - accuracy: 0.7050 - val_loss: 0.7263 - val_accuracy: 0.7505\n",
      "Epoch 277/1000\n",
      "15663/15663 [==============================] - ETA: 0s - loss: 0.6755 - accuracy: 0.71 - 0s 29us/step - loss: 0.6817 - accuracy: 0.7088 - val_loss: 0.7250 - val_accuracy: 0.7515\n",
      "Epoch 278/1000\n",
      "15663/15663 [==============================] - ETA: 0s - loss: 0.6767 - accuracy: 0.71 - 0s 26us/step - loss: 0.6767 - accuracy: 0.7126 - val_loss: 0.7236 - val_accuracy: 0.7520\n",
      "Epoch 279/1000\n",
      "15663/15663 [==============================] - ETA: 0s - loss: 0.6778 - accuracy: 0.71 - 0s 26us/step - loss: 0.6785 - accuracy: 0.7103 - val_loss: 0.7221 - val_accuracy: 0.7541\n",
      "Epoch 280/1000\n",
      "15663/15663 [==============================] - ETA: 0s - loss: 0.6771 - accuracy: 0.71 - 0s 26us/step - loss: 0.6745 - accuracy: 0.7142 - val_loss: 0.7207 - val_accuracy: 0.7566\n",
      "Epoch 281/1000\n",
      "15663/15663 [==============================] - ETA: 0s - loss: 0.6748 - accuracy: 0.71 - 0s 26us/step - loss: 0.6760 - accuracy: 0.7138 - val_loss: 0.7196 - val_accuracy: 0.7582\n",
      "Epoch 282/1000\n",
      "15663/15663 [==============================] - ETA: 0s - loss: 0.6750 - accuracy: 0.71 - 0s 28us/step - loss: 0.6770 - accuracy: 0.7126 - val_loss: 0.7185 - val_accuracy: 0.7592\n",
      "Epoch 283/1000\n",
      "15663/15663 [==============================] - ETA: 0s - loss: 0.6676 - accuracy: 0.72 - 0s 27us/step - loss: 0.6694 - accuracy: 0.7190 - val_loss: 0.7171 - val_accuracy: 0.7617\n",
      "Epoch 284/1000\n",
      "15663/15663 [==============================] - ETA: 0s - loss: 0.6632 - accuracy: 0.72 - 0s 28us/step - loss: 0.6649 - accuracy: 0.7255 - val_loss: 0.7159 - val_accuracy: 0.7638\n",
      "Epoch 285/1000\n",
      "15663/15663 [==============================] - ETA: 0s - loss: 0.6705 - accuracy: 0.72 - 0s 28us/step - loss: 0.6697 - accuracy: 0.7213 - val_loss: 0.7146 - val_accuracy: 0.7656\n",
      "Epoch 286/1000\n",
      "15663/15663 [==============================] - ETA: 0s - loss: 0.6637 - accuracy: 0.72 - 0s 28us/step - loss: 0.6641 - accuracy: 0.7252 - val_loss: 0.7132 - val_accuracy: 0.7669\n",
      "Epoch 287/1000\n",
      "15663/15663 [==============================] - ETA: 0s - loss: 0.6719 - accuracy: 0.71 - 0s 28us/step - loss: 0.6696 - accuracy: 0.7174 - val_loss: 0.7118 - val_accuracy: 0.7669\n",
      "Epoch 288/1000\n",
      "15663/15663 [==============================] - ETA: 0s - loss: 0.6592 - accuracy: 0.72 - 0s 29us/step - loss: 0.6593 - accuracy: 0.7302 - val_loss: 0.7105 - val_accuracy: 0.7684\n",
      "Epoch 289/1000\n",
      "15663/15663 [==============================] - ETA: 0s - loss: 0.6680 - accuracy: 0.72 - 0s 28us/step - loss: 0.6647 - accuracy: 0.7239 - val_loss: 0.7090 - val_accuracy: 0.7704\n",
      "Epoch 290/1000\n",
      "15663/15663 [==============================] - ETA: 0s - loss: 0.6630 - accuracy: 0.72 - 0s 29us/step - loss: 0.6635 - accuracy: 0.7267 - val_loss: 0.7076 - val_accuracy: 0.7712\n",
      "Epoch 291/1000\n",
      "15663/15663 [==============================] - ETA: 0s - loss: 0.6546 - accuracy: 0.73 - 0s 29us/step - loss: 0.6577 - accuracy: 0.7297 - val_loss: 0.7065 - val_accuracy: 0.7720\n",
      "Epoch 292/1000\n",
      "15663/15663 [==============================] - ETA: 0s - loss: 0.6587 - accuracy: 0.72 - 0s 28us/step - loss: 0.6553 - accuracy: 0.7287 - val_loss: 0.7057 - val_accuracy: 0.7735\n",
      "Epoch 293/1000\n",
      "15663/15663 [==============================] - ETA: 0s - loss: 0.6533 - accuracy: 0.73 - 0s 26us/step - loss: 0.6565 - accuracy: 0.7294 - val_loss: 0.7043 - val_accuracy: 0.7753\n",
      "Epoch 294/1000\n",
      "15663/15663 [==============================] - ETA: 0s - loss: 0.6574 - accuracy: 0.72 - 0s 28us/step - loss: 0.6576 - accuracy: 0.7268 - val_loss: 0.7024 - val_accuracy: 0.7771\n",
      "Epoch 295/1000\n",
      "15663/15663 [==============================] - ETA: 0s - loss: 0.6565 - accuracy: 0.72 - 0s 26us/step - loss: 0.6530 - accuracy: 0.7331 - val_loss: 0.7007 - val_accuracy: 0.7786\n",
      "Epoch 296/1000\n"
     ]
    },
    {
     "name": "stdout",
     "output_type": "stream",
     "text": [
      "15663/15663 [==============================] - ETA: 0s - loss: 0.6561 - accuracy: 0.72 - 0s 26us/step - loss: 0.6514 - accuracy: 0.7317 - val_loss: 0.6994 - val_accuracy: 0.7768\n",
      "Epoch 297/1000\n",
      "15663/15663 [==============================] - ETA: 0s - loss: 0.6565 - accuracy: 0.72 - 0s 25us/step - loss: 0.6539 - accuracy: 0.7310 - val_loss: 0.6985 - val_accuracy: 0.7766\n",
      "Epoch 298/1000\n",
      "15663/15663 [==============================] - ETA: 0s - loss: 0.6549 - accuracy: 0.72 - 0s 27us/step - loss: 0.6551 - accuracy: 0.7290 - val_loss: 0.6977 - val_accuracy: 0.7763\n",
      "Epoch 299/1000\n",
      "15663/15663 [==============================] - ETA: 0s - loss: 0.6476 - accuracy: 0.73 - 0s 27us/step - loss: 0.6506 - accuracy: 0.7298 - val_loss: 0.6960 - val_accuracy: 0.7791\n",
      "Epoch 300/1000\n",
      "15663/15663 [==============================] - ETA: 0s - loss: 0.6498 - accuracy: 0.73 - 0s 29us/step - loss: 0.6482 - accuracy: 0.7339 - val_loss: 0.6941 - val_accuracy: 0.7829\n",
      "Epoch 301/1000\n",
      "15663/15663 [==============================] - ETA: 0s - loss: 0.6440 - accuracy: 0.74 - 0s 26us/step - loss: 0.6444 - accuracy: 0.7414 - val_loss: 0.6927 - val_accuracy: 0.7863\n",
      "Epoch 302/1000\n",
      "15663/15663 [==============================] - ETA: 0s - loss: 0.6458 - accuracy: 0.73 - 0s 26us/step - loss: 0.6423 - accuracy: 0.7398 - val_loss: 0.6916 - val_accuracy: 0.7875\n",
      "Epoch 303/1000\n",
      "15663/15663 [==============================] - ETA: 0s - loss: 0.6360 - accuracy: 0.74 - 0s 26us/step - loss: 0.6421 - accuracy: 0.7421 - val_loss: 0.6906 - val_accuracy: 0.7855\n",
      "Epoch 304/1000\n",
      "15663/15663 [==============================] - ETA: 0s - loss: 0.6429 - accuracy: 0.74 - 0s 26us/step - loss: 0.6436 - accuracy: 0.7391 - val_loss: 0.6895 - val_accuracy: 0.7847\n",
      "Epoch 305/1000\n",
      "15663/15663 [==============================] - ETA: 0s - loss: 0.6410 - accuracy: 0.74 - 0s 27us/step - loss: 0.6389 - accuracy: 0.7428 - val_loss: 0.6878 - val_accuracy: 0.7845\n",
      "Epoch 306/1000\n",
      "15663/15663 [==============================] - ETA: 0s - loss: 0.6398 - accuracy: 0.73 - 0s 26us/step - loss: 0.6401 - accuracy: 0.7386 - val_loss: 0.6859 - val_accuracy: 0.7878\n",
      "Epoch 307/1000\n",
      "15663/15663 [==============================] - ETA: 0s - loss: 0.6423 - accuracy: 0.73 - 0s 26us/step - loss: 0.6427 - accuracy: 0.7350 - val_loss: 0.6844 - val_accuracy: 0.7886\n",
      "Epoch 308/1000\n",
      "15663/15663 [==============================] - ETA: 0s - loss: 0.6280 - accuracy: 0.74 - 0s 26us/step - loss: 0.6297 - accuracy: 0.7459 - val_loss: 0.6830 - val_accuracy: 0.7891\n",
      "Epoch 309/1000\n",
      "15663/15663 [==============================] - ETA: 0s - loss: 0.6309 - accuracy: 0.74 - 0s 27us/step - loss: 0.6303 - accuracy: 0.7456 - val_loss: 0.6819 - val_accuracy: 0.7896\n",
      "Epoch 310/1000\n",
      "15663/15663 [==============================] - ETA: 0s - loss: 0.6315 - accuracy: 0.74 - 0s 26us/step - loss: 0.6343 - accuracy: 0.7408 - val_loss: 0.6809 - val_accuracy: 0.7903\n",
      "Epoch 311/1000\n",
      "15663/15663 [==============================] - ETA: 0s - loss: 0.6283 - accuracy: 0.75 - 0s 27us/step - loss: 0.6280 - accuracy: 0.7513 - val_loss: 0.6797 - val_accuracy: 0.7903\n",
      "Epoch 312/1000\n",
      "15663/15663 [==============================] - ETA: 0s - loss: 0.6247 - accuracy: 0.74 - 0s 26us/step - loss: 0.6278 - accuracy: 0.7467 - val_loss: 0.6780 - val_accuracy: 0.7911\n",
      "Epoch 313/1000\n",
      "15663/15663 [==============================] - ETA: 0s - loss: 0.6300 - accuracy: 0.74 - 0s 27us/step - loss: 0.6299 - accuracy: 0.7443 - val_loss: 0.6766 - val_accuracy: 0.7921\n",
      "Epoch 314/1000\n",
      "15663/15663 [==============================] - ETA: 0s - loss: 0.6298 - accuracy: 0.74 - 0s 28us/step - loss: 0.6266 - accuracy: 0.7474 - val_loss: 0.6753 - val_accuracy: 0.7934\n",
      "Epoch 315/1000\n",
      "15663/15663 [==============================] - ETA: 0s - loss: 0.6188 - accuracy: 0.75 - 0s 27us/step - loss: 0.6244 - accuracy: 0.7473 - val_loss: 0.6744 - val_accuracy: 0.7942\n",
      "Epoch 316/1000\n",
      "15663/15663 [==============================] - ETA: 0s - loss: 0.6187 - accuracy: 0.75 - 0s 26us/step - loss: 0.6190 - accuracy: 0.7548 - val_loss: 0.6727 - val_accuracy: 0.7962\n",
      "Epoch 317/1000\n",
      "15663/15663 [==============================] - ETA: 0s - loss: 0.6183 - accuracy: 0.76 - 0s 26us/step - loss: 0.6158 - accuracy: 0.7601 - val_loss: 0.6709 - val_accuracy: 0.7965\n",
      "Epoch 318/1000\n",
      "15663/15663 [==============================] - ETA: 0s - loss: 0.6176 - accuracy: 0.75 - 0s 27us/step - loss: 0.6184 - accuracy: 0.7541 - val_loss: 0.6694 - val_accuracy: 0.7962\n",
      "Epoch 319/1000\n",
      "15663/15663 [==============================] - ETA: 0s - loss: 0.6192 - accuracy: 0.74 - 0s 27us/step - loss: 0.6164 - accuracy: 0.7541 - val_loss: 0.6686 - val_accuracy: 0.7942\n",
      "Epoch 320/1000\n",
      "15663/15663 [==============================] - ETA: 0s - loss: 0.6072 - accuracy: 0.76 - 0s 26us/step - loss: 0.6093 - accuracy: 0.7589 - val_loss: 0.6674 - val_accuracy: 0.7949\n",
      "Epoch 321/1000\n",
      "15663/15663 [==============================] - ETA: 0s - loss: 0.6112 - accuracy: 0.75 - 0s 27us/step - loss: 0.6143 - accuracy: 0.7521 - val_loss: 0.6656 - val_accuracy: 0.7972\n",
      "Epoch 322/1000\n",
      "15663/15663 [==============================] - ETA: 0s - loss: 0.6105 - accuracy: 0.75 - 0s 26us/step - loss: 0.6124 - accuracy: 0.7548 - val_loss: 0.6642 - val_accuracy: 0.8003\n",
      "Epoch 323/1000\n",
      "15663/15663 [==============================] - ETA: 0s - loss: 0.6107 - accuracy: 0.75 - 0s 26us/step - loss: 0.6117 - accuracy: 0.7552 - val_loss: 0.6633 - val_accuracy: 0.8026\n",
      "Epoch 324/1000\n",
      "15663/15663 [==============================] - ETA: 0s - loss: 0.6069 - accuracy: 0.76 - 0s 27us/step - loss: 0.6083 - accuracy: 0.7585 - val_loss: 0.6623 - val_accuracy: 0.8031\n",
      "Epoch 325/1000\n",
      "15663/15663 [==============================] - ETA: 0s - loss: 0.6036 - accuracy: 0.75 - 0s 28us/step - loss: 0.6026 - accuracy: 0.7621 - val_loss: 0.6610 - val_accuracy: 0.8036\n",
      "Epoch 326/1000\n",
      "15663/15663 [==============================] - ETA: 0s - loss: 0.6053 - accuracy: 0.75 - 0s 28us/step - loss: 0.6058 - accuracy: 0.7585 - val_loss: 0.6596 - val_accuracy: 0.8039\n",
      "Epoch 327/1000\n",
      "15663/15663 [==============================] - ETA: 0s - loss: 0.6103 - accuracy: 0.75 - 0s 29us/step - loss: 0.6053 - accuracy: 0.7595 - val_loss: 0.6577 - val_accuracy: 0.8046\n",
      "Epoch 328/1000\n",
      "15663/15663 [==============================] - ETA: 0s - loss: 0.6039 - accuracy: 0.75 - 0s 29us/step - loss: 0.6033 - accuracy: 0.7606 - val_loss: 0.6559 - val_accuracy: 0.8054\n",
      "Epoch 329/1000\n",
      "15663/15663 [==============================] - ETA: 0s - loss: 0.5947 - accuracy: 0.76 - 0s 30us/step - loss: 0.5972 - accuracy: 0.7652 - val_loss: 0.6547 - val_accuracy: 0.8044\n",
      "Epoch 330/1000\n",
      "15663/15663 [==============================] - ETA: 0s - loss: 0.5955 - accuracy: 0.76 - 0s 30us/step - loss: 0.5939 - accuracy: 0.7663 - val_loss: 0.6538 - val_accuracy: 0.8049\n",
      "Epoch 331/1000\n",
      "15663/15663 [==============================] - ETA: 0s - loss: 0.5978 - accuracy: 0.76 - 0s 28us/step - loss: 0.5983 - accuracy: 0.7654 - val_loss: 0.6529 - val_accuracy: 0.8064\n",
      "Epoch 332/1000\n",
      "15663/15663 [==============================] - ETA: 0s - loss: 0.5894 - accuracy: 0.77 - 0s 28us/step - loss: 0.5941 - accuracy: 0.7654 - val_loss: 0.6516 - val_accuracy: 0.8087\n",
      "Epoch 333/1000\n",
      "15663/15663 [==============================] - ETA: 0s - loss: 0.5980 - accuracy: 0.76 - 0s 28us/step - loss: 0.5949 - accuracy: 0.7647 - val_loss: 0.6499 - val_accuracy: 0.8098\n",
      "Epoch 334/1000\n",
      "15663/15663 [==============================] - ETA: 0s - loss: 0.5956 - accuracy: 0.76 - 0s 26us/step - loss: 0.5955 - accuracy: 0.7620 - val_loss: 0.6483 - val_accuracy: 0.8105\n",
      "Epoch 335/1000\n",
      "15663/15663 [==============================] - ETA: 0s - loss: 0.5951 - accuracy: 0.76 - 0s 27us/step - loss: 0.5902 - accuracy: 0.7689 - val_loss: 0.6473 - val_accuracy: 0.8100\n",
      "Epoch 336/1000\n",
      "15663/15663 [==============================] - ETA: 0s - loss: 0.5885 - accuracy: 0.76 - 0s 27us/step - loss: 0.5897 - accuracy: 0.7642 - val_loss: 0.6461 - val_accuracy: 0.8080\n",
      "Epoch 337/1000\n",
      "15663/15663 [==============================] - ETA: 0s - loss: 0.5931 - accuracy: 0.76 - 0s 27us/step - loss: 0.5894 - accuracy: 0.7670 - val_loss: 0.6445 - val_accuracy: 0.8077\n",
      "Epoch 338/1000\n"
     ]
    },
    {
     "name": "stdout",
     "output_type": "stream",
     "text": [
      "15663/15663 [==============================] - ETA: 0s - loss: 0.5883 - accuracy: 0.76 - 0s 27us/step - loss: 0.5892 - accuracy: 0.7629 - val_loss: 0.6431 - val_accuracy: 0.8087\n",
      "Epoch 339/1000\n",
      "15663/15663 [==============================] - ETA: 0s - loss: 0.5881 - accuracy: 0.76 - 0s 28us/step - loss: 0.5901 - accuracy: 0.7608 - val_loss: 0.6415 - val_accuracy: 0.8108\n",
      "Epoch 340/1000\n",
      "15663/15663 [==============================] - ETA: 0s - loss: 0.5866 - accuracy: 0.76 - 0s 26us/step - loss: 0.5870 - accuracy: 0.7663 - val_loss: 0.6402 - val_accuracy: 0.8118\n",
      "Epoch 341/1000\n",
      "15663/15663 [==============================] - ETA: 0s - loss: 0.5802 - accuracy: 0.77 - 0s 27us/step - loss: 0.5851 - accuracy: 0.7702 - val_loss: 0.6395 - val_accuracy: 0.8118\n",
      "Epoch 342/1000\n",
      "15663/15663 [==============================] - ETA: 0s - loss: 0.5844 - accuracy: 0.76 - 0s 26us/step - loss: 0.5816 - accuracy: 0.7681 - val_loss: 0.6384 - val_accuracy: 0.8115\n",
      "Epoch 343/1000\n",
      "15663/15663 [==============================] - ETA: 0s - loss: 0.5777 - accuracy: 0.77 - 0s 27us/step - loss: 0.5804 - accuracy: 0.7686 - val_loss: 0.6366 - val_accuracy: 0.8123\n",
      "Epoch 344/1000\n",
      "15663/15663 [==============================] - ETA: 0s - loss: 0.5818 - accuracy: 0.76 - 0s 27us/step - loss: 0.5827 - accuracy: 0.7693 - val_loss: 0.6349 - val_accuracy: 0.8128\n",
      "Epoch 345/1000\n",
      "15663/15663 [==============================] - ETA: 0s - loss: 0.5806 - accuracy: 0.76 - 0s 27us/step - loss: 0.5788 - accuracy: 0.7705 - val_loss: 0.6338 - val_accuracy: 0.8136\n",
      "Epoch 346/1000\n",
      "15663/15663 [==============================] - ETA: 0s - loss: 0.5894 - accuracy: 0.75 - 0s 27us/step - loss: 0.5820 - accuracy: 0.7651 - val_loss: 0.6328 - val_accuracy: 0.8136\n",
      "Epoch 347/1000\n",
      "15663/15663 [==============================] - ETA: 0s - loss: 0.5816 - accuracy: 0.77 - 0s 27us/step - loss: 0.5807 - accuracy: 0.7684 - val_loss: 0.6317 - val_accuracy: 0.8136\n",
      "Epoch 348/1000\n",
      "15663/15663 [==============================] - ETA: 0s - loss: 0.5696 - accuracy: 0.77 - 0s 26us/step - loss: 0.5719 - accuracy: 0.7749 - val_loss: 0.6305 - val_accuracy: 0.8133\n",
      "Epoch 349/1000\n",
      "15663/15663 [==============================] - ETA: 0s - loss: 0.5705 - accuracy: 0.77 - 0s 27us/step - loss: 0.5727 - accuracy: 0.7696 - val_loss: 0.6291 - val_accuracy: 0.8138\n",
      "Epoch 350/1000\n",
      "15663/15663 [==============================] - ETA: 0s - loss: 0.5757 - accuracy: 0.77 - 0s 26us/step - loss: 0.5759 - accuracy: 0.7686 - val_loss: 0.6276 - val_accuracy: 0.8141\n",
      "Epoch 351/1000\n",
      "15663/15663 [==============================] - ETA: 0s - loss: 0.5665 - accuracy: 0.78 - 0s 27us/step - loss: 0.5662 - accuracy: 0.7802 - val_loss: 0.6263 - val_accuracy: 0.8141\n",
      "Epoch 352/1000\n",
      "15663/15663 [==============================] - ETA: 0s - loss: 0.5717 - accuracy: 0.77 - 0s 27us/step - loss: 0.5686 - accuracy: 0.7749 - val_loss: 0.6254 - val_accuracy: 0.8156\n",
      "Epoch 353/1000\n",
      "15663/15663 [==============================] - ETA: 0s - loss: 0.5640 - accuracy: 0.77 - 0s 27us/step - loss: 0.5654 - accuracy: 0.7755 - val_loss: 0.6242 - val_accuracy: 0.8154\n",
      "Epoch 354/1000\n",
      "15663/15663 [==============================] - ETA: 0s - loss: 0.5656 - accuracy: 0.77 - 0s 27us/step - loss: 0.5661 - accuracy: 0.7749 - val_loss: 0.6228 - val_accuracy: 0.8164\n",
      "Epoch 355/1000\n",
      "15663/15663 [==============================] - ETA: 0s - loss: 0.5672 - accuracy: 0.77 - 0s 28us/step - loss: 0.5688 - accuracy: 0.7727 - val_loss: 0.6212 - val_accuracy: 0.8161\n",
      "Epoch 356/1000\n",
      "15663/15663 [==============================] - ETA: 0s - loss: 0.5638 - accuracy: 0.77 - 0s 28us/step - loss: 0.5641 - accuracy: 0.7744 - val_loss: 0.6201 - val_accuracy: 0.8164\n",
      "Epoch 357/1000\n",
      "15663/15663 [==============================] - ETA: 0s - loss: 0.5672 - accuracy: 0.77 - 0s 28us/step - loss: 0.5664 - accuracy: 0.7722 - val_loss: 0.6192 - val_accuracy: 0.8169\n",
      "Epoch 358/1000\n",
      "15663/15663 [==============================] - ETA: 0s - loss: 0.5640 - accuracy: 0.77 - 0s 28us/step - loss: 0.5589 - accuracy: 0.7765 - val_loss: 0.6182 - val_accuracy: 0.8166\n",
      "Epoch 359/1000\n",
      "15663/15663 [==============================] - ETA: 0s - loss: 0.5570 - accuracy: 0.77 - 0s 28us/step - loss: 0.5596 - accuracy: 0.7768 - val_loss: 0.6164 - val_accuracy: 0.8169\n",
      "Epoch 360/1000\n",
      "15663/15663 [==============================] - ETA: 0s - loss: 0.5604 - accuracy: 0.77 - 0s 28us/step - loss: 0.5583 - accuracy: 0.7769 - val_loss: 0.6150 - val_accuracy: 0.8177\n",
      "Epoch 361/1000\n",
      "15663/15663 [==============================] - ETA: 0s - loss: 0.5673 - accuracy: 0.76 - 0s 28us/step - loss: 0.5572 - accuracy: 0.7781 - val_loss: 0.6142 - val_accuracy: 0.8184\n",
      "Epoch 362/1000\n",
      "15663/15663 [==============================] - ETA: 0s - loss: 0.5512 - accuracy: 0.78 - 0s 30us/step - loss: 0.5538 - accuracy: 0.7785 - val_loss: 0.6136 - val_accuracy: 0.8179\n",
      "Epoch 363/1000\n",
      "15663/15663 [==============================] - ETA: 0s - loss: 0.5591 - accuracy: 0.77 - 0s 31us/step - loss: 0.5618 - accuracy: 0.7758 - val_loss: 0.6123 - val_accuracy: 0.8184\n",
      "Epoch 364/1000\n",
      "15663/15663 [==============================] - ETA: 0s - loss: 0.5530 - accuracy: 0.78 - 0s 30us/step - loss: 0.5546 - accuracy: 0.7788 - val_loss: 0.6105 - val_accuracy: 0.8192\n",
      "Epoch 365/1000\n",
      "15663/15663 [==============================] - ETA: 0s - loss: 0.5458 - accuracy: 0.78 - 0s 29us/step - loss: 0.5518 - accuracy: 0.7811 - val_loss: 0.6090 - val_accuracy: 0.8210\n",
      "Epoch 366/1000\n",
      "15663/15663 [==============================] - ETA: 0s - loss: 0.5445 - accuracy: 0.78 - 0s 28us/step - loss: 0.5501 - accuracy: 0.7820 - val_loss: 0.6076 - val_accuracy: 0.8223\n",
      "Epoch 367/1000\n",
      "15663/15663 [==============================] - ETA: 0s - loss: 0.5480 - accuracy: 0.78 - 0s 28us/step - loss: 0.5487 - accuracy: 0.7823 - val_loss: 0.6066 - val_accuracy: 0.8220\n",
      "Epoch 368/1000\n",
      "15663/15663 [==============================] - ETA: 0s - loss: 0.5467 - accuracy: 0.77 - 0s 27us/step - loss: 0.5444 - accuracy: 0.7818 - val_loss: 0.6063 - val_accuracy: 0.8212\n",
      "Epoch 369/1000\n",
      "15663/15663 [==============================] - ETA: 0s - loss: 0.5444 - accuracy: 0.78 - 0s 28us/step - loss: 0.5436 - accuracy: 0.7831 - val_loss: 0.6055 - val_accuracy: 0.8223\n",
      "Epoch 370/1000\n",
      "15663/15663 [==============================] - ETA: 0s - loss: 0.5499 - accuracy: 0.78 - 0s 28us/step - loss: 0.5461 - accuracy: 0.7823 - val_loss: 0.6035 - val_accuracy: 0.8230\n",
      "Epoch 371/1000\n",
      "15663/15663 [==============================] - ETA: 0s - loss: 0.5405 - accuracy: 0.78 - 0s 27us/step - loss: 0.5382 - accuracy: 0.7865 - val_loss: 0.6017 - val_accuracy: 0.8253\n",
      "Epoch 372/1000\n",
      "15663/15663 [==============================] - ETA: 0s - loss: 0.5367 - accuracy: 0.78 - 0s 27us/step - loss: 0.5392 - accuracy: 0.7847 - val_loss: 0.6010 - val_accuracy: 0.8243\n",
      "Epoch 373/1000\n",
      "15663/15663 [==============================] - ETA: 0s - loss: 0.5392 - accuracy: 0.78 - 0s 26us/step - loss: 0.5373 - accuracy: 0.7877 - val_loss: 0.6007 - val_accuracy: 0.8248\n",
      "Epoch 374/1000\n",
      "15663/15663 [==============================] - ETA: 0s - loss: 0.5409 - accuracy: 0.78 - 0s 26us/step - loss: 0.5380 - accuracy: 0.7878 - val_loss: 0.5997 - val_accuracy: 0.8251\n",
      "Epoch 375/1000\n",
      "15663/15663 [==============================] - ETA: 0s - loss: 0.5374 - accuracy: 0.78 - 0s 26us/step - loss: 0.5376 - accuracy: 0.7845 - val_loss: 0.5983 - val_accuracy: 0.8261\n",
      "Epoch 376/1000\n",
      "15663/15663 [==============================] - ETA: 0s - loss: 0.5364 - accuracy: 0.78 - 0s 26us/step - loss: 0.5344 - accuracy: 0.7871 - val_loss: 0.5964 - val_accuracy: 0.8261\n",
      "Epoch 377/1000\n",
      "15663/15663 [==============================] - ETA: 0s - loss: 0.5374 - accuracy: 0.78 - 0s 26us/step - loss: 0.5353 - accuracy: 0.7837 - val_loss: 0.5949 - val_accuracy: 0.8274\n",
      "Epoch 378/1000\n",
      "15663/15663 [==============================] - ETA: 0s - loss: 0.5225 - accuracy: 0.79 - 0s 25us/step - loss: 0.5274 - accuracy: 0.7900 - val_loss: 0.5943 - val_accuracy: 0.8266\n",
      "Epoch 379/1000\n",
      "15663/15663 [==============================] - ETA: 0s - loss: 0.5354 - accuracy: 0.78 - 0s 25us/step - loss: 0.5321 - accuracy: 0.7887 - val_loss: 0.5937 - val_accuracy: 0.8264\n",
      "Epoch 380/1000\n"
     ]
    },
    {
     "name": "stdout",
     "output_type": "stream",
     "text": [
      "15663/15663 [==============================] - ETA: 0s - loss: 0.5211 - accuracy: 0.79 - 0s 26us/step - loss: 0.5278 - accuracy: 0.7901 - val_loss: 0.5927 - val_accuracy: 0.8261\n",
      "Epoch 381/1000\n",
      "15663/15663 [==============================] - ETA: 0s - loss: 0.5254 - accuracy: 0.79 - 0s 25us/step - loss: 0.5311 - accuracy: 0.7852 - val_loss: 0.5912 - val_accuracy: 0.8266\n",
      "Epoch 382/1000\n",
      "15663/15663 [==============================] - ETA: 0s - loss: 0.5285 - accuracy: 0.78 - 0s 26us/step - loss: 0.5303 - accuracy: 0.7867 - val_loss: 0.5896 - val_accuracy: 0.8274\n",
      "Epoch 383/1000\n",
      "15663/15663 [==============================] - ETA: 0s - loss: 0.5242 - accuracy: 0.79 - 0s 27us/step - loss: 0.5241 - accuracy: 0.7914 - val_loss: 0.5882 - val_accuracy: 0.8312\n",
      "Epoch 384/1000\n",
      "15663/15663 [==============================] - ETA: 0s - loss: 0.5215 - accuracy: 0.79 - 0s 27us/step - loss: 0.5242 - accuracy: 0.7938 - val_loss: 0.5873 - val_accuracy: 0.8320\n",
      "Epoch 385/1000\n",
      "15663/15663 [==============================] - ETA: 0s - loss: 0.5170 - accuracy: 0.79 - 0s 27us/step - loss: 0.5224 - accuracy: 0.7944 - val_loss: 0.5868 - val_accuracy: 0.8297\n",
      "Epoch 386/1000\n",
      "15663/15663 [==============================] - ETA: 0s - loss: 0.5202 - accuracy: 0.79 - 0s 26us/step - loss: 0.5189 - accuracy: 0.7945 - val_loss: 0.5862 - val_accuracy: 0.8289\n",
      "Epoch 387/1000\n",
      "15663/15663 [==============================] - ETA: 0s - loss: 0.5195 - accuracy: 0.79 - 0s 25us/step - loss: 0.5256 - accuracy: 0.7874 - val_loss: 0.5847 - val_accuracy: 0.8289\n",
      "Epoch 388/1000\n",
      "15663/15663 [==============================] - ETA: 0s - loss: 0.5188 - accuracy: 0.79 - 0s 26us/step - loss: 0.5200 - accuracy: 0.7947 - val_loss: 0.5831 - val_accuracy: 0.8287\n",
      "Epoch 389/1000\n",
      "15663/15663 [==============================] - ETA: 0s - loss: 0.5180 - accuracy: 0.79 - 0s 26us/step - loss: 0.5225 - accuracy: 0.7904 - val_loss: 0.5822 - val_accuracy: 0.8287\n",
      "Epoch 390/1000\n",
      "15663/15663 [==============================] - ETA: 0s - loss: 0.5142 - accuracy: 0.79 - 0s 26us/step - loss: 0.5173 - accuracy: 0.7935 - val_loss: 0.5816 - val_accuracy: 0.8312\n",
      "Epoch 391/1000\n",
      "15663/15663 [==============================] - ETA: 0s - loss: 0.5145 - accuracy: 0.79 - 0s 26us/step - loss: 0.5149 - accuracy: 0.7961 - val_loss: 0.5804 - val_accuracy: 0.8320\n",
      "Epoch 392/1000\n",
      "15663/15663 [==============================] - ETA: 0s - loss: 0.5212 - accuracy: 0.78 - 0s 27us/step - loss: 0.5202 - accuracy: 0.7889 - val_loss: 0.5790 - val_accuracy: 0.8330\n",
      "Epoch 393/1000\n",
      "15663/15663 [==============================] - ETA: 0s - loss: 0.5155 - accuracy: 0.79 - 0s 27us/step - loss: 0.5186 - accuracy: 0.7908 - val_loss: 0.5779 - val_accuracy: 0.8325\n",
      "Epoch 394/1000\n",
      "15663/15663 [==============================] - ETA: 0s - loss: 0.5123 - accuracy: 0.79 - 0s 26us/step - loss: 0.5130 - accuracy: 0.7951 - val_loss: 0.5772 - val_accuracy: 0.8330\n",
      "Epoch 395/1000\n",
      "15663/15663 [==============================] - ETA: 0s - loss: 0.5151 - accuracy: 0.79 - 0s 26us/step - loss: 0.5124 - accuracy: 0.7930 - val_loss: 0.5761 - val_accuracy: 0.8332\n",
      "Epoch 396/1000\n",
      "15663/15663 [==============================] - ETA: 0s - loss: 0.5152 - accuracy: 0.79 - 0s 26us/step - loss: 0.5138 - accuracy: 0.7917 - val_loss: 0.5752 - val_accuracy: 0.8320\n",
      "Epoch 397/1000\n",
      "15663/15663 [==============================] - ETA: 0s - loss: 0.5123 - accuracy: 0.79 - 0s 27us/step - loss: 0.5108 - accuracy: 0.7945 - val_loss: 0.5743 - val_accuracy: 0.8315\n",
      "Epoch 398/1000\n",
      "15663/15663 [==============================] - ETA: 0s - loss: 0.5082 - accuracy: 0.79 - 0s 28us/step - loss: 0.5112 - accuracy: 0.7921 - val_loss: 0.5731 - val_accuracy: 0.8307\n",
      "Epoch 399/1000\n",
      "15663/15663 [==============================] - ETA: 0s - loss: 0.5054 - accuracy: 0.79 - 0s 28us/step - loss: 0.5084 - accuracy: 0.7944 - val_loss: 0.5717 - val_accuracy: 0.8322\n",
      "Epoch 400/1000\n",
      "15663/15663 [==============================] - ETA: 0s - loss: 0.5036 - accuracy: 0.79 - 0s 28us/step - loss: 0.5030 - accuracy: 0.7964 - val_loss: 0.5705 - val_accuracy: 0.8330\n",
      "Epoch 401/1000\n",
      "15663/15663 [==============================] - ETA: 0s - loss: 0.5068 - accuracy: 0.79 - 0s 29us/step - loss: 0.5071 - accuracy: 0.7926 - val_loss: 0.5695 - val_accuracy: 0.8348\n",
      "Epoch 402/1000\n",
      "15663/15663 [==============================] - ETA: 0s - loss: 0.5034 - accuracy: 0.79 - 0s 29us/step - loss: 0.5000 - accuracy: 0.7985 - val_loss: 0.5690 - val_accuracy: 0.8350\n",
      "Epoch 403/1000\n",
      "15663/15663 [==============================] - ETA: 0s - loss: 0.5005 - accuracy: 0.80 - 0s 29us/step - loss: 0.5020 - accuracy: 0.8000 - val_loss: 0.5686 - val_accuracy: 0.8355\n",
      "Epoch 404/1000\n",
      "15663/15663 [==============================] - ETA: 0s - loss: 0.5017 - accuracy: 0.79 - 0s 29us/step - loss: 0.5016 - accuracy: 0.7984 - val_loss: 0.5677 - val_accuracy: 0.8345\n",
      "Epoch 405/1000\n",
      "15663/15663 [==============================] - ETA: 0s - loss: 0.5046 - accuracy: 0.79 - 0s 27us/step - loss: 0.5037 - accuracy: 0.7963 - val_loss: 0.5662 - val_accuracy: 0.8332\n",
      "Epoch 406/1000\n",
      "15663/15663 [==============================] - ETA: 0s - loss: 0.5009 - accuracy: 0.79 - 0s 26us/step - loss: 0.5011 - accuracy: 0.7970 - val_loss: 0.5648 - val_accuracy: 0.8340\n",
      "Epoch 407/1000\n",
      "15663/15663 [==============================] - ETA: 0s - loss: 0.5032 - accuracy: 0.79 - 0s 28us/step - loss: 0.5030 - accuracy: 0.7952 - val_loss: 0.5638 - val_accuracy: 0.8353\n",
      "Epoch 408/1000\n",
      "15663/15663 [==============================] - ETA: 0s - loss: 0.5097 - accuracy: 0.79 - 0s 26us/step - loss: 0.5056 - accuracy: 0.7940 - val_loss: 0.5633 - val_accuracy: 0.8353\n",
      "Epoch 409/1000\n",
      "15663/15663 [==============================] - ETA: 0s - loss: 0.5026 - accuracy: 0.79 - 0s 27us/step - loss: 0.5011 - accuracy: 0.7972 - val_loss: 0.5624 - val_accuracy: 0.8361\n",
      "Epoch 410/1000\n",
      "15663/15663 [==============================] - ETA: 0s - loss: 0.5048 - accuracy: 0.79 - 0s 27us/step - loss: 0.4983 - accuracy: 0.7971 - val_loss: 0.5615 - val_accuracy: 0.8366\n",
      "Epoch 411/1000\n",
      "15663/15663 [==============================] - ETA: 0s - loss: 0.4965 - accuracy: 0.80 - 0s 27us/step - loss: 0.4964 - accuracy: 0.7992 - val_loss: 0.5604 - val_accuracy: 0.8363\n",
      "Epoch 412/1000\n",
      "15663/15663 [==============================] - ETA: 0s - loss: 0.4904 - accuracy: 0.80 - 0s 28us/step - loss: 0.4912 - accuracy: 0.8023 - val_loss: 0.5593 - val_accuracy: 0.8363\n",
      "Epoch 413/1000\n",
      "15663/15663 [==============================] - ETA: 0s - loss: 0.5052 - accuracy: 0.79 - 0s 26us/step - loss: 0.4998 - accuracy: 0.7954 - val_loss: 0.5584 - val_accuracy: 0.8350\n",
      "Epoch 414/1000\n",
      "15663/15663 [==============================] - ETA: 0s - loss: 0.5001 - accuracy: 0.79 - 0s 25us/step - loss: 0.4951 - accuracy: 0.7970 - val_loss: 0.5571 - val_accuracy: 0.8345\n",
      "Epoch 415/1000\n",
      "15663/15663 [==============================] - ETA: 0s - loss: 0.4931 - accuracy: 0.79 - 0s 28us/step - loss: 0.4909 - accuracy: 0.7986 - val_loss: 0.5561 - val_accuracy: 0.8350\n",
      "Epoch 416/1000\n",
      "15663/15663 [==============================] - ETA: 0s - loss: 0.4901 - accuracy: 0.80 - 0s 26us/step - loss: 0.4886 - accuracy: 0.8032 - val_loss: 0.5553 - val_accuracy: 0.8355\n",
      "Epoch 417/1000\n",
      "15663/15663 [==============================] - ETA: 0s - loss: 0.4892 - accuracy: 0.80 - 0s 27us/step - loss: 0.4889 - accuracy: 0.8018 - val_loss: 0.5549 - val_accuracy: 0.8378\n",
      "Epoch 418/1000\n",
      "15663/15663 [==============================] - ETA: 0s - loss: 0.4912 - accuracy: 0.79 - 0s 28us/step - loss: 0.4890 - accuracy: 0.7993 - val_loss: 0.5544 - val_accuracy: 0.8386\n",
      "Epoch 419/1000\n",
      "15663/15663 [==============================] - ETA: 0s - loss: 0.4866 - accuracy: 0.79 - 0s 26us/step - loss: 0.4877 - accuracy: 0.8001 - val_loss: 0.5532 - val_accuracy: 0.8399\n",
      "Epoch 420/1000\n",
      "15663/15663 [==============================] - ETA: 0s - loss: 0.4912 - accuracy: 0.79 - 0s 26us/step - loss: 0.4866 - accuracy: 0.8003 - val_loss: 0.5515 - val_accuracy: 0.8384\n",
      "Epoch 421/1000\n",
      "15663/15663 [==============================] - ETA: 0s - loss: 0.4994 - accuracy: 0.79 - 0s 27us/step - loss: 0.4891 - accuracy: 0.7982 - val_loss: 0.5503 - val_accuracy: 0.8373\n",
      "Epoch 422/1000\n"
     ]
    },
    {
     "name": "stdout",
     "output_type": "stream",
     "text": [
      "15663/15663 [==============================] - ETA: 0s - loss: 0.4838 - accuracy: 0.80 - 0s 28us/step - loss: 0.4850 - accuracy: 0.8016 - val_loss: 0.5495 - val_accuracy: 0.8373\n",
      "Epoch 423/1000\n",
      "15663/15663 [==============================] - ETA: 0s - loss: 0.4791 - accuracy: 0.80 - 0s 28us/step - loss: 0.4810 - accuracy: 0.8027 - val_loss: 0.5494 - val_accuracy: 0.8378\n",
      "Epoch 424/1000\n",
      "15663/15663 [==============================] - ETA: 0s - loss: 0.4899 - accuracy: 0.79 - 0s 28us/step - loss: 0.4869 - accuracy: 0.8003 - val_loss: 0.5489 - val_accuracy: 0.8389\n",
      "Epoch 425/1000\n",
      "15663/15663 [==============================] - ETA: 0s - loss: 0.4809 - accuracy: 0.80 - 0s 27us/step - loss: 0.4807 - accuracy: 0.8041 - val_loss: 0.5477 - val_accuracy: 0.8396\n",
      "Epoch 426/1000\n",
      "15663/15663 [==============================] - ETA: 0s - loss: 0.4809 - accuracy: 0.80 - 0s 27us/step - loss: 0.4783 - accuracy: 0.8045 - val_loss: 0.5461 - val_accuracy: 0.8394\n",
      "Epoch 427/1000\n",
      "15663/15663 [==============================] - ETA: 0s - loss: 0.4828 - accuracy: 0.80 - 0s 26us/step - loss: 0.4824 - accuracy: 0.8024 - val_loss: 0.5451 - val_accuracy: 0.8407\n",
      "Epoch 428/1000\n",
      "15663/15663 [==============================] - ETA: 0s - loss: 0.4675 - accuracy: 0.81 - 0s 27us/step - loss: 0.4715 - accuracy: 0.8097 - val_loss: 0.5448 - val_accuracy: 0.8407\n",
      "Epoch 429/1000\n",
      "15663/15663 [==============================] - ETA: 0s - loss: 0.4771 - accuracy: 0.80 - 0s 27us/step - loss: 0.4763 - accuracy: 0.8019 - val_loss: 0.5444 - val_accuracy: 0.8404\n",
      "Epoch 430/1000\n",
      "15663/15663 [==============================] - ETA: 0s - loss: 0.4785 - accuracy: 0.80 - 0s 26us/step - loss: 0.4764 - accuracy: 0.8073 - val_loss: 0.5434 - val_accuracy: 0.8409\n",
      "Epoch 431/1000\n",
      "15663/15663 [==============================] - ETA: 0s - loss: 0.4858 - accuracy: 0.79 - 0s 26us/step - loss: 0.4834 - accuracy: 0.8004 - val_loss: 0.5417 - val_accuracy: 0.8401\n",
      "Epoch 432/1000\n",
      "15663/15663 [==============================] - ETA: 0s - loss: 0.4749 - accuracy: 0.80 - 0s 27us/step - loss: 0.4749 - accuracy: 0.8044 - val_loss: 0.5405 - val_accuracy: 0.8407\n",
      "Epoch 433/1000\n",
      "15663/15663 [==============================] - ETA: 0s - loss: 0.4771 - accuracy: 0.80 - 0s 26us/step - loss: 0.4732 - accuracy: 0.8036 - val_loss: 0.5399 - val_accuracy: 0.8407\n",
      "Epoch 434/1000\n",
      "15663/15663 [==============================] - ETA: 0s - loss: 0.4797 - accuracy: 0.79 - 0s 27us/step - loss: 0.4774 - accuracy: 0.8016 - val_loss: 0.5398 - val_accuracy: 0.8424\n",
      "Epoch 435/1000\n",
      "15663/15663 [==============================] - ETA: 0s - loss: 0.4619 - accuracy: 0.81 - 0s 26us/step - loss: 0.4646 - accuracy: 0.8103 - val_loss: 0.5389 - val_accuracy: 0.8437\n",
      "Epoch 436/1000\n",
      "15663/15663 [==============================] - ETA: 0s - loss: 0.4611 - accuracy: 0.81 - 0s 27us/step - loss: 0.4636 - accuracy: 0.8115 - val_loss: 0.5377 - val_accuracy: 0.8440\n",
      "Epoch 437/1000\n",
      "15663/15663 [==============================] - ETA: 0s - loss: 0.4630 - accuracy: 0.81 - 0s 28us/step - loss: 0.4625 - accuracy: 0.8114 - val_loss: 0.5367 - val_accuracy: 0.8442\n",
      "Epoch 438/1000\n",
      "15663/15663 [==============================] - ETA: 0s - loss: 0.4701 - accuracy: 0.80 - 0s 29us/step - loss: 0.4684 - accuracy: 0.8062 - val_loss: 0.5361 - val_accuracy: 0.8440\n",
      "Epoch 439/1000\n",
      "15663/15663 [==============================] - ETA: 0s - loss: 0.4724 - accuracy: 0.80 - 0s 28us/step - loss: 0.4719 - accuracy: 0.8020 - val_loss: 0.5354 - val_accuracy: 0.8440\n",
      "Epoch 440/1000\n",
      "15663/15663 [==============================] - ETA: 0s - loss: 0.4646 - accuracy: 0.80 - 0s 28us/step - loss: 0.4652 - accuracy: 0.8088 - val_loss: 0.5344 - val_accuracy: 0.8435\n",
      "Epoch 441/1000\n",
      "15663/15663 [==============================] - ETA: 0s - loss: 0.4655 - accuracy: 0.80 - 0s 30us/step - loss: 0.4642 - accuracy: 0.8083 - val_loss: 0.5334 - val_accuracy: 0.8430\n",
      "Epoch 442/1000\n",
      "15663/15663 [==============================] - ETA: 0s - loss: 0.4702 - accuracy: 0.80 - 0s 28us/step - loss: 0.4678 - accuracy: 0.8072 - val_loss: 0.5325 - val_accuracy: 0.8432\n",
      "Epoch 443/1000\n",
      "15663/15663 [==============================] - ETA: 0s - loss: 0.4657 - accuracy: 0.80 - 0s 27us/step - loss: 0.4683 - accuracy: 0.8037 - val_loss: 0.5320 - val_accuracy: 0.8437\n",
      "Epoch 444/1000\n",
      "15663/15663 [==============================] - ETA: 0s - loss: 0.4606 - accuracy: 0.80 - 0s 26us/step - loss: 0.4600 - accuracy: 0.8082 - val_loss: 0.5317 - val_accuracy: 0.8437\n",
      "Epoch 445/1000\n",
      "15663/15663 [==============================] - ETA: 0s - loss: 0.4697 - accuracy: 0.80 - 0s 26us/step - loss: 0.4673 - accuracy: 0.8052 - val_loss: 0.5305 - val_accuracy: 0.8440\n",
      "Epoch 446/1000\n",
      "15663/15663 [==============================] - ETA: 0s - loss: 0.4601 - accuracy: 0.81 - 0s 27us/step - loss: 0.4569 - accuracy: 0.8121 - val_loss: 0.5290 - val_accuracy: 0.8447\n",
      "Epoch 447/1000\n",
      "15663/15663 [==============================] - ETA: 0s - loss: 0.4634 - accuracy: 0.80 - 0s 27us/step - loss: 0.4632 - accuracy: 0.8051 - val_loss: 0.5281 - val_accuracy: 0.8445\n",
      "Epoch 448/1000\n",
      "15663/15663 [==============================] - ETA: 0s - loss: 0.4629 - accuracy: 0.80 - 0s 27us/step - loss: 0.4587 - accuracy: 0.8098 - val_loss: 0.5279 - val_accuracy: 0.8453\n",
      "Epoch 449/1000\n",
      "15663/15663 [==============================] - ETA: 0s - loss: 0.4644 - accuracy: 0.80 - 0s 27us/step - loss: 0.4636 - accuracy: 0.8037 - val_loss: 0.5280 - val_accuracy: 0.8437\n",
      "Epoch 450/1000\n",
      "15663/15663 [==============================] - ETA: 0s - loss: 0.4652 - accuracy: 0.80 - 0s 26us/step - loss: 0.4594 - accuracy: 0.8063 - val_loss: 0.5272 - val_accuracy: 0.8440\n",
      "Epoch 451/1000\n",
      "15663/15663 [==============================] - ETA: 0s - loss: 0.4588 - accuracy: 0.80 - 0s 27us/step - loss: 0.4584 - accuracy: 0.8080 - val_loss: 0.5256 - val_accuracy: 0.8453\n",
      "Epoch 452/1000\n",
      "15663/15663 [==============================] - ETA: 0s - loss: 0.4606 - accuracy: 0.80 - 0s 27us/step - loss: 0.4619 - accuracy: 0.8038 - val_loss: 0.5241 - val_accuracy: 0.8450\n",
      "Epoch 453/1000\n",
      "15663/15663 [==============================] - ETA: 0s - loss: 0.4558 - accuracy: 0.80 - 0s 26us/step - loss: 0.4569 - accuracy: 0.8082 - val_loss: 0.5234 - val_accuracy: 0.8450\n",
      "Epoch 454/1000\n",
      "15663/15663 [==============================] - ETA: 0s - loss: 0.4514 - accuracy: 0.81 - 0s 26us/step - loss: 0.4505 - accuracy: 0.8125 - val_loss: 0.5234 - val_accuracy: 0.8442\n",
      "Epoch 455/1000\n",
      "15663/15663 [==============================] - ETA: 0s - loss: 0.4493 - accuracy: 0.81 - 0s 27us/step - loss: 0.4509 - accuracy: 0.8136 - val_loss: 0.5233 - val_accuracy: 0.8440\n",
      "Epoch 456/1000\n",
      "15663/15663 [==============================] - ETA: 0s - loss: 0.4497 - accuracy: 0.81 - 0s 27us/step - loss: 0.4481 - accuracy: 0.8129 - val_loss: 0.5226 - val_accuracy: 0.8445\n",
      "Epoch 457/1000\n",
      "15663/15663 [==============================] - ETA: 0s - loss: 0.4516 - accuracy: 0.81 - 0s 26us/step - loss: 0.4531 - accuracy: 0.8094 - val_loss: 0.5213 - val_accuracy: 0.8447\n",
      "Epoch 458/1000\n",
      "15663/15663 [==============================] - ETA: 0s - loss: 0.4499 - accuracy: 0.81 - 0s 26us/step - loss: 0.4523 - accuracy: 0.8107 - val_loss: 0.5198 - val_accuracy: 0.8463\n",
      "Epoch 459/1000\n",
      "15663/15663 [==============================] - ETA: 0s - loss: 0.4463 - accuracy: 0.81 - 0s 27us/step - loss: 0.4488 - accuracy: 0.8117 - val_loss: 0.5192 - val_accuracy: 0.8463\n",
      "Epoch 460/1000\n",
      "15663/15663 [==============================] - ETA: 0s - loss: 0.4456 - accuracy: 0.81 - 0s 26us/step - loss: 0.4423 - accuracy: 0.8182 - val_loss: 0.5191 - val_accuracy: 0.8463\n",
      "Epoch 461/1000\n",
      "15663/15663 [==============================] - ETA: 0s - loss: 0.4490 - accuracy: 0.81 - 0s 26us/step - loss: 0.4487 - accuracy: 0.8121 - val_loss: 0.5189 - val_accuracy: 0.8463\n",
      "Epoch 462/1000\n",
      "15663/15663 [==============================] - ETA: 0s - loss: 0.4564 - accuracy: 0.80 - 0s 25us/step - loss: 0.4499 - accuracy: 0.8121 - val_loss: 0.5177 - val_accuracy: 0.8455\n",
      "Epoch 463/1000\n",
      "15663/15663 [==============================] - ETA: 0s - loss: 0.4548 - accuracy: 0.80 - 0s 25us/step - loss: 0.4516 - accuracy: 0.8090 - val_loss: 0.5162 - val_accuracy: 0.8450\n",
      "Epoch 464/1000\n"
     ]
    },
    {
     "name": "stdout",
     "output_type": "stream",
     "text": [
      "15663/15663 [==============================] - ETA: 0s - loss: 0.4611 - accuracy: 0.80 - 0s 27us/step - loss: 0.4497 - accuracy: 0.8077 - val_loss: 0.5154 - val_accuracy: 0.8453\n",
      "Epoch 465/1000\n",
      "15663/15663 [==============================] - ETA: 0s - loss: 0.4377 - accuracy: 0.81 - 0s 27us/step - loss: 0.4423 - accuracy: 0.8138 - val_loss: 0.5151 - val_accuracy: 0.8447\n",
      "Epoch 466/1000\n",
      "15663/15663 [==============================] - ETA: 0s - loss: 0.4568 - accuracy: 0.80 - 0s 26us/step - loss: 0.4517 - accuracy: 0.8071 - val_loss: 0.5145 - val_accuracy: 0.8470\n",
      "Epoch 467/1000\n",
      "15663/15663 [==============================] - ETA: 0s - loss: 0.4474 - accuracy: 0.81 - 0s 26us/step - loss: 0.4451 - accuracy: 0.8133 - val_loss: 0.5138 - val_accuracy: 0.8475\n",
      "Epoch 468/1000\n",
      "15663/15663 [==============================] - ETA: 0s - loss: 0.4421 - accuracy: 0.81 - 0s 25us/step - loss: 0.4431 - accuracy: 0.8155 - val_loss: 0.5130 - val_accuracy: 0.8478\n",
      "Epoch 469/1000\n",
      "15663/15663 [==============================] - ETA: 0s - loss: 0.4387 - accuracy: 0.81 - 0s 25us/step - loss: 0.4371 - accuracy: 0.8180 - val_loss: 0.5121 - val_accuracy: 0.8478\n",
      "Epoch 470/1000\n",
      "15663/15663 [==============================] - ETA: 0s - loss: 0.4410 - accuracy: 0.81 - 0s 27us/step - loss: 0.4414 - accuracy: 0.8142 - val_loss: 0.5113 - val_accuracy: 0.8473\n",
      "Epoch 471/1000\n",
      "15663/15663 [==============================] - ETA: 0s - loss: 0.4407 - accuracy: 0.81 - 0s 27us/step - loss: 0.4437 - accuracy: 0.8130 - val_loss: 0.5108 - val_accuracy: 0.8460\n",
      "Epoch 472/1000\n",
      "15663/15663 [==============================] - ETA: 0s - loss: 0.4398 - accuracy: 0.81 - 0s 27us/step - loss: 0.4446 - accuracy: 0.8117 - val_loss: 0.5100 - val_accuracy: 0.8460\n",
      "Epoch 473/1000\n",
      "15663/15663 [==============================] - ETA: 0s - loss: 0.4359 - accuracy: 0.81 - 0s 26us/step - loss: 0.4343 - accuracy: 0.8178 - val_loss: 0.5093 - val_accuracy: 0.8473\n",
      "Epoch 474/1000\n",
      "15663/15663 [==============================] - ETA: 0s - loss: 0.4299 - accuracy: 0.82 - 0s 27us/step - loss: 0.4291 - accuracy: 0.8216 - val_loss: 0.5085 - val_accuracy: 0.8491\n",
      "Epoch 475/1000\n",
      "15663/15663 [==============================] - ETA: 0s - loss: 0.4448 - accuracy: 0.81 - 0s 28us/step - loss: 0.4452 - accuracy: 0.8103 - val_loss: 0.5080 - val_accuracy: 0.8483\n",
      "Epoch 476/1000\n",
      "15663/15663 [==============================] - ETA: 0s - loss: 0.4401 - accuracy: 0.81 - 0s 29us/step - loss: 0.4384 - accuracy: 0.8149 - val_loss: 0.5078 - val_accuracy: 0.8478\n",
      "Epoch 477/1000\n",
      "15663/15663 [==============================] - ETA: 0s - loss: 0.4416 - accuracy: 0.81 - 0s 30us/step - loss: 0.4394 - accuracy: 0.8152 - val_loss: 0.5072 - val_accuracy: 0.8481\n",
      "Epoch 478/1000\n",
      "15663/15663 [==============================] - ETA: 0s - loss: 0.4362 - accuracy: 0.81 - 0s 31us/step - loss: 0.4344 - accuracy: 0.8170 - val_loss: 0.5063 - val_accuracy: 0.8475\n",
      "Epoch 479/1000\n",
      "15663/15663 [==============================] - ETA: 0s - loss: 0.4272 - accuracy: 0.82 - 0s 28us/step - loss: 0.4291 - accuracy: 0.8188 - val_loss: 0.5050 - val_accuracy: 0.8491\n",
      "Epoch 480/1000\n",
      "15663/15663 [==============================] - ETA: 0s - loss: 0.4381 - accuracy: 0.81 - 0s 28us/step - loss: 0.4377 - accuracy: 0.8118 - val_loss: 0.5040 - val_accuracy: 0.8498\n",
      "Epoch 481/1000\n",
      "15663/15663 [==============================] - ETA: 0s - loss: 0.4263 - accuracy: 0.82 - 0s 28us/step - loss: 0.4303 - accuracy: 0.8177 - val_loss: 0.5036 - val_accuracy: 0.8496\n",
      "Epoch 482/1000\n",
      "15663/15663 [==============================] - ETA: 0s - loss: 0.4355 - accuracy: 0.81 - 0s 26us/step - loss: 0.4309 - accuracy: 0.8169 - val_loss: 0.5035 - val_accuracy: 0.8491\n",
      "Epoch 483/1000\n",
      "15663/15663 [==============================] - ETA: 0s - loss: 0.4330 - accuracy: 0.81 - 0s 26us/step - loss: 0.4294 - accuracy: 0.8176 - val_loss: 0.5032 - val_accuracy: 0.8486\n",
      "Epoch 484/1000\n",
      "15663/15663 [==============================] - ETA: 0s - loss: 0.4317 - accuracy: 0.81 - 0s 28us/step - loss: 0.4320 - accuracy: 0.8165 - val_loss: 0.5022 - val_accuracy: 0.8491\n",
      "Epoch 485/1000\n",
      "15663/15663 [==============================] - ETA: 0s - loss: 0.4388 - accuracy: 0.81 - 0s 28us/step - loss: 0.4338 - accuracy: 0.8127 - val_loss: 0.5013 - val_accuracy: 0.8498\n",
      "Epoch 486/1000\n",
      "15663/15663 [==============================] - ETA: 0s - loss: 0.4315 - accuracy: 0.81 - 0s 28us/step - loss: 0.4318 - accuracy: 0.8136 - val_loss: 0.5006 - val_accuracy: 0.8498\n",
      "Epoch 487/1000\n",
      "15663/15663 [==============================] - ETA: 0s - loss: 0.4278 - accuracy: 0.81 - 0s 27us/step - loss: 0.4271 - accuracy: 0.8193 - val_loss: 0.5003 - val_accuracy: 0.8488\n",
      "Epoch 488/1000\n",
      "15663/15663 [==============================] - ETA: 0s - loss: 0.4210 - accuracy: 0.82 - 0s 25us/step - loss: 0.4219 - accuracy: 0.8211 - val_loss: 0.4998 - val_accuracy: 0.8488\n",
      "Epoch 489/1000\n",
      "15663/15663 [==============================] - ETA: 0s - loss: 0.4174 - accuracy: 0.82 - 0s 26us/step - loss: 0.4190 - accuracy: 0.8232 - val_loss: 0.4987 - val_accuracy: 0.8493\n",
      "Epoch 490/1000\n",
      "15663/15663 [==============================] - ETA: 0s - loss: 0.4266 - accuracy: 0.81 - 0s 25us/step - loss: 0.4285 - accuracy: 0.8166 - val_loss: 0.4976 - val_accuracy: 0.8506\n",
      "Epoch 491/1000\n",
      "15663/15663 [==============================] - ETA: 0s - loss: 0.4249 - accuracy: 0.81 - 0s 25us/step - loss: 0.4261 - accuracy: 0.8169 - val_loss: 0.4968 - val_accuracy: 0.8506\n",
      "Epoch 492/1000\n",
      "15663/15663 [==============================] - ETA: 0s - loss: 0.4358 - accuracy: 0.81 - 0s 25us/step - loss: 0.4330 - accuracy: 0.8117 - val_loss: 0.4969 - val_accuracy: 0.8504\n",
      "Epoch 493/1000\n",
      "15663/15663 [==============================] - ETA: 0s - loss: 0.4288 - accuracy: 0.81 - 0s 27us/step - loss: 0.4279 - accuracy: 0.8146 - val_loss: 0.4973 - val_accuracy: 0.8478\n"
     ]
    }
   ],
   "source": [
    "history_dropout = model_drop.fit(x_train, y_train, batch_size=10000, validation_data=(x_test, y_test), epochs=1000,\n",
    "                 callbacks=[EarlyStopping(patience=2, monitor='val_loss')])"
   ]
  },
  {
   "cell_type": "markdown",
   "metadata": {},
   "source": [
    "<ul>\n",
    "<h3>Cross-Validation</h3>\n",
    "</ul>"
   ]
  },
  {
   "cell_type": "markdown",
   "metadata": {},
   "source": [
    "Evaluate Keras Model"
   ]
  },
  {
   "cell_type": "code",
   "execution_count": 68,
   "metadata": {},
   "outputs": [],
   "source": [
    "from sklearn.model_selection import StratifiedKFold"
   ]
  },
  {
   "cell_type": "code",
   "execution_count": 289,
   "metadata": {},
   "outputs": [],
   "source": [
    "Y = data['author']"
   ]
  },
  {
   "cell_type": "code",
   "execution_count": null,
   "metadata": {},
   "outputs": [],
   "source": [
    "seed = 7\n",
    "np.random.seed(seed)\n",
    "\n",
    "kfold = StratifiedKFold(n_splits=10, shuffle=True, random_state=seed)\n",
    "cvscores = []\n",
    "\n",
    "for i in range(5):\n",
    "    \n",
    "    #Define Keras Model\n",
    "    model = create_model()\n",
    "    \n",
    "    # Fit the model\n",
    "    model.fit(x_train, y_train, epochs=17, batch_size=25, verbose=0)\n",
    "    \n",
    "    # evaluate the model\n",
    "    scores = model.evaluate(x_test, y_test, verbose=0)\n",
    "    print(\"%s: %.2f%%\" % (model.metrics_names[1], scores[1]*100))\n",
    "    cvscores.append(scores[1] * 100)\n",
    "    \n",
    "print(\"%.2f%% (+/- %.2f%%)\" % (np.mean(cvscores), np.std(cvscores)))"
   ]
  },
  {
   "cell_type": "code",
   "execution_count": null,
   "metadata": {},
   "outputs": [],
   "source": [
    "accuracy = model.evaluate(X_testset, Y_testset)\n",
    "print('Accuracy: %.2f' % (accuracy[1]*100),'%')\n",
    "print('Loss: %.2f' % (accuracy[0]*100),'%')"
   ]
  },
  {
   "cell_type": "code",
   "execution_count": 258,
   "metadata": {},
   "outputs": [],
   "source": [
    "import matplotlib.pyplot as plt\n",
    "from scipy.signal import savgol_filter"
   ]
  },
  {
   "cell_type": "code",
   "execution_count": 259,
   "metadata": {},
   "outputs": [
    {
     "data": {
      "image/png": "[encoded data removed]",
      "text/plain": [
       "<Figure size 432x288 with 1 Axes>"
      ]
     },
     "metadata": {
      "needs_background": "light"
     },
     "output_type": "display_data"
    }
   ],
   "source": [
    "x = list(range(0, 493))\n",
    "y1 = history_dropout.history['accuracy'] \n",
    "y2 = history_dropout.history['val_accuracy'] \n",
    "yhat1 = savgol_filter(y1, 51, 5) # window size 51, polynomial order 3\n",
    "yhat2 = savgol_filter(y2, 51, 5) # window size 51, polynomial order 3\n",
    "plt.plot(x,y1, color='honeydew')\n",
    "plt.plot(x,y2, color='azure')\n",
    "plt.plot(x,yhat1, color='green')\n",
    "plt.plot(x,yhat2, color='blue')\n",
    "plt.title('Model accuracy')\n",
    "plt.ylabel('Accuracy')\n",
    "plt.xlabel('Epoch')\n",
    "plt.legend(['', '', 'Train', 'Test'], loc='best')\n",
    "plt.show()"
   ]
  },
  {
   "cell_type": "code",
   "execution_count": 213,
   "metadata": {},
   "outputs": [
    {
     "data": {
      "image/png": "[encoded data removed]",
      "text/plain": [
       "<Figure size 432x288 with 1 Axes>"
      ]
     },
     "metadata": {
      "needs_background": "light"
     },
     "output_type": "display_data"
    }
   ],
   "source": [
    "X = hist.history['accuracy']\n",
    "Y = hist.history['val_accuracy'] \n",
    "x_y = [x - y for x, y in zip(X, Y)]\n",
    "\n",
    "x = list(range(0, 25))\n",
    "y = x_y\n",
    "yhat = savgol_filter(y, 21, 5) # window size 51, polynomial order 3\n",
    "plt.plot(x,y, color='mistyrose')\n",
    "plt.plot(x,yhat, color='red')\n",
    "plt.title('Accuracy difference betwen train and test data')\n",
    "plt.ylabel('Difference')\n",
    "plt.xlabel('Epoch')\n",
    "plt.legend(['', '', 'train', 'test'], loc='best')\n",
    "plt.show()"
   ]
  },
  {
   "cell_type": "code",
   "execution_count": 214,
   "metadata": {},
   "outputs": [
    {
     "data": {
      "image/png": "[encoded data removed]",
      "text/plain": [
       "<Figure size 432x288 with 1 Axes>"
      ]
     },
     "metadata": {
      "needs_background": "light"
     },
     "output_type": "display_data"
    }
   ],
   "source": [
    "x = list(range(0, 25))\n",
    "y1 = hist.history['loss'] \n",
    "y2 = hist.history['val_loss'] \n",
    "yhat1 = savgol_filter(y1, 21, 2) # window size 501, polynomial order 3\n",
    "yhat2 = savgol_filter(y2, 21, 2) # window size 501, polynomial order 3\n",
    "plt.plot(x,y1, color='honeydew')\n",
    "plt.plot(x,y2, color='azure')\n",
    "plt.plot(x,yhat1, color='green')\n",
    "plt.plot(x,yhat2, color='blue')\n",
    "plt.title('model loss')\n",
    "plt.ylabel('loss')\n",
    "plt.xlabel('epoch')\n",
    "plt.legend(['', '', 'train', 'test'], loc='best')\n",
    "plt.show()"
   ]
  },
  {
   "cell_type": "code",
   "execution_count": 217,
   "metadata": {},
   "outputs": [
    {
     "data": {
      "image/png": "[encoded data removed]",
      "text/plain": [
       "<Figure size 432x288 with 1 Axes>"
      ]
     },
     "metadata": {
      "needs_background": "light"
     },
     "output_type": "display_data"
    }
   ],
   "source": [
    "X = hist.history['val_loss']\n",
    "Y = hist.history['loss'] \n",
    "x_y = [x - y for x, y in zip(X, Y)]\n",
    "\n",
    "x = list(range(0, 25))\n",
    "y = x_y\n",
    "yhat = savgol_filter(y, 21, 3) # window size 51, polynomial order 3\n",
    "plt.plot(x,y, color='mistyrose')\n",
    "plt.plot(x,yhat, color='red')\n",
    "plt.title('Loss difference betwen train and test data')\n",
    "plt.ylabel('Difference')\n",
    "plt.xlabel('Epoch')\n",
    "plt.legend(['', '', 'train', 'test'], loc='best')\n",
    "plt.show()"
   ]
  },
  {
   "cell_type": "markdown",
   "metadata": {},
   "source": [
    "<ul>\n",
    "<h3>Predictions</h3>\n",
    "</ul>"
   ]
  },
  {
   "cell_type": "code",
   "execution_count": 218,
   "metadata": {},
   "outputs": [],
   "source": [
    "predictions = model.predict(X_trainset)\n",
    "rounded = [round(x[0]) for x in predictions]"
   ]
  },
  {
   "cell_type": "code",
   "execution_count": 219,
   "metadata": {},
   "outputs": [],
   "source": [
    "predictions = model.predict(X_trainset)"
   ]
  },
  {
   "cell_type": "code",
   "execution_count": null,
   "metadata": {},
   "outputs": [],
   "source": [
    "for i in range(10):\n",
    "    print('%d (expected %d)' % (predictions[i], Y[i]))"
   ]
  },
  {
   "cell_type": "markdown",
   "metadata": {},
   "source": [
    "<ul>\n",
    "<h3>Plot the ANN</h3>\n",
    "</ul>"
   ]
  },
  {
   "cell_type": "code",
   "execution_count": 170,
   "metadata": {},
   "outputs": [
    {
     "ename": "ValueError",
     "evalue": "invalid literal for int() with base 10: 'None'",
     "output_type": "error",
     "traceback": [
      "\u001b[1;31m---------------------------------------------------------------------------\u001b[0m",
      "\u001b[1;31mValueError\u001b[0m                                Traceback (most recent call last)",
      "\u001b[1;32m<ipython-input-170-7a0041453d47>\u001b[0m in \u001b[0;36m<module>\u001b[1;34m\u001b[0m\n\u001b[1;32m----> 1\u001b[1;33m \u001b[0mann_viz\u001b[0m\u001b[1;33m(\u001b[0m\u001b[0mmodel\u001b[0m\u001b[1;33m,\u001b[0m \u001b[0mtitle\u001b[0m\u001b[1;33m=\u001b[0m\u001b[1;34m\"Auhtor_Prediction\"\u001b[0m\u001b[1;33m)\u001b[0m\u001b[1;33m\u001b[0m\u001b[1;33m\u001b[0m\u001b[0m\n\u001b[0m",
      "\u001b[1;32mC:\\ProgramData\\Anaconda3\\lib\\site-packages\\ann_visualizer\\visualize.py\u001b[0m in \u001b[0;36mann_viz\u001b[1;34m(model, view, filename, title)\u001b[0m\n\u001b[0;32m     40\u001b[0m     \u001b[1;32mfor\u001b[0m \u001b[0mlayer\u001b[0m \u001b[1;32min\u001b[0m \u001b[0mmodel\u001b[0m\u001b[1;33m.\u001b[0m\u001b[0mlayers\u001b[0m\u001b[1;33m:\u001b[0m\u001b[1;33m\u001b[0m\u001b[1;33m\u001b[0m\u001b[0m\n\u001b[0;32m     41\u001b[0m         \u001b[1;32mif\u001b[0m\u001b[1;33m(\u001b[0m\u001b[0mlayer\u001b[0m \u001b[1;33m==\u001b[0m \u001b[0mmodel\u001b[0m\u001b[1;33m.\u001b[0m\u001b[0mlayers\u001b[0m\u001b[1;33m[\u001b[0m\u001b[1;36m0\u001b[0m\u001b[1;33m]\u001b[0m\u001b[1;33m)\u001b[0m\u001b[1;33m:\u001b[0m\u001b[1;33m\u001b[0m\u001b[1;33m\u001b[0m\u001b[0m\n\u001b[1;32m---> 42\u001b[1;33m             \u001b[0minput_layer\u001b[0m \u001b[1;33m=\u001b[0m \u001b[0mint\u001b[0m\u001b[1;33m(\u001b[0m\u001b[0mstr\u001b[0m\u001b[1;33m(\u001b[0m\u001b[0mlayer\u001b[0m\u001b[1;33m.\u001b[0m\u001b[0minput_shape\u001b[0m\u001b[1;33m)\u001b[0m\u001b[1;33m.\u001b[0m\u001b[0msplit\u001b[0m\u001b[1;33m(\u001b[0m\u001b[1;34m\",\"\u001b[0m\u001b[1;33m)\u001b[0m\u001b[1;33m[\u001b[0m\u001b[1;36m1\u001b[0m\u001b[1;33m]\u001b[0m\u001b[1;33m[\u001b[0m\u001b[1;36m1\u001b[0m\u001b[1;33m:\u001b[0m\u001b[1;33m-\u001b[0m\u001b[1;36m1\u001b[0m\u001b[1;33m]\u001b[0m\u001b[1;33m)\u001b[0m\u001b[1;33m;\u001b[0m\u001b[1;33m\u001b[0m\u001b[1;33m\u001b[0m\u001b[0m\n\u001b[0m\u001b[0;32m     43\u001b[0m             \u001b[0mhidden_layers_nr\u001b[0m \u001b[1;33m+=\u001b[0m \u001b[1;36m1\u001b[0m\u001b[1;33m;\u001b[0m\u001b[1;33m\u001b[0m\u001b[1;33m\u001b[0m\u001b[0m\n\u001b[0;32m     44\u001b[0m             \u001b[1;32mif\u001b[0m \u001b[1;33m(\u001b[0m\u001b[0mtype\u001b[0m\u001b[1;33m(\u001b[0m\u001b[0mlayer\u001b[0m\u001b[1;33m)\u001b[0m \u001b[1;33m==\u001b[0m \u001b[0mkeras\u001b[0m\u001b[1;33m.\u001b[0m\u001b[0mlayers\u001b[0m\u001b[1;33m.\u001b[0m\u001b[0mcore\u001b[0m\u001b[1;33m.\u001b[0m\u001b[0mDense\u001b[0m\u001b[1;33m)\u001b[0m\u001b[1;33m:\u001b[0m\u001b[1;33m\u001b[0m\u001b[1;33m\u001b[0m\u001b[0m\n",
      "\u001b[1;31mValueError\u001b[0m: invalid literal for int() with base 10: 'None'"
     ]
    }
   ],
   "source": [
    "ann_viz(model, title=\"Auhtor_Prediction\")"
   ]
  },
  {
   "cell_type": "markdown",
   "metadata": {},
   "source": [
    "Question 3\n",
    "- "
   ]
  },
  {
   "cell_type": "markdown",
   "metadata": {},
   "source": [
    "Question bonus\n",
    "- Embedding repreent mots avec des vecteurs, plusoeurs dimensions, vector de valeurs (re faire comme ancien homework). Compare vector to see if word are close or not each other\n",
    "- Embeding une facon de representer mots into data"
   ]
  },
  {
   "cell_type": "markdown",
   "metadata": {},
   "source": [
    "Noise into the data\n"
   ]
  },
  {
   "cell_type": "code",
   "execution_count": 319,
   "metadata": {},
   "outputs": [
    {
     "data": {
      "text/html": [
       "<div>\n",
       "<style scoped>\n",
       "    .dataframe tbody tr th:only-of-type {\n",
       "        vertical-align: middle;\n",
       "    }\n",
       "\n",
       "    .dataframe tbody tr th {\n",
       "        vertical-align: top;\n",
       "    }\n",
       "\n",
       "    .dataframe thead th {\n",
       "        text-align: right;\n",
       "    }\n",
       "</style>\n",
       "<table border=\"1\" class=\"dataframe\">\n",
       "  <thead>\n",
       "    <tr style=\"text-align: right;\">\n",
       "      <th></th>\n",
       "      <th>0</th>\n",
       "      <th>1</th>\n",
       "      <th>2</th>\n",
       "      <th>3</th>\n",
       "      <th>4</th>\n",
       "      <th>5</th>\n",
       "      <th>6</th>\n",
       "      <th>7</th>\n",
       "      <th>8</th>\n",
       "      <th>9</th>\n",
       "      <th>...</th>\n",
       "      <th>246</th>\n",
       "      <th>247</th>\n",
       "      <th>248</th>\n",
       "      <th>249</th>\n",
       "      <th>250</th>\n",
       "      <th>251</th>\n",
       "      <th>252</th>\n",
       "      <th>253</th>\n",
       "      <th>254</th>\n",
       "      <th>255</th>\n",
       "    </tr>\n",
       "  </thead>\n",
       "  <tbody>\n",
       "    <tr>\n",
       "      <th>0</th>\n",
       "      <td>0</td>\n",
       "      <td>0</td>\n",
       "      <td>0</td>\n",
       "      <td>0</td>\n",
       "      <td>0</td>\n",
       "      <td>0</td>\n",
       "      <td>0</td>\n",
       "      <td>0</td>\n",
       "      <td>0</td>\n",
       "      <td>0</td>\n",
       "      <td>...</td>\n",
       "      <td>1046</td>\n",
       "      <td>11510</td>\n",
       "      <td>3666</td>\n",
       "      <td>13</td>\n",
       "      <td>2368</td>\n",
       "      <td>1313</td>\n",
       "      <td>31894</td>\n",
       "      <td>20049</td>\n",
       "      <td>1907</td>\n",
       "      <td>5078</td>\n",
       "    </tr>\n",
       "    <tr>\n",
       "      <th>1</th>\n",
       "      <td>0</td>\n",
       "      <td>0</td>\n",
       "      <td>0</td>\n",
       "      <td>0</td>\n",
       "      <td>0</td>\n",
       "      <td>0</td>\n",
       "      <td>0</td>\n",
       "      <td>0</td>\n",
       "      <td>0</td>\n",
       "      <td>0</td>\n",
       "      <td>...</td>\n",
       "      <td>4</td>\n",
       "      <td>31895</td>\n",
       "      <td>5359</td>\n",
       "      <td>211</td>\n",
       "      <td>1065</td>\n",
       "      <td>118</td>\n",
       "      <td>771</td>\n",
       "      <td>1086</td>\n",
       "      <td>3119</td>\n",
       "      <td>20050</td>\n",
       "    </tr>\n",
       "    <tr>\n",
       "      <th>2</th>\n",
       "      <td>0</td>\n",
       "      <td>0</td>\n",
       "      <td>0</td>\n",
       "      <td>0</td>\n",
       "      <td>0</td>\n",
       "      <td>0</td>\n",
       "      <td>0</td>\n",
       "      <td>0</td>\n",
       "      <td>0</td>\n",
       "      <td>0</td>\n",
       "      <td>...</td>\n",
       "      <td>150</td>\n",
       "      <td>4045</td>\n",
       "      <td>873</td>\n",
       "      <td>3007</td>\n",
       "      <td>1375</td>\n",
       "      <td>13</td>\n",
       "      <td>1793</td>\n",
       "      <td>31897</td>\n",
       "      <td>31898</td>\n",
       "      <td>24547</td>\n",
       "    </tr>\n",
       "    <tr>\n",
       "      <th>3</th>\n",
       "      <td>0</td>\n",
       "      <td>0</td>\n",
       "      <td>0</td>\n",
       "      <td>0</td>\n",
       "      <td>0</td>\n",
       "      <td>0</td>\n",
       "      <td>0</td>\n",
       "      <td>0</td>\n",
       "      <td>0</td>\n",
       "      <td>0</td>\n",
       "      <td>...</td>\n",
       "      <td>711</td>\n",
       "      <td>24552</td>\n",
       "      <td>45023</td>\n",
       "      <td>2907</td>\n",
       "      <td>31901</td>\n",
       "      <td>45024</td>\n",
       "      <td>2011</td>\n",
       "      <td>16912</td>\n",
       "      <td>24553</td>\n",
       "      <td>20054</td>\n",
       "    </tr>\n",
       "    <tr>\n",
       "      <th>4</th>\n",
       "      <td>0</td>\n",
       "      <td>0</td>\n",
       "      <td>0</td>\n",
       "      <td>0</td>\n",
       "      <td>0</td>\n",
       "      <td>0</td>\n",
       "      <td>0</td>\n",
       "      <td>0</td>\n",
       "      <td>0</td>\n",
       "      <td>0</td>\n",
       "      <td>...</td>\n",
       "      <td>31903</td>\n",
       "      <td>108</td>\n",
       "      <td>966</td>\n",
       "      <td>45026</td>\n",
       "      <td>4604</td>\n",
       "      <td>3121</td>\n",
       "      <td>442</td>\n",
       "      <td>1754</td>\n",
       "      <td>31904</td>\n",
       "      <td>45027</td>\n",
       "    </tr>\n",
       "  </tbody>\n",
       "</table>\n",
       "<p>5 rows × 256 columns</p>\n",
       "</div>"
      ],
      "text/plain": [
       "   0    1    2    3    4    5    6    7    8    9    ...    246    247    248  \\\n",
       "0    0    0    0    0    0    0    0    0    0    0  ...   1046  11510   3666   \n",
       "1    0    0    0    0    0    0    0    0    0    0  ...      4  31895   5359   \n",
       "2    0    0    0    0    0    0    0    0    0    0  ...    150   4045    873   \n",
       "3    0    0    0    0    0    0    0    0    0    0  ...    711  24552  45023   \n",
       "4    0    0    0    0    0    0    0    0    0    0  ...  31903    108    966   \n",
       "\n",
       "     249    250    251    252    253    254    255  \n",
       "0     13   2368   1313  31894  20049   1907   5078  \n",
       "1    211   1065    118    771   1086   3119  20050  \n",
       "2   3007   1375     13   1793  31897  31898  24547  \n",
       "3   2907  31901  45024   2011  16912  24553  20054  \n",
       "4  45026   4604   3121    442   1754  31904  45027  \n",
       "\n",
       "[5 rows x 256 columns]"
      ]
     },
     "execution_count": 319,
     "metadata": {},
     "output_type": "execute_result"
    }
   ],
   "source": [
    "docs_noise = pd.DataFrame(docs)\n",
    "docs_noise.head()"
   ]
  },
  {
   "cell_type": "code",
   "execution_count": 320,
   "metadata": {},
   "outputs": [],
   "source": [
    "import random"
   ]
  },
  {
   "cell_type": "code",
   "execution_count": 321,
   "metadata": {},
   "outputs": [
    {
     "data": {
      "text/plain": [
       "[1, 1, 0, 1, 1, 1, 1, 1, 0, 0]"
      ]
     },
     "execution_count": 321,
     "metadata": {},
     "output_type": "execute_result"
    }
   ],
   "source": [
    "my_list = [0]*9789 + [1]*9790\n",
    "my_list1 = [0]*9789 + [1]*9790\n",
    "my_list2 = [0]*9789 + [1]*9790\n",
    "my_list3 = [0]*9789 + [1]*9790\n",
    "my_list4 = [0]*9789 + [1]*9790\n",
    "random.shuffle(my_list)\n",
    "random.shuffle(my_list1)\n",
    "random.shuffle(my_list2)\n",
    "random.shuffle(my_list3)\n",
    "random.shuffle(my_list4)\n",
    "my_list[0:10]"
   ]
  },
  {
   "cell_type": "code",
   "execution_count": 322,
   "metadata": {},
   "outputs": [],
   "source": [
    "docs_noise[51] = docs_noise[51] + my_list\n",
    "docs_noise[102] = docs_noise[102] + my_list1\n",
    "docs_noise[153] = docs_noise[153] + my_list2\n",
    "docs_noise[204] = docs_noise[204] + my_list3\n",
    "docs_noise[255] = docs_noise[255] + my_list4"
   ]
  },
  {
   "cell_type": "code",
   "execution_count": 341,
   "metadata": {},
   "outputs": [],
   "source": [
    "docs_noise = docs_noise.values"
   ]
  },
  {
   "cell_type": "code",
   "execution_count": 345,
   "metadata": {},
   "outputs": [
    {
     "data": {
      "text/plain": [
       "array([[    0,     0,     0, ..., 20049,  1907,  5079],\n",
       "       [    0,     0,     0, ...,  1086,  3119, 20051],\n",
       "       [    0,     0,     0, ..., 31897, 31898, 24547],\n",
       "       ...,\n",
       "       [    0,     0,     0, ...,   697,   152,  9350],\n",
       "       [    0,     0,     0, ...,  1574, 21725,    95],\n",
       "       [    0,     0,     0, ...,  4295,   444, 50417]])"
      ]
     },
     "execution_count": 345,
     "metadata": {},
     "output_type": "execute_result"
    }
   ],
   "source": [
    "docs_noise"
   ]
  },
  {
   "cell_type": "code",
   "execution_count": 346,
   "metadata": {},
   "outputs": [
    {
     "data": {
      "text/plain": [
       "array([[    0,     0,     0, ..., 20049,  1907,  5079],\n",
       "       [    0,     0,     0, ...,  1086,  3119, 20051],\n",
       "       [    0,     0,     0, ..., 31897, 31898, 24547],\n",
       "       ...,\n",
       "       [    0,     0,     0, ...,   697,   152,  9350],\n",
       "       [    0,     0,     0, ...,  1574, 21725,    95],\n",
       "       [    0,     0,     0, ...,  4295,   444, 50417]])"
      ]
     },
     "execution_count": 346,
     "metadata": {},
     "output_type": "execute_result"
    }
   ],
   "source": [
    "docs"
   ]
  },
  {
   "cell_type": "code",
   "execution_count": 342,
   "metadata": {},
   "outputs": [],
   "source": [
    "input_dim = np.max(docs_noise) + 3\n",
    "embedding_dims = 25"
   ]
  },
  {
   "cell_type": "code",
   "execution_count": 343,
   "metadata": {},
   "outputs": [],
   "source": [
    "def create_model(embedding_dims=20, optimizer='adam'):\n",
    "    model = Sequential()\n",
    "    model.add(Embedding(input_dim=input_dim, output_dim=embedding_dims))\n",
    "    model.add(GlobalAveragePooling1D())\n",
    "    model.add(Dense(3, activation='softmax'))\n",
    "\n",
    "    model.compile(loss='categorical_crossentropy',\n",
    "                  optimizer=optimizer,\n",
    "                  metrics=['accuracy'])\n",
    "    return model"
   ]
  },
  {
   "cell_type": "code",
   "execution_count": 348,
   "metadata": {},
   "outputs": [
    {
     "ename": "ValueError",
     "evalue": "Found input variables with inconsistent numbers of samples: [19579, 6]",
     "output_type": "error",
     "traceback": [
      "\u001b[1;31m---------------------------------------------------------------------------\u001b[0m",
      "\u001b[1;31mValueError\u001b[0m                                Traceback (most recent call last)",
      "\u001b[1;32m<ipython-input-348-c99b0f496ce9>\u001b[0m in \u001b[0;36m<module>\u001b[1;34m\u001b[0m\n\u001b[0;32m      1\u001b[0m \u001b[0mepochs\u001b[0m \u001b[1;33m=\u001b[0m \u001b[1;36m100\u001b[0m\u001b[1;33m\u001b[0m\u001b[1;33m\u001b[0m\u001b[0m\n\u001b[1;32m----> 2\u001b[1;33m \u001b[0mx_train\u001b[0m\u001b[1;33m,\u001b[0m \u001b[0mx_test\u001b[0m\u001b[1;33m,\u001b[0m \u001b[0my_train\u001b[0m\u001b[1;33m,\u001b[0m \u001b[0my_test\u001b[0m \u001b[1;33m=\u001b[0m \u001b[0mtrain_test_split\u001b[0m\u001b[1;33m(\u001b[0m\u001b[0mdocs\u001b[0m\u001b[1;33m,\u001b[0m \u001b[0my\u001b[0m\u001b[1;33m,\u001b[0m \u001b[0mtest_size\u001b[0m\u001b[1;33m=\u001b[0m\u001b[1;36m0.2\u001b[0m\u001b[1;33m)\u001b[0m\u001b[1;33m\u001b[0m\u001b[1;33m\u001b[0m\u001b[0m\n\u001b[0m",
      "\u001b[1;32mC:\\ProgramData\\Anaconda3\\lib\\site-packages\\sklearn\\model_selection\\_split.py\u001b[0m in \u001b[0;36mtrain_test_split\u001b[1;34m(*arrays, **options)\u001b[0m\n\u001b[0;32m   2182\u001b[0m         \u001b[0mtest_size\u001b[0m \u001b[1;33m=\u001b[0m \u001b[1;36m0.25\u001b[0m\u001b[1;33m\u001b[0m\u001b[1;33m\u001b[0m\u001b[0m\n\u001b[0;32m   2183\u001b[0m \u001b[1;33m\u001b[0m\u001b[0m\n\u001b[1;32m-> 2184\u001b[1;33m     \u001b[0marrays\u001b[0m \u001b[1;33m=\u001b[0m \u001b[0mindexable\u001b[0m\u001b[1;33m(\u001b[0m\u001b[1;33m*\u001b[0m\u001b[0marrays\u001b[0m\u001b[1;33m)\u001b[0m\u001b[1;33m\u001b[0m\u001b[1;33m\u001b[0m\u001b[0m\n\u001b[0m\u001b[0;32m   2185\u001b[0m \u001b[1;33m\u001b[0m\u001b[0m\n\u001b[0;32m   2186\u001b[0m     \u001b[1;32mif\u001b[0m \u001b[0mshuffle\u001b[0m \u001b[1;32mis\u001b[0m \u001b[1;32mFalse\u001b[0m\u001b[1;33m:\u001b[0m\u001b[1;33m\u001b[0m\u001b[1;33m\u001b[0m\u001b[0m\n",
      "\u001b[1;32mC:\\ProgramData\\Anaconda3\\lib\\site-packages\\sklearn\\utils\\validation.py\u001b[0m in \u001b[0;36mindexable\u001b[1;34m(*iterables)\u001b[0m\n\u001b[0;32m    258\u001b[0m         \u001b[1;32melse\u001b[0m\u001b[1;33m:\u001b[0m\u001b[1;33m\u001b[0m\u001b[1;33m\u001b[0m\u001b[0m\n\u001b[0;32m    259\u001b[0m             \u001b[0mresult\u001b[0m\u001b[1;33m.\u001b[0m\u001b[0mappend\u001b[0m\u001b[1;33m(\u001b[0m\u001b[0mnp\u001b[0m\u001b[1;33m.\u001b[0m\u001b[0marray\u001b[0m\u001b[1;33m(\u001b[0m\u001b[0mX\u001b[0m\u001b[1;33m)\u001b[0m\u001b[1;33m)\u001b[0m\u001b[1;33m\u001b[0m\u001b[1;33m\u001b[0m\u001b[0m\n\u001b[1;32m--> 260\u001b[1;33m     \u001b[0mcheck_consistent_length\u001b[0m\u001b[1;33m(\u001b[0m\u001b[1;33m*\u001b[0m\u001b[0mresult\u001b[0m\u001b[1;33m)\u001b[0m\u001b[1;33m\u001b[0m\u001b[1;33m\u001b[0m\u001b[0m\n\u001b[0m\u001b[0;32m    261\u001b[0m     \u001b[1;32mreturn\u001b[0m \u001b[0mresult\u001b[0m\u001b[1;33m\u001b[0m\u001b[1;33m\u001b[0m\u001b[0m\n\u001b[0;32m    262\u001b[0m \u001b[1;33m\u001b[0m\u001b[0m\n",
      "\u001b[1;32mC:\\ProgramData\\Anaconda3\\lib\\site-packages\\sklearn\\utils\\validation.py\u001b[0m in \u001b[0;36mcheck_consistent_length\u001b[1;34m(*arrays)\u001b[0m\n\u001b[0;32m    233\u001b[0m     \u001b[1;32mif\u001b[0m \u001b[0mlen\u001b[0m\u001b[1;33m(\u001b[0m\u001b[0muniques\u001b[0m\u001b[1;33m)\u001b[0m \u001b[1;33m>\u001b[0m \u001b[1;36m1\u001b[0m\u001b[1;33m:\u001b[0m\u001b[1;33m\u001b[0m\u001b[1;33m\u001b[0m\u001b[0m\n\u001b[0;32m    234\u001b[0m         raise ValueError(\"Found input variables with inconsistent numbers of\"\n\u001b[1;32m--> 235\u001b[1;33m                          \" samples: %r\" % [int(l) for l in lengths])\n\u001b[0m\u001b[0;32m    236\u001b[0m \u001b[1;33m\u001b[0m\u001b[0m\n\u001b[0;32m    237\u001b[0m \u001b[1;33m\u001b[0m\u001b[0m\n",
      "\u001b[1;31mValueError\u001b[0m: Found input variables with inconsistent numbers of samples: [19579, 6]"
     ]
    }
   ],
   "source": [
    "epochs = 100\n",
    "x_train, x_test, y_train, y_test = train_test_split(docs, y, test_size=0.2)"
   ]
  },
  {
   "cell_type": "code",
   "execution_count": 333,
   "metadata": {},
   "outputs": [
    {
     "ename": "ValueError",
     "evalue": "Can't convert non-rectangular Python sequence to Tensor.",
     "output_type": "error",
     "traceback": [
      "\u001b[1;31m---------------------------------------------------------------------------\u001b[0m",
      "\u001b[1;31mValueError\u001b[0m                                Traceback (most recent call last)",
      "\u001b[1;32m<ipython-input-333-944537ef624b>\u001b[0m in \u001b[0;36m<module>\u001b[1;34m\u001b[0m\n\u001b[1;32m----> 1\u001b[1;33m \u001b[0mmodel\u001b[0m \u001b[1;33m=\u001b[0m \u001b[0mcreate_model\u001b[0m\u001b[1;33m(\u001b[0m\u001b[1;33m)\u001b[0m\u001b[1;33m\u001b[0m\u001b[1;33m\u001b[0m\u001b[0m\n\u001b[0m\u001b[0;32m      2\u001b[0m hist = model.fit(x_train, y_train,\n\u001b[0;32m      3\u001b[0m                  \u001b[0mbatch_size\u001b[0m\u001b[1;33m=\u001b[0m\u001b[1;36m1600\u001b[0m\u001b[1;33m,\u001b[0m\u001b[1;33m\u001b[0m\u001b[1;33m\u001b[0m\u001b[0m\n\u001b[0;32m      4\u001b[0m                  \u001b[0mvalidation_data\u001b[0m\u001b[1;33m=\u001b[0m\u001b[1;33m(\u001b[0m\u001b[0mx_test\u001b[0m\u001b[1;33m,\u001b[0m \u001b[0my_test\u001b[0m\u001b[1;33m)\u001b[0m\u001b[1;33m,\u001b[0m\u001b[1;33m\u001b[0m\u001b[1;33m\u001b[0m\u001b[0m\n\u001b[0;32m      5\u001b[0m                  \u001b[0mepochs\u001b[0m\u001b[1;33m=\u001b[0m\u001b[0mepochs\u001b[0m\u001b[1;33m,\u001b[0m\u001b[1;33m\u001b[0m\u001b[1;33m\u001b[0m\u001b[0m\n",
      "\u001b[1;32m<ipython-input-331-254bf1eca3b7>\u001b[0m in \u001b[0;36mcreate_model\u001b[1;34m(embedding_dims, optimizer)\u001b[0m\n\u001b[0;32m      1\u001b[0m \u001b[1;32mdef\u001b[0m \u001b[0mcreate_model\u001b[0m\u001b[1;33m(\u001b[0m\u001b[0membedding_dims\u001b[0m\u001b[1;33m=\u001b[0m\u001b[1;36m20\u001b[0m\u001b[1;33m,\u001b[0m \u001b[0moptimizer\u001b[0m\u001b[1;33m=\u001b[0m\u001b[1;34m'adam'\u001b[0m\u001b[1;33m)\u001b[0m\u001b[1;33m:\u001b[0m\u001b[1;33m\u001b[0m\u001b[1;33m\u001b[0m\u001b[0m\n\u001b[0;32m      2\u001b[0m     \u001b[0mmodel\u001b[0m \u001b[1;33m=\u001b[0m \u001b[0mSequential\u001b[0m\u001b[1;33m(\u001b[0m\u001b[1;33m)\u001b[0m\u001b[1;33m\u001b[0m\u001b[1;33m\u001b[0m\u001b[0m\n\u001b[1;32m----> 3\u001b[1;33m     \u001b[0mmodel\u001b[0m\u001b[1;33m.\u001b[0m\u001b[0madd\u001b[0m\u001b[1;33m(\u001b[0m\u001b[0mEmbedding\u001b[0m\u001b[1;33m(\u001b[0m\u001b[0minput_dim\u001b[0m\u001b[1;33m=\u001b[0m\u001b[0minput_dim\u001b[0m\u001b[1;33m,\u001b[0m \u001b[0moutput_dim\u001b[0m\u001b[1;33m=\u001b[0m\u001b[0membedding_dims\u001b[0m\u001b[1;33m)\u001b[0m\u001b[1;33m)\u001b[0m\u001b[1;33m\u001b[0m\u001b[1;33m\u001b[0m\u001b[0m\n\u001b[0m\u001b[0;32m      4\u001b[0m     \u001b[0mmodel\u001b[0m\u001b[1;33m.\u001b[0m\u001b[0madd\u001b[0m\u001b[1;33m(\u001b[0m\u001b[0mGlobalAveragePooling1D\u001b[0m\u001b[1;33m(\u001b[0m\u001b[1;33m)\u001b[0m\u001b[1;33m)\u001b[0m\u001b[1;33m\u001b[0m\u001b[1;33m\u001b[0m\u001b[0m\n\u001b[0;32m      5\u001b[0m     \u001b[0mmodel\u001b[0m\u001b[1;33m.\u001b[0m\u001b[0madd\u001b[0m\u001b[1;33m(\u001b[0m\u001b[0mDense\u001b[0m\u001b[1;33m(\u001b[0m\u001b[1;36m3\u001b[0m\u001b[1;33m,\u001b[0m \u001b[0mactivation\u001b[0m\u001b[1;33m=\u001b[0m\u001b[1;34m'softmax'\u001b[0m\u001b[1;33m)\u001b[0m\u001b[1;33m)\u001b[0m\u001b[1;33m\u001b[0m\u001b[1;33m\u001b[0m\u001b[0m\n",
      "\u001b[1;32mC:\\ProgramData\\Anaconda3\\lib\\site-packages\\keras\\engine\\sequential.py\u001b[0m in \u001b[0;36madd\u001b[1;34m(self, layer)\u001b[0m\n\u001b[0;32m    164\u001b[0m                     \u001b[1;31m# and create the node connecting the current layer\u001b[0m\u001b[1;33m\u001b[0m\u001b[1;33m\u001b[0m\u001b[1;33m\u001b[0m\u001b[0m\n\u001b[0;32m    165\u001b[0m                     \u001b[1;31m# to the input layer we just created.\u001b[0m\u001b[1;33m\u001b[0m\u001b[1;33m\u001b[0m\u001b[1;33m\u001b[0m\u001b[0m\n\u001b[1;32m--> 166\u001b[1;33m                     \u001b[0mlayer\u001b[0m\u001b[1;33m(\u001b[0m\u001b[0mx\u001b[0m\u001b[1;33m)\u001b[0m\u001b[1;33m\u001b[0m\u001b[1;33m\u001b[0m\u001b[0m\n\u001b[0m\u001b[0;32m    167\u001b[0m                     \u001b[0mset_inputs\u001b[0m \u001b[1;33m=\u001b[0m \u001b[1;32mTrue\u001b[0m\u001b[1;33m\u001b[0m\u001b[1;33m\u001b[0m\u001b[0m\n\u001b[0;32m    168\u001b[0m             \u001b[1;32melse\u001b[0m\u001b[1;33m:\u001b[0m\u001b[1;33m\u001b[0m\u001b[1;33m\u001b[0m\u001b[0m\n",
      "\u001b[1;32mC:\\ProgramData\\Anaconda3\\lib\\site-packages\\keras\\backend\\tensorflow_backend.py\u001b[0m in \u001b[0;36msymbolic_fn_wrapper\u001b[1;34m(*args, **kwargs)\u001b[0m\n\u001b[0;32m     73\u001b[0m         \u001b[1;32mif\u001b[0m \u001b[0m_SYMBOLIC_SCOPE\u001b[0m\u001b[1;33m.\u001b[0m\u001b[0mvalue\u001b[0m\u001b[1;33m:\u001b[0m\u001b[1;33m\u001b[0m\u001b[1;33m\u001b[0m\u001b[0m\n\u001b[0;32m     74\u001b[0m             \u001b[1;32mwith\u001b[0m \u001b[0mget_graph\u001b[0m\u001b[1;33m(\u001b[0m\u001b[1;33m)\u001b[0m\u001b[1;33m.\u001b[0m\u001b[0mas_default\u001b[0m\u001b[1;33m(\u001b[0m\u001b[1;33m)\u001b[0m\u001b[1;33m:\u001b[0m\u001b[1;33m\u001b[0m\u001b[1;33m\u001b[0m\u001b[0m\n\u001b[1;32m---> 75\u001b[1;33m                 \u001b[1;32mreturn\u001b[0m \u001b[0mfunc\u001b[0m\u001b[1;33m(\u001b[0m\u001b[1;33m*\u001b[0m\u001b[0margs\u001b[0m\u001b[1;33m,\u001b[0m \u001b[1;33m**\u001b[0m\u001b[0mkwargs\u001b[0m\u001b[1;33m)\u001b[0m\u001b[1;33m\u001b[0m\u001b[1;33m\u001b[0m\u001b[0m\n\u001b[0m\u001b[0;32m     76\u001b[0m         \u001b[1;32melse\u001b[0m\u001b[1;33m:\u001b[0m\u001b[1;33m\u001b[0m\u001b[1;33m\u001b[0m\u001b[0m\n\u001b[0;32m     77\u001b[0m             \u001b[1;32mreturn\u001b[0m \u001b[0mfunc\u001b[0m\u001b[1;33m(\u001b[0m\u001b[1;33m*\u001b[0m\u001b[0margs\u001b[0m\u001b[1;33m,\u001b[0m \u001b[1;33m**\u001b[0m\u001b[0mkwargs\u001b[0m\u001b[1;33m)\u001b[0m\u001b[1;33m\u001b[0m\u001b[1;33m\u001b[0m\u001b[0m\n",
      "\u001b[1;32mC:\\ProgramData\\Anaconda3\\lib\\site-packages\\keras\\engine\\base_layer.py\u001b[0m in \u001b[0;36m__call__\u001b[1;34m(self, inputs, **kwargs)\u001b[0m\n\u001b[0;32m    461\u001b[0m                                          \u001b[1;34m'You can build it manually via: '\u001b[0m\u001b[1;33m\u001b[0m\u001b[1;33m\u001b[0m\u001b[0m\n\u001b[0;32m    462\u001b[0m                                          '`layer.build(batch_input_shape)`')\n\u001b[1;32m--> 463\u001b[1;33m                 \u001b[0mself\u001b[0m\u001b[1;33m.\u001b[0m\u001b[0mbuild\u001b[0m\u001b[1;33m(\u001b[0m\u001b[0munpack_singleton\u001b[0m\u001b[1;33m(\u001b[0m\u001b[0minput_shapes\u001b[0m\u001b[1;33m)\u001b[0m\u001b[1;33m)\u001b[0m\u001b[1;33m\u001b[0m\u001b[1;33m\u001b[0m\u001b[0m\n\u001b[0m\u001b[0;32m    464\u001b[0m                 \u001b[0mself\u001b[0m\u001b[1;33m.\u001b[0m\u001b[0mbuilt\u001b[0m \u001b[1;33m=\u001b[0m \u001b[1;32mTrue\u001b[0m\u001b[1;33m\u001b[0m\u001b[1;33m\u001b[0m\u001b[0m\n\u001b[0;32m    465\u001b[0m \u001b[1;33m\u001b[0m\u001b[0m\n",
      "\u001b[1;32mC:\\ProgramData\\Anaconda3\\lib\\site-packages\\keras\\layers\\embeddings.py\u001b[0m in \u001b[0;36mbuild\u001b[1;34m(self, input_shape)\u001b[0m\n\u001b[0;32m    110\u001b[0m             \u001b[0mregularizer\u001b[0m\u001b[1;33m=\u001b[0m\u001b[0mself\u001b[0m\u001b[1;33m.\u001b[0m\u001b[0membeddings_regularizer\u001b[0m\u001b[1;33m,\u001b[0m\u001b[1;33m\u001b[0m\u001b[1;33m\u001b[0m\u001b[0m\n\u001b[0;32m    111\u001b[0m             \u001b[0mconstraint\u001b[0m\u001b[1;33m=\u001b[0m\u001b[0mself\u001b[0m\u001b[1;33m.\u001b[0m\u001b[0membeddings_constraint\u001b[0m\u001b[1;33m,\u001b[0m\u001b[1;33m\u001b[0m\u001b[1;33m\u001b[0m\u001b[0m\n\u001b[1;32m--> 112\u001b[1;33m             dtype=self.dtype)\n\u001b[0m\u001b[0;32m    113\u001b[0m         \u001b[0mself\u001b[0m\u001b[1;33m.\u001b[0m\u001b[0mbuilt\u001b[0m \u001b[1;33m=\u001b[0m \u001b[1;32mTrue\u001b[0m\u001b[1;33m\u001b[0m\u001b[1;33m\u001b[0m\u001b[0m\n\u001b[0;32m    114\u001b[0m \u001b[1;33m\u001b[0m\u001b[0m\n",
      "\u001b[1;32mC:\\ProgramData\\Anaconda3\\lib\\site-packages\\keras\\engine\\base_layer.py\u001b[0m in \u001b[0;36madd_weight\u001b[1;34m(self, name, shape, dtype, initializer, regularizer, trainable, constraint)\u001b[0m\n\u001b[0;32m    277\u001b[0m         \u001b[1;32mif\u001b[0m \u001b[0mdtype\u001b[0m \u001b[1;32mis\u001b[0m \u001b[1;32mNone\u001b[0m\u001b[1;33m:\u001b[0m\u001b[1;33m\u001b[0m\u001b[1;33m\u001b[0m\u001b[0m\n\u001b[0;32m    278\u001b[0m             \u001b[0mdtype\u001b[0m \u001b[1;33m=\u001b[0m \u001b[0mself\u001b[0m\u001b[1;33m.\u001b[0m\u001b[0mdtype\u001b[0m\u001b[1;33m\u001b[0m\u001b[1;33m\u001b[0m\u001b[0m\n\u001b[1;32m--> 279\u001b[1;33m         weight = K.variable(initializer(shape, dtype=dtype),\n\u001b[0m\u001b[0;32m    280\u001b[0m                             \u001b[0mdtype\u001b[0m\u001b[1;33m=\u001b[0m\u001b[0mdtype\u001b[0m\u001b[1;33m,\u001b[0m\u001b[1;33m\u001b[0m\u001b[1;33m\u001b[0m\u001b[0m\n\u001b[0;32m    281\u001b[0m                             \u001b[0mname\u001b[0m\u001b[1;33m=\u001b[0m\u001b[0mname\u001b[0m\u001b[1;33m,\u001b[0m\u001b[1;33m\u001b[0m\u001b[1;33m\u001b[0m\u001b[0m\n",
      "\u001b[1;32mC:\\ProgramData\\Anaconda3\\lib\\site-packages\\keras\\initializers.py\u001b[0m in \u001b[0;36m__call__\u001b[1;34m(self, shape, dtype)\u001b[0m\n\u001b[0;32m    113\u001b[0m     \u001b[1;32mdef\u001b[0m \u001b[0m__call__\u001b[0m\u001b[1;33m(\u001b[0m\u001b[0mself\u001b[0m\u001b[1;33m,\u001b[0m \u001b[0mshape\u001b[0m\u001b[1;33m,\u001b[0m \u001b[0mdtype\u001b[0m\u001b[1;33m=\u001b[0m\u001b[1;32mNone\u001b[0m\u001b[1;33m)\u001b[0m\u001b[1;33m:\u001b[0m\u001b[1;33m\u001b[0m\u001b[1;33m\u001b[0m\u001b[0m\n\u001b[0;32m    114\u001b[0m         x = K.random_uniform(shape, self.minval, self.maxval,\n\u001b[1;32m--> 115\u001b[1;33m                              dtype=dtype, seed=self.seed)\n\u001b[0m\u001b[0;32m    116\u001b[0m         \u001b[1;32mif\u001b[0m \u001b[0mself\u001b[0m\u001b[1;33m.\u001b[0m\u001b[0mseed\u001b[0m \u001b[1;32mis\u001b[0m \u001b[1;32mnot\u001b[0m \u001b[1;32mNone\u001b[0m\u001b[1;33m:\u001b[0m\u001b[1;33m\u001b[0m\u001b[1;33m\u001b[0m\u001b[0m\n\u001b[0;32m    117\u001b[0m             \u001b[0mself\u001b[0m\u001b[1;33m.\u001b[0m\u001b[0mseed\u001b[0m \u001b[1;33m+=\u001b[0m \u001b[1;36m1\u001b[0m\u001b[1;33m\u001b[0m\u001b[1;33m\u001b[0m\u001b[0m\n",
      "\u001b[1;32mC:\\ProgramData\\Anaconda3\\lib\\site-packages\\keras\\backend\\tensorflow_backend.py\u001b[0m in \u001b[0;36mrandom_uniform\u001b[1;34m(shape, minval, maxval, dtype, seed)\u001b[0m\n\u001b[0;32m   4355\u001b[0m     \u001b[1;32mwith\u001b[0m \u001b[0mtf_ops\u001b[0m\u001b[1;33m.\u001b[0m\u001b[0minit_scope\u001b[0m\u001b[1;33m(\u001b[0m\u001b[1;33m)\u001b[0m\u001b[1;33m:\u001b[0m\u001b[1;33m\u001b[0m\u001b[1;33m\u001b[0m\u001b[0m\n\u001b[0;32m   4356\u001b[0m         return tf_keras_backend.random_uniform(\n\u001b[1;32m-> 4357\u001b[1;33m             shape, minval=minval, maxval=maxval, dtype=dtype, seed=seed)\n\u001b[0m\u001b[0;32m   4358\u001b[0m \u001b[1;33m\u001b[0m\u001b[0m\n\u001b[0;32m   4359\u001b[0m \u001b[1;33m\u001b[0m\u001b[0m\n",
      "\u001b[1;32mC:\\ProgramData\\Anaconda3\\lib\\site-packages\\tensorflow_core\\python\\keras\\backend.py\u001b[0m in \u001b[0;36mrandom_uniform\u001b[1;34m(shape, minval, maxval, dtype, seed)\u001b[0m\n\u001b[0;32m   5596\u001b[0m     \u001b[0mseed\u001b[0m \u001b[1;33m=\u001b[0m \u001b[0mnp\u001b[0m\u001b[1;33m.\u001b[0m\u001b[0mrandom\u001b[0m\u001b[1;33m.\u001b[0m\u001b[0mrandint\u001b[0m\u001b[1;33m(\u001b[0m\u001b[1;36m10e6\u001b[0m\u001b[1;33m)\u001b[0m\u001b[1;33m\u001b[0m\u001b[1;33m\u001b[0m\u001b[0m\n\u001b[0;32m   5597\u001b[0m   return random_ops.random_uniform(\n\u001b[1;32m-> 5598\u001b[1;33m       shape, minval=minval, maxval=maxval, dtype=dtype, seed=seed)\n\u001b[0m\u001b[0;32m   5599\u001b[0m \u001b[1;33m\u001b[0m\u001b[0m\n\u001b[0;32m   5600\u001b[0m \u001b[1;33m\u001b[0m\u001b[0m\n",
      "\u001b[1;32mC:\\ProgramData\\Anaconda3\\lib\\site-packages\\tensorflow_core\\python\\ops\\random_ops.py\u001b[0m in \u001b[0;36mrandom_uniform\u001b[1;34m(shape, minval, maxval, dtype, seed, name)\u001b[0m\n\u001b[0;32m    235\u001b[0m     \u001b[0mmaxval\u001b[0m \u001b[1;33m=\u001b[0m \u001b[1;36m1\u001b[0m\u001b[1;33m\u001b[0m\u001b[1;33m\u001b[0m\u001b[0m\n\u001b[0;32m    236\u001b[0m   \u001b[1;32mwith\u001b[0m \u001b[0mops\u001b[0m\u001b[1;33m.\u001b[0m\u001b[0mname_scope\u001b[0m\u001b[1;33m(\u001b[0m\u001b[0mname\u001b[0m\u001b[1;33m,\u001b[0m \u001b[1;34m\"random_uniform\"\u001b[0m\u001b[1;33m,\u001b[0m \u001b[1;33m[\u001b[0m\u001b[0mshape\u001b[0m\u001b[1;33m,\u001b[0m \u001b[0mminval\u001b[0m\u001b[1;33m,\u001b[0m \u001b[0mmaxval\u001b[0m\u001b[1;33m]\u001b[0m\u001b[1;33m)\u001b[0m \u001b[1;32mas\u001b[0m \u001b[0mname\u001b[0m\u001b[1;33m:\u001b[0m\u001b[1;33m\u001b[0m\u001b[1;33m\u001b[0m\u001b[0m\n\u001b[1;32m--> 237\u001b[1;33m     \u001b[0mshape\u001b[0m \u001b[1;33m=\u001b[0m \u001b[0mtensor_util\u001b[0m\u001b[1;33m.\u001b[0m\u001b[0mshape_tensor\u001b[0m\u001b[1;33m(\u001b[0m\u001b[0mshape\u001b[0m\u001b[1;33m)\u001b[0m\u001b[1;33m\u001b[0m\u001b[1;33m\u001b[0m\u001b[0m\n\u001b[0m\u001b[0;32m    238\u001b[0m     \u001b[0mminval\u001b[0m \u001b[1;33m=\u001b[0m \u001b[0mops\u001b[0m\u001b[1;33m.\u001b[0m\u001b[0mconvert_to_tensor\u001b[0m\u001b[1;33m(\u001b[0m\u001b[0mminval\u001b[0m\u001b[1;33m,\u001b[0m \u001b[0mdtype\u001b[0m\u001b[1;33m=\u001b[0m\u001b[0mdtype\u001b[0m\u001b[1;33m,\u001b[0m \u001b[0mname\u001b[0m\u001b[1;33m=\u001b[0m\u001b[1;34m\"min\"\u001b[0m\u001b[1;33m)\u001b[0m\u001b[1;33m\u001b[0m\u001b[1;33m\u001b[0m\u001b[0m\n\u001b[0;32m    239\u001b[0m     \u001b[0mmaxval\u001b[0m \u001b[1;33m=\u001b[0m \u001b[0mops\u001b[0m\u001b[1;33m.\u001b[0m\u001b[0mconvert_to_tensor\u001b[0m\u001b[1;33m(\u001b[0m\u001b[0mmaxval\u001b[0m\u001b[1;33m,\u001b[0m \u001b[0mdtype\u001b[0m\u001b[1;33m=\u001b[0m\u001b[0mdtype\u001b[0m\u001b[1;33m,\u001b[0m \u001b[0mname\u001b[0m\u001b[1;33m=\u001b[0m\u001b[1;34m\"max\"\u001b[0m\u001b[1;33m)\u001b[0m\u001b[1;33m\u001b[0m\u001b[1;33m\u001b[0m\u001b[0m\n",
      "\u001b[1;32mC:\\ProgramData\\Anaconda3\\lib\\site-packages\\tensorflow_core\\python\\framework\\tensor_util.py\u001b[0m in \u001b[0;36mshape_tensor\u001b[1;34m(shape)\u001b[0m\n\u001b[0;32m    962\u001b[0m       \u001b[1;31m# not convertible to Tensors becasue of mixed content.\u001b[0m\u001b[1;33m\u001b[0m\u001b[1;33m\u001b[0m\u001b[1;33m\u001b[0m\u001b[0m\n\u001b[0;32m    963\u001b[0m       \u001b[0mshape\u001b[0m \u001b[1;33m=\u001b[0m \u001b[0mtuple\u001b[0m\u001b[1;33m(\u001b[0m\u001b[0mmap\u001b[0m\u001b[1;33m(\u001b[0m\u001b[0mtensor_shape\u001b[0m\u001b[1;33m.\u001b[0m\u001b[0mdimension_value\u001b[0m\u001b[1;33m,\u001b[0m \u001b[0mshape\u001b[0m\u001b[1;33m)\u001b[0m\u001b[1;33m)\u001b[0m\u001b[1;33m\u001b[0m\u001b[1;33m\u001b[0m\u001b[0m\n\u001b[1;32m--> 964\u001b[1;33m   \u001b[1;32mreturn\u001b[0m \u001b[0mops\u001b[0m\u001b[1;33m.\u001b[0m\u001b[0mconvert_to_tensor\u001b[0m\u001b[1;33m(\u001b[0m\u001b[0mshape\u001b[0m\u001b[1;33m,\u001b[0m \u001b[0mdtype\u001b[0m\u001b[1;33m=\u001b[0m\u001b[0mdtype\u001b[0m\u001b[1;33m,\u001b[0m \u001b[0mname\u001b[0m\u001b[1;33m=\u001b[0m\u001b[1;34m\"shape\"\u001b[0m\u001b[1;33m)\u001b[0m\u001b[1;33m\u001b[0m\u001b[1;33m\u001b[0m\u001b[0m\n\u001b[0m\u001b[0;32m    965\u001b[0m \u001b[1;33m\u001b[0m\u001b[0m\n\u001b[0;32m    966\u001b[0m \u001b[1;33m\u001b[0m\u001b[0m\n",
      "\u001b[1;32mC:\\ProgramData\\Anaconda3\\lib\\site-packages\\tensorflow_core\\python\\framework\\ops.py\u001b[0m in \u001b[0;36mconvert_to_tensor\u001b[1;34m(value, dtype, name, preferred_dtype, dtype_hint)\u001b[0m\n\u001b[0;32m   1182\u001b[0m   preferred_dtype = deprecation.deprecated_argument_lookup(\n\u001b[0;32m   1183\u001b[0m       \"dtype_hint\", dtype_hint, \"preferred_dtype\", preferred_dtype)\n\u001b[1;32m-> 1184\u001b[1;33m   \u001b[1;32mreturn\u001b[0m \u001b[0mconvert_to_tensor_v2\u001b[0m\u001b[1;33m(\u001b[0m\u001b[0mvalue\u001b[0m\u001b[1;33m,\u001b[0m \u001b[0mdtype\u001b[0m\u001b[1;33m,\u001b[0m \u001b[0mpreferred_dtype\u001b[0m\u001b[1;33m,\u001b[0m \u001b[0mname\u001b[0m\u001b[1;33m)\u001b[0m\u001b[1;33m\u001b[0m\u001b[1;33m\u001b[0m\u001b[0m\n\u001b[0m\u001b[0;32m   1185\u001b[0m \u001b[1;33m\u001b[0m\u001b[0m\n\u001b[0;32m   1186\u001b[0m \u001b[1;33m\u001b[0m\u001b[0m\n",
      "\u001b[1;32mC:\\ProgramData\\Anaconda3\\lib\\site-packages\\tensorflow_core\\python\\framework\\ops.py\u001b[0m in \u001b[0;36mconvert_to_tensor_v2\u001b[1;34m(value, dtype, dtype_hint, name)\u001b[0m\n\u001b[0;32m   1240\u001b[0m       \u001b[0mname\u001b[0m\u001b[1;33m=\u001b[0m\u001b[0mname\u001b[0m\u001b[1;33m,\u001b[0m\u001b[1;33m\u001b[0m\u001b[1;33m\u001b[0m\u001b[0m\n\u001b[0;32m   1241\u001b[0m       \u001b[0mpreferred_dtype\u001b[0m\u001b[1;33m=\u001b[0m\u001b[0mdtype_hint\u001b[0m\u001b[1;33m,\u001b[0m\u001b[1;33m\u001b[0m\u001b[1;33m\u001b[0m\u001b[0m\n\u001b[1;32m-> 1242\u001b[1;33m       as_ref=False)\n\u001b[0m\u001b[0;32m   1243\u001b[0m \u001b[1;33m\u001b[0m\u001b[0m\n\u001b[0;32m   1244\u001b[0m \u001b[1;33m\u001b[0m\u001b[0m\n",
      "\u001b[1;32mC:\\ProgramData\\Anaconda3\\lib\\site-packages\\tensorflow_core\\python\\framework\\ops.py\u001b[0m in \u001b[0;36minternal_convert_to_tensor\u001b[1;34m(value, dtype, name, as_ref, preferred_dtype, ctx, accept_composite_tensors)\u001b[0m\n\u001b[0;32m   1294\u001b[0m \u001b[1;33m\u001b[0m\u001b[0m\n\u001b[0;32m   1295\u001b[0m     \u001b[1;32mif\u001b[0m \u001b[0mret\u001b[0m \u001b[1;32mis\u001b[0m \u001b[1;32mNone\u001b[0m\u001b[1;33m:\u001b[0m\u001b[1;33m\u001b[0m\u001b[1;33m\u001b[0m\u001b[0m\n\u001b[1;32m-> 1296\u001b[1;33m       \u001b[0mret\u001b[0m \u001b[1;33m=\u001b[0m \u001b[0mconversion_func\u001b[0m\u001b[1;33m(\u001b[0m\u001b[0mvalue\u001b[0m\u001b[1;33m,\u001b[0m \u001b[0mdtype\u001b[0m\u001b[1;33m=\u001b[0m\u001b[0mdtype\u001b[0m\u001b[1;33m,\u001b[0m \u001b[0mname\u001b[0m\u001b[1;33m=\u001b[0m\u001b[0mname\u001b[0m\u001b[1;33m,\u001b[0m \u001b[0mas_ref\u001b[0m\u001b[1;33m=\u001b[0m\u001b[0mas_ref\u001b[0m\u001b[1;33m)\u001b[0m\u001b[1;33m\u001b[0m\u001b[1;33m\u001b[0m\u001b[0m\n\u001b[0m\u001b[0;32m   1297\u001b[0m \u001b[1;33m\u001b[0m\u001b[0m\n\u001b[0;32m   1298\u001b[0m     \u001b[1;32mif\u001b[0m \u001b[0mret\u001b[0m \u001b[1;32mis\u001b[0m \u001b[0mNotImplemented\u001b[0m\u001b[1;33m:\u001b[0m\u001b[1;33m\u001b[0m\u001b[1;33m\u001b[0m\u001b[0m\n",
      "\u001b[1;32mC:\\ProgramData\\Anaconda3\\lib\\site-packages\\tensorflow_core\\python\\framework\\constant_op.py\u001b[0m in \u001b[0;36m_constant_tensor_conversion_function\u001b[1;34m(v, dtype, name, as_ref)\u001b[0m\n\u001b[0;32m    284\u001b[0m                                          as_ref=False):\n\u001b[0;32m    285\u001b[0m   \u001b[0m_\u001b[0m \u001b[1;33m=\u001b[0m \u001b[0mas_ref\u001b[0m\u001b[1;33m\u001b[0m\u001b[1;33m\u001b[0m\u001b[0m\n\u001b[1;32m--> 286\u001b[1;33m   \u001b[1;32mreturn\u001b[0m \u001b[0mconstant\u001b[0m\u001b[1;33m(\u001b[0m\u001b[0mv\u001b[0m\u001b[1;33m,\u001b[0m \u001b[0mdtype\u001b[0m\u001b[1;33m=\u001b[0m\u001b[0mdtype\u001b[0m\u001b[1;33m,\u001b[0m \u001b[0mname\u001b[0m\u001b[1;33m=\u001b[0m\u001b[0mname\u001b[0m\u001b[1;33m)\u001b[0m\u001b[1;33m\u001b[0m\u001b[1;33m\u001b[0m\u001b[0m\n\u001b[0m\u001b[0;32m    287\u001b[0m \u001b[1;33m\u001b[0m\u001b[0m\n\u001b[0;32m    288\u001b[0m \u001b[1;33m\u001b[0m\u001b[0m\n",
      "\u001b[1;32mC:\\ProgramData\\Anaconda3\\lib\\site-packages\\tensorflow_core\\python\\framework\\constant_op.py\u001b[0m in \u001b[0;36mconstant\u001b[1;34m(value, dtype, shape, name)\u001b[0m\n\u001b[0;32m    225\u001b[0m   \"\"\"\n\u001b[0;32m    226\u001b[0m   return _constant_impl(value, dtype, shape, name, verify_shape=False,\n\u001b[1;32m--> 227\u001b[1;33m                         allow_broadcast=True)\n\u001b[0m\u001b[0;32m    228\u001b[0m \u001b[1;33m\u001b[0m\u001b[0m\n\u001b[0;32m    229\u001b[0m \u001b[1;33m\u001b[0m\u001b[0m\n",
      "\u001b[1;32mC:\\ProgramData\\Anaconda3\\lib\\site-packages\\tensorflow_core\\python\\framework\\constant_op.py\u001b[0m in \u001b[0;36m_constant_impl\u001b[1;34m(value, dtype, shape, name, verify_shape, allow_broadcast)\u001b[0m\n\u001b[0;32m    233\u001b[0m   \u001b[0mctx\u001b[0m \u001b[1;33m=\u001b[0m \u001b[0mcontext\u001b[0m\u001b[1;33m.\u001b[0m\u001b[0mcontext\u001b[0m\u001b[1;33m(\u001b[0m\u001b[1;33m)\u001b[0m\u001b[1;33m\u001b[0m\u001b[1;33m\u001b[0m\u001b[0m\n\u001b[0;32m    234\u001b[0m   \u001b[1;32mif\u001b[0m \u001b[0mctx\u001b[0m\u001b[1;33m.\u001b[0m\u001b[0mexecuting_eagerly\u001b[0m\u001b[1;33m(\u001b[0m\u001b[1;33m)\u001b[0m\u001b[1;33m:\u001b[0m\u001b[1;33m\u001b[0m\u001b[1;33m\u001b[0m\u001b[0m\n\u001b[1;32m--> 235\u001b[1;33m     \u001b[0mt\u001b[0m \u001b[1;33m=\u001b[0m \u001b[0mconvert_to_eager_tensor\u001b[0m\u001b[1;33m(\u001b[0m\u001b[0mvalue\u001b[0m\u001b[1;33m,\u001b[0m \u001b[0mctx\u001b[0m\u001b[1;33m,\u001b[0m \u001b[0mdtype\u001b[0m\u001b[1;33m)\u001b[0m\u001b[1;33m\u001b[0m\u001b[1;33m\u001b[0m\u001b[0m\n\u001b[0m\u001b[0;32m    236\u001b[0m     \u001b[1;32mif\u001b[0m \u001b[0mshape\u001b[0m \u001b[1;32mis\u001b[0m \u001b[1;32mNone\u001b[0m\u001b[1;33m:\u001b[0m\u001b[1;33m\u001b[0m\u001b[1;33m\u001b[0m\u001b[0m\n\u001b[0;32m    237\u001b[0m       \u001b[1;32mreturn\u001b[0m \u001b[0mt\u001b[0m\u001b[1;33m\u001b[0m\u001b[1;33m\u001b[0m\u001b[0m\n",
      "\u001b[1;32mC:\\ProgramData\\Anaconda3\\lib\\site-packages\\tensorflow_core\\python\\framework\\constant_op.py\u001b[0m in \u001b[0;36mconvert_to_eager_tensor\u001b[1;34m(value, ctx, dtype)\u001b[0m\n\u001b[0;32m     94\u001b[0m       \u001b[0mdtype\u001b[0m \u001b[1;33m=\u001b[0m \u001b[0mdtypes\u001b[0m\u001b[1;33m.\u001b[0m\u001b[0mas_dtype\u001b[0m\u001b[1;33m(\u001b[0m\u001b[0mdtype\u001b[0m\u001b[1;33m)\u001b[0m\u001b[1;33m.\u001b[0m\u001b[0mas_datatype_enum\u001b[0m\u001b[1;33m\u001b[0m\u001b[1;33m\u001b[0m\u001b[0m\n\u001b[0;32m     95\u001b[0m   \u001b[0mctx\u001b[0m\u001b[1;33m.\u001b[0m\u001b[0mensure_initialized\u001b[0m\u001b[1;33m(\u001b[0m\u001b[1;33m)\u001b[0m\u001b[1;33m\u001b[0m\u001b[1;33m\u001b[0m\u001b[0m\n\u001b[1;32m---> 96\u001b[1;33m   \u001b[1;32mreturn\u001b[0m \u001b[0mops\u001b[0m\u001b[1;33m.\u001b[0m\u001b[0mEagerTensor\u001b[0m\u001b[1;33m(\u001b[0m\u001b[0mvalue\u001b[0m\u001b[1;33m,\u001b[0m \u001b[0mctx\u001b[0m\u001b[1;33m.\u001b[0m\u001b[0mdevice_name\u001b[0m\u001b[1;33m,\u001b[0m \u001b[0mdtype\u001b[0m\u001b[1;33m)\u001b[0m\u001b[1;33m\u001b[0m\u001b[1;33m\u001b[0m\u001b[0m\n\u001b[0m\u001b[0;32m     97\u001b[0m \u001b[1;33m\u001b[0m\u001b[0m\n\u001b[0;32m     98\u001b[0m \u001b[1;33m\u001b[0m\u001b[0m\n",
      "\u001b[1;31mValueError\u001b[0m: Can't convert non-rectangular Python sequence to Tensor."
     ]
    }
   ],
   "source": [
    "model = create_model()\n",
    "hist = model.fit(x_train, y_train,\n",
    "                 batch_size=1600,\n",
    "                 validation_data=(x_test, y_test),\n",
    "                 epochs=epochs,\n",
    "                 callbacks=[EarlyStopping(patience=2, monitor='val_loss')])"
   ]
  },
  {
   "cell_type": "code",
   "execution_count": null,
   "metadata": {},
   "outputs": [],
   "source": []
  }
 ],
 "metadata": {
  "kernelspec": {
   "display_name": "Python 3",
   "language": "python",
   "name": "python3"
  },
  "language_info": {
   "codemirror_mode": {
    "name": "ipython",
    "version": 3
   },
   "file_extension": ".py",
   "mimetype": "text/x-python",
   "name": "python",
   "nbconvert_exporter": "python",
   "pygments_lexer": "ipython3",
   "version": "3.7.3"
  }
 },
 "nbformat": 4,
 "nbformat_minor": 2
}
