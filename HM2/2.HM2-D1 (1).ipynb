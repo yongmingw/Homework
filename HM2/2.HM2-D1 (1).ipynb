{
 "cells": [
  {
   "cell_type": "markdown",
   "metadata": {},
   "source": [
    "<img src=\"https://admissions.ntust.edu.tw/front_index/images/logo.png\" alt=\"drawing\" width=\"600\"/>\n",
    "<hr>\n",
    "<h1><center>MACHINE LEARNING : HOMEWORK 2</center></h1>\n",
    "<h1><center>Data 1 : Wealth prediction</center></h1>\n",
    "<h4>Hector LANDES - M10601810</h4>\n",
    "<h4>Machine Learning - CS5087701</h4>"
   ]
  },
  {
   "cell_type": "code",
   "execution_count": 1,
   "metadata": {},
   "outputs": [],
   "source": [
    "#pip install keras\n",
    "#pip install tensorflow\n",
    "#pip install ann_visualizer\n",
    "import pandas as pd\n",
    "import numpy as np\n",
    "from sklearn.model_selection import train_test_split\n",
    "import tensorflow as tf\n",
    "import keras\n",
    "from keras.models import Sequential\n",
    "from keras.layers import Dense\n",
    "from ann_visualizer.visualize import ann_viz;\n",
    "import graphviz\n",
    "import os\n",
    "os.environ[\"PATH\"] += os.pathsep + r'C:\\Users\\Hector Landes\\graphviz-2.38\\release\\bin'"
   ]
  },
  {
   "cell_type": "code",
   "execution_count": 2,
   "metadata": {},
   "outputs": [],
   "source": [
    "path = r'C:\\Users\\Hector Landes\\Desktop\\Data Science Projects\\20191005 Homework_1_ML\\2. Prepared Data\\adult.csv'"
   ]
  },
  {
   "cell_type": "code",
   "execution_count": 3,
   "metadata": {},
   "outputs": [],
   "source": [
    "data = pd.read_csv (path, names=[\"age\", \"workclass\", \"fnlwgt\", \"education\", \"education_num\", \"marital_status\",\n",
    "                           \"occupation\", \"relationship\", \"race\", \"sex\", \"capital_gain\", \"capital_loss\", \n",
    "                                 \"hours_per_week\", \"native_country\", \"wealth\"],\n",
    "                   index_col=False)"
   ]
  },
  {
   "cell_type": "markdown",
   "metadata": {},
   "source": [
    "<ul>\n",
    "<h3>Preprocessing from the HM1</3>\n",
    "</ul>"
   ]
  },
  {
   "cell_type": "code",
   "execution_count": 4,
   "metadata": {},
   "outputs": [],
   "source": [
    "data = data[(data.astype(str) != ' ?').all(axis=1)]"
   ]
  },
  {
   "cell_type": "code",
   "execution_count": 5,
   "metadata": {},
   "outputs": [],
   "source": [
    "data = pd.get_dummies(data, columns=['workclass', 'education', 'marital_status', 'occupation', 'relationship', 'race', 'sex'])"
   ]
  },
  {
   "cell_type": "code",
   "execution_count": 6,
   "metadata": {},
   "outputs": [],
   "source": [
    "data['native_country'] = data['native_country'].str.strip()"
   ]
  },
  {
   "cell_type": "code",
   "execution_count": 7,
   "metadata": {},
   "outputs": [],
   "source": [
    "data['native_country'] = data['native_country'].replace(['Japan', 'Cambodia', \"Philippines\", \n",
    "                                                         \"India\", \"China\", \"Vietnam\", \"Taiwan\", \"Iran\", \n",
    "                                                         \"Hong\", \"Laos\", \"Thailand\"], 'Asia')\n",
    "data['native_country'] = data['native_country'].replace([\"Germany\", \"England\", \"Italy\", \"Poland\", \"Portugal\",\n",
    "                                                         \"Greece\", \"France\", \"Ireland\", \"Yugoslavia\", \"Hungary\", \n",
    "                                                         \"Scotland\", \"Holand-Netherlands\"], 'Europe')\n",
    "data['native_country'] = data['native_country'].replace([\"Mexico\",\"El-Salvador\", \"Cuba\", \"Jamaica\", 'South', \n",
    "                                                         \"Dominican-Republic\", \"Guatemala\", \"Columbia\", \"Haiti\", \n",
    "                                                         \"Nicaragua\", \"Peru\", \"Ecuador\", \"Trinadad&Tobago\", \"Honduras\"], \n",
    "                                                        'South&Central America')\n",
    "data['native_country'] = data['native_country'].replace([\"United-States\", 'Puerto-Rico', 'Canada',\n",
    "                                                         'Outlying-US(Guam-USVI-etc)'], 'United_States')"
   ]
  },
  {
   "cell_type": "code",
   "execution_count": 8,
   "metadata": {},
   "outputs": [],
   "source": [
    "data.rename(columns={'native_country':'native_region'}, inplace=True)"
   ]
  },
  {
   "cell_type": "code",
   "execution_count": 9,
   "metadata": {},
   "outputs": [],
   "source": [
    "data = pd.get_dummies(data, columns=['native_region'])"
   ]
  },
  {
   "cell_type": "code",
   "execution_count": 10,
   "metadata": {},
   "outputs": [],
   "source": [
    "non_zero_value = data.loc[data[\"capital_loss\"] != 0]"
   ]
  },
  {
   "cell_type": "code",
   "execution_count": 11,
   "metadata": {},
   "outputs": [],
   "source": [
    "data.loc[data[\"capital_loss\"] != 0, [\"capital_loss\"]] = 1"
   ]
  },
  {
   "cell_type": "code",
   "execution_count": 12,
   "metadata": {},
   "outputs": [],
   "source": [
    "non_zero_value = data.loc[data[\"capital_gain\"] != 0]"
   ]
  },
  {
   "cell_type": "code",
   "execution_count": 13,
   "metadata": {},
   "outputs": [],
   "source": [
    "data.loc[data[\"capital_gain\"] != 0, [\"capital_gain\"]] = 1"
   ]
  },
  {
   "cell_type": "code",
   "execution_count": 14,
   "metadata": {},
   "outputs": [],
   "source": [
    "data = data.drop(['fnlwgt'], axis=1)"
   ]
  },
  {
   "cell_type": "code",
   "execution_count": 15,
   "metadata": {},
   "outputs": [],
   "source": [
    "data['bi_wealth'] = data.apply(lambda row: 1 if '>50K'in row['wealth'] else 0, axis=1)"
   ]
  },
  {
   "cell_type": "code",
   "execution_count": 16,
   "metadata": {},
   "outputs": [],
   "source": [
    "data = data.drop(['wealth'], axis=1)"
   ]
  },
  {
   "cell_type": "markdown",
   "metadata": {},
   "source": [
    "<ul>\n",
    "<h3> Normalize the data </h3> \n",
    "</ul>"
   ]
  },
  {
   "cell_type": "code",
   "execution_count": 267,
   "metadata": {},
   "outputs": [],
   "source": [
    "#norm_df = (data.columns[:66] - data.columns[:66].mean()) / data.columns[:66].std()\n",
    "#OR\n",
    "norm_df = (data - data.min()) / (data.max() - data.min())"
   ]
  },
  {
   "cell_type": "code",
   "execution_count": 278,
   "metadata": {},
   "outputs": [
    {
     "data": {
      "text/html": [
       "<div>\n",
       "<style scoped>\n",
       "    .dataframe tbody tr th:only-of-type {\n",
       "        vertical-align: middle;\n",
       "    }\n",
       "\n",
       "    .dataframe tbody tr th {\n",
       "        vertical-align: top;\n",
       "    }\n",
       "\n",
       "    .dataframe thead th {\n",
       "        text-align: right;\n",
       "    }\n",
       "</style>\n",
       "<table border=\"1\" class=\"dataframe\">\n",
       "  <thead>\n",
       "    <tr style=\"text-align: right;\">\n",
       "      <th></th>\n",
       "      <th>age</th>\n",
       "      <th>education_num</th>\n",
       "      <th>capital_gain</th>\n",
       "      <th>capital_loss</th>\n",
       "      <th>hours_per_week</th>\n",
       "      <th>workclass_ Federal-gov</th>\n",
       "      <th>workclass_ Local-gov</th>\n",
       "      <th>workclass_ Private</th>\n",
       "      <th>workclass_ Self-emp-inc</th>\n",
       "      <th>workclass_ Self-emp-not-inc</th>\n",
       "      <th>...</th>\n",
       "      <th>race_ Black</th>\n",
       "      <th>race_ Other</th>\n",
       "      <th>race_ White</th>\n",
       "      <th>sex_ Female</th>\n",
       "      <th>sex_ Male</th>\n",
       "      <th>native_region_Asia</th>\n",
       "      <th>native_region_Europe</th>\n",
       "      <th>native_region_South&amp;Central America</th>\n",
       "      <th>native_region_United_States</th>\n",
       "      <th>bi_wealth</th>\n",
       "    </tr>\n",
       "  </thead>\n",
       "  <tbody>\n",
       "    <tr>\n",
       "      <th>0</th>\n",
       "      <td>0.301370</td>\n",
       "      <td>0.800000</td>\n",
       "      <td>1.0</td>\n",
       "      <td>0.0</td>\n",
       "      <td>0.397959</td>\n",
       "      <td>0.0</td>\n",
       "      <td>0.0</td>\n",
       "      <td>0.0</td>\n",
       "      <td>0.0</td>\n",
       "      <td>0.0</td>\n",
       "      <td>...</td>\n",
       "      <td>0.0</td>\n",
       "      <td>0.0</td>\n",
       "      <td>1.0</td>\n",
       "      <td>0.0</td>\n",
       "      <td>1.0</td>\n",
       "      <td>0.0</td>\n",
       "      <td>0.0</td>\n",
       "      <td>0.0</td>\n",
       "      <td>1.0</td>\n",
       "      <td>0.0</td>\n",
       "    </tr>\n",
       "    <tr>\n",
       "      <th>1</th>\n",
       "      <td>0.452055</td>\n",
       "      <td>0.800000</td>\n",
       "      <td>0.0</td>\n",
       "      <td>0.0</td>\n",
       "      <td>0.122449</td>\n",
       "      <td>0.0</td>\n",
       "      <td>0.0</td>\n",
       "      <td>0.0</td>\n",
       "      <td>0.0</td>\n",
       "      <td>1.0</td>\n",
       "      <td>...</td>\n",
       "      <td>0.0</td>\n",
       "      <td>0.0</td>\n",
       "      <td>1.0</td>\n",
       "      <td>0.0</td>\n",
       "      <td>1.0</td>\n",
       "      <td>0.0</td>\n",
       "      <td>0.0</td>\n",
       "      <td>0.0</td>\n",
       "      <td>1.0</td>\n",
       "      <td>0.0</td>\n",
       "    </tr>\n",
       "    <tr>\n",
       "      <th>2</th>\n",
       "      <td>0.287671</td>\n",
       "      <td>0.533333</td>\n",
       "      <td>0.0</td>\n",
       "      <td>0.0</td>\n",
       "      <td>0.397959</td>\n",
       "      <td>0.0</td>\n",
       "      <td>0.0</td>\n",
       "      <td>1.0</td>\n",
       "      <td>0.0</td>\n",
       "      <td>0.0</td>\n",
       "      <td>...</td>\n",
       "      <td>0.0</td>\n",
       "      <td>0.0</td>\n",
       "      <td>1.0</td>\n",
       "      <td>0.0</td>\n",
       "      <td>1.0</td>\n",
       "      <td>0.0</td>\n",
       "      <td>0.0</td>\n",
       "      <td>0.0</td>\n",
       "      <td>1.0</td>\n",
       "      <td>0.0</td>\n",
       "    </tr>\n",
       "    <tr>\n",
       "      <th>3</th>\n",
       "      <td>0.493151</td>\n",
       "      <td>0.400000</td>\n",
       "      <td>0.0</td>\n",
       "      <td>0.0</td>\n",
       "      <td>0.397959</td>\n",
       "      <td>0.0</td>\n",
       "      <td>0.0</td>\n",
       "      <td>1.0</td>\n",
       "      <td>0.0</td>\n",
       "      <td>0.0</td>\n",
       "      <td>...</td>\n",
       "      <td>1.0</td>\n",
       "      <td>0.0</td>\n",
       "      <td>0.0</td>\n",
       "      <td>0.0</td>\n",
       "      <td>1.0</td>\n",
       "      <td>0.0</td>\n",
       "      <td>0.0</td>\n",
       "      <td>0.0</td>\n",
       "      <td>1.0</td>\n",
       "      <td>0.0</td>\n",
       "    </tr>\n",
       "    <tr>\n",
       "      <th>4</th>\n",
       "      <td>0.150685</td>\n",
       "      <td>0.800000</td>\n",
       "      <td>0.0</td>\n",
       "      <td>0.0</td>\n",
       "      <td>0.397959</td>\n",
       "      <td>0.0</td>\n",
       "      <td>0.0</td>\n",
       "      <td>1.0</td>\n",
       "      <td>0.0</td>\n",
       "      <td>0.0</td>\n",
       "      <td>...</td>\n",
       "      <td>1.0</td>\n",
       "      <td>0.0</td>\n",
       "      <td>0.0</td>\n",
       "      <td>1.0</td>\n",
       "      <td>0.0</td>\n",
       "      <td>0.0</td>\n",
       "      <td>0.0</td>\n",
       "      <td>1.0</td>\n",
       "      <td>0.0</td>\n",
       "      <td>0.0</td>\n",
       "    </tr>\n",
       "  </tbody>\n",
       "</table>\n",
       "<p>5 rows × 67 columns</p>\n",
       "</div>"
      ],
      "text/plain": [
       "        age  education_num  capital_gain  capital_loss  hours_per_week  \\\n",
       "0  0.301370       0.800000           1.0           0.0        0.397959   \n",
       "1  0.452055       0.800000           0.0           0.0        0.122449   \n",
       "2  0.287671       0.533333           0.0           0.0        0.397959   \n",
       "3  0.493151       0.400000           0.0           0.0        0.397959   \n",
       "4  0.150685       0.800000           0.0           0.0        0.397959   \n",
       "\n",
       "   workclass_ Federal-gov  workclass_ Local-gov  workclass_ Private  \\\n",
       "0                     0.0                   0.0                 0.0   \n",
       "1                     0.0                   0.0                 0.0   \n",
       "2                     0.0                   0.0                 1.0   \n",
       "3                     0.0                   0.0                 1.0   \n",
       "4                     0.0                   0.0                 1.0   \n",
       "\n",
       "   workclass_ Self-emp-inc  workclass_ Self-emp-not-inc  ...  race_ Black  \\\n",
       "0                      0.0                          0.0  ...          0.0   \n",
       "1                      0.0                          1.0  ...          0.0   \n",
       "2                      0.0                          0.0  ...          0.0   \n",
       "3                      0.0                          0.0  ...          1.0   \n",
       "4                      0.0                          0.0  ...          1.0   \n",
       "\n",
       "   race_ Other  race_ White  sex_ Female  sex_ Male  native_region_Asia  \\\n",
       "0          0.0          1.0          0.0        1.0                 0.0   \n",
       "1          0.0          1.0          0.0        1.0                 0.0   \n",
       "2          0.0          1.0          0.0        1.0                 0.0   \n",
       "3          0.0          0.0          0.0        1.0                 0.0   \n",
       "4          0.0          0.0          1.0        0.0                 0.0   \n",
       "\n",
       "   native_region_Europe  native_region_South&Central America  \\\n",
       "0                   0.0                                  0.0   \n",
       "1                   0.0                                  0.0   \n",
       "2                   0.0                                  0.0   \n",
       "3                   0.0                                  0.0   \n",
       "4                   0.0                                  1.0   \n",
       "\n",
       "   native_region_United_States  bi_wealth  \n",
       "0                          1.0        0.0  \n",
       "1                          1.0        0.0  \n",
       "2                          1.0        0.0  \n",
       "3                          1.0        0.0  \n",
       "4                          0.0        0.0  \n",
       "\n",
       "[5 rows x 67 columns]"
      ]
     },
     "execution_count": 278,
     "metadata": {},
     "output_type": "execute_result"
    }
   ],
   "source": [
    "norm_df.head()"
   ]
  },
  {
   "cell_type": "markdown",
   "metadata": {},
   "source": [
    "<ul>\n",
    "<h3> X as the Feature Matrix </h3> \n",
    "</ul>"
   ]
  },
  {
   "cell_type": "code",
   "execution_count": 279,
   "metadata": {},
   "outputs": [
    {
     "data": {
      "text/html": [
       "<div>\n",
       "<style scoped>\n",
       "    .dataframe tbody tr th:only-of-type {\n",
       "        vertical-align: middle;\n",
       "    }\n",
       "\n",
       "    .dataframe tbody tr th {\n",
       "        vertical-align: top;\n",
       "    }\n",
       "\n",
       "    .dataframe thead th {\n",
       "        text-align: right;\n",
       "    }\n",
       "</style>\n",
       "<table border=\"1\" class=\"dataframe\">\n",
       "  <thead>\n",
       "    <tr style=\"text-align: right;\">\n",
       "      <th></th>\n",
       "      <th>age</th>\n",
       "      <th>education_num</th>\n",
       "      <th>capital_gain</th>\n",
       "      <th>capital_loss</th>\n",
       "      <th>hours_per_week</th>\n",
       "      <th>workclass_ Federal-gov</th>\n",
       "      <th>workclass_ Local-gov</th>\n",
       "      <th>workclass_ Private</th>\n",
       "      <th>workclass_ Self-emp-inc</th>\n",
       "      <th>workclass_ Self-emp-not-inc</th>\n",
       "      <th>...</th>\n",
       "      <th>race_ Asian-Pac-Islander</th>\n",
       "      <th>race_ Black</th>\n",
       "      <th>race_ Other</th>\n",
       "      <th>race_ White</th>\n",
       "      <th>sex_ Female</th>\n",
       "      <th>sex_ Male</th>\n",
       "      <th>native_region_Asia</th>\n",
       "      <th>native_region_Europe</th>\n",
       "      <th>native_region_South&amp;Central America</th>\n",
       "      <th>native_region_United_States</th>\n",
       "    </tr>\n",
       "  </thead>\n",
       "  <tbody>\n",
       "    <tr>\n",
       "      <th>0</th>\n",
       "      <td>0.301370</td>\n",
       "      <td>0.8</td>\n",
       "      <td>1.0</td>\n",
       "      <td>0.0</td>\n",
       "      <td>0.397959</td>\n",
       "      <td>0.0</td>\n",
       "      <td>0.0</td>\n",
       "      <td>0.0</td>\n",
       "      <td>0.0</td>\n",
       "      <td>0.0</td>\n",
       "      <td>...</td>\n",
       "      <td>0.0</td>\n",
       "      <td>0.0</td>\n",
       "      <td>0.0</td>\n",
       "      <td>1.0</td>\n",
       "      <td>0.0</td>\n",
       "      <td>1.0</td>\n",
       "      <td>0.0</td>\n",
       "      <td>0.0</td>\n",
       "      <td>0.0</td>\n",
       "      <td>1.0</td>\n",
       "    </tr>\n",
       "    <tr>\n",
       "      <th>1</th>\n",
       "      <td>0.452055</td>\n",
       "      <td>0.8</td>\n",
       "      <td>0.0</td>\n",
       "      <td>0.0</td>\n",
       "      <td>0.122449</td>\n",
       "      <td>0.0</td>\n",
       "      <td>0.0</td>\n",
       "      <td>0.0</td>\n",
       "      <td>0.0</td>\n",
       "      <td>1.0</td>\n",
       "      <td>...</td>\n",
       "      <td>0.0</td>\n",
       "      <td>0.0</td>\n",
       "      <td>0.0</td>\n",
       "      <td>1.0</td>\n",
       "      <td>0.0</td>\n",
       "      <td>1.0</td>\n",
       "      <td>0.0</td>\n",
       "      <td>0.0</td>\n",
       "      <td>0.0</td>\n",
       "      <td>1.0</td>\n",
       "    </tr>\n",
       "  </tbody>\n",
       "</table>\n",
       "<p>2 rows × 66 columns</p>\n",
       "</div>"
      ],
      "text/plain": [
       "        age  education_num  capital_gain  capital_loss  hours_per_week  \\\n",
       "0  0.301370            0.8           1.0           0.0        0.397959   \n",
       "1  0.452055            0.8           0.0           0.0        0.122449   \n",
       "\n",
       "   workclass_ Federal-gov  workclass_ Local-gov  workclass_ Private  \\\n",
       "0                     0.0                   0.0                 0.0   \n",
       "1                     0.0                   0.0                 0.0   \n",
       "\n",
       "   workclass_ Self-emp-inc  workclass_ Self-emp-not-inc  ...  \\\n",
       "0                      0.0                          0.0  ...   \n",
       "1                      0.0                          1.0  ...   \n",
       "\n",
       "   race_ Asian-Pac-Islander  race_ Black  race_ Other  race_ White  \\\n",
       "0                       0.0          0.0          0.0          1.0   \n",
       "1                       0.0          0.0          0.0          1.0   \n",
       "\n",
       "   sex_ Female  sex_ Male  native_region_Asia  native_region_Europe  \\\n",
       "0          0.0        1.0                 0.0                   0.0   \n",
       "1          0.0        1.0                 0.0                   0.0   \n",
       "\n",
       "   native_region_South&Central America  native_region_United_States  \n",
       "0                                  0.0                          1.0  \n",
       "1                                  0.0                          1.0  \n",
       "\n",
       "[2 rows x 66 columns]"
      ]
     },
     "execution_count": 279,
     "metadata": {},
     "output_type": "execute_result"
    }
   ],
   "source": [
    "X = norm_df[norm_df.columns[:66]]\n",
    "X[0:2]"
   ]
  },
  {
   "cell_type": "markdown",
   "metadata": {},
   "source": [
    "<ul>\n",
    "<h3> Y as the Target Value </h3> \n",
    "</ul>"
   ]
  },
  {
   "cell_type": "code",
   "execution_count": 280,
   "metadata": {},
   "outputs": [
    {
     "data": {
      "text/plain": [
       "0    0\n",
       "1    0\n",
       "2    0\n",
       "3    0\n",
       "4    0\n",
       "Name: bi_wealth, dtype: int32"
      ]
     },
     "execution_count": 280,
     "metadata": {},
     "output_type": "execute_result"
    }
   ],
   "source": [
    "Y = norm_df[\"bi_wealth\"].astype('int')\n",
    "Y[0:5]"
   ]
  },
  {
   "cell_type": "markdown",
   "metadata": {},
   "source": [
    "Now we will split the data in training and testing data"
   ]
  },
  {
   "cell_type": "code",
   "execution_count": 281,
   "metadata": {},
   "outputs": [],
   "source": [
    "X_trainset, X_testset, Y_trainset, Y_testset = train_test_split(X, Y, test_size=0.2, random_state=3)"
   ]
  },
  {
   "cell_type": "code",
   "execution_count": 272,
   "metadata": {},
   "outputs": [
    {
     "name": "stdout",
     "output_type": "stream",
     "text": [
      "Feature matrix ->   Training: (24129, 66)    Testing: (6033, 66)\n",
      "Target value   ->   Training: (24129,)       Testing: (6033,)\n"
     ]
    }
   ],
   "source": [
    "print('Feature matrix ->   Training:',X_trainset.shape,'   Testing:',X_testset.shape)\n",
    "print('Target value   ->   Training:',Y_trainset.shape,'      Testing:',Y_testset.shape)"
   ]
  },
  {
   "cell_type": "markdown",
   "metadata": {},
   "source": [
    "<ul>\n",
    "<h3>Define Keras Model</3>\n",
    "</ul>"
   ]
  },
  {
   "cell_type": "code",
   "execution_count": 451,
   "metadata": {},
   "outputs": [],
   "source": [
    "model = Sequential()\n",
    "model.add(Dense(12, input_dim=66, activation='relu'))\n",
    "model.add(Dense(8, activation='relu'))\n",
    "model.add(Dense(1, activation='sigmoid'))"
   ]
  },
  {
   "cell_type": "markdown",
   "metadata": {},
   "source": [
    "<ul>\n",
    "<h3>Compile Keras Model<h/3>\n",
    "</ul>"
   ]
  },
  {
   "cell_type": "code",
   "execution_count": 452,
   "metadata": {},
   "outputs": [],
   "source": [
    "model.compile(loss='binary_crossentropy', optimizer='sgd', metrics=['accuracy'])"
   ]
  },
  {
   "cell_type": "markdown",
   "metadata": {},
   "source": [
    "<ul>\n",
    "<h3>Fit Keras Model</h3>\n",
    "</ul>"
   ]
  },
  {
   "cell_type": "code",
   "execution_count": 453,
   "metadata": {},
   "outputs": [
    {
     "name": "stdout",
     "output_type": "stream",
     "text": [
      "Train on 24129 samples, validate on 6033 samples\n",
      "Epoch 1/100\n",
      "24129/24129 [==============================] - 0s 11us/step - loss: 0.5663 - accuracy: 0.7408 - val_loss: 0.5207 - val_accuracy: 0.7423\n",
      "Epoch 2/100\n",
      "24129/24129 [==============================] - 0s 9us/step - loss: 0.4818 - accuracy: 0.7543 - val_loss: 0.4636 - val_accuracy: 0.7532\n",
      "Epoch 3/100\n",
      "24129/24129 [==============================] - 0s 9us/step - loss: 0.4409 - accuracy: 0.7849 - val_loss: 0.4323 - val_accuracy: 0.7950\n",
      "Epoch 4/100\n",
      "24129/24129 [==============================] - 0s 10us/step - loss: 0.4182 - accuracy: 0.8128 - val_loss: 0.4137 - val_accuracy: 0.8052\n",
      "Epoch 5/100\n",
      "24129/24129 [==============================] - 0s 10us/step - loss: 0.4042 - accuracy: 0.8184 - val_loss: 0.4013 - val_accuracy: 0.8102\n",
      "Epoch 6/100\n",
      "24129/24129 [==============================] - 0s 10us/step - loss: 0.3944 - accuracy: 0.8215 - val_loss: 0.3925 - val_accuracy: 0.8162\n",
      "Epoch 7/100\n",
      "24129/24129 [==============================] - 0s 10us/step - loss: 0.3870 - accuracy: 0.8238 - val_loss: 0.3857 - val_accuracy: 0.8208\n",
      "Epoch 8/100\n",
      "24129/24129 [==============================] - 0s 10us/step - loss: 0.3813 - accuracy: 0.8264 - val_loss: 0.3803 - val_accuracy: 0.8235\n",
      "Epoch 9/100\n",
      "24129/24129 [==============================] - 0s 10us/step - loss: 0.3765 - accuracy: 0.8275 - val_loss: 0.3758 - val_accuracy: 0.8243\n",
      "Epoch 10/100\n",
      "24129/24129 [==============================] - 0s 9us/step - loss: 0.3726 - accuracy: 0.8291 - val_loss: 0.3720 - val_accuracy: 0.8258\n",
      "Epoch 11/100\n",
      "24129/24129 [==============================] - 0s 9us/step - loss: 0.3693 - accuracy: 0.8295 - val_loss: 0.3687 - val_accuracy: 0.8284\n",
      "Epoch 12/100\n",
      "24129/24129 [==============================] - 0s 9us/step - loss: 0.3666 - accuracy: 0.8307 - val_loss: 0.3661 - val_accuracy: 0.8283\n",
      "Epoch 13/100\n",
      "24129/24129 [==============================] - 0s 9us/step - loss: 0.3642 - accuracy: 0.8310 - val_loss: 0.3636 - val_accuracy: 0.8301\n",
      "Epoch 14/100\n",
      "24129/24129 [==============================] - 0s 9us/step - loss: 0.3622 - accuracy: 0.8324 - val_loss: 0.3616 - val_accuracy: 0.8318\n",
      "Epoch 15/100\n",
      "24129/24129 [==============================] - 0s 9us/step - loss: 0.3604 - accuracy: 0.8336 - val_loss: 0.3603 - val_accuracy: 0.8324\n",
      "Epoch 16/100\n",
      "24129/24129 [==============================] - 0s 9us/step - loss: 0.3587 - accuracy: 0.8346 - val_loss: 0.3584 - val_accuracy: 0.8333\n",
      "Epoch 17/100\n",
      "24129/24129 [==============================] - 0s 9us/step - loss: 0.3573 - accuracy: 0.8346 - val_loss: 0.3573 - val_accuracy: 0.8329\n",
      "Epoch 18/100\n",
      "24129/24129 [==============================] - 0s 9us/step - loss: 0.3561 - accuracy: 0.8357 - val_loss: 0.3558 - val_accuracy: 0.8341\n",
      "Epoch 19/100\n",
      "24129/24129 [==============================] - 0s 9us/step - loss: 0.3549 - accuracy: 0.8355 - val_loss: 0.3546 - val_accuracy: 0.8342\n",
      "Epoch 20/100\n",
      "24129/24129 [==============================] - 0s 9us/step - loss: 0.3539 - accuracy: 0.8360 - val_loss: 0.3535 - val_accuracy: 0.8347\n",
      "Epoch 21/100\n",
      "24129/24129 [==============================] - 0s 10us/step - loss: 0.3530 - accuracy: 0.8362 - val_loss: 0.3526 - val_accuracy: 0.8352\n",
      "Epoch 22/100\n",
      "24129/24129 [==============================] - 0s 9us/step - loss: 0.3521 - accuracy: 0.8369 - val_loss: 0.3518 - val_accuracy: 0.8347\n",
      "Epoch 23/100\n",
      "24129/24129 [==============================] - 0s 9us/step - loss: 0.3514 - accuracy: 0.8367 - val_loss: 0.3509 - val_accuracy: 0.8366\n",
      "Epoch 24/100\n",
      "24129/24129 [==============================] - 0s 9us/step - loss: 0.3506 - accuracy: 0.8367 - val_loss: 0.3503 - val_accuracy: 0.8359\n",
      "Epoch 25/100\n",
      "24129/24129 [==============================] - 0s 10us/step - loss: 0.3500 - accuracy: 0.8372 - val_loss: 0.3497 - val_accuracy: 0.8364\n",
      "Epoch 26/100\n",
      "24129/24129 [==============================] - 0s 10us/step - loss: 0.3493 - accuracy: 0.8380 - val_loss: 0.3495 - val_accuracy: 0.8369\n",
      "Epoch 27/100\n",
      "24129/24129 [==============================] - 0s 9us/step - loss: 0.3488 - accuracy: 0.8376 - val_loss: 0.3487 - val_accuracy: 0.8367\n",
      "Epoch 28/100\n",
      "24129/24129 [==============================] - 0s 10us/step - loss: 0.3482 - accuracy: 0.8381 - val_loss: 0.3480 - val_accuracy: 0.8356\n",
      "Epoch 29/100\n",
      "24129/24129 [==============================] - 0s 9us/step - loss: 0.3477 - accuracy: 0.8384 - val_loss: 0.3479 - val_accuracy: 0.8369\n",
      "Epoch 30/100\n",
      "24129/24129 [==============================] - 0s 9us/step - loss: 0.3473 - accuracy: 0.8383 - val_loss: 0.3471 - val_accuracy: 0.8361\n",
      "Epoch 31/100\n",
      "24129/24129 [==============================] - 0s 9us/step - loss: 0.3468 - accuracy: 0.8386 - val_loss: 0.3467 - val_accuracy: 0.8369\n",
      "Epoch 32/100\n",
      "24129/24129 [==============================] - 0s 9us/step - loss: 0.3464 - accuracy: 0.8386 - val_loss: 0.3465 - val_accuracy: 0.8381\n",
      "Epoch 33/100\n",
      "24129/24129 [==============================] - 0s 9us/step - loss: 0.3461 - accuracy: 0.8384 - val_loss: 0.3460 - val_accuracy: 0.8361\n",
      "Epoch 34/100\n",
      "24129/24129 [==============================] - 0s 10us/step - loss: 0.3457 - accuracy: 0.8392 - val_loss: 0.3456 - val_accuracy: 0.8364\n",
      "Epoch 35/100\n",
      "24129/24129 [==============================] - 0s 9us/step - loss: 0.3453 - accuracy: 0.8382 - val_loss: 0.3458 - val_accuracy: 0.8372\n",
      "Epoch 36/100\n",
      "24129/24129 [==============================] - 0s 9us/step - loss: 0.3449 - accuracy: 0.8390 - val_loss: 0.3451 - val_accuracy: 0.8376\n",
      "Epoch 37/100\n",
      "24129/24129 [==============================] - 0s 9us/step - loss: 0.3447 - accuracy: 0.8402 - val_loss: 0.3449 - val_accuracy: 0.8374\n",
      "Epoch 38/100\n",
      "24129/24129 [==============================] - 0s 9us/step - loss: 0.3444 - accuracy: 0.8399 - val_loss: 0.3448 - val_accuracy: 0.8376\n",
      "Epoch 39/100\n",
      "24129/24129 [==============================] - 0s 10us/step - loss: 0.3441 - accuracy: 0.8398 - val_loss: 0.3443 - val_accuracy: 0.8369\n",
      "Epoch 40/100\n",
      "24129/24129 [==============================] - 0s 9us/step - loss: 0.3438 - accuracy: 0.8395 - val_loss: 0.3440 - val_accuracy: 0.8382\n",
      "Epoch 41/100\n",
      "24129/24129 [==============================] - 0s 9us/step - loss: 0.3435 - accuracy: 0.8397 - val_loss: 0.3440 - val_accuracy: 0.8377\n",
      "Epoch 42/100\n",
      "24129/24129 [==============================] - 0s 9us/step - loss: 0.3433 - accuracy: 0.8396 - val_loss: 0.3436 - val_accuracy: 0.8369\n",
      "Epoch 43/100\n",
      "24129/24129 [==============================] - 0s 9us/step - loss: 0.3431 - accuracy: 0.8400 - val_loss: 0.3434 - val_accuracy: 0.8379\n",
      "Epoch 44/100\n",
      "24129/24129 [==============================] - 0s 9us/step - loss: 0.3428 - accuracy: 0.8397 - val_loss: 0.3434 - val_accuracy: 0.8372\n",
      "Epoch 45/100\n",
      "24129/24129 [==============================] - 0s 9us/step - loss: 0.3426 - accuracy: 0.8398 - val_loss: 0.3431 - val_accuracy: 0.8372\n",
      "Epoch 46/100\n",
      "24129/24129 [==============================] - 0s 9us/step - loss: 0.3424 - accuracy: 0.8400 - val_loss: 0.3428 - val_accuracy: 0.8374\n",
      "Epoch 47/100\n",
      "24129/24129 [==============================] - 0s 9us/step - loss: 0.3421 - accuracy: 0.8402 - val_loss: 0.3427 - val_accuracy: 0.8372\n",
      "Epoch 48/100\n",
      "24129/24129 [==============================] - 0s 9us/step - loss: 0.3420 - accuracy: 0.8403 - val_loss: 0.3425 - val_accuracy: 0.8381\n",
      "Epoch 49/100\n",
      "24129/24129 [==============================] - 0s 10us/step - loss: 0.3418 - accuracy: 0.8403 - val_loss: 0.3426 - val_accuracy: 0.8384\n",
      "Epoch 50/100\n",
      "24129/24129 [==============================] - 0s 10us/step - loss: 0.3414 - accuracy: 0.8410 - val_loss: 0.3424 - val_accuracy: 0.8381\n",
      "Epoch 51/100\n",
      "24129/24129 [==============================] - 0s 9us/step - loss: 0.3414 - accuracy: 0.8411 - val_loss: 0.3421 - val_accuracy: 0.8361\n",
      "Epoch 52/100\n",
      "24129/24129 [==============================] - 0s 9us/step - loss: 0.3413 - accuracy: 0.8401 - val_loss: 0.3419 - val_accuracy: 0.8381\n",
      "Epoch 53/100\n",
      "24129/24129 [==============================] - 0s 9us/step - loss: 0.3410 - accuracy: 0.8407 - val_loss: 0.3418 - val_accuracy: 0.8374\n",
      "Epoch 54/100\n",
      "24129/24129 [==============================] - 0s 9us/step - loss: 0.3409 - accuracy: 0.8409 - val_loss: 0.3416 - val_accuracy: 0.8376\n",
      "Epoch 55/100\n",
      "24129/24129 [==============================] - 0s 9us/step - loss: 0.3407 - accuracy: 0.8402 - val_loss: 0.3415 - val_accuracy: 0.8366\n"
     ]
    },
    {
     "name": "stdout",
     "output_type": "stream",
     "text": [
      "Epoch 56/100\n",
      "24129/24129 [==============================] - 0s 9us/step - loss: 0.3406 - accuracy: 0.8409 - val_loss: 0.3414 - val_accuracy: 0.8372\n",
      "Epoch 57/100\n",
      "24129/24129 [==============================] - 0s 9us/step - loss: 0.3405 - accuracy: 0.8408 - val_loss: 0.3415 - val_accuracy: 0.8367\n",
      "Epoch 58/100\n",
      "24129/24129 [==============================] - 0s 9us/step - loss: 0.3403 - accuracy: 0.8409 - val_loss: 0.3412 - val_accuracy: 0.8372\n",
      "Epoch 59/100\n",
      "24129/24129 [==============================] - 0s 9us/step - loss: 0.3402 - accuracy: 0.8406 - val_loss: 0.3411 - val_accuracy: 0.8367\n",
      "Epoch 60/100\n",
      "24129/24129 [==============================] - 0s 9us/step - loss: 0.3400 - accuracy: 0.8404 - val_loss: 0.3412 - val_accuracy: 0.8366\n",
      "Epoch 61/100\n",
      "24129/24129 [==============================] - 0s 9us/step - loss: 0.3399 - accuracy: 0.8406 - val_loss: 0.3409 - val_accuracy: 0.8376\n",
      "Epoch 62/100\n",
      "24129/24129 [==============================] - 0s 9us/step - loss: 0.3398 - accuracy: 0.8405 - val_loss: 0.3409 - val_accuracy: 0.8374\n",
      "Epoch 63/100\n",
      "24129/24129 [==============================] - 0s 9us/step - loss: 0.3396 - accuracy: 0.8413 - val_loss: 0.3409 - val_accuracy: 0.8371\n",
      "Epoch 64/100\n",
      "24129/24129 [==============================] - 0s 9us/step - loss: 0.3395 - accuracy: 0.8409 - val_loss: 0.3406 - val_accuracy: 0.8369\n",
      "Epoch 65/100\n",
      "24129/24129 [==============================] - 0s 9us/step - loss: 0.3394 - accuracy: 0.8414 - val_loss: 0.3405 - val_accuracy: 0.8377\n",
      "Epoch 66/100\n",
      "24129/24129 [==============================] - 0s 9us/step - loss: 0.3392 - accuracy: 0.8412 - val_loss: 0.3404 - val_accuracy: 0.8374\n",
      "Epoch 67/100\n",
      "24129/24129 [==============================] - 0s 9us/step - loss: 0.3392 - accuracy: 0.8409 - val_loss: 0.3409 - val_accuracy: 0.8371\n",
      "Epoch 68/100\n",
      "24129/24129 [==============================] - 0s 9us/step - loss: 0.3390 - accuracy: 0.8411 - val_loss: 0.3402 - val_accuracy: 0.8374\n",
      "Epoch 69/100\n",
      "24129/24129 [==============================] - 0s 9us/step - loss: 0.3389 - accuracy: 0.8414 - val_loss: 0.3402 - val_accuracy: 0.8377\n",
      "Epoch 70/100\n",
      "24129/24129 [==============================] - 0s 9us/step - loss: 0.3389 - accuracy: 0.8414 - val_loss: 0.3401 - val_accuracy: 0.8369\n",
      "Epoch 71/100\n",
      "24129/24129 [==============================] - 0s 9us/step - loss: 0.3387 - accuracy: 0.8411 - val_loss: 0.3400 - val_accuracy: 0.8366\n",
      "Epoch 72/100\n",
      "24129/24129 [==============================] - 0s 9us/step - loss: 0.3386 - accuracy: 0.8411 - val_loss: 0.3400 - val_accuracy: 0.8372\n",
      "Epoch 73/100\n",
      "24129/24129 [==============================] - 0s 9us/step - loss: 0.3386 - accuracy: 0.8409 - val_loss: 0.3399 - val_accuracy: 0.8366\n",
      "Epoch 74/100\n",
      "24129/24129 [==============================] - 0s 9us/step - loss: 0.3384 - accuracy: 0.8417 - val_loss: 0.3398 - val_accuracy: 0.8369\n",
      "Epoch 75/100\n",
      "24129/24129 [==============================] - 0s 11us/step - loss: 0.3383 - accuracy: 0.8411 - val_loss: 0.3400 - val_accuracy: 0.8369\n",
      "Epoch 76/100\n",
      "24129/24129 [==============================] - 0s 10us/step - loss: 0.3382 - accuracy: 0.8411 - val_loss: 0.3397 - val_accuracy: 0.8381\n",
      "Epoch 77/100\n",
      "24129/24129 [==============================] - 0s 10us/step - loss: 0.3382 - accuracy: 0.8406 - val_loss: 0.3399 - val_accuracy: 0.8371\n",
      "Epoch 78/100\n",
      "24129/24129 [==============================] - 0s 9us/step - loss: 0.3380 - accuracy: 0.8408 - val_loss: 0.3397 - val_accuracy: 0.8369\n",
      "Epoch 79/100\n",
      "24129/24129 [==============================] - 0s 10us/step - loss: 0.3379 - accuracy: 0.8412 - val_loss: 0.3396 - val_accuracy: 0.8374\n",
      "Epoch 80/100\n",
      "24129/24129 [==============================] - 0s 10us/step - loss: 0.3379 - accuracy: 0.8414 - val_loss: 0.3395 - val_accuracy: 0.8372\n",
      "Epoch 81/100\n",
      "24129/24129 [==============================] - 0s 10us/step - loss: 0.3377 - accuracy: 0.8410 - val_loss: 0.3395 - val_accuracy: 0.8364\n",
      "Epoch 82/100\n",
      "24129/24129 [==============================] - 0s 9us/step - loss: 0.3377 - accuracy: 0.8412 - val_loss: 0.3393 - val_accuracy: 0.8371\n",
      "Epoch 83/100\n",
      "24129/24129 [==============================] - 0s 9us/step - loss: 0.3376 - accuracy: 0.8410 - val_loss: 0.3393 - val_accuracy: 0.8369\n",
      "Epoch 84/100\n",
      "24129/24129 [==============================] - 0s 9us/step - loss: 0.3375 - accuracy: 0.8413 - val_loss: 0.3395 - val_accuracy: 0.8361\n",
      "Epoch 85/100\n",
      "24129/24129 [==============================] - 0s 9us/step - loss: 0.3374 - accuracy: 0.8423 - val_loss: 0.3394 - val_accuracy: 0.8377\n",
      "Epoch 86/100\n",
      "24129/24129 [==============================] - 0s 9us/step - loss: 0.3374 - accuracy: 0.8412 - val_loss: 0.3393 - val_accuracy: 0.8362\n",
      "Epoch 87/100\n",
      "24129/24129 [==============================] - 0s 9us/step - loss: 0.3372 - accuracy: 0.8407 - val_loss: 0.3391 - val_accuracy: 0.8366\n",
      "Epoch 88/100\n",
      "24129/24129 [==============================] - 0s 10us/step - loss: 0.3372 - accuracy: 0.8411 - val_loss: 0.3390 - val_accuracy: 0.8379\n",
      "Epoch 89/100\n",
      "24129/24129 [==============================] - 0s 9us/step - loss: 0.3371 - accuracy: 0.8420 - val_loss: 0.3390 - val_accuracy: 0.8367\n",
      "Epoch 90/100\n",
      "24129/24129 [==============================] - 0s 9us/step - loss: 0.3370 - accuracy: 0.8418 - val_loss: 0.3394 - val_accuracy: 0.8366\n",
      "Epoch 91/100\n",
      "24129/24129 [==============================] - 0s 9us/step - loss: 0.3369 - accuracy: 0.8419 - val_loss: 0.3390 - val_accuracy: 0.8362\n",
      "Epoch 92/100\n",
      "24129/24129 [==============================] - 0s 9us/step - loss: 0.3368 - accuracy: 0.8423 - val_loss: 0.3393 - val_accuracy: 0.8356\n",
      "Epoch 93/100\n",
      "24129/24129 [==============================] - 0s 9us/step - loss: 0.3368 - accuracy: 0.8416 - val_loss: 0.3389 - val_accuracy: 0.8384\n",
      "Epoch 94/100\n",
      "24129/24129 [==============================] - 0s 9us/step - loss: 0.3367 - accuracy: 0.8419 - val_loss: 0.3388 - val_accuracy: 0.8369\n",
      "Epoch 95/100\n",
      "24129/24129 [==============================] - 0s 9us/step - loss: 0.3366 - accuracy: 0.8416 - val_loss: 0.3388 - val_accuracy: 0.8367\n",
      "Epoch 96/100\n",
      "24129/24129 [==============================] - 0s 9us/step - loss: 0.3366 - accuracy: 0.8418 - val_loss: 0.3391 - val_accuracy: 0.8359\n",
      "Epoch 97/100\n",
      "24129/24129 [==============================] - 0s 9us/step - loss: 0.3365 - accuracy: 0.8420 - val_loss: 0.3387 - val_accuracy: 0.8364\n",
      "Epoch 98/100\n",
      "24129/24129 [==============================] - 0s 9us/step - loss: 0.3365 - accuracy: 0.8423 - val_loss: 0.3385 - val_accuracy: 0.8369\n",
      "Epoch 99/100\n",
      "24129/24129 [==============================] - 0s 9us/step - loss: 0.3363 - accuracy: 0.8433 - val_loss: 0.3386 - val_accuracy: 0.8361\n",
      "Epoch 100/100\n",
      "24129/24129 [==============================] - 0s 9us/step - loss: 0.3363 - accuracy: 0.8423 - val_loss: 0.3385 - val_accuracy: 0.8362\n"
     ]
    }
   ],
   "source": [
    "history = model.fit(X_trainset, Y_trainset, validation_data=(X_testset,Y_testset), epochs=100, batch_size=100) #150 epochs normalyand 10 for batch"
   ]
  },
  {
   "cell_type": "markdown",
   "metadata": {},
   "source": [
    "<ul>\n",
    "<h3>Cross-Validation</h3>\n",
    "</ul>"
   ]
  },
  {
   "cell_type": "code",
   "execution_count": 60,
   "metadata": {},
   "outputs": [],
   "source": [
    "from sklearn.model_selection import StratifiedKFold"
   ]
  },
  {
   "cell_type": "code",
   "execution_count": 67,
   "metadata": {
    "scrolled": true
   },
   "outputs": [
    {
     "name": "stdout",
     "output_type": "stream",
     "text": [
      "accuracy: 80.94%\n",
      "accuracy: 77.42%\n",
      "accuracy: 78.77%\n",
      "accuracy: 74.23%\n",
      "accuracy: 74.23%\n",
      "accuracy: 73.74%\n",
      "accuracy: 78.68%\n",
      "accuracy: 76.91%\n",
      "accuracy: 74.23%\n",
      "accuracy: 74.13%\n",
      "76.33% (+/- 2.43%)\n"
     ]
    }
   ],
   "source": [
    "seed = 7\n",
    "np.random.seed(seed)\n",
    "\n",
    "kfold = StratifiedKFold(n_splits=10, shuffle=True, random_state=seed)\n",
    "cvscores = []\n",
    "\n",
    "for train, test in kfold.split(X, Y):\n",
    "    \n",
    "    #Define Keras Model\n",
    "    model = Sequential()\n",
    "    model.add(Dense(12, input_dim=66, activation='relu'))\n",
    "    model.add(Dense(8, activation='relu'))\n",
    "    model.add(Dense(1, activation='sigmoid'))\n",
    "    \n",
    "    # Compile model\n",
    "    model.compile(loss='binary_crossentropy', optimizer='adam', metrics=['accuracy'])\n",
    "    \n",
    "    # Fit the model\n",
    "    model.fit(X_trainset, Y_trainset, validation_data=(X_testset,Y_testset), epochs=10, batch_size=2000, verbose=0)\n",
    "    \n",
    "    # evaluate the model\n",
    "    scores =  model.evaluate(X_testset, Y_testset, verbose=0)\n",
    "    print(\"%s: %.2f%%\" % (model.metrics_names[1], scores[1]*100))\n",
    "    cvscores.append(scores[1] * 100)\n",
    "    \n",
    "print(\"%.2f%% (+/- %.2f%%)\" % (np.mean(cvscores), np.std(cvscores)))"
   ]
  },
  {
   "cell_type": "code",
   "execution_count": 392,
   "metadata": {},
   "outputs": [
    {
     "name": "stdout",
     "output_type": "stream",
     "text": [
      "6033/6033 [==============================] - 0s 13us/step\n",
      "Accuracy: 83.51 %\n",
      "Loss: 35.31 %\n"
     ]
    }
   ],
   "source": [
    "accuracy = model.evaluate(X_testset, Y_testset)\n",
    "print('Accuracy: %.2f' % (accuracy[1]*100),'%')\n",
    "print('Loss: %.2f' % (accuracy[0]*100),'%')"
   ]
  },
  {
   "cell_type": "code",
   "execution_count": 99,
   "metadata": {},
   "outputs": [],
   "source": [
    "import matplotlib.pyplot as plt\n",
    "from scipy.signal import savgol_filter"
   ]
  },
  {
   "cell_type": "code",
   "execution_count": 461,
   "metadata": {},
   "outputs": [
    {
     "data": {
      "image/png": "[encoded data removed]",
      "text/plain": [
       "<Figure size 432x288 with 1 Axes>"
      ]
     },
     "metadata": {
      "needs_background": "light"
     },
     "output_type": "display_data"
    }
   ],
   "source": [
    "x = list(range(0, 100))\n",
    "y1 = history.history['accuracy'] \n",
    "y2 = history.history['val_accuracy'] \n",
    "yhat1 = savgol_filter(y1, 51, 5) # window size 51, polynomial order 3\n",
    "yhat2 = savgol_filter(y2, 51, 4) # window size 51, polynomial order 3\n",
    "plt.plot(x,y1, color='honeydew')\n",
    "plt.plot(x,y2, color='azure')\n",
    "plt.plot(x,yhat1, color='green')\n",
    "plt.plot(x,yhat2, color='blue')\n",
    "plt.title('Model accuracy')\n",
    "plt.ylabel('Accuracy')\n",
    "plt.xlabel('Epoch')\n",
    "plt.legend(['', '', 'Train', 'Test'], loc='best')\n",
    "plt.show()"
   ]
  },
  {
   "cell_type": "code",
   "execution_count": 458,
   "metadata": {},
   "outputs": [
    {
     "data": {
      "image/png": "[encoded data removed]",
      "text/plain": [
       "<Figure size 432x288 with 1 Axes>"
      ]
     },
     "metadata": {
      "needs_background": "light"
     },
     "output_type": "display_data"
    }
   ],
   "source": [
    "X = history.history['accuracy']\n",
    "Y = history.history['val_accuracy'] \n",
    "x_y = [x - y for x, y in zip(X, Y)]\n",
    "\n",
    "x = list(range(0, 100))\n",
    "y = x_y\n",
    "yhat = savgol_filter(y, 51, 5) # window size 51, polynomial order 3\n",
    "plt.plot(x,y, color='mistyrose')\n",
    "plt.plot(x,yhat, color='red')\n",
    "plt.title('Accuracy difference betwen train and test data')\n",
    "plt.ylabel('Difference')\n",
    "plt.xlabel('Epoch')\n",
    "plt.legend(['', '', 'train', 'test'], loc='best')\n",
    "plt.show()"
   ]
  },
  {
   "cell_type": "code",
   "execution_count": 463,
   "metadata": {},
   "outputs": [
    {
     "data": {
      "image/png": "[encoded data removed]",
      "text/plain": [
       "<Figure size 432x288 with 1 Axes>"
      ]
     },
     "metadata": {
      "needs_background": "light"
     },
     "output_type": "display_data"
    }
   ],
   "source": [
    "x = list(range(0, 100))\n",
    "y1 = history.history['loss'] \n",
    "y2 = history.history['val_loss'] \n",
    "yhat1 = savgol_filter(y1, 51, 5) # window size 501, polynomial order 3\n",
    "yhat2 = savgol_filter(y2, 51, 4) # window size 501, polynomial order 3\n",
    "plt.plot(x,y1, color='honeydew')\n",
    "plt.plot(x,y2, color='azure')\n",
    "plt.plot(x,yhat1, color='green')\n",
    "plt.plot(x,yhat2, color='blue')\n",
    "plt.title('model loss')\n",
    "plt.ylabel('loss')\n",
    "plt.xlabel('epoch')\n",
    "plt.legend(['', '', 'train', 'test'], loc='best')\n",
    "plt.show()"
   ]
  },
  {
   "cell_type": "code",
   "execution_count": 469,
   "metadata": {},
   "outputs": [
    {
     "data": {
      "image/png": "[encoded data removed]",
      "text/plain": [
       "<Figure size 432x288 with 1 Axes>"
      ]
     },
     "metadata": {
      "needs_background": "light"
     },
     "output_type": "display_data"
    }
   ],
   "source": [
    "X = history.history['val_loss']\n",
    "Y = history.history['loss'] \n",
    "x_y = [x - y for x, y in zip(X, Y)]\n",
    "\n",
    "x = list(range(0, 100))\n",
    "y = x_y\n",
    "yhat = savgol_filter(y, 51, 5) # window size 51, polynomial order 3\n",
    "plt.plot(x,y, color='mistyrose')\n",
    "plt.plot(x,yhat, color='red')\n",
    "plt.title('Accuracy difference betwen train and test data')\n",
    "plt.ylabel('Difference')\n",
    "plt.xlabel('Epoch')\n",
    "plt.legend(['', '', 'train', 'test'], loc='best')\n",
    "plt.show()"
   ]
  },
  {
   "cell_type": "markdown",
   "metadata": {},
   "source": [
    "<h1>Je vais fais quoi avec toute ces cross-validation?</h1>"
   ]
  },
  {
   "cell_type": "markdown",
   "metadata": {},
   "source": [
    "<ul>\n",
    "<h3>Predictions</h3>\n",
    "</ul>"
   ]
  },
  {
   "cell_type": "code",
   "execution_count": 26,
   "metadata": {},
   "outputs": [],
   "source": [
    "predictions = model.predict(X)\n",
    "rounded = [round(x[0]) for x in predictions]"
   ]
  },
  {
   "cell_type": "code",
   "execution_count": 27,
   "metadata": {},
   "outputs": [],
   "source": [
    "predictions = model.predict_classes(X)"
   ]
  },
  {
   "cell_type": "code",
   "execution_count": 28,
   "metadata": {},
   "outputs": [
    {
     "name": "stdout",
     "output_type": "stream",
     "text": [
      "0 (expected 0)\n",
      "0 (expected 0)\n",
      "0 (expected 0)\n",
      "0 (expected 0)\n",
      "0 (expected 0)\n",
      "1 (expected 0)\n",
      "0 (expected 0)\n",
      "0 (expected 1)\n",
      "0 (expected 1)\n",
      "1 (expected 1)\n"
     ]
    }
   ],
   "source": [
    "for i in range(10):\n",
    "    print('%d (expected %d)' % (predictions[i], Y[i]))"
   ]
  },
  {
   "cell_type": "markdown",
   "metadata": {},
   "source": [
    "<ul>\n",
    "<h3>Plot the ANN</h3>\n",
    "</ul>"
   ]
  },
  {
   "cell_type": "code",
   "execution_count": 403,
   "metadata": {},
   "outputs": [],
   "source": [
    "ann_viz(model, title=\"Wealth Prediction\")"
   ]
  }
 ],
 "metadata": {
  "kernelspec": {
   "display_name": "Python 3",
   "language": "python",
   "name": "python3"
  },
  "language_info": {
   "codemirror_mode": {
    "name": "ipython",
    "version": 3
   },
   "file_extension": ".py",
   "mimetype": "text/x-python",
   "name": "python",
   "nbconvert_exporter": "python",
   "pygments_lexer": "ipython3",
   "version": "3.7.3"
  }
 },
 "nbformat": 4,
 "nbformat_minor": 2
}
