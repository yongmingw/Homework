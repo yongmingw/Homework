{
 "cells": [
  {
   "cell_type": "markdown",
   "metadata": {},
   "source": [
    "<img src=\"https://admissions.ntust.edu.tw/front_index/images/logo.png\" alt=\"drawing\" width=\"600\"/>\n",
    "<hr>\n",
    "<h1><center>MACHINE LEARNING : HOMEWORK 2</center></h1>\n",
    "<h1><center>Data 1 : Wealth prediction</center></h1>\n",
    "<h4>Hector LANDES - M10601810</h4>\n",
    "<h4>Machine Learning - CS5087701</h4>"
   ]
  },
  {
   "cell_type": "code",
   "execution_count": 4,
   "metadata": {},
   "outputs": [],
   "source": [
    "import pandas as pd\n",
    "import numpy as np"
   ]
  },
  {
   "cell_type": "code",
   "execution_count": 5,
   "metadata": {},
   "outputs": [],
   "source": [
    "path = r'C:\\Users\\Hector Landes\\Desktop\\Data Science Projects\\20191005 Homework_1_ML\\2. Prepared Data\\adult.csv'"
   ]
  },
  {
   "cell_type": "code",
   "execution_count": 6,
   "metadata": {},
   "outputs": [],
   "source": [
    "data = pd.read_csv (path, names=[\"age\", \"workclass\", \"fnlwgt\", \"education\", \"education_num\", \"marital_status\",\n",
    "                           \"occupation\", \"relationship\", \"race\", \"sex\", \"capital_gain\", \"capital_loss\", \n",
    "                                 \"hours_per_week\", \"native_country\", \"wealth\"],\n",
    "                   index_col=False)"
   ]
  },
  {
   "cell_type": "markdown",
   "metadata": {},
   "source": [
    "<ul>\n",
    "<h3>Preprocessing from the HM1</3>\n",
    "</ul>"
   ]
  },
  {
   "cell_type": "code",
   "execution_count": 7,
   "metadata": {},
   "outputs": [],
   "source": [
    "data = data[(data.astype(str) != ' ?').all(axis=1)]"
   ]
  },
  {
   "cell_type": "code",
   "execution_count": 8,
   "metadata": {},
   "outputs": [],
   "source": [
    "data = pd.get_dummies(data, columns=['workclass', 'education', 'marital_status', 'occupation', 'relationship', 'race', 'sex'])"
   ]
  },
  {
   "cell_type": "code",
   "execution_count": 9,
   "metadata": {},
   "outputs": [],
   "source": [
    "data['native_country'] = data['native_country'].str.strip()"
   ]
  },
  {
   "cell_type": "code",
   "execution_count": 10,
   "metadata": {},
   "outputs": [],
   "source": [
    "data['native_country'] = data['native_country'].replace(['Japan', 'Cambodia', \"Philippines\", \n",
    "                                                         \"India\", \"China\", \"Vietnam\", \"Taiwan\", \"Iran\", \n",
    "                                                         \"Hong\", \"Laos\", \"Thailand\"], 'Asia')\n",
    "data['native_country'] = data['native_country'].replace([\"Germany\", \"England\", \"Italy\", \"Poland\", \"Portugal\",\n",
    "                                                         \"Greece\", \"France\", \"Ireland\", \"Yugoslavia\", \"Hungary\", \n",
    "                                                         \"Scotland\", \"Holand-Netherlands\"], 'Europe')\n",
    "data['native_country'] = data['native_country'].replace([\"Mexico\",\"El-Salvador\", \"Cuba\", \"Jamaica\", 'South', \n",
    "                                                         \"Dominican-Republic\", \"Guatemala\", \"Columbia\", \"Haiti\", \n",
    "                                                         \"Nicaragua\", \"Peru\", \"Ecuador\", \"Trinadad&Tobago\", \"Honduras\"], \n",
    "                                                        'South&Central America')\n",
    "data['native_country'] = data['native_country'].replace([\"United-States\", 'Puerto-Rico', 'Canada',\n",
    "                                                         'Outlying-US(Guam-USVI-etc)'], 'United_States')"
   ]
  },
  {
   "cell_type": "code",
   "execution_count": 11,
   "metadata": {},
   "outputs": [],
   "source": [
    "data.rename(columns={'native_country':'native_region'}, inplace=True)"
   ]
  },
  {
   "cell_type": "code",
   "execution_count": 12,
   "metadata": {},
   "outputs": [],
   "source": [
    "data = pd.get_dummies(data, columns=['native_region'])"
   ]
  },
  {
   "cell_type": "code",
   "execution_count": 13,
   "metadata": {},
   "outputs": [],
   "source": [
    "non_zero_value = data.loc[data[\"capital_loss\"] != 0]"
   ]
  },
  {
   "cell_type": "code",
   "execution_count": 14,
   "metadata": {},
   "outputs": [],
   "source": [
    "data.loc[data[\"capital_loss\"] != 0, [\"capital_loss\"]] = 1"
   ]
  },
  {
   "cell_type": "code",
   "execution_count": 15,
   "metadata": {},
   "outputs": [],
   "source": [
    "non_zero_value = data.loc[data[\"capital_gain\"] != 0]"
   ]
  },
  {
   "cell_type": "code",
   "execution_count": 16,
   "metadata": {},
   "outputs": [],
   "source": [
    "data.loc[data[\"capital_gain\"] != 0, [\"capital_gain\"]] = 1"
   ]
  },
  {
   "cell_type": "code",
   "execution_count": 17,
   "metadata": {},
   "outputs": [],
   "source": [
    "data = data.drop(['fnlwgt'], axis=1)"
   ]
  },
  {
   "cell_type": "code",
   "execution_count": 18,
   "metadata": {},
   "outputs": [],
   "source": [
    "data['bi_wealth'] = data.apply(lambda row: 1 if '>50K'in row['wealth'] else 0, axis=1)"
   ]
  },
  {
   "cell_type": "code",
   "execution_count": 19,
   "metadata": {},
   "outputs": [],
   "source": [
    "data = data.drop(['wealth'], axis=1)"
   ]
  },
  {
   "cell_type": "code",
   "execution_count": 20,
   "metadata": {},
   "outputs": [
    {
     "data": {
      "text/html": [
       "<div>\n",
       "<style scoped>\n",
       "    .dataframe tbody tr th:only-of-type {\n",
       "        vertical-align: middle;\n",
       "    }\n",
       "\n",
       "    .dataframe tbody tr th {\n",
       "        vertical-align: top;\n",
       "    }\n",
       "\n",
       "    .dataframe thead th {\n",
       "        text-align: right;\n",
       "    }\n",
       "</style>\n",
       "<table border=\"1\" class=\"dataframe\">\n",
       "  <thead>\n",
       "    <tr style=\"text-align: right;\">\n",
       "      <th></th>\n",
       "      <th>age</th>\n",
       "      <th>education_num</th>\n",
       "      <th>capital_gain</th>\n",
       "      <th>capital_loss</th>\n",
       "      <th>hours_per_week</th>\n",
       "      <th>workclass_ Federal-gov</th>\n",
       "      <th>workclass_ Local-gov</th>\n",
       "      <th>workclass_ Private</th>\n",
       "      <th>workclass_ Self-emp-inc</th>\n",
       "      <th>workclass_ Self-emp-not-inc</th>\n",
       "      <th>...</th>\n",
       "      <th>race_ Black</th>\n",
       "      <th>race_ Other</th>\n",
       "      <th>race_ White</th>\n",
       "      <th>sex_ Female</th>\n",
       "      <th>sex_ Male</th>\n",
       "      <th>native_region_Asia</th>\n",
       "      <th>native_region_Europe</th>\n",
       "      <th>native_region_South&amp;Central America</th>\n",
       "      <th>native_region_United_States</th>\n",
       "      <th>bi_wealth</th>\n",
       "    </tr>\n",
       "  </thead>\n",
       "  <tbody>\n",
       "    <tr>\n",
       "      <th>0</th>\n",
       "      <td>39</td>\n",
       "      <td>13</td>\n",
       "      <td>1</td>\n",
       "      <td>0</td>\n",
       "      <td>40</td>\n",
       "      <td>0</td>\n",
       "      <td>0</td>\n",
       "      <td>0</td>\n",
       "      <td>0</td>\n",
       "      <td>0</td>\n",
       "      <td>...</td>\n",
       "      <td>0</td>\n",
       "      <td>0</td>\n",
       "      <td>1</td>\n",
       "      <td>0</td>\n",
       "      <td>1</td>\n",
       "      <td>0</td>\n",
       "      <td>0</td>\n",
       "      <td>0</td>\n",
       "      <td>1</td>\n",
       "      <td>0</td>\n",
       "    </tr>\n",
       "    <tr>\n",
       "      <th>1</th>\n",
       "      <td>50</td>\n",
       "      <td>13</td>\n",
       "      <td>0</td>\n",
       "      <td>0</td>\n",
       "      <td>13</td>\n",
       "      <td>0</td>\n",
       "      <td>0</td>\n",
       "      <td>0</td>\n",
       "      <td>0</td>\n",
       "      <td>1</td>\n",
       "      <td>...</td>\n",
       "      <td>0</td>\n",
       "      <td>0</td>\n",
       "      <td>1</td>\n",
       "      <td>0</td>\n",
       "      <td>1</td>\n",
       "      <td>0</td>\n",
       "      <td>0</td>\n",
       "      <td>0</td>\n",
       "      <td>1</td>\n",
       "      <td>0</td>\n",
       "    </tr>\n",
       "    <tr>\n",
       "      <th>2</th>\n",
       "      <td>38</td>\n",
       "      <td>9</td>\n",
       "      <td>0</td>\n",
       "      <td>0</td>\n",
       "      <td>40</td>\n",
       "      <td>0</td>\n",
       "      <td>0</td>\n",
       "      <td>1</td>\n",
       "      <td>0</td>\n",
       "      <td>0</td>\n",
       "      <td>...</td>\n",
       "      <td>0</td>\n",
       "      <td>0</td>\n",
       "      <td>1</td>\n",
       "      <td>0</td>\n",
       "      <td>1</td>\n",
       "      <td>0</td>\n",
       "      <td>0</td>\n",
       "      <td>0</td>\n",
       "      <td>1</td>\n",
       "      <td>0</td>\n",
       "    </tr>\n",
       "    <tr>\n",
       "      <th>3</th>\n",
       "      <td>53</td>\n",
       "      <td>7</td>\n",
       "      <td>0</td>\n",
       "      <td>0</td>\n",
       "      <td>40</td>\n",
       "      <td>0</td>\n",
       "      <td>0</td>\n",
       "      <td>1</td>\n",
       "      <td>0</td>\n",
       "      <td>0</td>\n",
       "      <td>...</td>\n",
       "      <td>1</td>\n",
       "      <td>0</td>\n",
       "      <td>0</td>\n",
       "      <td>0</td>\n",
       "      <td>1</td>\n",
       "      <td>0</td>\n",
       "      <td>0</td>\n",
       "      <td>0</td>\n",
       "      <td>1</td>\n",
       "      <td>0</td>\n",
       "    </tr>\n",
       "    <tr>\n",
       "      <th>4</th>\n",
       "      <td>28</td>\n",
       "      <td>13</td>\n",
       "      <td>0</td>\n",
       "      <td>0</td>\n",
       "      <td>40</td>\n",
       "      <td>0</td>\n",
       "      <td>0</td>\n",
       "      <td>1</td>\n",
       "      <td>0</td>\n",
       "      <td>0</td>\n",
       "      <td>...</td>\n",
       "      <td>1</td>\n",
       "      <td>0</td>\n",
       "      <td>0</td>\n",
       "      <td>1</td>\n",
       "      <td>0</td>\n",
       "      <td>0</td>\n",
       "      <td>0</td>\n",
       "      <td>1</td>\n",
       "      <td>0</td>\n",
       "      <td>0</td>\n",
       "    </tr>\n",
       "  </tbody>\n",
       "</table>\n",
       "<p>5 rows × 67 columns</p>\n",
       "</div>"
      ],
      "text/plain": [
       "   age  education_num  capital_gain  capital_loss  hours_per_week  \\\n",
       "0   39             13             1             0              40   \n",
       "1   50             13             0             0              13   \n",
       "2   38              9             0             0              40   \n",
       "3   53              7             0             0              40   \n",
       "4   28             13             0             0              40   \n",
       "\n",
       "   workclass_ Federal-gov  workclass_ Local-gov  workclass_ Private  \\\n",
       "0                       0                     0                   0   \n",
       "1                       0                     0                   0   \n",
       "2                       0                     0                   1   \n",
       "3                       0                     0                   1   \n",
       "4                       0                     0                   1   \n",
       "\n",
       "   workclass_ Self-emp-inc  workclass_ Self-emp-not-inc  ...  race_ Black  \\\n",
       "0                        0                            0  ...            0   \n",
       "1                        0                            1  ...            0   \n",
       "2                        0                            0  ...            0   \n",
       "3                        0                            0  ...            1   \n",
       "4                        0                            0  ...            1   \n",
       "\n",
       "   race_ Other  race_ White  sex_ Female  sex_ Male  native_region_Asia  \\\n",
       "0            0            1            0          1                   0   \n",
       "1            0            1            0          1                   0   \n",
       "2            0            1            0          1                   0   \n",
       "3            0            0            0          1                   0   \n",
       "4            0            0            1          0                   0   \n",
       "\n",
       "   native_region_Europe  native_region_South&Central America  \\\n",
       "0                     0                                    0   \n",
       "1                     0                                    0   \n",
       "2                     0                                    0   \n",
       "3                     0                                    0   \n",
       "4                     0                                    1   \n",
       "\n",
       "   native_region_United_States  bi_wealth  \n",
       "0                            1          0  \n",
       "1                            1          0  \n",
       "2                            1          0  \n",
       "3                            1          0  \n",
       "4                            0          0  \n",
       "\n",
       "[5 rows x 67 columns]"
      ]
     },
     "execution_count": 20,
     "metadata": {},
     "output_type": "execute_result"
    }
   ],
   "source": [
    "data.head()"
   ]
  },
  {
   "cell_type": "markdown",
   "metadata": {},
   "source": [
    "<ul>\n",
    "<h3> X as the Feature Matrix </h3> \n",
    "</ul>"
   ]
  },
  {
   "cell_type": "code",
   "execution_count": 21,
   "metadata": {},
   "outputs": [
    {
     "data": {
      "text/html": [
       "<div>\n",
       "<style scoped>\n",
       "    .dataframe tbody tr th:only-of-type {\n",
       "        vertical-align: middle;\n",
       "    }\n",
       "\n",
       "    .dataframe tbody tr th {\n",
       "        vertical-align: top;\n",
       "    }\n",
       "\n",
       "    .dataframe thead th {\n",
       "        text-align: right;\n",
       "    }\n",
       "</style>\n",
       "<table border=\"1\" class=\"dataframe\">\n",
       "  <thead>\n",
       "    <tr style=\"text-align: right;\">\n",
       "      <th></th>\n",
       "      <th>age</th>\n",
       "      <th>education_num</th>\n",
       "      <th>capital_gain</th>\n",
       "      <th>capital_loss</th>\n",
       "      <th>hours_per_week</th>\n",
       "      <th>workclass_ Federal-gov</th>\n",
       "      <th>workclass_ Local-gov</th>\n",
       "      <th>workclass_ Private</th>\n",
       "      <th>workclass_ Self-emp-inc</th>\n",
       "      <th>workclass_ Self-emp-not-inc</th>\n",
       "      <th>...</th>\n",
       "      <th>race_ Asian-Pac-Islander</th>\n",
       "      <th>race_ Black</th>\n",
       "      <th>race_ Other</th>\n",
       "      <th>race_ White</th>\n",
       "      <th>sex_ Female</th>\n",
       "      <th>sex_ Male</th>\n",
       "      <th>native_region_Asia</th>\n",
       "      <th>native_region_Europe</th>\n",
       "      <th>native_region_South&amp;Central America</th>\n",
       "      <th>native_region_United_States</th>\n",
       "    </tr>\n",
       "  </thead>\n",
       "  <tbody>\n",
       "    <tr>\n",
       "      <th>0</th>\n",
       "      <td>39</td>\n",
       "      <td>13</td>\n",
       "      <td>1</td>\n",
       "      <td>0</td>\n",
       "      <td>40</td>\n",
       "      <td>0</td>\n",
       "      <td>0</td>\n",
       "      <td>0</td>\n",
       "      <td>0</td>\n",
       "      <td>0</td>\n",
       "      <td>...</td>\n",
       "      <td>0</td>\n",
       "      <td>0</td>\n",
       "      <td>0</td>\n",
       "      <td>1</td>\n",
       "      <td>0</td>\n",
       "      <td>1</td>\n",
       "      <td>0</td>\n",
       "      <td>0</td>\n",
       "      <td>0</td>\n",
       "      <td>1</td>\n",
       "    </tr>\n",
       "    <tr>\n",
       "      <th>1</th>\n",
       "      <td>50</td>\n",
       "      <td>13</td>\n",
       "      <td>0</td>\n",
       "      <td>0</td>\n",
       "      <td>13</td>\n",
       "      <td>0</td>\n",
       "      <td>0</td>\n",
       "      <td>0</td>\n",
       "      <td>0</td>\n",
       "      <td>1</td>\n",
       "      <td>...</td>\n",
       "      <td>0</td>\n",
       "      <td>0</td>\n",
       "      <td>0</td>\n",
       "      <td>1</td>\n",
       "      <td>0</td>\n",
       "      <td>1</td>\n",
       "      <td>0</td>\n",
       "      <td>0</td>\n",
       "      <td>0</td>\n",
       "      <td>1</td>\n",
       "    </tr>\n",
       "  </tbody>\n",
       "</table>\n",
       "<p>2 rows × 66 columns</p>\n",
       "</div>"
      ],
      "text/plain": [
       "   age  education_num  capital_gain  capital_loss  hours_per_week  \\\n",
       "0   39             13             1             0              40   \n",
       "1   50             13             0             0              13   \n",
       "\n",
       "   workclass_ Federal-gov  workclass_ Local-gov  workclass_ Private  \\\n",
       "0                       0                     0                   0   \n",
       "1                       0                     0                   0   \n",
       "\n",
       "   workclass_ Self-emp-inc  workclass_ Self-emp-not-inc  ...  \\\n",
       "0                        0                            0  ...   \n",
       "1                        0                            1  ...   \n",
       "\n",
       "   race_ Asian-Pac-Islander  race_ Black  race_ Other  race_ White  \\\n",
       "0                         0            0            0            1   \n",
       "1                         0            0            0            1   \n",
       "\n",
       "   sex_ Female  sex_ Male  native_region_Asia  native_region_Europe  \\\n",
       "0            0          1                   0                     0   \n",
       "1            0          1                   0                     0   \n",
       "\n",
       "   native_region_South&Central America  native_region_United_States  \n",
       "0                                    0                            1  \n",
       "1                                    0                            1  \n",
       "\n",
       "[2 rows x 66 columns]"
      ]
     },
     "execution_count": 21,
     "metadata": {},
     "output_type": "execute_result"
    }
   ],
   "source": [
    "X = data[data.columns[:66]]\n",
    "X[0:2]"
   ]
  },
  {
   "cell_type": "markdown",
   "metadata": {},
   "source": [
    "<ul>\n",
    "<h3> Y as the Target Value </h3> \n",
    "</ul>"
   ]
  },
  {
   "cell_type": "code",
   "execution_count": 22,
   "metadata": {},
   "outputs": [
    {
     "data": {
      "text/plain": [
       "0    0\n",
       "1    0\n",
       "2    0\n",
       "3    0\n",
       "4    0\n",
       "Name: bi_wealth, dtype: int64"
      ]
     },
     "execution_count": 22,
     "metadata": {},
     "output_type": "execute_result"
    }
   ],
   "source": [
    "Y = data[\"bi_wealth\"]\n",
    "Y[0:5]"
   ]
  },
  {
   "cell_type": "code",
   "execution_count": null,
   "metadata": {},
   "outputs": [],
   "source": []
  },
  {
   "cell_type": "code",
   "execution_count": 27,
   "metadata": {},
   "outputs": [],
   "source": [
    "#pip install keras\n",
    "#pip install tensorflow\n",
    "#pip install ann_visualizer"
   ]
  },
  {
   "cell_type": "code",
   "execution_count": 2,
   "metadata": {},
   "outputs": [
    {
     "name": "stderr",
     "output_type": "stream",
     "text": [
      "Using TensorFlow backend.\n"
     ]
    }
   ],
   "source": [
    "import tensorflow as tf\n",
    "import keras\n",
    "from keras.models import Sequential\n",
    "from keras.layers import Dense\n",
    "from ann_visualizer.visualize import ann_viz;\n",
    "import graphviz\n",
    "import os\n",
    "os.environ[\"PATH\"] += os.pathsep + r'C:\\Users\\Hector Landes\\graphviz-2.38\\release\\bin'"
   ]
  },
  {
   "cell_type": "markdown",
   "metadata": {},
   "source": [
    "Define Keras Model"
   ]
  },
  {
   "cell_type": "code",
   "execution_count": 29,
   "metadata": {},
   "outputs": [],
   "source": [
    "model = Sequential()\n",
    "model.add(Dense(12, input_dim=66, activation='relu')) #Model expects rows of data with 66 variables #The first hidden layer has 12 nodes and uses the relu activation function\n",
    "model.add(Dense(8, activation='relu')) #The seond hidden layer has 8 nodes and use relu activation function\n",
    "model.add(Dense(1, activation='sigmoid')) #The output layer has one node and use the sigmoid activation function"
   ]
  },
  {
   "cell_type": "markdown",
   "metadata": {},
   "source": [
    "Compile Keras Model"
   ]
  },
  {
   "cell_type": "code",
   "execution_count": 30,
   "metadata": {},
   "outputs": [],
   "source": [
    "model.compile(loss='binary_crossentropy', optimizer='adam', metrics=['accuracy'])"
   ]
  },
  {
   "cell_type": "markdown",
   "metadata": {},
   "source": [
    "Fit Keras Model"
   ]
  },
  {
   "cell_type": "code",
   "execution_count": 31,
   "metadata": {},
   "outputs": [
    {
     "name": "stdout",
     "output_type": "stream",
     "text": [
      "Epoch 1/150\n",
      "30162/30162 [==============================] - 2s 70us/step - loss: 0.3913 - accuracy: 0.8205\n",
      "Epoch 2/150\n",
      "30162/30162 [==============================] - 2s 66us/step - loss: 0.3445 - accuracy: 0.8399\n",
      "Epoch 3/150\n",
      "30162/30162 [==============================] - 2s 65us/step - loss: 0.3422 - accuracy: 0.8403\n",
      "Epoch 4/150\n",
      "30162/30162 [==============================] - 2s 65us/step - loss: 0.3406 - accuracy: 0.8400\n",
      "Epoch 5/150\n",
      "30162/30162 [==============================] - 2s 64us/step - loss: 0.3393 - accuracy: 0.8416\n",
      "Epoch 6/150\n",
      "30162/30162 [==============================] - 2s 64us/step - loss: 0.3386 - accuracy: 0.8412\n",
      "Epoch 7/150\n",
      "30162/30162 [==============================] - 2s 64us/step - loss: 0.3364 - accuracy: 0.8414\n",
      "Epoch 8/150\n",
      "30162/30162 [==============================] - 2s 65us/step - loss: 0.3358 - accuracy: 0.8428\n",
      "Epoch 9/150\n",
      "30162/30162 [==============================] - 2s 68us/step - loss: 0.3357 - accuracy: 0.8426\n",
      "Epoch 10/150\n",
      "30162/30162 [==============================] - 2s 65us/step - loss: 0.3345 - accuracy: 0.8428\n",
      "Epoch 11/150\n",
      "30162/30162 [==============================] - 2s 65us/step - loss: 0.3344 - accuracy: 0.8422\n",
      "Epoch 12/150\n",
      "30162/30162 [==============================] - 2s 65us/step - loss: 0.3334 - accuracy: 0.8435\n",
      "Epoch 13/150\n",
      "30162/30162 [==============================] - 2s 65us/step - loss: 0.3332 - accuracy: 0.8427\n",
      "Epoch 14/150\n",
      "30162/30162 [==============================] - 2s 66us/step - loss: 0.3316 - accuracy: 0.8447\n",
      "Epoch 15/150\n",
      "30162/30162 [==============================] - 2s 65us/step - loss: 0.3319 - accuracy: 0.8431\n",
      "Epoch 16/150\n",
      "30162/30162 [==============================] - 2s 65us/step - loss: 0.3321 - accuracy: 0.8427\n",
      "Epoch 17/150\n",
      "30162/30162 [==============================] - 2s 67us/step - loss: 0.3313 - accuracy: 0.8432\n",
      "Epoch 18/150\n",
      "30162/30162 [==============================] - 2s 66us/step - loss: 0.3318 - accuracy: 0.8426\n",
      "Epoch 19/150\n",
      "30162/30162 [==============================] - 2s 65us/step - loss: 0.3307 - accuracy: 0.8446\n",
      "Epoch 20/150\n",
      "30162/30162 [==============================] - 2s 67us/step - loss: 0.3306 - accuracy: 0.8439\n",
      "Epoch 21/150\n",
      "30162/30162 [==============================] - 2s 65us/step - loss: 0.3303 - accuracy: 0.8447\n",
      "Epoch 22/150\n",
      "30162/30162 [==============================] - 2s 65us/step - loss: 0.3303 - accuracy: 0.8438\n",
      "Epoch 23/150\n",
      "30162/30162 [==============================] - 2s 65us/step - loss: 0.3294 - accuracy: 0.8453\n",
      "Epoch 24/150\n",
      "30162/30162 [==============================] - 2s 65us/step - loss: 0.3302 - accuracy: 0.8459\n",
      "Epoch 25/150\n",
      "30162/30162 [==============================] - 2s 68us/step - loss: 0.3282 - accuracy: 0.8469\n",
      "Epoch 26/150\n",
      "30162/30162 [==============================] - 2s 66us/step - loss: 0.3292 - accuracy: 0.8442\n",
      "Epoch 27/150\n",
      "30162/30162 [==============================] - 2s 66us/step - loss: 0.3290 - accuracy: 0.8448\n",
      "Epoch 28/150\n",
      "30162/30162 [==============================] - 2s 66us/step - loss: 0.3284 - accuracy: 0.8446\n",
      "Epoch 29/150\n",
      "30162/30162 [==============================] - 2s 66us/step - loss: 0.3280 - accuracy: 0.8465\n",
      "Epoch 30/150\n",
      "30162/30162 [==============================] - 2s 64us/step - loss: 0.3278 - accuracy: 0.8460\n",
      "Epoch 31/150\n",
      "30162/30162 [==============================] - 2s 65us/step - loss: 0.3273 - accuracy: 0.8456\n",
      "Epoch 32/150\n",
      "30162/30162 [==============================] - 2s 65us/step - loss: 0.3278 - accuracy: 0.8455\n",
      "Epoch 33/150\n",
      "30162/30162 [==============================] - 2s 70us/step - loss: 0.3282 - accuracy: 0.8444\n",
      "Epoch 34/150\n",
      "30162/30162 [==============================] - 2s 65us/step - loss: 0.3272 - accuracy: 0.8469\n",
      "Epoch 35/150\n",
      "30162/30162 [==============================] - 2s 65us/step - loss: 0.3272 - accuracy: 0.8455\n",
      "Epoch 36/150\n",
      "30162/30162 [==============================] - 2s 65us/step - loss: 0.3267 - accuracy: 0.8457\n",
      "Epoch 37/150\n",
      "30162/30162 [==============================] - 2s 66us/step - loss: 0.3268 - accuracy: 0.8466\n",
      "Epoch 38/150\n",
      "30162/30162 [==============================] - 2s 67us/step - loss: 0.3261 - accuracy: 0.8467\n",
      "Epoch 39/150\n",
      "30162/30162 [==============================] - 2s 65us/step - loss: 0.3269 - accuracy: 0.8463\n",
      "Epoch 40/150\n",
      "30162/30162 [==============================] - 2s 65us/step - loss: 0.3270 - accuracy: 0.8451\n",
      "Epoch 41/150\n",
      "30162/30162 [==============================] - 2s 68us/step - loss: 0.3262 - accuracy: 0.8463 0s - loss: 0.3263 - accuracy: 0.\n",
      "Epoch 42/150\n",
      "30162/30162 [==============================] - 2s 66us/step - loss: 0.3260 - accuracy: 0.8463\n",
      "Epoch 43/150\n",
      "30162/30162 [==============================] - 2s 65us/step - loss: 0.3261 - accuracy: 0.8484\n",
      "Epoch 44/150\n",
      "30162/30162 [==============================] - 2s 65us/step - loss: 0.3256 - accuracy: 0.8465\n",
      "Epoch 45/150\n",
      "30162/30162 [==============================] - 2s 65us/step - loss: 0.3261 - accuracy: 0.8477\n",
      "Epoch 46/150\n",
      "30162/30162 [==============================] - 2s 66us/step - loss: 0.3247 - accuracy: 0.8468\n",
      "Epoch 47/150\n",
      "30162/30162 [==============================] - 2s 65us/step - loss: 0.3256 - accuracy: 0.8469\n",
      "Epoch 48/150\n",
      "30162/30162 [==============================] - 2s 65us/step - loss: 0.3250 - accuracy: 0.8475\n",
      "Epoch 49/150\n",
      "30162/30162 [==============================] - 2s 70us/step - loss: 0.3257 - accuracy: 0.8463\n",
      "Epoch 50/150\n",
      "30162/30162 [==============================] - 2s 67us/step - loss: 0.3251 - accuracy: 0.8474\n",
      "Epoch 51/150\n",
      "30162/30162 [==============================] - 2s 66us/step - loss: 0.3253 - accuracy: 0.8466\n",
      "Epoch 52/150\n",
      "30162/30162 [==============================] - 2s 66us/step - loss: 0.3249 - accuracy: 0.8485\n",
      "Epoch 53/150\n",
      "30162/30162 [==============================] - 2s 66us/step - loss: 0.3245 - accuracy: 0.8471\n",
      "Epoch 54/150\n",
      "30162/30162 [==============================] - 2s 66us/step - loss: 0.3248 - accuracy: 0.8484\n",
      "Epoch 55/150\n",
      "30162/30162 [==============================] - 2s 65us/step - loss: 0.3250 - accuracy: 0.8472\n",
      "Epoch 56/150\n",
      "30162/30162 [==============================] - 2s 65us/step - loss: 0.3249 - accuracy: 0.8471\n",
      "Epoch 57/150\n",
      "30162/30162 [==============================] - 2s 68us/step - loss: 0.3246 - accuracy: 0.8478\n",
      "Epoch 58/150\n",
      "30162/30162 [==============================] - 2s 66us/step - loss: 0.3247 - accuracy: 0.8488\n",
      "Epoch 59/150\n",
      "30162/30162 [==============================] - 2s 65us/step - loss: 0.3244 - accuracy: 0.8469\n",
      "Epoch 60/150\n",
      "30162/30162 [==============================] - 2s 65us/step - loss: 0.3238 - accuracy: 0.8478\n",
      "Epoch 61/150\n",
      "30162/30162 [==============================] - 2s 65us/step - loss: 0.3239 - accuracy: 0.8478\n",
      "Epoch 62/150\n",
      "30162/30162 [==============================] - 2s 66us/step - loss: 0.3239 - accuracy: 0.8483\n",
      "Epoch 63/150\n",
      "30162/30162 [==============================] - 2s 65us/step - loss: 0.3235 - accuracy: 0.8486\n",
      "Epoch 64/150\n",
      "30162/30162 [==============================] - 2s 65us/step - loss: 0.3237 - accuracy: 0.8491\n",
      "Epoch 65/150\n",
      "30162/30162 [==============================] - 2s 67us/step - loss: 0.3241 - accuracy: 0.8473\n",
      "Epoch 66/150\n",
      "30162/30162 [==============================] - 2s 67us/step - loss: 0.3238 - accuracy: 0.8481\n",
      "Epoch 67/150\n",
      "30162/30162 [==============================] - 2s 66us/step - loss: 0.3233 - accuracy: 0.8475\n",
      "Epoch 68/150\n",
      "30162/30162 [==============================] - 2s 65us/step - loss: 0.3237 - accuracy: 0.8478\n",
      "Epoch 69/150\n",
      "30162/30162 [==============================] - 2s 66us/step - loss: 0.3233 - accuracy: 0.8482\n",
      "Epoch 70/150\n",
      "30162/30162 [==============================] - 2s 66us/step - loss: 0.3237 - accuracy: 0.8473\n",
      "Epoch 71/150\n",
      "30162/30162 [==============================] - 2s 68us/step - loss: 0.3238 - accuracy: 0.8479\n",
      "Epoch 72/150\n",
      "30162/30162 [==============================] - 2s 68us/step - loss: 0.3234 - accuracy: 0.8485\n",
      "Epoch 73/150\n",
      "30162/30162 [==============================] - 2s 73us/step - loss: 0.3236 - accuracy: 0.8478\n",
      "Epoch 74/150\n",
      "30162/30162 [==============================] - 2s 68us/step - loss: 0.3231 - accuracy: 0.8493\n",
      "Epoch 75/150\n",
      "30162/30162 [==============================] - 2s 67us/step - loss: 0.3236 - accuracy: 0.8487\n",
      "Epoch 76/150\n",
      "30162/30162 [==============================] - 2s 66us/step - loss: 0.3232 - accuracy: 0.8480\n",
      "Epoch 77/150\n"
     ]
    },
    {
     "name": "stdout",
     "output_type": "stream",
     "text": [
      "30162/30162 [==============================] - 2s 65us/step - loss: 0.3231 - accuracy: 0.8473\n",
      "Epoch 78/150\n",
      "30162/30162 [==============================] - 2s 65us/step - loss: 0.3236 - accuracy: 0.8465\n",
      "Epoch 79/150\n",
      "30162/30162 [==============================] - 2s 65us/step - loss: 0.3229 - accuracy: 0.8488\n",
      "Epoch 80/150\n",
      "30162/30162 [==============================] - 2s 66us/step - loss: 0.3231 - accuracy: 0.8485\n",
      "Epoch 81/150\n",
      "30162/30162 [==============================] - 2s 67us/step - loss: 0.3227 - accuracy: 0.8479\n",
      "Epoch 82/150\n",
      "30162/30162 [==============================] - 2s 66us/step - loss: 0.3231 - accuracy: 0.8486\n",
      "Epoch 83/150\n",
      "30162/30162 [==============================] - 2s 66us/step - loss: 0.3235 - accuracy: 0.8487\n",
      "Epoch 84/150\n",
      "30162/30162 [==============================] - 2s 66us/step - loss: 0.3230 - accuracy: 0.8482\n",
      "Epoch 85/150\n",
      "30162/30162 [==============================] - 2s 65us/step - loss: 0.3230 - accuracy: 0.8492\n",
      "Epoch 86/150\n",
      "30162/30162 [==============================] - 2s 65us/step - loss: 0.3228 - accuracy: 0.8483\n",
      "Epoch 87/150\n",
      "30162/30162 [==============================] - 2s 66us/step - loss: 0.3228 - accuracy: 0.8476\n",
      "Epoch 88/150\n",
      "30162/30162 [==============================] - 2s 66us/step - loss: 0.3229 - accuracy: 0.8492\n",
      "Epoch 89/150\n",
      "30162/30162 [==============================] - 2s 68us/step - loss: 0.3223 - accuracy: 0.8497\n",
      "Epoch 90/150\n",
      "30162/30162 [==============================] - 2s 66us/step - loss: 0.3229 - accuracy: 0.8479\n",
      "Epoch 91/150\n",
      "30162/30162 [==============================] - 2s 65us/step - loss: 0.3228 - accuracy: 0.8487\n",
      "Epoch 92/150\n",
      "30162/30162 [==============================] - 2s 66us/step - loss: 0.3228 - accuracy: 0.8498\n",
      "Epoch 93/150\n",
      "30162/30162 [==============================] - 2s 66us/step - loss: 0.3229 - accuracy: 0.8480\n",
      "Epoch 94/150\n",
      "30162/30162 [==============================] - 2s 65us/step - loss: 0.3224 - accuracy: 0.8483\n",
      "Epoch 95/150\n",
      "30162/30162 [==============================] - 2s 65us/step - loss: 0.3224 - accuracy: 0.8484\n",
      "Epoch 96/150\n",
      "30162/30162 [==============================] - 2s 65us/step - loss: 0.3223 - accuracy: 0.8492\n",
      "Epoch 97/150\n",
      "30162/30162 [==============================] - 2s 68us/step - loss: 0.3221 - accuracy: 0.8493\n",
      "Epoch 98/150\n",
      "30162/30162 [==============================] - 2s 66us/step - loss: 0.3226 - accuracy: 0.8490\n",
      "Epoch 99/150\n",
      "30162/30162 [==============================] - 2s 65us/step - loss: 0.3223 - accuracy: 0.8491\n",
      "Epoch 100/150\n",
      "30162/30162 [==============================] - 2s 65us/step - loss: 0.3218 - accuracy: 0.8488\n",
      "Epoch 101/150\n",
      "30162/30162 [==============================] - 2s 67us/step - loss: 0.3225 - accuracy: 0.8491\n",
      "Epoch 102/150\n",
      "30162/30162 [==============================] - 2s 64us/step - loss: 0.3221 - accuracy: 0.8493\n",
      "Epoch 103/150\n",
      "30162/30162 [==============================] - 2s 65us/step - loss: 0.3225 - accuracy: 0.8493\n",
      "Epoch 104/150\n",
      "30162/30162 [==============================] - 2s 65us/step - loss: 0.3227 - accuracy: 0.8488\n",
      "Epoch 105/150\n",
      "30162/30162 [==============================] - 2s 67us/step - loss: 0.3222 - accuracy: 0.8475\n",
      "Epoch 106/150\n",
      "30162/30162 [==============================] - 2s 67us/step - loss: 0.3218 - accuracy: 0.8495\n",
      "Epoch 107/150\n",
      "30162/30162 [==============================] - 2s 66us/step - loss: 0.3220 - accuracy: 0.8492\n",
      "Epoch 108/150\n",
      "30162/30162 [==============================] - 2s 68us/step - loss: 0.3222 - accuracy: 0.8496\n",
      "Epoch 109/150\n",
      "30162/30162 [==============================] - 2s 64us/step - loss: 0.3216 - accuracy: 0.8490\n",
      "Epoch 110/150\n",
      "30162/30162 [==============================] - 2s 64us/step - loss: 0.3218 - accuracy: 0.8492\n",
      "Epoch 111/150\n",
      "30162/30162 [==============================] - 2s 64us/step - loss: 0.3217 - accuracy: 0.8491\n",
      "Epoch 112/150\n",
      "30162/30162 [==============================] - 2s 64us/step - loss: 0.3216 - accuracy: 0.8484\n",
      "Epoch 113/150\n",
      "30162/30162 [==============================] - 2s 67us/step - loss: 0.3218 - accuracy: 0.8506\n",
      "Epoch 114/150\n",
      "30162/30162 [==============================] - 2s 67us/step - loss: 0.3221 - accuracy: 0.8491\n",
      "Epoch 115/150\n",
      "30162/30162 [==============================] - 2s 64us/step - loss: 0.3212 - accuracy: 0.8496\n",
      "Epoch 116/150\n",
      "30162/30162 [==============================] - 2s 64us/step - loss: 0.3219 - accuracy: 0.8491\n",
      "Epoch 117/150\n",
      "30162/30162 [==============================] - 2s 64us/step - loss: 0.3221 - accuracy: 0.8508\n",
      "Epoch 118/150\n",
      "30162/30162 [==============================] - 2s 64us/step - loss: 0.3216 - accuracy: 0.8500\n",
      "Epoch 119/150\n",
      "30162/30162 [==============================] - 2s 64us/step - loss: 0.3222 - accuracy: 0.8499\n",
      "Epoch 120/150\n",
      "30162/30162 [==============================] - 2s 64us/step - loss: 0.3216 - accuracy: 0.8485\n",
      "Epoch 121/150\n",
      "30162/30162 [==============================] - 2s 65us/step - loss: 0.3212 - accuracy: 0.8506\n",
      "Epoch 122/150\n",
      "30162/30162 [==============================] - 2s 67us/step - loss: 0.3216 - accuracy: 0.8498\n",
      "Epoch 123/150\n",
      "30162/30162 [==============================] - 2s 65us/step - loss: 0.3215 - accuracy: 0.8494\n",
      "Epoch 124/150\n",
      "30162/30162 [==============================] - 2s 65us/step - loss: 0.3215 - accuracy: 0.8490\n",
      "Epoch 125/150\n",
      "30162/30162 [==============================] - 2s 64us/step - loss: 0.3214 - accuracy: 0.8497\n",
      "Epoch 126/150\n",
      "30162/30162 [==============================] - 2s 64us/step - loss: 0.3216 - accuracy: 0.8492\n",
      "Epoch 127/150\n",
      "30162/30162 [==============================] - 2s 64us/step - loss: 0.3211 - accuracy: 0.8502\n",
      "Epoch 128/150\n",
      "30162/30162 [==============================] - 2s 64us/step - loss: 0.3213 - accuracy: 0.8500\n",
      "Epoch 129/150\n",
      "30162/30162 [==============================] - 2s 64us/step - loss: 0.3207 - accuracy: 0.8495\n",
      "Epoch 130/150\n",
      "30162/30162 [==============================] - 2s 68us/step - loss: 0.3212 - accuracy: 0.8497\n",
      "Epoch 131/150\n",
      "30162/30162 [==============================] - 2s 64us/step - loss: 0.3214 - accuracy: 0.8493\n",
      "Epoch 132/150\n",
      "30162/30162 [==============================] - 2s 64us/step - loss: 0.3212 - accuracy: 0.8489\n",
      "Epoch 133/150\n",
      "30162/30162 [==============================] - 2s 64us/step - loss: 0.3212 - accuracy: 0.8499\n",
      "Epoch 134/150\n",
      "30162/30162 [==============================] - 2s 64us/step - loss: 0.3205 - accuracy: 0.8492\n",
      "Epoch 135/150\n",
      "30162/30162 [==============================] - 2s 65us/step - loss: 0.3209 - accuracy: 0.8502\n",
      "Epoch 136/150\n",
      "30162/30162 [==============================] - 2s 64us/step - loss: 0.3212 - accuracy: 0.8500\n",
      "Epoch 137/150\n",
      "30162/30162 [==============================] - 2s 65us/step - loss: 0.3212 - accuracy: 0.8500\n",
      "Epoch 138/150\n",
      "30162/30162 [==============================] - 2s 68us/step - loss: 0.3210 - accuracy: 0.8501\n",
      "Epoch 139/150\n",
      "30162/30162 [==============================] - 2s 65us/step - loss: 0.3211 - accuracy: 0.8494\n",
      "Epoch 140/150\n",
      "30162/30162 [==============================] - 2s 66us/step - loss: 0.3210 - accuracy: 0.8498\n",
      "Epoch 141/150\n",
      "30162/30162 [==============================] - 2s 65us/step - loss: 0.3211 - accuracy: 0.8494\n",
      "Epoch 142/150\n",
      "30162/30162 [==============================] - 2s 65us/step - loss: 0.3204 - accuracy: 0.8498\n",
      "Epoch 143/150\n",
      "30162/30162 [==============================] - 2s 64us/step - loss: 0.3206 - accuracy: 0.8487\n",
      "Epoch 144/150\n",
      "30162/30162 [==============================] - 2s 64us/step - loss: 0.3204 - accuracy: 0.8509\n",
      "Epoch 145/150\n",
      "30162/30162 [==============================] - 2s 64us/step - loss: 0.3205 - accuracy: 0.8504\n",
      "Epoch 146/150\n",
      "30162/30162 [==============================] - 2s 68us/step - loss: 0.3205 - accuracy: 0.8504\n",
      "Epoch 147/150\n",
      "30162/30162 [==============================] - 2s 67us/step - loss: 0.3208 - accuracy: 0.8506\n",
      "Epoch 148/150\n",
      "30162/30162 [==============================] - 2s 65us/step - loss: 0.3204 - accuracy: 0.8511\n",
      "Epoch 149/150\n",
      "30162/30162 [==============================] - 2s 65us/step - loss: 0.3206 - accuracy: 0.8491\n",
      "Epoch 150/150\n",
      "30162/30162 [==============================] - 2s 65us/step - loss: 0.3206 - accuracy: 0.8490\n"
     ]
    },
    {
     "data": {
      "text/plain": [
       "<keras.callbacks.callbacks.History at 0x14cccdb0e48>"
      ]
     },
     "execution_count": 31,
     "metadata": {},
     "output_type": "execute_result"
    }
   ],
   "source": [
    "model.fit(X, Y, epochs=150, batch_size=10)"
   ]
  },
  {
   "cell_type": "markdown",
   "metadata": {},
   "source": [
    "Evaluate Keras Model"
   ]
  },
  {
   "cell_type": "code",
   "execution_count": 37,
   "metadata": {},
   "outputs": [
    {
     "name": "stdout",
     "output_type": "stream",
     "text": [
      "30162/30162 [==============================] - 0s 9us/step\n",
      "Accuracy: 85.16 %\n",
      "Loss: 31.84 %\n"
     ]
    }
   ],
   "source": [
    "accuracy = model.evaluate(X, Y)\n",
    "print('Accuracy: %.2f' % (accuracy[1]*100),'%')\n",
    "print('Loss: %.2f' % (accuracy[0]*100),'%')"
   ]
  },
  {
   "cell_type": "markdown",
   "metadata": {},
   "source": [
    "Predictions"
   ]
  },
  {
   "cell_type": "code",
   "execution_count": 40,
   "metadata": {},
   "outputs": [],
   "source": [
    "predictions = model.predict(X)\n",
    "rounded = [round(x[0]) for x in predictions]"
   ]
  },
  {
   "cell_type": "code",
   "execution_count": 41,
   "metadata": {},
   "outputs": [],
   "source": [
    "predictions = model.predict_classes(X)"
   ]
  },
  {
   "cell_type": "code",
   "execution_count": 58,
   "metadata": {},
   "outputs": [
    {
     "name": "stdout",
     "output_type": "stream",
     "text": [
      "0 (expected 0)\n",
      "1 (expected 0)\n",
      "0 (expected 0)\n",
      "0 (expected 0)\n",
      "0 (expected 0)\n",
      "1 (expected 0)\n",
      "0 (expected 0)\n",
      "0 (expected 1)\n",
      "1 (expected 1)\n",
      "1 (expected 1)\n"
     ]
    }
   ],
   "source": [
    "for i in range(10):\n",
    "    print('%d (expected %d)' % (predictions[i], Y[i]))"
   ]
  },
  {
   "cell_type": "markdown",
   "metadata": {},
   "source": [
    "Plot the ANN"
   ]
  },
  {
   "cell_type": "code",
   "execution_count": 69,
   "metadata": {},
   "outputs": [],
   "source": [
    "ann_viz(model, title=\"Wealth Prediction\")"
   ]
  },
  {
   "cell_type": "markdown",
   "metadata": {},
   "source": [
    "Maybe improve with this\n",
    "<ul>\n",
    "https://github.com/GoogleCloudPlatform/cloudml-samples/blob/master/census/keras/trainer/model.py\n",
    "</ul>\n",
    "<ul>\n",
    "https://github.com/guillaume-chevalier/Predict-if-salary-is-over-50k-with-Keras/blob/master/.ipynb_checkpoints/Predict%20if%20salary%20is%20%3E50k-checkpoint.ipynb\n",
    "</ul>\n",
    "<ul>\n",
    "https://towardsdatascience.com/get-started-with-deep-learning-using-keras-a45ee421f3ef\n",
    "</ul>"
   ]
  },
  {
   "cell_type": "code",
   "execution_count": null,
   "metadata": {},
   "outputs": [],
   "source": []
  }
 ],
 "metadata": {
  "kernelspec": {
   "display_name": "Python 3",
   "language": "python",
   "name": "python3"
  },
  "language_info": {
   "codemirror_mode": {
    "name": "ipython",
    "version": 3
   },
   "file_extension": ".py",
   "mimetype": "text/x-python",
   "name": "python",
   "nbconvert_exporter": "python",
   "pygments_lexer": "ipython3",
   "version": "3.7.3"
  }
 },
 "nbformat": 4,
 "nbformat_minor": 2
}
