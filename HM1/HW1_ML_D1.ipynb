{
 "cells": [
  {
   "cell_type": "markdown",
   "metadata": {},
   "source": [
    "<img src=\"https://admissions.ntust.edu.tw/front_index/images/logo.png\" alt=\"drawing\" width=\"600\"/>\n",
    "<hr>\n",
    "<h1><center>MACHINE LEARNING : HOMEWORK 1</center></h1>\n",
    "<h1><center>Data 1 : Wealth prediction</center></h1>\n",
    "<h4>Hector LANDES - M10601810</h4>\n",
    "<h4>Machine Learning - CS5087701</h4>"
   ]
  },
  {
   "cell_type": "markdown",
   "metadata": {},
   "source": [
    "<hr>\n",
    "<div id=\"Import the libraries\">\n",
    "    <h2>Import the libraries</h2>\n",
    "</div>"
   ]
  },
  {
   "cell_type": "code",
   "execution_count": 87,
   "metadata": {},
   "outputs": [],
   "source": [
    "#!conda install -c conda-forge pydotplus -y\n",
    "#pip install graphviz\n",
    "#pip install pydotplus\n",
    "import pandas as pd\n",
    "import numpy as np\n",
    "from sklearn.tree import DecisionTreeClassifier\n",
    "from sklearn import preprocessing\n",
    "from sklearn.model_selection import train_test_split\n",
    "from sklearn import metrics\n",
    "import matplotlib.pyplot as plt\n",
    "import pydotplus as py\n",
    "from sklearn.externals.six import StringIO\n",
    "import matplotlib.image as mpimg\n",
    "from sklearn import tree\n",
    "from sklearn.model_selection import cross_val_score\n",
    "import graphviz\n",
    "from sklearn.metrics import confusion_matrix\n",
    "import os\n",
    "os.environ[\"PATH\"] += os.pathsep + r'C:\\Users\\Hector Landes\\graphviz-2.38\\release\\bin'\n",
    "%matplotlib inline "
   ]
  },
  {
   "cell_type": "markdown",
   "metadata": {},
   "source": [
    "<hr>\n",
    "<div id=\"Import the data\">\n",
    "    <h2>Import the data</h2>\n",
    "</div>"
   ]
  },
  {
   "cell_type": "code",
   "execution_count": 315,
   "metadata": {},
   "outputs": [],
   "source": [
    "data = pd.read_csv (r'C:\\Users\\Hector Landes\\Desktop\\Data Science Projects\\20191005 Homework_1_ML\\2. Prepared Data\\adult.csv', \n",
    "                    names=[\"age\", \"workclass\", \"fnlwgt\", \"education\", \"education-num\", \"marital-status\",\n",
    "                           \"occupation\", \"relationship\", \"race\", \"sex\", \"capital-gain\", \"capital-loss\", \"hours-per-week\", \"native-country\", \"wealth\"],\n",
    "                   index_col=False)"
   ]
  },
  {
   "cell_type": "markdown",
   "metadata": {},
   "source": [
    "<hr>\n",
    "<div id=\"Data checking\">\n",
    "    <h3>Data checking</h3>\n",
    "</div>"
   ]
  },
  {
   "cell_type": "code",
   "execution_count": 338,
   "metadata": {},
   "outputs": [
    {
     "name": "stdout",
     "output_type": "stream",
     "text": [
      "<class 'pandas.core.frame.DataFrame'>\n",
      "Int64Index: 30162 entries, 0 to 32560\n",
      "Data columns (total 15 columns):\n",
      "age               30162 non-null int64\n",
      "workclass         30162 non-null int8\n",
      "fnlwgt            30162 non-null int8\n",
      "education         30162 non-null int8\n",
      "education-num     30162 non-null int64\n",
      "marital-status    30162 non-null int8\n",
      "occupation        30162 non-null int8\n",
      "relationship      30162 non-null int8\n",
      "race              30162 non-null int8\n",
      "sex               30162 non-null int8\n",
      "capital-gain      30162 non-null int64\n",
      "capital-loss      30162 non-null int64\n",
      "hours-per-week    30162 non-null int64\n",
      "native-country    30162 non-null int8\n",
      "wealth            30162 non-null object\n",
      "dtypes: int64(5), int8(9), object(1)\n",
      "memory usage: 1.9+ MB\n"
     ]
    }
   ],
   "source": [
    "data.info()"
   ]
  },
  {
   "cell_type": "code",
   "execution_count": 317,
   "metadata": {},
   "outputs": [
    {
     "data": {
      "text/plain": [
       "32561"
      ]
     },
     "execution_count": 317,
     "metadata": {},
     "output_type": "execute_result"
    }
   ],
   "source": [
    "len(data)"
   ]
  },
  {
   "cell_type": "code",
   "execution_count": 318,
   "metadata": {},
   "outputs": [
    {
     "data": {
      "text/html": [
       "<div>\n",
       "<style scoped>\n",
       "    .dataframe tbody tr th:only-of-type {\n",
       "        vertical-align: middle;\n",
       "    }\n",
       "\n",
       "    .dataframe tbody tr th {\n",
       "        vertical-align: top;\n",
       "    }\n",
       "\n",
       "    .dataframe thead th {\n",
       "        text-align: right;\n",
       "    }\n",
       "</style>\n",
       "<table border=\"1\" class=\"dataframe\">\n",
       "  <thead>\n",
       "    <tr style=\"text-align: right;\">\n",
       "      <th></th>\n",
       "      <th>age</th>\n",
       "      <th>workclass</th>\n",
       "      <th>fnlwgt</th>\n",
       "      <th>education</th>\n",
       "      <th>education-num</th>\n",
       "      <th>marital-status</th>\n",
       "      <th>occupation</th>\n",
       "      <th>relationship</th>\n",
       "      <th>race</th>\n",
       "      <th>sex</th>\n",
       "      <th>capital-gain</th>\n",
       "      <th>capital-loss</th>\n",
       "      <th>hours-per-week</th>\n",
       "      <th>native-country</th>\n",
       "      <th>wealth</th>\n",
       "    </tr>\n",
       "  </thead>\n",
       "  <tbody>\n",
       "    <tr>\n",
       "      <th>0</th>\n",
       "      <td>39</td>\n",
       "      <td>State-gov</td>\n",
       "      <td>77516</td>\n",
       "      <td>Bachelors</td>\n",
       "      <td>13</td>\n",
       "      <td>Never-married</td>\n",
       "      <td>Adm-clerical</td>\n",
       "      <td>Not-in-family</td>\n",
       "      <td>White</td>\n",
       "      <td>Male</td>\n",
       "      <td>2174</td>\n",
       "      <td>0</td>\n",
       "      <td>40</td>\n",
       "      <td>United-States</td>\n",
       "      <td>&lt;=50K</td>\n",
       "    </tr>\n",
       "    <tr>\n",
       "      <th>1</th>\n",
       "      <td>50</td>\n",
       "      <td>Self-emp-not-inc</td>\n",
       "      <td>83311</td>\n",
       "      <td>Bachelors</td>\n",
       "      <td>13</td>\n",
       "      <td>Married-civ-spouse</td>\n",
       "      <td>Exec-managerial</td>\n",
       "      <td>Husband</td>\n",
       "      <td>White</td>\n",
       "      <td>Male</td>\n",
       "      <td>0</td>\n",
       "      <td>0</td>\n",
       "      <td>13</td>\n",
       "      <td>United-States</td>\n",
       "      <td>&lt;=50K</td>\n",
       "    </tr>\n",
       "    <tr>\n",
       "      <th>2</th>\n",
       "      <td>38</td>\n",
       "      <td>Private</td>\n",
       "      <td>215646</td>\n",
       "      <td>HS-grad</td>\n",
       "      <td>9</td>\n",
       "      <td>Divorced</td>\n",
       "      <td>Handlers-cleaners</td>\n",
       "      <td>Not-in-family</td>\n",
       "      <td>White</td>\n",
       "      <td>Male</td>\n",
       "      <td>0</td>\n",
       "      <td>0</td>\n",
       "      <td>40</td>\n",
       "      <td>United-States</td>\n",
       "      <td>&lt;=50K</td>\n",
       "    </tr>\n",
       "    <tr>\n",
       "      <th>3</th>\n",
       "      <td>53</td>\n",
       "      <td>Private</td>\n",
       "      <td>234721</td>\n",
       "      <td>11th</td>\n",
       "      <td>7</td>\n",
       "      <td>Married-civ-spouse</td>\n",
       "      <td>Handlers-cleaners</td>\n",
       "      <td>Husband</td>\n",
       "      <td>Black</td>\n",
       "      <td>Male</td>\n",
       "      <td>0</td>\n",
       "      <td>0</td>\n",
       "      <td>40</td>\n",
       "      <td>United-States</td>\n",
       "      <td>&lt;=50K</td>\n",
       "    </tr>\n",
       "    <tr>\n",
       "      <th>4</th>\n",
       "      <td>28</td>\n",
       "      <td>Private</td>\n",
       "      <td>338409</td>\n",
       "      <td>Bachelors</td>\n",
       "      <td>13</td>\n",
       "      <td>Married-civ-spouse</td>\n",
       "      <td>Prof-specialty</td>\n",
       "      <td>Wife</td>\n",
       "      <td>Black</td>\n",
       "      <td>Female</td>\n",
       "      <td>0</td>\n",
       "      <td>0</td>\n",
       "      <td>40</td>\n",
       "      <td>Cuba</td>\n",
       "      <td>&lt;=50K</td>\n",
       "    </tr>\n",
       "  </tbody>\n",
       "</table>\n",
       "</div>"
      ],
      "text/plain": [
       "   age          workclass  fnlwgt   education  education-num  \\\n",
       "0   39          State-gov   77516   Bachelors             13   \n",
       "1   50   Self-emp-not-inc   83311   Bachelors             13   \n",
       "2   38            Private  215646     HS-grad              9   \n",
       "3   53            Private  234721        11th              7   \n",
       "4   28            Private  338409   Bachelors             13   \n",
       "\n",
       "        marital-status          occupation    relationship    race      sex  \\\n",
       "0        Never-married        Adm-clerical   Not-in-family   White     Male   \n",
       "1   Married-civ-spouse     Exec-managerial         Husband   White     Male   \n",
       "2             Divorced   Handlers-cleaners   Not-in-family   White     Male   \n",
       "3   Married-civ-spouse   Handlers-cleaners         Husband   Black     Male   \n",
       "4   Married-civ-spouse      Prof-specialty            Wife   Black   Female   \n",
       "\n",
       "   capital-gain  capital-loss  hours-per-week  native-country  wealth  \n",
       "0          2174             0              40   United-States   <=50K  \n",
       "1             0             0              13   United-States   <=50K  \n",
       "2             0             0              40   United-States   <=50K  \n",
       "3             0             0              40   United-States   <=50K  \n",
       "4             0             0              40            Cuba   <=50K  "
      ]
     },
     "execution_count": 318,
     "metadata": {},
     "output_type": "execute_result"
    }
   ],
   "source": [
    "data.head()"
   ]
  },
  {
   "cell_type": "markdown",
   "metadata": {},
   "source": [
    "<hr>\n",
    "<div id=\"Data preprocessing\">\n",
    "    <h2>Data preprocessing</h2>\n",
    "</div>"
   ]
  },
  {
   "cell_type": "markdown",
   "metadata": {},
   "source": [
    "<h3>ID3</h3> (Iterative Dichotomiser 3) was developed in 1986 by Ross Quinlan. The algorithm creates a multiway tree, finding for each node (i.e. in a greedy manner) the categorical feature that will yield the largest information gain for categorical targets. Trees are grown to their maximum size and then a pruning step is usually applied to improve the ability of the tree to generalise to unseen data.\n",
    "\n",
    "<h3>C4.5</h3> is the successor to ID3 and removed the restriction that features must be categorical by dynamically defining a discrete attribute (based on numerical variables) that partitions the continuous attribute value into a discrete set of intervals. C4.5 converts the trained trees (i.e. the output of the ID3 algorithm) into sets of if-then rules. These accuracy of each rule is then evaluated to determine the order in which they should be applied. Pruning is done by removing a rule’s precondition if the accuracy of the rule improves without it.\n",
    "\n",
    "<h3>C5.0</h3> is Quinlan’s latest version release under a proprietary license. It uses less memory and builds smaller rulesets than C4.5 while being more accurate.\n",
    "\n",
    "<h3>CART</h3> (Classification and Regression Trees) is very similar to C4.5, but it differs in that it supports numerical target variables (regression) and does not compute rule sets. CART constructs binary trees using the feature and threshold that yield the largest information gain at each node.\n",
    "\n",
    "scikit-learn uses an optimised version of the CART algorithm; however, scikit-learn implementation does not support categorical variables for now."
   ]
  },
  {
   "cell_type": "markdown",
   "metadata": {},
   "source": [
    "<h3>Drop missing values rows</h3>"
   ]
  },
  {
   "cell_type": "code",
   "execution_count": 337,
   "metadata": {},
   "outputs": [
    {
     "data": {
      "text/plain": [
       "age               False\n",
       "workclass         False\n",
       "fnlwgt            False\n",
       "education         False\n",
       "education-num     False\n",
       "marital-status    False\n",
       "occupation        False\n",
       "relationship      False\n",
       "race              False\n",
       "sex               False\n",
       "capital-gain      False\n",
       "capital-loss      False\n",
       "hours-per-week    False\n",
       "native-country    False\n",
       "wealth            False\n",
       "dtype: bool"
      ]
     },
     "execution_count": 337,
     "metadata": {},
     "output_type": "execute_result"
    }
   ],
   "source": [
    "data.isin([' ?', '? ', '?', \"NaN\"]).any()"
   ]
  },
  {
   "cell_type": "code",
   "execution_count": 320,
   "metadata": {},
   "outputs": [],
   "source": [
    "data = data[(data.astype(str) != ' ?').all(axis=1)]"
   ]
  },
  {
   "cell_type": "code",
   "execution_count": 321,
   "metadata": {},
   "outputs": [
    {
     "data": {
      "text/plain": [
       "30162"
      ]
     },
     "execution_count": 321,
     "metadata": {},
     "output_type": "execute_result"
    }
   ],
   "source": [
    "len(data)"
   ]
  },
  {
   "cell_type": "markdown",
   "metadata": {},
   "source": [
    "Because, CART does not support categorical variables, I will create dummies for each categorical variables.\n",
    "Let's start with: \n",
    "<ul>\n",
    "<b> X </b> as the <b> Feature Matrix </b> \n",
    "</ul>"
   ]
  },
  {
   "cell_type": "code",
   "execution_count": 322,
   "metadata": {},
   "outputs": [],
   "source": [
    "data[[\"workclass\"]] = data[\"workclass\"].astype('category')\n",
    "data[\"workclass\"] = data[\"workclass\"].cat.codes\n",
    "\n",
    "data[[\"education\"]] = data[\"education\"].astype('category')\n",
    "data[\"education\"] = data[\"education\"].cat.codes\n",
    "\n",
    "data[[\"marital-status\"]] = data[\"marital-status\"].astype('category')\n",
    "data[\"marital-status\"] = data[\"marital-status\"].cat.codes\n",
    "\n",
    "data[[\"occupation\"]] = data[\"occupation\"].astype('category')\n",
    "data[\"occupation\"] = data[\"occupation\"].cat.codes\n",
    "\n",
    "data[[\"relationship\"]] = data[\"relationship\"].astype('category')\n",
    "data[\"relationship\"] = data[\"relationship\"].cat.codes\n",
    "\n",
    "data[[\"race\"]] = data[\"race\"].astype('category')\n",
    "data[\"race\"] = data[\"race\"].cat.codes\n",
    "\n",
    "data[[\"sex\"]] = data[\"sex\"].astype('category')\n",
    "data[\"sex\"] = data[\"sex\"].cat.codes\n",
    "\n",
    "data[[\"native-country\"]] = data[\"native-country\"].astype('category')\n",
    "data[\"native-country\"] = data[\"native-country\"].cat.codes\n",
    "\n",
    "bins = pd.cut(data['fnlwgt'], 20)\n",
    "bins = bins.cat.codes\n",
    "data[data.columns[2]] = bins"
   ]
  },
  {
   "cell_type": "code",
   "execution_count": 323,
   "metadata": {},
   "outputs": [
    {
     "data": {
      "text/html": [
       "<div>\n",
       "<style scoped>\n",
       "    .dataframe tbody tr th:only-of-type {\n",
       "        vertical-align: middle;\n",
       "    }\n",
       "\n",
       "    .dataframe tbody tr th {\n",
       "        vertical-align: top;\n",
       "    }\n",
       "\n",
       "    .dataframe thead th {\n",
       "        text-align: right;\n",
       "    }\n",
       "</style>\n",
       "<table border=\"1\" class=\"dataframe\">\n",
       "  <thead>\n",
       "    <tr style=\"text-align: right;\">\n",
       "      <th></th>\n",
       "      <th>age</th>\n",
       "      <th>workclass</th>\n",
       "      <th>fnlwgt</th>\n",
       "      <th>education</th>\n",
       "      <th>education-num</th>\n",
       "      <th>marital-status</th>\n",
       "      <th>occupation</th>\n",
       "      <th>relationship</th>\n",
       "      <th>race</th>\n",
       "      <th>sex</th>\n",
       "      <th>capital-gain</th>\n",
       "      <th>capital-loss</th>\n",
       "      <th>hours-per-week</th>\n",
       "      <th>native-country</th>\n",
       "      <th>wealth</th>\n",
       "    </tr>\n",
       "  </thead>\n",
       "  <tbody>\n",
       "    <tr>\n",
       "      <th>0</th>\n",
       "      <td>39</td>\n",
       "      <td>5</td>\n",
       "      <td>0</td>\n",
       "      <td>9</td>\n",
       "      <td>13</td>\n",
       "      <td>4</td>\n",
       "      <td>0</td>\n",
       "      <td>1</td>\n",
       "      <td>4</td>\n",
       "      <td>1</td>\n",
       "      <td>2174</td>\n",
       "      <td>0</td>\n",
       "      <td>40</td>\n",
       "      <td>38</td>\n",
       "      <td>&lt;=50K</td>\n",
       "    </tr>\n",
       "    <tr>\n",
       "      <th>1</th>\n",
       "      <td>50</td>\n",
       "      <td>4</td>\n",
       "      <td>0</td>\n",
       "      <td>9</td>\n",
       "      <td>13</td>\n",
       "      <td>2</td>\n",
       "      <td>3</td>\n",
       "      <td>0</td>\n",
       "      <td>4</td>\n",
       "      <td>1</td>\n",
       "      <td>0</td>\n",
       "      <td>0</td>\n",
       "      <td>13</td>\n",
       "      <td>38</td>\n",
       "      <td>&lt;=50K</td>\n",
       "    </tr>\n",
       "    <tr>\n",
       "      <th>2</th>\n",
       "      <td>38</td>\n",
       "      <td>2</td>\n",
       "      <td>2</td>\n",
       "      <td>11</td>\n",
       "      <td>9</td>\n",
       "      <td>0</td>\n",
       "      <td>5</td>\n",
       "      <td>1</td>\n",
       "      <td>4</td>\n",
       "      <td>1</td>\n",
       "      <td>0</td>\n",
       "      <td>0</td>\n",
       "      <td>40</td>\n",
       "      <td>38</td>\n",
       "      <td>&lt;=50K</td>\n",
       "    </tr>\n",
       "    <tr>\n",
       "      <th>3</th>\n",
       "      <td>53</td>\n",
       "      <td>2</td>\n",
       "      <td>3</td>\n",
       "      <td>1</td>\n",
       "      <td>7</td>\n",
       "      <td>2</td>\n",
       "      <td>5</td>\n",
       "      <td>0</td>\n",
       "      <td>2</td>\n",
       "      <td>1</td>\n",
       "      <td>0</td>\n",
       "      <td>0</td>\n",
       "      <td>40</td>\n",
       "      <td>38</td>\n",
       "      <td>&lt;=50K</td>\n",
       "    </tr>\n",
       "    <tr>\n",
       "      <th>4</th>\n",
       "      <td>28</td>\n",
       "      <td>2</td>\n",
       "      <td>4</td>\n",
       "      <td>9</td>\n",
       "      <td>13</td>\n",
       "      <td>2</td>\n",
       "      <td>9</td>\n",
       "      <td>5</td>\n",
       "      <td>2</td>\n",
       "      <td>0</td>\n",
       "      <td>0</td>\n",
       "      <td>0</td>\n",
       "      <td>40</td>\n",
       "      <td>4</td>\n",
       "      <td>&lt;=50K</td>\n",
       "    </tr>\n",
       "    <tr>\n",
       "      <th>5</th>\n",
       "      <td>37</td>\n",
       "      <td>2</td>\n",
       "      <td>3</td>\n",
       "      <td>12</td>\n",
       "      <td>14</td>\n",
       "      <td>2</td>\n",
       "      <td>3</td>\n",
       "      <td>5</td>\n",
       "      <td>4</td>\n",
       "      <td>0</td>\n",
       "      <td>0</td>\n",
       "      <td>0</td>\n",
       "      <td>40</td>\n",
       "      <td>38</td>\n",
       "      <td>&lt;=50K</td>\n",
       "    </tr>\n",
       "    <tr>\n",
       "      <th>6</th>\n",
       "      <td>49</td>\n",
       "      <td>2</td>\n",
       "      <td>1</td>\n",
       "      <td>6</td>\n",
       "      <td>5</td>\n",
       "      <td>3</td>\n",
       "      <td>7</td>\n",
       "      <td>1</td>\n",
       "      <td>2</td>\n",
       "      <td>0</td>\n",
       "      <td>0</td>\n",
       "      <td>0</td>\n",
       "      <td>16</td>\n",
       "      <td>22</td>\n",
       "      <td>&lt;=50K</td>\n",
       "    </tr>\n",
       "    <tr>\n",
       "      <th>7</th>\n",
       "      <td>52</td>\n",
       "      <td>4</td>\n",
       "      <td>2</td>\n",
       "      <td>11</td>\n",
       "      <td>9</td>\n",
       "      <td>2</td>\n",
       "      <td>3</td>\n",
       "      <td>0</td>\n",
       "      <td>4</td>\n",
       "      <td>1</td>\n",
       "      <td>0</td>\n",
       "      <td>0</td>\n",
       "      <td>45</td>\n",
       "      <td>38</td>\n",
       "      <td>&gt;50K</td>\n",
       "    </tr>\n",
       "    <tr>\n",
       "      <th>8</th>\n",
       "      <td>31</td>\n",
       "      <td>2</td>\n",
       "      <td>0</td>\n",
       "      <td>12</td>\n",
       "      <td>14</td>\n",
       "      <td>4</td>\n",
       "      <td>9</td>\n",
       "      <td>1</td>\n",
       "      <td>4</td>\n",
       "      <td>0</td>\n",
       "      <td>14084</td>\n",
       "      <td>0</td>\n",
       "      <td>50</td>\n",
       "      <td>38</td>\n",
       "      <td>&gt;50K</td>\n",
       "    </tr>\n",
       "    <tr>\n",
       "      <th>9</th>\n",
       "      <td>42</td>\n",
       "      <td>2</td>\n",
       "      <td>1</td>\n",
       "      <td>9</td>\n",
       "      <td>13</td>\n",
       "      <td>2</td>\n",
       "      <td>3</td>\n",
       "      <td>0</td>\n",
       "      <td>4</td>\n",
       "      <td>1</td>\n",
       "      <td>5178</td>\n",
       "      <td>0</td>\n",
       "      <td>40</td>\n",
       "      <td>38</td>\n",
       "      <td>&gt;50K</td>\n",
       "    </tr>\n",
       "  </tbody>\n",
       "</table>\n",
       "</div>"
      ],
      "text/plain": [
       "   age  workclass  fnlwgt  education  education-num  marital-status  \\\n",
       "0   39          5       0          9             13               4   \n",
       "1   50          4       0          9             13               2   \n",
       "2   38          2       2         11              9               0   \n",
       "3   53          2       3          1              7               2   \n",
       "4   28          2       4          9             13               2   \n",
       "5   37          2       3         12             14               2   \n",
       "6   49          2       1          6              5               3   \n",
       "7   52          4       2         11              9               2   \n",
       "8   31          2       0         12             14               4   \n",
       "9   42          2       1          9             13               2   \n",
       "\n",
       "   occupation  relationship  race  sex  capital-gain  capital-loss  \\\n",
       "0           0             1     4    1          2174             0   \n",
       "1           3             0     4    1             0             0   \n",
       "2           5             1     4    1             0             0   \n",
       "3           5             0     2    1             0             0   \n",
       "4           9             5     2    0             0             0   \n",
       "5           3             5     4    0             0             0   \n",
       "6           7             1     2    0             0             0   \n",
       "7           3             0     4    1             0             0   \n",
       "8           9             1     4    0         14084             0   \n",
       "9           3             0     4    1          5178             0   \n",
       "\n",
       "   hours-per-week  native-country  wealth  \n",
       "0              40              38   <=50K  \n",
       "1              13              38   <=50K  \n",
       "2              40              38   <=50K  \n",
       "3              40              38   <=50K  \n",
       "4              40               4   <=50K  \n",
       "5              40              38   <=50K  \n",
       "6              16              22   <=50K  \n",
       "7              45              38    >50K  \n",
       "8              50              38    >50K  \n",
       "9              40              38    >50K  "
      ]
     },
     "execution_count": 323,
     "metadata": {},
     "output_type": "execute_result"
    }
   ],
   "source": [
    "data.head(10)"
   ]
  },
  {
   "cell_type": "code",
   "execution_count": 324,
   "metadata": {},
   "outputs": [
    {
     "data": {
      "text/plain": [
       "array([[  39,    5,    0,    9,   13,    4,    0,    1,    4,    1, 2174,\n",
       "           0,   40,   38],\n",
       "       [  50,    4,    0,    9,   13,    2,    3,    0,    4,    1,    0,\n",
       "           0,   13,   38],\n",
       "       [  38,    2,    2,   11,    9,    0,    5,    1,    4,    1,    0,\n",
       "           0,   40,   38],\n",
       "       [  53,    2,    3,    1,    7,    2,    5,    0,    2,    1,    0,\n",
       "           0,   40,   38],\n",
       "       [  28,    2,    4,    9,   13,    2,    9,    5,    2,    0,    0,\n",
       "           0,   40,    4]], dtype=int64)"
      ]
     },
     "execution_count": 324,
     "metadata": {},
     "output_type": "execute_result"
    }
   ],
   "source": [
    "X = data[data.columns[:14]].values\n",
    "X[0:5]"
   ]
  },
  {
   "cell_type": "code",
   "execution_count": 325,
   "metadata": {},
   "outputs": [],
   "source": [
    "X = data[data.columns[:14]]"
   ]
  },
  {
   "cell_type": "markdown",
   "metadata": {},
   "source": [
    "<ul>\n",
    "    <li> <b> Y </b> as the <b> Target Value </b> </li>\n",
    "</ul>"
   ]
  },
  {
   "cell_type": "code",
   "execution_count": 326,
   "metadata": {},
   "outputs": [
    {
     "data": {
      "text/plain": [
       "0     <=50K\n",
       "1     <=50K\n",
       "2     <=50K\n",
       "3     <=50K\n",
       "4     <=50K\n",
       "Name: wealth, dtype: object"
      ]
     },
     "execution_count": 326,
     "metadata": {},
     "output_type": "execute_result"
    }
   ],
   "source": [
    "Y = data[\"wealth\"]\n",
    "Y[0:5]"
   ]
  },
  {
   "cell_type": "markdown",
   "metadata": {},
   "source": [
    "Now we will split the data in training and testing data"
   ]
  },
  {
   "cell_type": "code",
   "execution_count": 327,
   "metadata": {},
   "outputs": [],
   "source": [
    "X_trainset, X_testset, Y_trainset, Y_testset = train_test_split(X, Y, test_size=0.3, random_state=3)"
   ]
  },
  {
   "cell_type": "code",
   "execution_count": 328,
   "metadata": {},
   "outputs": [
    {
     "name": "stdout",
     "output_type": "stream",
     "text": [
      "Feature matrix ->   Training: (21113, 14)    Testing: (9049, 14)\n",
      "Target value   ->   Training: (21113,)       Testing: (9049,)\n"
     ]
    }
   ],
   "source": [
    "print('Feature matrix ->   Training:',X_trainset.shape,'   Testing:',X_testset.shape)\n",
    "print('Target value   ->   Training:',Y_trainset.shape,'      Testing:',Y_testset.shape)"
   ]
  },
  {
   "cell_type": "markdown",
   "metadata": {},
   "source": [
    "<hr>\n",
    "<div id=\"modeling\">\n",
    "    <h2>Modeling</h2>\n",
    "    We will first create an instance of the <b>DecisionTreeClassifier</b> called <b>richTree</b>.<br>\n",
    "    Inside of the classifier, specify <i> criterion=\"entropy\" </i> so we can see the information gain of each node.\n",
    "</div>"
   ]
  },
  {
   "cell_type": "code",
   "execution_count": 329,
   "metadata": {},
   "outputs": [
    {
     "data": {
      "text/plain": [
       "DecisionTreeClassifier(class_weight=None, criterion='entropy', max_depth=4,\n",
       "            max_features=None, max_leaf_nodes=None,\n",
       "            min_impurity_decrease=0.0, min_impurity_split=None,\n",
       "            min_samples_leaf=100, min_samples_split=2,\n",
       "            min_weight_fraction_leaf=0.0, presort=False, random_state=None,\n",
       "            splitter='best')"
      ]
     },
     "execution_count": 329,
     "metadata": {},
     "output_type": "execute_result"
    }
   ],
   "source": [
    "richTree = DecisionTreeClassifier(criterion=\"entropy\", max_depth = 4, min_samples_leaf = 100)\n",
    "richTree # it shows the default parameters"
   ]
  },
  {
   "cell_type": "markdown",
   "metadata": {},
   "source": [
    "Next, we will fit the data with the training feature matrix <b> X_trainset </b> and training  response vector <b> Y_trainset </b>"
   ]
  },
  {
   "cell_type": "code",
   "execution_count": 330,
   "metadata": {},
   "outputs": [
    {
     "data": {
      "text/plain": [
       "DecisionTreeClassifier(class_weight=None, criterion='entropy', max_depth=4,\n",
       "            max_features=None, max_leaf_nodes=None,\n",
       "            min_impurity_decrease=0.0, min_impurity_split=None,\n",
       "            min_samples_leaf=100, min_samples_split=2,\n",
       "            min_weight_fraction_leaf=0.0, presort=False, random_state=None,\n",
       "            splitter='best')"
      ]
     },
     "execution_count": 330,
     "metadata": {},
     "output_type": "execute_result"
    }
   ],
   "source": [
    "richTree.fit(X_trainset,Y_trainset)"
   ]
  },
  {
   "cell_type": "markdown",
   "metadata": {},
   "source": [
    "<hr>\n",
    "\n",
    "<div id=\"prediction\">\n",
    "    <h2>Prediction</h2>\n",
    "    Let's make some <b>predictions</b> on the testing dataset and store it into a variable called <b>predTree</b>.\n",
    "</div>"
   ]
  },
  {
   "cell_type": "code",
   "execution_count": 331,
   "metadata": {},
   "outputs": [],
   "source": [
    "predTree = richTree.predict(X_testset)"
   ]
  },
  {
   "cell_type": "code",
   "execution_count": 332,
   "metadata": {},
   "outputs": [
    {
     "name": "stdout",
     "output_type": "stream",
     "text": [
      "[' <=50K' ' <=50K' ' <=50K' ' <=50K' ' <=50K']\n",
      "10872     <=50K\n",
      "10984     <=50K\n",
      "3475       >50K\n",
      "10871     <=50K\n",
      "32048     <=50K\n",
      "Name: wealth, dtype: object\n"
     ]
    }
   ],
   "source": [
    "print (predTree [0:5])\n",
    "print (Y_testset [0:5])"
   ]
  },
  {
   "cell_type": "markdown",
   "metadata": {},
   "source": [
    "<hr>\n",
    "\n",
    "<div id=\"evaluation\">\n",
    "    <h2>Evaluation</h2>\n",
    "</div>"
   ]
  },
  {
   "cell_type": "code",
   "execution_count": 333,
   "metadata": {},
   "outputs": [
    {
     "name": "stdout",
     "output_type": "stream",
     "text": [
      "DecisionTrees's Accuracy:  0.8403138468339043\n"
     ]
    }
   ],
   "source": [
    "print(\"DecisionTrees's Accuracy: \", metrics.accuracy_score(Y_testset, predTree))"
   ]
  },
  {
   "cell_type": "markdown",
   "metadata": {},
   "source": [
    "<h3>Cross-validation for different tree depth</h3>"
   ]
  },
  {
   "cell_type": "code",
   "execution_count": 310,
   "metadata": {},
   "outputs": [
    {
     "name": "stdout",
     "output_type": "stream",
     "text": [
      "Max depth: 1, Accuracy: 0.75356 (+/- 0.00017)\n",
      "Max depth: 2, Accuracy: 0.81580 (+/- 0.02273)\n",
      "Max depth: 3, Accuracy: 0.83451 (+/- 0.00859)\n",
      "Max depth: 4, Accuracy: 0.84015 (+/- 0.00692)\n",
      "Max depth: 5, Accuracy: 0.84190 (+/- 0.00808)\n",
      "Max depth: 6, Accuracy: 0.84555 (+/- 0.00697)\n",
      "Max depth: 7, Accuracy: 0.84801 (+/- 0.00624)\n",
      "Max depth: 8, Accuracy: 0.84616 (+/- 0.00733)\n",
      "Max depth: 9, Accuracy: 0.84734 (+/- 0.00798)\n",
      "Max depth: 10, Accuracy: 0.84521 (+/- 0.00757)\n",
      "Max depth: 11, Accuracy: 0.84408 (+/- 0.01228)\n",
      "Max depth: 12, Accuracy: 0.84152 (+/- 0.01352)\n",
      "Max depth: 13, Accuracy: 0.84109 (+/- 0.00946)\n",
      "Max depth: 14, Accuracy: 0.84100 (+/- 0.00840)\n",
      "Max depth: 15, Accuracy: 0.83669 (+/- 0.00876)\n",
      "Max depth: 16, Accuracy: 0.83446 (+/- 0.01010)\n",
      "Max depth: 17, Accuracy: 0.83276 (+/- 0.01248)\n",
      "Max depth: 18, Accuracy: 0.82982 (+/- 0.01135)\n",
      "Max depth: 19, Accuracy: 0.82712 (+/- 0.00999)\n"
     ]
    }
   ],
   "source": [
    "for max_depth in range(1, 20):\n",
    "    richTree = tree.DecisionTreeClassifier(criterion='entropy', max_depth=max_depth)\n",
    "    scores = cross_val_score(richTree, X_trainset, Y_trainset, cv=5)\n",
    "    print(\"Max depth: %d, Accuracy: %0.5f (+/- %0.5f)\" % (max_depth, scores.mean(), scores.std()*2))"
   ]
  },
  {
   "cell_type": "markdown",
   "metadata": {},
   "source": [
    "<h3>Cross-validation for different train data quantity</h3>"
   ]
  },
  {
   "cell_type": "code",
   "execution_count": 311,
   "metadata": {},
   "outputs": [
    {
     "name": "stdout",
     "output_type": "stream",
     "text": [
      "Test size: 0 percents, Accuracy: 0.83151 (+/- 0.00689)\n",
      "Test size: 5 percents, Accuracy: 0.82878 (+/- 0.00597)\n",
      "Test size: 10 percents, Accuracy: 0.82888 (+/- 0.00853)\n",
      "Test size: 15 percents, Accuracy: 0.83067 (+/- 0.00701)\n",
      "Test size: 20 percents, Accuracy: 0.82846 (+/- 0.01437)\n",
      "Test size: 25 percents, Accuracy: 0.82392 (+/- 0.01268)\n",
      "Test size: 30 percents, Accuracy: 0.82693 (+/- 0.00766)\n",
      "Test size: 35 percents, Accuracy: 0.82209 (+/- 0.00888)\n",
      "Test size: 40 percents, Accuracy: 0.82108 (+/- 0.00619)\n",
      "Test size: 45 percents, Accuracy: 0.82332 (+/- 0.01949)\n",
      "Test size: 50 percents, Accuracy: 0.81851 (+/- 0.01609)\n",
      "Test size: 55 percents, Accuracy: 0.81432 (+/- 0.01254)\n",
      "Test size: 60 percents, Accuracy: 0.81242 (+/- 0.01168)\n",
      "Test size: 65 percents, Accuracy: 0.81319 (+/- 0.00853)\n",
      "Test size: 70 percents, Accuracy: 0.81454 (+/- 0.01392)\n",
      "Test size: 75 percents, Accuracy: 0.80849 (+/- 0.01683)\n",
      "Test size: 80 percents, Accuracy: 0.80504 (+/- 0.01564)\n",
      "Test size: 85 percents, Accuracy: 0.81366 (+/- 0.01132)\n",
      "Test size: 90 percents, Accuracy: 0.79808 (+/- 0.03552)\n",
      "Test size: 95 percents, Accuracy: 0.81962 (+/- 0.04453)\n"
     ]
    }
   ],
   "source": [
    "for test_size in np.arange(0, 1, 0.05):\n",
    "    X_trainset, X_testset, Y_trainset, Y_testset = train_test_split(X, Y, test_size=test_size, random_state=3)\n",
    "    t = tree.DecisionTreeClassifier(criterion='entropy', max_depth=max_depth)\n",
    "    scores = cross_val_score(richTree, X_trainset, Y_trainset, cv=5)\n",
    "    print(\"Test size: %d percents, Accuracy: %0.5f (+/- %0.5f)\" % (test_size*100, scores.mean(), scores.std()*2))"
   ]
  },
  {
   "cell_type": "markdown",
   "metadata": {},
   "source": [
    "<h3>Confusion Matrix</h3>"
   ]
  },
  {
   "cell_type": "code",
   "execution_count": 334,
   "metadata": {},
   "outputs": [],
   "source": [
    "from sklearn.metrics import classification_report, confusion_matrix\n",
    "import itertools\n",
    "def plot_confusion_matrix(cm, classes,\n",
    "                          normalize=True,\n",
    "                          title='Confusion matrix',\n",
    "                          cmap=plt.cm.Blues):\n",
    "    if normalize:\n",
    "        cm = cm.astype('float') / cm.sum(axis=1)[:, np.newaxis]\n",
    "        print(\"Normalized confusion matrix\")\n",
    "    else:\n",
    "        print('Confusion matrix, without normalization')\n",
    "\n",
    "    print(cm)\n",
    "\n",
    "    plt.imshow(cm, interpolation='nearest', cmap=cmap)\n",
    "    plt.title(title)\n",
    "    plt.colorbar()\n",
    "    tick_marks = np.arange(len(classes))\n",
    "    plt.xticks(tick_marks, classes, rotation=45)\n",
    "    plt.yticks(tick_marks, classes)\n",
    "\n",
    "    fmt = '.2f' if normalize else 'd'\n",
    "    thresh = cm.max() / 2.\n",
    "    for i, j in itertools.product(range(cm.shape[0]), range(cm.shape[1])):\n",
    "        plt.text(j, i, format(cm[i, j], fmt),\n",
    "                 horizontalalignment=\"center\",\n",
    "                 color=\"white\" if cm[i, j] > thresh else \"black\")\n",
    "\n",
    "    plt.tight_layout()\n",
    "    plt.ylabel('True label')\n",
    "    plt.xlabel('Predicted label')"
   ]
  },
  {
   "cell_type": "code",
   "execution_count": 335,
   "metadata": {},
   "outputs": [
    {
     "name": "stdout",
     "output_type": "stream",
     "text": [
      "Normalized confusion matrix\n",
      "[[0.95 0.05]\n",
      " [0.47 0.53]]\n"
     ]
    },
    {
     "data": {
      "image/png": "[encoded data removed]",
      "text/plain": [
       "<Figure size 432x288 with 2 Axes>"
      ]
     },
     "metadata": {
      "needs_background": "light"
     },
     "output_type": "display_data"
    }
   ],
   "source": [
    "cnf_matrix = confusion_matrix(Y_testset, predTree)\n",
    "np.set_printoptions(precision=2)\n",
    "plt.figure()\n",
    "plot_confusion_matrix(cnf_matrix, classes=['churn=1','churn=0'],normalize= True,  title='Confusion matrix')"
   ]
  },
  {
   "cell_type": "markdown",
   "metadata": {},
   "source": [
    "<hr>\n",
    "\n",
    "<div id=\"visualization\">\n",
    "    <h2>Visualization</h2>\n",
    "    Lets visualize the tree\n",
    "</div>"
   ]
  },
  {
   "cell_type": "code",
   "execution_count": 339,
   "metadata": {},
   "outputs": [
    {
     "data": {
      "image/svg+xml": [
       "<?xml version=\"1.0\" encoding=\"UTF-8\" standalone=\"no\"?>\r\n",
       "<!DOCTYPE svg PUBLIC \"-//W3C//DTD SVG 1.1//EN\"\r\n",
       " \"http://www.w3.org/Graphics/SVG/1.1/DTD/svg11.dtd\">\r\n",
       "<!-- Generated by graphviz version 2.38.0 (20140413.2041)\r\n",
       " -->\r\n",
       "<!-- Title: Tree Pages: 1 -->\r\n",
       "<svg width=\"1842pt\" height=\"477pt\"\r\n",
       " viewBox=\"0.00 0.00 1841.50 477.00\" xmlns=\"http://www.w3.org/2000/svg\" xmlns:xlink=\"http://www.w3.org/1999/xlink\">\r\n",
       "<g id=\"graph0\" class=\"graph\" transform=\"scale(1 1) rotate(0) translate(4 473)\">\r\n",
       "<title>Tree</title>\r\n",
       "<polygon fill=\"white\" stroke=\"none\" points=\"-4,4 -4,-473 1837.5,-473 1837.5,4 -4,4\"/>\r\n",
       "<!-- 0 -->\r\n",
       "<g id=\"node1\" class=\"node\"><title>0</title>\r\n",
       "<path fill=\"#e58139\" fill-opacity=\"0.674510\" stroke=\"black\" d=\"M1186.5,-469C1186.5,-469 1055.5,-469 1055.5,-469 1049.5,-469 1043.5,-463 1043.5,-457 1043.5,-457 1043.5,-413 1043.5,-413 1043.5,-407 1049.5,-401 1055.5,-401 1055.5,-401 1186.5,-401 1186.5,-401 1192.5,-401 1198.5,-407 1198.5,-413 1198.5,-413 1198.5,-457 1198.5,-457 1198.5,-463 1192.5,-469 1186.5,-469\"/>\r\n",
       "<text text-anchor=\"middle\" x=\"1121\" y=\"-453.8\" font-family=\"Helvetica,sans-Serif\" font-size=\"14.00\">relationship &lt;= 0.5</text>\r\n",
       "<text text-anchor=\"middle\" x=\"1121\" y=\"-438.8\" font-family=\"Helvetica,sans-Serif\" font-size=\"14.00\">samples = 21113</text>\r\n",
       "<text text-anchor=\"middle\" x=\"1121\" y=\"-423.8\" font-family=\"Helvetica,sans-Serif\" font-size=\"14.00\">value = [15910, 5203]</text>\r\n",
       "<text text-anchor=\"middle\" x=\"1121\" y=\"-408.8\" font-family=\"Helvetica,sans-Serif\" font-size=\"14.00\">class = &lt;=50K</text>\r\n",
       "</g>\r\n",
       "<!-- 1 -->\r\n",
       "<g id=\"node2\" class=\"node\"><title>1</title>\r\n",
       "<path fill=\"#e58139\" fill-opacity=\"0.180392\" stroke=\"black\" d=\"M912,-365C912,-365 774,-365 774,-365 768,-365 762,-359 762,-353 762,-353 762,-309 762,-309 762,-303 768,-297 774,-297 774,-297 912,-297 912,-297 918,-297 924,-303 924,-309 924,-309 924,-353 924,-353 924,-359 918,-365 912,-365\"/>\r\n",
       "<text text-anchor=\"middle\" x=\"843\" y=\"-349.8\" font-family=\"Helvetica,sans-Serif\" font-size=\"14.00\">education&#45;num &lt;= 12.5</text>\r\n",
       "<text text-anchor=\"middle\" x=\"843\" y=\"-334.8\" font-family=\"Helvetica,sans-Serif\" font-size=\"14.00\">samples = 8698</text>\r\n",
       "<text text-anchor=\"middle\" x=\"843\" y=\"-319.8\" font-family=\"Helvetica,sans-Serif\" font-size=\"14.00\">value = [4784, 3914]</text>\r\n",
       "<text text-anchor=\"middle\" x=\"843\" y=\"-304.8\" font-family=\"Helvetica,sans-Serif\" font-size=\"14.00\">class = &lt;=50K</text>\r\n",
       "</g>\r\n",
       "<!-- 0&#45;&gt;1 -->\r\n",
       "<g id=\"edge1\" class=\"edge\"><title>0&#45;&gt;1</title>\r\n",
       "<path fill=\"none\" stroke=\"black\" d=\"M1043.19,-405.452C1009.28,-393.007 969.286,-378.335 934.001,-365.389\"/>\r\n",
       "<polygon fill=\"black\" stroke=\"black\" points=\"934.776,-361.945 924.182,-361.786 932.364,-368.517 934.776,-361.945\"/>\r\n",
       "<text text-anchor=\"middle\" x=\"934.689\" y=\"-380.771\" font-family=\"Helvetica,sans-Serif\" font-size=\"14.00\">True</text>\r\n",
       "</g>\r\n",
       "<!-- 16 -->\r\n",
       "<g id=\"node17\" class=\"node\"><title>16</title>\r\n",
       "<path fill=\"#e58139\" fill-opacity=\"0.882353\" stroke=\"black\" d=\"M1457.5,-365C1457.5,-365 1324.5,-365 1324.5,-365 1318.5,-365 1312.5,-359 1312.5,-353 1312.5,-353 1312.5,-309 1312.5,-309 1312.5,-303 1318.5,-297 1324.5,-297 1324.5,-297 1457.5,-297 1457.5,-297 1463.5,-297 1469.5,-303 1469.5,-309 1469.5,-309 1469.5,-353 1469.5,-353 1469.5,-359 1463.5,-365 1457.5,-365\"/>\r\n",
       "<text text-anchor=\"middle\" x=\"1391\" y=\"-349.8\" font-family=\"Helvetica,sans-Serif\" font-size=\"14.00\">capital&#45;gain &lt;= 7073.5</text>\r\n",
       "<text text-anchor=\"middle\" x=\"1391\" y=\"-334.8\" font-family=\"Helvetica,sans-Serif\" font-size=\"14.00\">samples = 12415</text>\r\n",
       "<text text-anchor=\"middle\" x=\"1391\" y=\"-319.8\" font-family=\"Helvetica,sans-Serif\" font-size=\"14.00\">value = [11126, 1289]</text>\r\n",
       "<text text-anchor=\"middle\" x=\"1391\" y=\"-304.8\" font-family=\"Helvetica,sans-Serif\" font-size=\"14.00\">class = &lt;=50K</text>\r\n",
       "</g>\r\n",
       "<!-- 0&#45;&gt;16 -->\r\n",
       "<g id=\"edge16\" class=\"edge\"><title>0&#45;&gt;16</title>\r\n",
       "<path fill=\"none\" stroke=\"black\" d=\"M1198.73,-404.634C1231.34,-392.315 1269.42,-377.929 1303.05,-365.224\"/>\r\n",
       "<polygon fill=\"black\" stroke=\"black\" points=\"1304.29,-368.497 1312.41,-361.689 1301.82,-361.949 1304.29,-368.497\"/>\r\n",
       "<text text-anchor=\"middle\" x=\"1302.12\" y=\"-380.773\" font-family=\"Helvetica,sans-Serif\" font-size=\"14.00\">False</text>\r\n",
       "</g>\r\n",
       "<!-- 2 -->\r\n",
       "<g id=\"node3\" class=\"node\"><title>2</title>\r\n",
       "<path fill=\"#e58139\" fill-opacity=\"0.501961\" stroke=\"black\" d=\"M494.5,-261C494.5,-261 361.5,-261 361.5,-261 355.5,-261 349.5,-255 349.5,-249 349.5,-249 349.5,-205 349.5,-205 349.5,-199 355.5,-193 361.5,-193 361.5,-193 494.5,-193 494.5,-193 500.5,-193 506.5,-199 506.5,-205 506.5,-205 506.5,-249 506.5,-249 506.5,-255 500.5,-261 494.5,-261\"/>\r\n",
       "<text text-anchor=\"middle\" x=\"428\" y=\"-245.8\" font-family=\"Helvetica,sans-Serif\" font-size=\"14.00\">capital&#45;gain &lt;= 5095.5</text>\r\n",
       "<text text-anchor=\"middle\" x=\"428\" y=\"-230.8\" font-family=\"Helvetica,sans-Serif\" font-size=\"14.00\">samples = 6108</text>\r\n",
       "<text text-anchor=\"middle\" x=\"428\" y=\"-215.8\" font-family=\"Helvetica,sans-Serif\" font-size=\"14.00\">value = [4081, 2027]</text>\r\n",
       "<text text-anchor=\"middle\" x=\"428\" y=\"-200.8\" font-family=\"Helvetica,sans-Serif\" font-size=\"14.00\">class = &lt;=50K</text>\r\n",
       "</g>\r\n",
       "<!-- 1&#45;&gt;2 -->\r\n",
       "<g id=\"edge2\" class=\"edge\"><title>1&#45;&gt;2</title>\r\n",
       "<path fill=\"none\" stroke=\"black\" d=\"M761.999,-310.091C691.484,-292.76 589.451,-267.682 516.744,-249.812\"/>\r\n",
       "<polygon fill=\"black\" stroke=\"black\" points=\"517.232,-246.328 506.686,-247.34 515.561,-253.125 517.232,-246.328\"/>\r\n",
       "</g>\r\n",
       "<!-- 9 -->\r\n",
       "<g id=\"node10\" class=\"node\"><title>9</title>\r\n",
       "<path fill=\"#399de5\" fill-opacity=\"0.627451\" stroke=\"black\" d=\"M909.5,-261C909.5,-261 776.5,-261 776.5,-261 770.5,-261 764.5,-255 764.5,-249 764.5,-249 764.5,-205 764.5,-205 764.5,-199 770.5,-193 776.5,-193 776.5,-193 909.5,-193 909.5,-193 915.5,-193 921.5,-199 921.5,-205 921.5,-205 921.5,-249 921.5,-249 921.5,-255 915.5,-261 909.5,-261\"/>\r\n",
       "<text text-anchor=\"middle\" x=\"843\" y=\"-245.8\" font-family=\"Helvetica,sans-Serif\" font-size=\"14.00\">capital&#45;gain &lt;= 5095.5</text>\r\n",
       "<text text-anchor=\"middle\" x=\"843\" y=\"-230.8\" font-family=\"Helvetica,sans-Serif\" font-size=\"14.00\">samples = 2590</text>\r\n",
       "<text text-anchor=\"middle\" x=\"843\" y=\"-215.8\" font-family=\"Helvetica,sans-Serif\" font-size=\"14.00\">value = [703, 1887]</text>\r\n",
       "<text text-anchor=\"middle\" x=\"843\" y=\"-200.8\" font-family=\"Helvetica,sans-Serif\" font-size=\"14.00\">class = &gt;50K</text>\r\n",
       "</g>\r\n",
       "<!-- 1&#45;&gt;9 -->\r\n",
       "<g id=\"edge9\" class=\"edge\"><title>1&#45;&gt;9</title>\r\n",
       "<path fill=\"none\" stroke=\"black\" d=\"M843,-296.884C843,-288.778 843,-279.982 843,-271.472\"/>\r\n",
       "<polygon fill=\"black\" stroke=\"black\" points=\"846.5,-271.299 843,-261.299 839.5,-271.299 846.5,-271.299\"/>\r\n",
       "</g>\r\n",
       "<!-- 3 -->\r\n",
       "<g id=\"node4\" class=\"node\"><title>3</title>\r\n",
       "<path fill=\"#e58139\" fill-opacity=\"0.576471\" stroke=\"black\" d=\"M278,-157C278,-157 148,-157 148,-157 142,-157 136,-151 136,-145 136,-145 136,-101 136,-101 136,-95 142,-89 148,-89 148,-89 278,-89 278,-89 284,-89 290,-95 290,-101 290,-101 290,-145 290,-145 290,-151 284,-157 278,-157\"/>\r\n",
       "<text text-anchor=\"middle\" x=\"213\" y=\"-141.8\" font-family=\"Helvetica,sans-Serif\" font-size=\"14.00\">education&#45;num &lt;= 8.5</text>\r\n",
       "<text text-anchor=\"middle\" x=\"213\" y=\"-126.8\" font-family=\"Helvetica,sans-Serif\" font-size=\"14.00\">samples = 5808</text>\r\n",
       "<text text-anchor=\"middle\" x=\"213\" y=\"-111.8\" font-family=\"Helvetica,sans-Serif\" font-size=\"14.00\">value = [4077, 1731]</text>\r\n",
       "<text text-anchor=\"middle\" x=\"213\" y=\"-96.8\" font-family=\"Helvetica,sans-Serif\" font-size=\"14.00\">class = &lt;=50K</text>\r\n",
       "</g>\r\n",
       "<!-- 2&#45;&gt;3 -->\r\n",
       "<g id=\"edge3\" class=\"edge\"><title>2&#45;&gt;3</title>\r\n",
       "<path fill=\"none\" stroke=\"black\" d=\"M358.196,-192.884C337.06,-182.856 313.698,-171.773 292.005,-161.482\"/>\r\n",
       "<polygon fill=\"black\" stroke=\"black\" points=\"293.357,-158.249 282.822,-157.125 290.356,-164.573 293.357,-158.249\"/>\r\n",
       "</g>\r\n",
       "<!-- 6 -->\r\n",
       "<g id=\"node7\" class=\"node\"><title>6</title>\r\n",
       "<path fill=\"#399de5\" fill-opacity=\"0.988235\" stroke=\"black\" d=\"M472.5,-157C472.5,-157 383.5,-157 383.5,-157 377.5,-157 371.5,-151 371.5,-145 371.5,-145 371.5,-101 371.5,-101 371.5,-95 377.5,-89 383.5,-89 383.5,-89 472.5,-89 472.5,-89 478.5,-89 484.5,-95 484.5,-101 484.5,-101 484.5,-145 484.5,-145 484.5,-151 478.5,-157 472.5,-157\"/>\r\n",
       "<text text-anchor=\"middle\" x=\"428\" y=\"-141.8\" font-family=\"Helvetica,sans-Serif\" font-size=\"14.00\">age &lt;= 51.5</text>\r\n",
       "<text text-anchor=\"middle\" x=\"428\" y=\"-126.8\" font-family=\"Helvetica,sans-Serif\" font-size=\"14.00\">samples = 300</text>\r\n",
       "<text text-anchor=\"middle\" x=\"428\" y=\"-111.8\" font-family=\"Helvetica,sans-Serif\" font-size=\"14.00\">value = [4, 296]</text>\r\n",
       "<text text-anchor=\"middle\" x=\"428\" y=\"-96.8\" font-family=\"Helvetica,sans-Serif\" font-size=\"14.00\">class = &gt;50K</text>\r\n",
       "</g>\r\n",
       "<!-- 2&#45;&gt;6 -->\r\n",
       "<g id=\"edge6\" class=\"edge\"><title>2&#45;&gt;6</title>\r\n",
       "<path fill=\"none\" stroke=\"black\" d=\"M428,-192.884C428,-184.778 428,-175.982 428,-167.472\"/>\r\n",
       "<polygon fill=\"black\" stroke=\"black\" points=\"431.5,-167.299 428,-157.299 424.5,-167.299 431.5,-167.299\"/>\r\n",
       "</g>\r\n",
       "<!-- 4 -->\r\n",
       "<g id=\"node5\" class=\"node\"><title>4</title>\r\n",
       "<path fill=\"#e58139\" fill-opacity=\"0.890196\" stroke=\"black\" d=\"M110,-53C110,-53 12,-53 12,-53 6,-53 7.10543e-015,-47 7.10543e-015,-41 7.10543e-015,-41 7.10543e-015,-12 7.10543e-015,-12 7.10543e-015,-6 6,-0 12,-0 12,-0 110,-0 110,-0 116,-0 122,-6 122,-12 122,-12 122,-41 122,-41 122,-47 116,-53 110,-53\"/>\r\n",
       "<text text-anchor=\"middle\" x=\"61\" y=\"-37.8\" font-family=\"Helvetica,sans-Serif\" font-size=\"14.00\">samples = 922</text>\r\n",
       "<text text-anchor=\"middle\" x=\"61\" y=\"-22.8\" font-family=\"Helvetica,sans-Serif\" font-size=\"14.00\">value = [830, 92]</text>\r\n",
       "<text text-anchor=\"middle\" x=\"61\" y=\"-7.8\" font-family=\"Helvetica,sans-Serif\" font-size=\"14.00\">class = &lt;=50K</text>\r\n",
       "</g>\r\n",
       "<!-- 3&#45;&gt;4 -->\r\n",
       "<g id=\"edge4\" class=\"edge\"><title>3&#45;&gt;4</title>\r\n",
       "<path fill=\"none\" stroke=\"black\" d=\"M159.838,-88.9485C143.946,-79.0686 126.586,-68.2758 110.911,-58.5305\"/>\r\n",
       "<polygon fill=\"black\" stroke=\"black\" points=\"112.737,-55.5443 102.397,-53.2367 109.041,-61.489 112.737,-55.5443\"/>\r\n",
       "</g>\r\n",
       "<!-- 5 -->\r\n",
       "<g id=\"node6\" class=\"node\"><title>5</title>\r\n",
       "<path fill=\"#e58139\" fill-opacity=\"0.494118\" stroke=\"black\" d=\"M274,-53C274,-53 152,-53 152,-53 146,-53 140,-47 140,-41 140,-41 140,-12 140,-12 140,-6 146,-0 152,-0 152,-0 274,-0 274,-0 280,-0 286,-6 286,-12 286,-12 286,-41 286,-41 286,-47 280,-53 274,-53\"/>\r\n",
       "<text text-anchor=\"middle\" x=\"213\" y=\"-37.8\" font-family=\"Helvetica,sans-Serif\" font-size=\"14.00\">samples = 4886</text>\r\n",
       "<text text-anchor=\"middle\" x=\"213\" y=\"-22.8\" font-family=\"Helvetica,sans-Serif\" font-size=\"14.00\">value = [3247, 1639]</text>\r\n",
       "<text text-anchor=\"middle\" x=\"213\" y=\"-7.8\" font-family=\"Helvetica,sans-Serif\" font-size=\"14.00\">class = &lt;=50K</text>\r\n",
       "</g>\r\n",
       "<!-- 3&#45;&gt;5 -->\r\n",
       "<g id=\"edge5\" class=\"edge\"><title>3&#45;&gt;5</title>\r\n",
       "<path fill=\"none\" stroke=\"black\" d=\"M213,-88.9485C213,-80.7153 213,-71.848 213,-63.4814\"/>\r\n",
       "<polygon fill=\"black\" stroke=\"black\" points=\"216.5,-63.2367 213,-53.2367 209.5,-63.2367 216.5,-63.2367\"/>\r\n",
       "</g>\r\n",
       "<!-- 7 -->\r\n",
       "<g id=\"node8\" class=\"node\"><title>7</title>\r\n",
       "<path fill=\"#399de5\" stroke=\"black\" d=\"M405.5,-53C405.5,-53 316.5,-53 316.5,-53 310.5,-53 304.5,-47 304.5,-41 304.5,-41 304.5,-12 304.5,-12 304.5,-6 310.5,-0 316.5,-0 316.5,-0 405.5,-0 405.5,-0 411.5,-0 417.5,-6 417.5,-12 417.5,-12 417.5,-41 417.5,-41 417.5,-47 411.5,-53 405.5,-53\"/>\r\n",
       "<text text-anchor=\"middle\" x=\"361\" y=\"-37.8\" font-family=\"Helvetica,sans-Serif\" font-size=\"14.00\">samples = 199</text>\r\n",
       "<text text-anchor=\"middle\" x=\"361\" y=\"-22.8\" font-family=\"Helvetica,sans-Serif\" font-size=\"14.00\">value = [0, 199]</text>\r\n",
       "<text text-anchor=\"middle\" x=\"361\" y=\"-7.8\" font-family=\"Helvetica,sans-Serif\" font-size=\"14.00\">class = &gt;50K</text>\r\n",
       "</g>\r\n",
       "<!-- 6&#45;&gt;7 -->\r\n",
       "<g id=\"edge7\" class=\"edge\"><title>6&#45;&gt;7</title>\r\n",
       "<path fill=\"none\" stroke=\"black\" d=\"M404.567,-88.9485C398.275,-80.0749 391.462,-70.4648 385.133,-61.5388\"/>\r\n",
       "<polygon fill=\"black\" stroke=\"black\" points=\"387.886,-59.3701 379.247,-53.2367 382.176,-63.4188 387.886,-59.3701\"/>\r\n",
       "</g>\r\n",
       "<!-- 8 -->\r\n",
       "<g id=\"node9\" class=\"node\"><title>8</title>\r\n",
       "<path fill=\"#399de5\" fill-opacity=\"0.956863\" stroke=\"black\" d=\"M534.5,-53C534.5,-53 447.5,-53 447.5,-53 441.5,-53 435.5,-47 435.5,-41 435.5,-41 435.5,-12 435.5,-12 435.5,-6 441.5,-0 447.5,-0 447.5,-0 534.5,-0 534.5,-0 540.5,-0 546.5,-6 546.5,-12 546.5,-12 546.5,-41 546.5,-41 546.5,-47 540.5,-53 534.5,-53\"/>\r\n",
       "<text text-anchor=\"middle\" x=\"491\" y=\"-37.8\" font-family=\"Helvetica,sans-Serif\" font-size=\"14.00\">samples = 101</text>\r\n",
       "<text text-anchor=\"middle\" x=\"491\" y=\"-22.8\" font-family=\"Helvetica,sans-Serif\" font-size=\"14.00\">value = [4, 97]</text>\r\n",
       "<text text-anchor=\"middle\" x=\"491\" y=\"-7.8\" font-family=\"Helvetica,sans-Serif\" font-size=\"14.00\">class = &gt;50K</text>\r\n",
       "</g>\r\n",
       "<!-- 6&#45;&gt;8 -->\r\n",
       "<g id=\"edge8\" class=\"edge\"><title>6&#45;&gt;8</title>\r\n",
       "<path fill=\"none\" stroke=\"black\" d=\"M450.034,-88.9485C455.889,-80.1664 462.225,-70.6629 468.123,-61.815\"/>\r\n",
       "<polygon fill=\"black\" stroke=\"black\" points=\"471.207,-63.4987 473.842,-53.2367 465.383,-59.6158 471.207,-63.4987\"/>\r\n",
       "</g>\r\n",
       "<!-- 10 -->\r\n",
       "<g id=\"node11\" class=\"node\"><title>10</title>\r\n",
       "<path fill=\"#399de5\" fill-opacity=\"0.525490\" stroke=\"black\" d=\"M833.5,-157C833.5,-157 700.5,-157 700.5,-157 694.5,-157 688.5,-151 688.5,-145 688.5,-145 688.5,-101 688.5,-101 688.5,-95 694.5,-89 700.5,-89 700.5,-89 833.5,-89 833.5,-89 839.5,-89 845.5,-95 845.5,-101 845.5,-101 845.5,-145 845.5,-145 845.5,-151 839.5,-157 833.5,-157\"/>\r\n",
       "<text text-anchor=\"middle\" x=\"767\" y=\"-141.8\" font-family=\"Helvetica,sans-Serif\" font-size=\"14.00\">capital&#45;loss &lt;= 1794.0</text>\r\n",
       "<text text-anchor=\"middle\" x=\"767\" y=\"-126.8\" font-family=\"Helvetica,sans-Serif\" font-size=\"14.00\">samples = 2183</text>\r\n",
       "<text text-anchor=\"middle\" x=\"767\" y=\"-111.8\" font-family=\"Helvetica,sans-Serif\" font-size=\"14.00\">value = [702, 1481]</text>\r\n",
       "<text text-anchor=\"middle\" x=\"767\" y=\"-96.8\" font-family=\"Helvetica,sans-Serif\" font-size=\"14.00\">class = &gt;50K</text>\r\n",
       "</g>\r\n",
       "<!-- 9&#45;&gt;10 -->\r\n",
       "<g id=\"edge10\" class=\"edge\"><title>9&#45;&gt;10</title>\r\n",
       "<path fill=\"none\" stroke=\"black\" d=\"M818.325,-192.884C811.821,-184.154 804.72,-174.625 797.932,-165.514\"/>\r\n",
       "<polygon fill=\"black\" stroke=\"black\" points=\"800.593,-163.227 791.811,-157.299 794.98,-167.409 800.593,-163.227\"/>\r\n",
       "</g>\r\n",
       "<!-- 13 -->\r\n",
       "<g id=\"node14\" class=\"node\"><title>13</title>\r\n",
       "<path fill=\"#399de5\" fill-opacity=\"0.996078\" stroke=\"black\" d=\"M964.5,-157C964.5,-157 875.5,-157 875.5,-157 869.5,-157 863.5,-151 863.5,-145 863.5,-145 863.5,-101 863.5,-101 863.5,-95 869.5,-89 875.5,-89 875.5,-89 964.5,-89 964.5,-89 970.5,-89 976.5,-95 976.5,-101 976.5,-101 976.5,-145 976.5,-145 976.5,-151 970.5,-157 964.5,-157\"/>\r\n",
       "<text text-anchor=\"middle\" x=\"920\" y=\"-141.8\" font-family=\"Helvetica,sans-Serif\" font-size=\"14.00\">age &lt;= 52.5</text>\r\n",
       "<text text-anchor=\"middle\" x=\"920\" y=\"-126.8\" font-family=\"Helvetica,sans-Serif\" font-size=\"14.00\">samples = 407</text>\r\n",
       "<text text-anchor=\"middle\" x=\"920\" y=\"-111.8\" font-family=\"Helvetica,sans-Serif\" font-size=\"14.00\">value = [1, 406]</text>\r\n",
       "<text text-anchor=\"middle\" x=\"920\" y=\"-96.8\" font-family=\"Helvetica,sans-Serif\" font-size=\"14.00\">class = &gt;50K</text>\r\n",
       "</g>\r\n",
       "<!-- 9&#45;&gt;13 -->\r\n",
       "<g id=\"edge13\" class=\"edge\"><title>9&#45;&gt;13</title>\r\n",
       "<path fill=\"none\" stroke=\"black\" d=\"M868,-192.884C874.589,-184.154 881.783,-174.625 888.661,-165.514\"/>\r\n",
       "<polygon fill=\"black\" stroke=\"black\" points=\"891.631,-167.389 894.862,-157.299 886.044,-163.172 891.631,-167.389\"/>\r\n",
       "</g>\r\n",
       "<!-- 11 -->\r\n",
       "<g id=\"node12\" class=\"node\"><title>11</title>\r\n",
       "<path fill=\"#399de5\" fill-opacity=\"0.447059\" stroke=\"black\" d=\"M691,-53C691,-53 577,-53 577,-53 571,-53 565,-47 565,-41 565,-41 565,-12 565,-12 565,-6 571,-0 577,-0 577,-0 691,-0 691,-0 697,-0 703,-6 703,-12 703,-12 703,-41 703,-41 703,-47 697,-53 691,-53\"/>\r\n",
       "<text text-anchor=\"middle\" x=\"634\" y=\"-37.8\" font-family=\"Helvetica,sans-Serif\" font-size=\"14.00\">samples = 1948</text>\r\n",
       "<text text-anchor=\"middle\" x=\"634\" y=\"-22.8\" font-family=\"Helvetica,sans-Serif\" font-size=\"14.00\">value = [695, 1253]</text>\r\n",
       "<text text-anchor=\"middle\" x=\"634\" y=\"-7.8\" font-family=\"Helvetica,sans-Serif\" font-size=\"14.00\">class = &gt;50K</text>\r\n",
       "</g>\r\n",
       "<!-- 10&#45;&gt;11 -->\r\n",
       "<g id=\"edge11\" class=\"edge\"><title>10&#45;&gt;11</title>\r\n",
       "<path fill=\"none\" stroke=\"black\" d=\"M720.483,-88.9485C706.836,-79.2516 691.95,-68.6752 678.436,-59.073\"/>\r\n",
       "<polygon fill=\"black\" stroke=\"black\" points=\"680.401,-56.1757 670.222,-53.2367 676.347,-61.882 680.401,-56.1757\"/>\r\n",
       "</g>\r\n",
       "<!-- 12 -->\r\n",
       "<g id=\"node13\" class=\"node\"><title>12</title>\r\n",
       "<path fill=\"#399de5\" fill-opacity=\"0.968627\" stroke=\"black\" d=\"M822.5,-53C822.5,-53 733.5,-53 733.5,-53 727.5,-53 721.5,-47 721.5,-41 721.5,-41 721.5,-12 721.5,-12 721.5,-6 727.5,-0 733.5,-0 733.5,-0 822.5,-0 822.5,-0 828.5,-0 834.5,-6 834.5,-12 834.5,-12 834.5,-41 834.5,-41 834.5,-47 828.5,-53 822.5,-53\"/>\r\n",
       "<text text-anchor=\"middle\" x=\"778\" y=\"-37.8\" font-family=\"Helvetica,sans-Serif\" font-size=\"14.00\">samples = 235</text>\r\n",
       "<text text-anchor=\"middle\" x=\"778\" y=\"-22.8\" font-family=\"Helvetica,sans-Serif\" font-size=\"14.00\">value = [7, 228]</text>\r\n",
       "<text text-anchor=\"middle\" x=\"778\" y=\"-7.8\" font-family=\"Helvetica,sans-Serif\" font-size=\"14.00\">class = &gt;50K</text>\r\n",
       "</g>\r\n",
       "<!-- 10&#45;&gt;12 -->\r\n",
       "<g id=\"edge12\" class=\"edge\"><title>10&#45;&gt;12</title>\r\n",
       "<path fill=\"none\" stroke=\"black\" d=\"M770.847,-88.9485C771.816,-80.6238 772.861,-71.6509 773.844,-63.2027\"/>\r\n",
       "<polygon fill=\"black\" stroke=\"black\" points=\"777.324,-63.5743 775.004,-53.2367 770.371,-62.7649 777.324,-63.5743\"/>\r\n",
       "</g>\r\n",
       "<!-- 14 -->\r\n",
       "<g id=\"node15\" class=\"node\"><title>14</title>\r\n",
       "<path fill=\"#399de5\" stroke=\"black\" d=\"M953.5,-53C953.5,-53 864.5,-53 864.5,-53 858.5,-53 852.5,-47 852.5,-41 852.5,-41 852.5,-12 852.5,-12 852.5,-6 858.5,-0 864.5,-0 864.5,-0 953.5,-0 953.5,-0 959.5,-0 965.5,-6 965.5,-12 965.5,-12 965.5,-41 965.5,-41 965.5,-47 959.5,-53 953.5,-53\"/>\r\n",
       "<text text-anchor=\"middle\" x=\"909\" y=\"-37.8\" font-family=\"Helvetica,sans-Serif\" font-size=\"14.00\">samples = 302</text>\r\n",
       "<text text-anchor=\"middle\" x=\"909\" y=\"-22.8\" font-family=\"Helvetica,sans-Serif\" font-size=\"14.00\">value = [0, 302]</text>\r\n",
       "<text text-anchor=\"middle\" x=\"909\" y=\"-7.8\" font-family=\"Helvetica,sans-Serif\" font-size=\"14.00\">class = &gt;50K</text>\r\n",
       "</g>\r\n",
       "<!-- 13&#45;&gt;14 -->\r\n",
       "<g id=\"edge14\" class=\"edge\"><title>13&#45;&gt;14</title>\r\n",
       "<path fill=\"none\" stroke=\"black\" d=\"M916.153,-88.9485C915.184,-80.6238 914.139,-71.6509 913.156,-63.2027\"/>\r\n",
       "<polygon fill=\"black\" stroke=\"black\" points=\"916.629,-62.7649 911.996,-53.2367 909.676,-63.5743 916.629,-62.7649\"/>\r\n",
       "</g>\r\n",
       "<!-- 15 -->\r\n",
       "<g id=\"node16\" class=\"node\"><title>15</title>\r\n",
       "<path fill=\"#399de5\" fill-opacity=\"0.992157\" stroke=\"black\" d=\"M1084.5,-53C1084.5,-53 995.5,-53 995.5,-53 989.5,-53 983.5,-47 983.5,-41 983.5,-41 983.5,-12 983.5,-12 983.5,-6 989.5,-0 995.5,-0 995.5,-0 1084.5,-0 1084.5,-0 1090.5,-0 1096.5,-6 1096.5,-12 1096.5,-12 1096.5,-41 1096.5,-41 1096.5,-47 1090.5,-53 1084.5,-53\"/>\r\n",
       "<text text-anchor=\"middle\" x=\"1040\" y=\"-37.8\" font-family=\"Helvetica,sans-Serif\" font-size=\"14.00\">samples = 105</text>\r\n",
       "<text text-anchor=\"middle\" x=\"1040\" y=\"-22.8\" font-family=\"Helvetica,sans-Serif\" font-size=\"14.00\">value = [1, 104]</text>\r\n",
       "<text text-anchor=\"middle\" x=\"1040\" y=\"-7.8\" font-family=\"Helvetica,sans-Serif\" font-size=\"14.00\">class = &gt;50K</text>\r\n",
       "</g>\r\n",
       "<!-- 13&#45;&gt;15 -->\r\n",
       "<g id=\"edge15\" class=\"edge\"><title>13&#45;&gt;15</title>\r\n",
       "<path fill=\"none\" stroke=\"black\" d=\"M961.97,-88.9485C974.051,-79.4346 987.208,-69.074 999.216,-59.6175\"/>\r\n",
       "<polygon fill=\"black\" stroke=\"black\" points=\"1001.63,-62.1734 1007.32,-53.2367 997.297,-56.6739 1001.63,-62.1734\"/>\r\n",
       "</g>\r\n",
       "<!-- 17 -->\r\n",
       "<g id=\"node18\" class=\"node\"><title>17</title>\r\n",
       "<path fill=\"#e58139\" fill-opacity=\"0.909804\" stroke=\"black\" d=\"M1456.5,-261C1456.5,-261 1325.5,-261 1325.5,-261 1319.5,-261 1313.5,-255 1313.5,-249 1313.5,-249 1313.5,-205 1313.5,-205 1313.5,-199 1319.5,-193 1325.5,-193 1325.5,-193 1456.5,-193 1456.5,-193 1462.5,-193 1468.5,-199 1468.5,-205 1468.5,-205 1468.5,-249 1468.5,-249 1468.5,-255 1462.5,-261 1456.5,-261\"/>\r\n",
       "<text text-anchor=\"middle\" x=\"1391\" y=\"-245.8\" font-family=\"Helvetica,sans-Serif\" font-size=\"14.00\">relationship &lt;= 4.5</text>\r\n",
       "<text text-anchor=\"middle\" x=\"1391\" y=\"-230.8\" font-family=\"Helvetica,sans-Serif\" font-size=\"14.00\">samples = 12141</text>\r\n",
       "<text text-anchor=\"middle\" x=\"1391\" y=\"-215.8\" font-family=\"Helvetica,sans-Serif\" font-size=\"14.00\">value = [11118, 1023]</text>\r\n",
       "<text text-anchor=\"middle\" x=\"1391\" y=\"-200.8\" font-family=\"Helvetica,sans-Serif\" font-size=\"14.00\">class = &lt;=50K</text>\r\n",
       "</g>\r\n",
       "<!-- 16&#45;&gt;17 -->\r\n",
       "<g id=\"edge17\" class=\"edge\"><title>16&#45;&gt;17</title>\r\n",
       "<path fill=\"none\" stroke=\"black\" d=\"M1391,-296.884C1391,-288.778 1391,-279.982 1391,-271.472\"/>\r\n",
       "<polygon fill=\"black\" stroke=\"black\" points=\"1394.5,-271.299 1391,-261.299 1387.5,-271.299 1394.5,-271.299\"/>\r\n",
       "</g>\r\n",
       "<!-- 24 -->\r\n",
       "<g id=\"node25\" class=\"node\"><title>24</title>\r\n",
       "<path fill=\"#399de5\" fill-opacity=\"0.968627\" stroke=\"black\" d=\"M1716,-261C1716,-261 1578,-261 1578,-261 1572,-261 1566,-255 1566,-249 1566,-249 1566,-205 1566,-205 1566,-199 1572,-193 1578,-193 1578,-193 1716,-193 1716,-193 1722,-193 1728,-199 1728,-205 1728,-205 1728,-249 1728,-249 1728,-255 1722,-261 1716,-261\"/>\r\n",
       "<text text-anchor=\"middle\" x=\"1647\" y=\"-245.8\" font-family=\"Helvetica,sans-Serif\" font-size=\"14.00\">education&#45;num &lt;= 11.5</text>\r\n",
       "<text text-anchor=\"middle\" x=\"1647\" y=\"-230.8\" font-family=\"Helvetica,sans-Serif\" font-size=\"14.00\">samples = 274</text>\r\n",
       "<text text-anchor=\"middle\" x=\"1647\" y=\"-215.8\" font-family=\"Helvetica,sans-Serif\" font-size=\"14.00\">value = [8, 266]</text>\r\n",
       "<text text-anchor=\"middle\" x=\"1647\" y=\"-200.8\" font-family=\"Helvetica,sans-Serif\" font-size=\"14.00\">class = &gt;50K</text>\r\n",
       "</g>\r\n",
       "<!-- 16&#45;&gt;24 -->\r\n",
       "<g id=\"edge24\" class=\"edge\"><title>16&#45;&gt;24</title>\r\n",
       "<path fill=\"none\" stroke=\"black\" d=\"M1469.55,-298.703C1497.01,-287.76 1528.07,-275.386 1556.44,-264.084\"/>\r\n",
       "<polygon fill=\"black\" stroke=\"black\" points=\"1557.95,-267.248 1565.95,-260.295 1555.36,-260.745 1557.95,-267.248\"/>\r\n",
       "</g>\r\n",
       "<!-- 18 -->\r\n",
       "<g id=\"node19\" class=\"node\"><title>18</title>\r\n",
       "<path fill=\"#e58139\" fill-opacity=\"0.941176\" stroke=\"black\" d=\"M1381,-157C1381,-157 1243,-157 1243,-157 1237,-157 1231,-151 1231,-145 1231,-145 1231,-101 1231,-101 1231,-95 1237,-89 1243,-89 1243,-89 1381,-89 1381,-89 1387,-89 1393,-95 1393,-101 1393,-101 1393,-145 1393,-145 1393,-151 1387,-157 1381,-157\"/>\r\n",
       "<text text-anchor=\"middle\" x=\"1312\" y=\"-141.8\" font-family=\"Helvetica,sans-Serif\" font-size=\"14.00\">education&#45;num &lt;= 12.5</text>\r\n",
       "<text text-anchor=\"middle\" x=\"1312\" y=\"-126.8\" font-family=\"Helvetica,sans-Serif\" font-size=\"14.00\">samples = 11230</text>\r\n",
       "<text text-anchor=\"middle\" x=\"1312\" y=\"-111.8\" font-family=\"Helvetica,sans-Serif\" font-size=\"14.00\">value = [10619, 611]</text>\r\n",
       "<text text-anchor=\"middle\" x=\"1312\" y=\"-96.8\" font-family=\"Helvetica,sans-Serif\" font-size=\"14.00\">class = &lt;=50K</text>\r\n",
       "</g>\r\n",
       "<!-- 17&#45;&gt;18 -->\r\n",
       "<g id=\"edge18\" class=\"edge\"><title>17&#45;&gt;18</title>\r\n",
       "<path fill=\"none\" stroke=\"black\" d=\"M1365.35,-192.884C1358.52,-184.065 1351.06,-174.43 1343.94,-165.235\"/>\r\n",
       "<polygon fill=\"black\" stroke=\"black\" points=\"1346.68,-163.062 1337.79,-157.299 1341.15,-167.349 1346.68,-163.062\"/>\r\n",
       "</g>\r\n",
       "<!-- 21 -->\r\n",
       "<g id=\"node22\" class=\"node\"><title>21</title>\r\n",
       "<path fill=\"#e58139\" fill-opacity=\"0.172549\" stroke=\"black\" d=\"M1561,-157C1561,-157 1423,-157 1423,-157 1417,-157 1411,-151 1411,-145 1411,-145 1411,-101 1411,-101 1411,-95 1417,-89 1423,-89 1423,-89 1561,-89 1561,-89 1567,-89 1573,-95 1573,-101 1573,-101 1573,-145 1573,-145 1573,-151 1567,-157 1561,-157\"/>\r\n",
       "<text text-anchor=\"middle\" x=\"1492\" y=\"-141.8\" font-family=\"Helvetica,sans-Serif\" font-size=\"14.00\">education&#45;num &lt;= 10.5</text>\r\n",
       "<text text-anchor=\"middle\" x=\"1492\" y=\"-126.8\" font-family=\"Helvetica,sans-Serif\" font-size=\"14.00\">samples = 911</text>\r\n",
       "<text text-anchor=\"middle\" x=\"1492\" y=\"-111.8\" font-family=\"Helvetica,sans-Serif\" font-size=\"14.00\">value = [499, 412]</text>\r\n",
       "<text text-anchor=\"middle\" x=\"1492\" y=\"-96.8\" font-family=\"Helvetica,sans-Serif\" font-size=\"14.00\">class = &lt;=50K</text>\r\n",
       "</g>\r\n",
       "<!-- 17&#45;&gt;21 -->\r\n",
       "<g id=\"edge21\" class=\"edge\"><title>17&#45;&gt;21</title>\r\n",
       "<path fill=\"none\" stroke=\"black\" d=\"M1423.79,-192.884C1432.7,-183.887 1442.45,-174.041 1451.72,-164.678\"/>\r\n",
       "<polygon fill=\"black\" stroke=\"black\" points=\"1454.48,-166.868 1459.03,-157.299 1449.5,-161.943 1454.48,-166.868\"/>\r\n",
       "</g>\r\n",
       "<!-- 19 -->\r\n",
       "<g id=\"node20\" class=\"node\"><title>19</title>\r\n",
       "<path fill=\"#e58139\" fill-opacity=\"0.972549\" stroke=\"black\" d=\"M1241,-53C1241,-53 1127,-53 1127,-53 1121,-53 1115,-47 1115,-41 1115,-41 1115,-12 1115,-12 1115,-6 1121,-0 1127,-0 1127,-0 1241,-0 1241,-0 1247,-0 1253,-6 1253,-12 1253,-12 1253,-41 1253,-41 1253,-47 1247,-53 1241,-53\"/>\r\n",
       "<text text-anchor=\"middle\" x=\"1184\" y=\"-37.8\" font-family=\"Helvetica,sans-Serif\" font-size=\"14.00\">samples = 8934</text>\r\n",
       "<text text-anchor=\"middle\" x=\"1184\" y=\"-22.8\" font-family=\"Helvetica,sans-Serif\" font-size=\"14.00\">value = [8692, 242]</text>\r\n",
       "<text text-anchor=\"middle\" x=\"1184\" y=\"-7.8\" font-family=\"Helvetica,sans-Serif\" font-size=\"14.00\">class = &lt;=50K</text>\r\n",
       "</g>\r\n",
       "<!-- 18&#45;&gt;19 -->\r\n",
       "<g id=\"edge19\" class=\"edge\"><title>18&#45;&gt;19</title>\r\n",
       "<path fill=\"none\" stroke=\"black\" d=\"M1267.23,-88.9485C1254.22,-79.3431 1240.04,-68.8747 1227.13,-59.345\"/>\r\n",
       "<polygon fill=\"black\" stroke=\"black\" points=\"1228.98,-56.3605 1218.86,-53.2367 1224.83,-61.992 1228.98,-56.3605\"/>\r\n",
       "</g>\r\n",
       "<!-- 20 -->\r\n",
       "<g id=\"node21\" class=\"node\"><title>20</title>\r\n",
       "<path fill=\"#e58139\" fill-opacity=\"0.807843\" stroke=\"black\" d=\"M1397,-53C1397,-53 1283,-53 1283,-53 1277,-53 1271,-47 1271,-41 1271,-41 1271,-12 1271,-12 1271,-6 1277,-0 1283,-0 1283,-0 1397,-0 1397,-0 1403,-0 1409,-6 1409,-12 1409,-12 1409,-41 1409,-41 1409,-47 1403,-53 1397,-53\"/>\r\n",
       "<text text-anchor=\"middle\" x=\"1340\" y=\"-37.8\" font-family=\"Helvetica,sans-Serif\" font-size=\"14.00\">samples = 2296</text>\r\n",
       "<text text-anchor=\"middle\" x=\"1340\" y=\"-22.8\" font-family=\"Helvetica,sans-Serif\" font-size=\"14.00\">value = [1927, 369]</text>\r\n",
       "<text text-anchor=\"middle\" x=\"1340\" y=\"-7.8\" font-family=\"Helvetica,sans-Serif\" font-size=\"14.00\">class = &lt;=50K</text>\r\n",
       "</g>\r\n",
       "<!-- 18&#45;&gt;20 -->\r\n",
       "<g id=\"edge20\" class=\"edge\"><title>18&#45;&gt;20</title>\r\n",
       "<path fill=\"none\" stroke=\"black\" d=\"M1321.79,-88.9485C1324.29,-80.5323 1326.98,-71.4536 1329.5,-62.9243\"/>\r\n",
       "<polygon fill=\"black\" stroke=\"black\" points=\"1332.89,-63.819 1332.37,-53.2367 1326.18,-61.8304 1332.89,-63.819\"/>\r\n",
       "</g>\r\n",
       "<!-- 22 -->\r\n",
       "<g id=\"node23\" class=\"node\"><title>22</title>\r\n",
       "<path fill=\"#e58139\" fill-opacity=\"0.533333\" stroke=\"black\" d=\"M1545,-53C1545,-53 1439,-53 1439,-53 1433,-53 1427,-47 1427,-41 1427,-41 1427,-12 1427,-12 1427,-6 1433,-0 1439,-0 1439,-0 1545,-0 1545,-0 1551,-0 1557,-6 1557,-12 1557,-12 1557,-41 1557,-41 1557,-47 1551,-53 1545,-53\"/>\r\n",
       "<text text-anchor=\"middle\" x=\"1492\" y=\"-37.8\" font-family=\"Helvetica,sans-Serif\" font-size=\"14.00\">samples = 574</text>\r\n",
       "<text text-anchor=\"middle\" x=\"1492\" y=\"-22.8\" font-family=\"Helvetica,sans-Serif\" font-size=\"14.00\">value = [391, 183]</text>\r\n",
       "<text text-anchor=\"middle\" x=\"1492\" y=\"-7.8\" font-family=\"Helvetica,sans-Serif\" font-size=\"14.00\">class = &lt;=50K</text>\r\n",
       "</g>\r\n",
       "<!-- 21&#45;&gt;22 -->\r\n",
       "<g id=\"edge22\" class=\"edge\"><title>21&#45;&gt;22</title>\r\n",
       "<path fill=\"none\" stroke=\"black\" d=\"M1492,-88.9485C1492,-80.7153 1492,-71.848 1492,-63.4814\"/>\r\n",
       "<polygon fill=\"black\" stroke=\"black\" points=\"1495.5,-63.2367 1492,-53.2367 1488.5,-63.2367 1495.5,-63.2367\"/>\r\n",
       "</g>\r\n",
       "<!-- 23 -->\r\n",
       "<g id=\"node24\" class=\"node\"><title>23</title>\r\n",
       "<path fill=\"#399de5\" fill-opacity=\"0.529412\" stroke=\"black\" d=\"M1693,-53C1693,-53 1587,-53 1587,-53 1581,-53 1575,-47 1575,-41 1575,-41 1575,-12 1575,-12 1575,-6 1581,-0 1587,-0 1587,-0 1693,-0 1693,-0 1699,-0 1705,-6 1705,-12 1705,-12 1705,-41 1705,-41 1705,-47 1699,-53 1693,-53\"/>\r\n",
       "<text text-anchor=\"middle\" x=\"1640\" y=\"-37.8\" font-family=\"Helvetica,sans-Serif\" font-size=\"14.00\">samples = 337</text>\r\n",
       "<text text-anchor=\"middle\" x=\"1640\" y=\"-22.8\" font-family=\"Helvetica,sans-Serif\" font-size=\"14.00\">value = [108, 229]</text>\r\n",
       "<text text-anchor=\"middle\" x=\"1640\" y=\"-7.8\" font-family=\"Helvetica,sans-Serif\" font-size=\"14.00\">class = &gt;50K</text>\r\n",
       "</g>\r\n",
       "<!-- 21&#45;&gt;23 -->\r\n",
       "<g id=\"edge23\" class=\"edge\"><title>21&#45;&gt;23</title>\r\n",
       "<path fill=\"none\" stroke=\"black\" d=\"M1543.76,-88.9485C1559.09,-79.1601 1575.83,-68.4756 1590.98,-58.8015\"/>\r\n",
       "<polygon fill=\"black\" stroke=\"black\" points=\"1593.15,-61.5683 1599.69,-53.2367 1589.38,-55.6685 1593.15,-61.5683\"/>\r\n",
       "</g>\r\n",
       "<!-- 25 -->\r\n",
       "<g id=\"node26\" class=\"node\"><title>25</title>\r\n",
       "<path fill=\"#399de5\" fill-opacity=\"0.917647\" stroke=\"black\" d=\"M1690.5,-149.5C1690.5,-149.5 1603.5,-149.5 1603.5,-149.5 1597.5,-149.5 1591.5,-143.5 1591.5,-137.5 1591.5,-137.5 1591.5,-108.5 1591.5,-108.5 1591.5,-102.5 1597.5,-96.5 1603.5,-96.5 1603.5,-96.5 1690.5,-96.5 1690.5,-96.5 1696.5,-96.5 1702.5,-102.5 1702.5,-108.5 1702.5,-108.5 1702.5,-137.5 1702.5,-137.5 1702.5,-143.5 1696.5,-149.5 1690.5,-149.5\"/>\r\n",
       "<text text-anchor=\"middle\" x=\"1647\" y=\"-134.3\" font-family=\"Helvetica,sans-Serif\" font-size=\"14.00\">samples = 103</text>\r\n",
       "<text text-anchor=\"middle\" x=\"1647\" y=\"-119.3\" font-family=\"Helvetica,sans-Serif\" font-size=\"14.00\">value = [8, 95]</text>\r\n",
       "<text text-anchor=\"middle\" x=\"1647\" y=\"-104.3\" font-family=\"Helvetica,sans-Serif\" font-size=\"14.00\">class = &gt;50K</text>\r\n",
       "</g>\r\n",
       "<!-- 24&#45;&gt;25 -->\r\n",
       "<g id=\"edge25\" class=\"edge\"><title>24&#45;&gt;25</title>\r\n",
       "<path fill=\"none\" stroke=\"black\" d=\"M1647,-192.884C1647,-182.326 1647,-170.597 1647,-159.854\"/>\r\n",
       "<polygon fill=\"black\" stroke=\"black\" points=\"1650.5,-159.52 1647,-149.52 1643.5,-159.52 1650.5,-159.52\"/>\r\n",
       "</g>\r\n",
       "<!-- 26 -->\r\n",
       "<g id=\"node27\" class=\"node\"><title>26</title>\r\n",
       "<path fill=\"#399de5\" stroke=\"black\" d=\"M1821.5,-149.5C1821.5,-149.5 1732.5,-149.5 1732.5,-149.5 1726.5,-149.5 1720.5,-143.5 1720.5,-137.5 1720.5,-137.5 1720.5,-108.5 1720.5,-108.5 1720.5,-102.5 1726.5,-96.5 1732.5,-96.5 1732.5,-96.5 1821.5,-96.5 1821.5,-96.5 1827.5,-96.5 1833.5,-102.5 1833.5,-108.5 1833.5,-108.5 1833.5,-137.5 1833.5,-137.5 1833.5,-143.5 1827.5,-149.5 1821.5,-149.5\"/>\r\n",
       "<text text-anchor=\"middle\" x=\"1777\" y=\"-134.3\" font-family=\"Helvetica,sans-Serif\" font-size=\"14.00\">samples = 171</text>\r\n",
       "<text text-anchor=\"middle\" x=\"1777\" y=\"-119.3\" font-family=\"Helvetica,sans-Serif\" font-size=\"14.00\">value = [0, 171]</text>\r\n",
       "<text text-anchor=\"middle\" x=\"1777\" y=\"-104.3\" font-family=\"Helvetica,sans-Serif\" font-size=\"14.00\">class = &gt;50K</text>\r\n",
       "</g>\r\n",
       "<!-- 24&#45;&gt;26 -->\r\n",
       "<g id=\"edge26\" class=\"edge\"><title>24&#45;&gt;26</title>\r\n",
       "<path fill=\"none\" stroke=\"black\" d=\"M1689.21,-192.884C1704.35,-181.006 1721.37,-167.646 1736.37,-155.876\"/>\r\n",
       "<polygon fill=\"black\" stroke=\"black\" points=\"1738.77,-158.446 1744.47,-149.52 1734.45,-152.939 1738.77,-158.446\"/>\r\n",
       "</g>\r\n",
       "</g>\r\n",
       "</svg>\r\n"
      ],
      "text/plain": [
       "<graphviz.files.Source at 0x2296fda8e48>"
      ]
     },
     "execution_count": 339,
     "metadata": {},
     "output_type": "execute_result"
    }
   ],
   "source": [
    "dot_data = tree.export_graphviz(richTree, out_file=None, label='all', impurity=False, proportion=True, \n",
    "                               feature_names=list(X_trainset), class_names=['<=50K', '>50K'],\n",
    "                               filled=True, rounded=True)\n",
    "graph = graphviz.Source(dot_data)\n",
    "graph"
   ]
  },
  {
   "cell_type": "markdown",
   "metadata": {},
   "source": [
    "<h1><center>Source</center></h1> \n",
    "<li>https://itnext.io/learning-data-science-predict-adult-income-with-decision-tree-ae8dd57a76cc</li>\n",
    "<li>https://towardsdatascience.com/interactive-visualization-of-decision-trees-with-jupyter-widgets-ca15dd312084</li>\n",
    "<li>https://scikit-learn.org/stable/modules/generated/sklearn.metrics.confusion_matrix.html</li>\n",
    "<li>https://arxiv.org/ftp/arxiv/papers/1810/1810.10076.pdf</li>\n",
    "<li></li>\n",
    "<li></li>\n",
    "<li></li>"
   ]
  },
  {
   "cell_type": "markdown",
   "metadata": {},
   "source": [
    "<h1>(pre-pruning, post-pruning strategies, etc.) and for different datasets.\n",
    "\n",
    "(e) (Bonus) Can you suggest any approach for re-building the tree or revising\n",
    "the tree so that the prediction result is better? (hint: manually selecting some\n",
    "particular attributes, transforming the attributes from categorical ones to\n",
    "numerical ones or the other way around.)</h1>"
   ]
  },
  {
   "cell_type": "code",
   "execution_count": 340,
   "metadata": {},
   "outputs": [
    {
     "ename": "SyntaxError",
     "evalue": "invalid syntax (<ipython-input-340-f88a6ecd8fa8>, line 1)",
     "output_type": "error",
     "traceback": [
      "\u001b[1;36m  File \u001b[1;32m\"<ipython-input-340-f88a6ecd8fa8>\"\u001b[1;36m, line \u001b[1;32m1\u001b[0m\n\u001b[1;33m    git remote add origin https://github.com/yongmingw/Homework.git\u001b[0m\n\u001b[1;37m             ^\u001b[0m\n\u001b[1;31mSyntaxError\u001b[0m\u001b[1;31m:\u001b[0m invalid syntax\n"
     ]
    }
   ],
   "source": [
    "git remote add origin https://github.com/yongmingw/Homework.git\n",
    "git push -u origin master"
   ]
  },
  {
   "cell_type": "code",
   "execution_count": null,
   "metadata": {},
   "outputs": [],
   "source": []
  }
 ],
 "metadata": {
  "kernelspec": {
   "display_name": "Python 3",
   "language": "python",
   "name": "python3"
  },
  "language_info": {
   "codemirror_mode": {
    "name": "ipython",
    "version": 3
   },
   "file_extension": ".py",
   "mimetype": "text/x-python",
   "name": "python",
   "nbconvert_exporter": "python",
   "pygments_lexer": "ipython3",
   "version": "3.7.3"
  }
 },
 "nbformat": 4,
 "nbformat_minor": 2
}
