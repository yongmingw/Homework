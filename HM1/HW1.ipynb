{
 "cells": [
  {
   "cell_type": "code",
   "execution_count": 52,
   "metadata": {},
   "outputs": [],
   "source": [
    "import pandas as pd\n",
    "import numpy as np\n",
    "from sklearn.tree import DecisionTreeClassifier\n",
    "from sklearn import preprocessing, model_selection, metrics\n",
    "from sklearn.metrics import confusion_matrix, classification_report\n",
    "from sklearn.metrics import make_scorer, accuracy_score, precision_score, recall_score, f1_score"
   ]
  },
  {
   "cell_type": "code",
   "execution_count": 2,
   "metadata": {},
   "outputs": [],
   "source": [
    "input_dat = \"./adult.csv\""
   ]
  },
  {
   "cell_type": "code",
   "execution_count": 25,
   "metadata": {},
   "outputs": [],
   "source": [
    "data = pd.read_csv(\n",
    "    input_dat, \n",
    "    names=[\"age\", \"workclass\", \"fnlwgt\", \"education\", \"education_num\", \"marital_status\",\n",
    "           \"occupation\", \"relationship\", \"race\", \"sex\", \"capital_gain\", \"capital_loss\",\n",
    "           \"hours_per_week\", \"native_country\", \"wealth\"], index_col=False)"
   ]
  },
  {
   "cell_type": "code",
   "execution_count": 26,
   "metadata": {},
   "outputs": [],
   "source": [
    "data.loc[data[\"capital_gain\"] != 0, [\"capital_gain\"]] = 1\n",
    "data.loc[data[\"capital_loss\"] != 0, [\"capital_loss\"]] = 1"
   ]
  },
  {
   "cell_type": "code",
   "execution_count": 27,
   "metadata": {},
   "outputs": [],
   "source": [
    "# keep US only\n",
    "data[\"country\"] = \"Other\"\n",
    "data.loc[data[\"native_country\"] == \" United-States\", \"country\"] = \"US\""
   ]
  },
  {
   "cell_type": "code",
   "execution_count": 29,
   "metadata": {},
   "outputs": [],
   "source": [
    "data = pd.get_dummies(\n",
    "    data, \n",
    "    columns=[\n",
    "        'relationship', 'race', 'sex', \"country\"])"
   ]
  },
  {
   "cell_type": "code",
   "execution_count": 30,
   "metadata": {},
   "outputs": [],
   "source": [
    "#TODO: clean up the other variables. Remove empty spaces and \"?\""
   ]
  },
  {
   "cell_type": "code",
   "execution_count": 31,
   "metadata": {},
   "outputs": [
    {
     "data": {
      "text/plain": [
       "Index(['age', 'workclass', 'fnlwgt', 'education', 'education_num',\n",
       "       'marital_status', 'occupation', 'capital_gain', 'capital_loss',\n",
       "       'hours_per_week', 'native_country', 'wealth', 'relationship_ Husband',\n",
       "       'relationship_ Not-in-family', 'relationship_ Other-relative',\n",
       "       'relationship_ Own-child', 'relationship_ Unmarried',\n",
       "       'relationship_ Wife', 'race_ Amer-Indian-Eskimo',\n",
       "       'race_ Asian-Pac-Islander', 'race_ Black', 'race_ Other', 'race_ White',\n",
       "       'sex_ Female', 'sex_ Male', 'country_Other', 'country_US'],\n",
       "      dtype='object')"
      ]
     },
     "execution_count": 31,
     "metadata": {},
     "output_type": "execute_result"
    }
   ],
   "source": [
    "data.columns"
   ]
  },
  {
   "cell_type": "code",
   "execution_count": 33,
   "metadata": {},
   "outputs": [],
   "source": [
    "feature_columns = ['age', 'education_num',\n",
    "       'capital_gain', 'capital_loss',\n",
    "       'hours_per_week', 'relationship_ Husband',\n",
    "       'relationship_ Not-in-family', 'relationship_ Other-relative',\n",
    "       'relationship_ Own-child', 'relationship_ Unmarried',\n",
    "       'relationship_ Wife', 'race_ Amer-Indian-Eskimo',\n",
    "       'race_ Asian-Pac-Islander', 'race_ Black', 'race_ Other', 'race_ White',\n",
    "       'sex_ Female', 'sex_ Male', 'country_Other', 'country_US']"
   ]
  },
  {
   "cell_type": "code",
   "execution_count": 40,
   "metadata": {},
   "outputs": [],
   "source": [
    "X = data[feature_columns]\n",
    "Y = data[\"wealth\"] == \" >50K\""
   ]
  },
  {
   "cell_type": "code",
   "execution_count": 41,
   "metadata": {},
   "outputs": [],
   "source": [
    "X_trainset, X_testset, Y_trainset, Y_testset = model_selection.train_test_split(X, Y, test_size=0.2, random_state=3)"
   ]
  },
  {
   "cell_type": "code",
   "execution_count": 90,
   "metadata": {},
   "outputs": [
    {
     "name": "stdout",
     "output_type": "stream",
     "text": [
      "max_dept = 2, min_node_size = 5, accuracy=0.8146114303127356, precision = 0.7264138917360363, recall = 0.36680327462296664, f1-score = 0.4874049726528103\n",
      "max_dept = 2, min_node_size = 10, accuracy=0.8146114303127356, precision = 0.7264138917360363, recall = 0.36680327462296664, f1-score = 0.4874049726528103\n",
      "max_dept = 2, min_node_size = 15, accuracy=0.8146114303127356, precision = 0.7264138917360363, recall = 0.36680327462296664, f1-score = 0.4874049726528103\n",
      "max_dept = 2, min_node_size = 20, accuracy=0.8146114303127356, precision = 0.7264138917360363, recall = 0.36680327462296664, f1-score = 0.4874049726528103\n",
      "max_dept = 2, min_node_size = 25, accuracy=0.8146114303127356, precision = 0.7264138917360363, recall = 0.36680327462296664, f1-score = 0.4874049726528103\n",
      "max_dept = 3, min_node_size = 5, accuracy=0.8214832883732534, precision = 0.7235439602785274, recall = 0.416591895168753, f1-score = 0.5285666295166798\n",
      "max_dept = 3, min_node_size = 10, accuracy=0.8214832883732534, precision = 0.7235439602785274, recall = 0.416591895168753, f1-score = 0.5285666295166798\n",
      "max_dept = 3, min_node_size = 15, accuracy=0.8214832883732534, precision = 0.7235439602785274, recall = 0.416591895168753, f1-score = 0.5285666295166798\n",
      "max_dept = 3, min_node_size = 20, accuracy=0.8214832883732534, precision = 0.7235439602785274, recall = 0.416591895168753, f1-score = 0.5285666295166798\n",
      "max_dept = 3, min_node_size = 25, accuracy=0.8214832883732534, precision = 0.7235439602785274, recall = 0.416591895168753, f1-score = 0.5285666295166798\n",
      "max_dept = 4, min_node_size = 5, accuracy=0.8251303572106302, precision = 0.7138812260947717, recall = 0.4566279250938131, f1-score = 0.5558452211041758\n",
      "max_dept = 4, min_node_size = 10, accuracy=0.8250535817787684, precision = 0.7132614241431161, recall = 0.45694239050261815, f1-score = 0.5559262381433177\n",
      "max_dept = 4, min_node_size = 15, accuracy=0.8251303572106302, precision = 0.7132969799515131, recall = 0.45741408861582566, f1-score = 0.5563093634123664\n",
      "max_dept = 4, min_node_size = 20, accuracy=0.8251303572106302, precision = 0.7132969799515131, recall = 0.45741408861582566, f1-score = 0.5563093634123664\n",
      "max_dept = 4, min_node_size = 25, accuracy=0.8252839080743539, precision = 0.7130214836276672, recall = 0.45869819776510334, f1-score = 0.5572635216692323\n",
      "max_dept = 5, min_node_size = 5, accuracy=0.830735472231915, precision = 0.7317868151427064, recall = 0.4679085603233403, f1-score = 0.5701682071300503\n",
      "max_dept = 5, min_node_size = 10, accuracy=0.8306970771464861, precision = 0.7315005523962851, recall = 0.46806579302774276, f1-score = 0.570198873176972\n",
      "max_dept = 5, min_node_size = 15, accuracy=0.8306970624074899, precision = 0.7311853716579135, recall = 0.4685374911409503, f1-score = 0.5704392441445311\n",
      "max_dept = 5, min_node_size = 20, accuracy=0.8304283115484827, precision = 0.7302401794573379, recall = 0.4680133102190756, f1-score = 0.5697449268764692\n",
      "max_dept = 5, min_node_size = 25, accuracy=0.8304666845254172, precision = 0.7296349908559979, recall = 0.4691342597981915, f1-score = 0.5704249477300443\n",
      "max_dept = 6, min_node_size = 5, accuracy=0.8331539646610455, precision = 0.7196816733744594, recall = 0.5012134287923866, f1-score = 0.5907464656277105\n",
      "max_dept = 6, min_node_size = 10, accuracy=0.8336914590095615, precision = 0.7206512101594222, recall = 0.5032867060810184, f1-score = 0.5924915148612405\n",
      "max_dept = 6, min_node_size = 15, accuracy=0.8337682049634306, precision = 0.7205309324131289, recall = 0.5040350281874612, f1-score = 0.5929674226817175\n",
      "max_dept = 6, min_node_size = 20, accuracy=0.8332691425478345, precision = 0.7197004775623121, recall = 0.5017961597220794, f1-score = 0.5911279513718976\n",
      "max_dept = 6, min_node_size = 25, accuracy=0.8333075228942672, precision = 0.7203555851518938, recall = 0.501190816329139, f1-score = 0.5909442361584932\n",
      "max_dept = 7, min_node_size = 5, accuracy=0.834036955822438, precision = 0.723354054214067, recall = 0.5019117711024579, f1-score = 0.5923995895582965\n",
      "max_dept = 7, min_node_size = 10, accuracy=0.8346896133187467, precision = 0.7255426704488723, recall = 0.5030725917530632, f1-score = 0.593801317795623\n",
      "max_dept = 7, min_node_size = 15, accuracy=0.8346511961248231, precision = 0.726529217879126, recall = 0.5014360340443338, f1-score = 0.5930117764707442\n",
      "max_dept = 7, min_node_size = 20, accuracy=0.8339601435430852, precision = 0.7249380776865417, recall = 0.49918786349238875, f1-score = 0.5909061173739575\n",
      "max_dept = 7, min_node_size = 25, accuracy=0.8339985386285143, precision = 0.7259447389980908, recall = 0.49794585034143585, f1-score = 0.5903515155723692\n",
      "max_dept = 8, min_node_size = 5, accuracy=0.834190484577667, precision = 0.7002355686780625, recall = 0.5444325879266109, f1-score = 0.6116255422801065\n",
      "max_dept = 8, min_node_size = 10, accuracy=0.8352270192332847, precision = 0.7025693381361959, recall = 0.5474611675246814, f1-score = 0.6143859149233846\n",
      "max_dept = 8, min_node_size = 15, accuracy=0.8360331686373318, precision = 0.7036033609931235, recall = 0.5508532880748028, f1-score = 0.6172688567320759\n",
      "max_dept = 8, min_node_size = 20, accuracy=0.8352653406237323, precision = 0.7027889634225801, recall = 0.5468540749195405, f1-score = 0.6144123379880272\n",
      "max_dept = 8, min_node_size = 25, accuracy=0.8349198364413578, precision = 0.7028067905395832, recall = 0.5439961498015266, f1-score = 0.6127036575399967\n",
      "max_dept = 9, min_node_size = 5, accuracy=0.8355342093947099, precision = 0.7072192399010941, recall = 0.5407520200839754, f1-score = 0.6117000104398435\n",
      "max_dept = 9, min_node_size = 10, accuracy=0.8363020005608188, precision = 0.7022353258768604, recall = 0.5565051159990045, f1-score = 0.6199548069551362\n",
      "max_dept = 9, min_node_size = 15, accuracy=0.8371465597892913, precision = 0.6989965250093264, recall = 0.5696149720643584, f1-score = 0.626855654104293\n",
      "max_dept = 9, min_node_size = 20, accuracy=0.8361867931960372, precision = 0.6995680503797345, recall = 0.5614774688294581, f1-score = 0.622128913938058\n",
      "max_dept = 9, min_node_size = 25, accuracy=0.8368394433228478, precision = 0.70153611097137, recall = 0.5611902320569979, f1-score = 0.6230097129324741\n",
      "max_dept = 10, min_node_size = 5, accuracy=0.8336146835776997, precision = 0.6872757657991133, recall = 0.5643366483204104, f1-score = 0.6196582619747195\n",
      "max_dept = 10, min_node_size = 10, accuracy=0.8353422339675646, precision = 0.6915710840749064, recall = 0.5679715546054156, f1-score = 0.6236167677981836\n",
      "max_dept = 10, min_node_size = 15, accuracy=0.836647585807673, precision = 0.6983980305169816, recall = 0.5639065022679912, f1-score = 0.6237539290705465\n",
      "max_dept = 10, min_node_size = 20, accuracy=0.8367243465005385, precision = 0.7000658220684237, recall = 0.5607892746274267, f1-score = 0.6226237234702985\n",
      "max_dept = 10, min_node_size = 25, accuracy=0.8377992467635927, precision = 0.7040647738508834, recall = 0.5605524141504157, f1-score = 0.6240121575457829\n",
      "max_dept = 11, min_node_size = 5, accuracy=0.8312728855159515, precision = 0.6800761987151651, recall = 0.5621738266831451, f1-score = 0.6153666773974897\n",
      "max_dept = 11, min_node_size = 10, accuracy=0.8338835155011868, precision = 0.6828705752608835, recall = 0.5767201490238969, f1-score = 0.6248191639309765\n",
      "max_dept = 11, min_node_size = 15, accuracy=0.8371466850707602, precision = 0.6942116263445965, recall = 0.5764737976886097, f1-score = 0.6293171955294323\n",
      "max_dept = 11, min_node_size = 20, accuracy=0.8368011882578837, precision = 0.6955446733460918, recall = 0.5708435711861551, f1-score = 0.6265635379752055\n",
      "max_dept = 11, min_node_size = 25, accuracy=0.8382599877887416, precision = 0.7002580417652068, recall = 0.57128109562846, f1-score = 0.628882280087573\n",
      "max_dept = 12, min_node_size = 5, accuracy=0.8279713798169344, precision = 0.6701282233090756, recall = 0.5590200260327716, f1-score = 0.6091536427127358\n",
      "max_dept = 12, min_node_size = 10, accuracy=0.8320024068781, precision = 0.6810554694788253, recall = 0.5663752481552367, f1-score = 0.6180870373724087\n",
      "max_dept = 12, min_node_size = 15, accuracy=0.8349584747202261, precision = 0.6884647062067251, recall = 0.5727174451044814, f1-score = 0.6248426803967739\n",
      "max_dept = 12, min_node_size = 20, accuracy=0.8354575960918078, precision = 0.6897868702246758, recall = 0.573323363144788, f1-score = 0.6257577401847291\n"
     ]
    },
    {
     "name": "stdout",
     "output_type": "stream",
     "text": [
      "max_dept = 12, min_node_size = 25, accuracy=0.8367244791515056, precision = 0.6938645079909127, recall = 0.5740708340038501, f1-score = 0.6277616524846832\n",
      "max_dept = 13, min_node_size = 5, accuracy=0.8270117385051489, precision = 0.6646899730154099, recall = 0.5649549333749764, f1-score = 0.6105543793548691\n",
      "max_dept = 13, min_node_size = 10, accuracy=0.8316184781323038, precision = 0.676640590174516, recall = 0.5729959806155355, f1-score = 0.6204235428876415\n",
      "max_dept = 13, min_node_size = 15, accuracy=0.8356495346714622, precision = 0.6868010867602298, recall = 0.5816302120201016, f1-score = 0.6294232208784123\n",
      "max_dept = 13, min_node_size = 20, accuracy=0.8349201901772696, precision = 0.6866935950774822, recall = 0.5756084419971613, f1-score = 0.6259472365686907\n",
      "max_dept = 13, min_node_size = 25, accuracy=0.8366861282830655, precision = 0.6927672518419923, recall = 0.5757505997993901, f1-score = 0.6284906812324195\n",
      "max_dept = 14, min_node_size = 5, accuracy=0.8247851772861748, precision = 0.6596159146055287, recall = 0.5603251704513197, f1-score = 0.6048470048111534\n",
      "max_dept = 14, min_node_size = 10, accuracy=0.8295837375810138, precision = 0.676403849189248, recall = 0.5575157678708604, f1-score = 0.6107899018233414\n",
      "max_dept = 14, min_node_size = 15, accuracy=0.834881772983346, precision = 0.6847804069258719, recall = 0.5799793400101172, f1-score = 0.6277708931719843\n",
      "max_dept = 14, min_node_size = 20, accuracy=0.8346514245792662, precision = 0.6883751164574354, recall = 0.5698374808239353, f1-score = 0.6232444681006684\n",
      "max_dept = 14, min_node_size = 25, accuracy=0.8366092496782294, precision = 0.6937296978241408, recall = 0.5726333295363731, f1-score = 0.6271956543100377\n",
      "max_dept = 15, min_node_size = 5, accuracy=0.8238637320833682, precision = 0.6590130618289425, recall = 0.5538975642889038, f1-score = 0.6010619070504746\n",
      "max_dept = 15, min_node_size = 10, accuracy=0.8290077965605815, precision = 0.6712320762434104, recall = 0.5651233337645611, f1-score = 0.6133546606140522\n",
      "max_dept = 15, min_node_size = 15, accuracy=0.834075586731808, precision = 0.6826006042342452, recall = 0.5787234405171893, f1-score = 0.6260506503616668\n",
      "max_dept = 15, min_node_size = 20, accuracy=0.8340756088403026, precision = 0.6852869295513234, recall = 0.5722609894522421, f1-score = 0.6233912525555871\n",
      "max_dept = 15, min_node_size = 25, accuracy=0.8368780521237236, precision = 0.6941049798948385, recall = 0.5739426354471214, f1-score = 0.628098737250064\n",
      "max_dept = 16, min_node_size = 5, accuracy=0.8209075536987696, precision = 0.6514175137772142, recall = 0.5492681542442943, f1-score = 0.5951565970451786\n",
      "max_dept = 16, min_node_size = 10, accuracy=0.8279712471659673, precision = 0.6710226585208414, recall = 0.5567580128509597, f1-score = 0.6083133140586948\n",
      "max_dept = 16, min_node_size = 15, accuracy=0.8343443154823207, precision = 0.6834265241975904, recall = 0.5786984504354715, f1-score = 0.6265296705743597\n",
      "max_dept = 16, min_node_size = 20, accuracy=0.8337684260483755, precision = 0.685514626635276, recall = 0.5691453407573368, f1-score = 0.6217362534023622\n",
      "max_dept = 16, min_node_size = 25, accuracy=0.8368396201908037, precision = 0.6941045953503484, recall = 0.5735954823207241, f1-score = 0.6279475916968362\n",
      "max_dept = 17, min_node_size = 5, accuracy=0.8196790657245009, precision = 0.6470607885282164, recall = 0.5499708465977966, f1-score = 0.5939910382519101\n",
      "max_dept = 17, min_node_size = 10, accuracy=0.8282400053944727, precision = 0.6703675489371469, recall = 0.5605752698011014, f1-score = 0.6102871341209196\n",
      "max_dept = 17, min_node_size = 15, accuracy=0.8341139154917538, precision = 0.6841799765729416, recall = 0.5751885026149823, f1-score = 0.6247594593128903\n",
      "max_dept = 17, min_node_size = 20, accuracy=0.8338835965656664, precision = 0.6858673564852726, recall = 0.5693030686828556, f1-score = 0.6219546962134391\n",
      "max_dept = 17, min_node_size = 25, accuracy=0.8368396201908037, precision = 0.6941045953503484, recall = 0.5735954823207241, f1-score = 0.6279475916968362\n",
      "max_dept = 18, min_node_size = 5, accuracy=0.818604091766465, precision = 0.6444332687991202, recall = 0.5468690206181149, f1-score = 0.5913197664745169\n",
      "max_dept = 18, min_node_size = 10, accuracy=0.8281632225931126, precision = 0.6696289592737742, recall = 0.5618785571453582, f1-score = 0.6107583756369699\n",
      "max_dept = 18, min_node_size = 15, accuracy=0.8336148088591685, precision = 0.6828672555912039, recall = 0.5743687842328746, f1-score = 0.6237113991690698\n",
      "max_dept = 18, min_node_size = 20, accuracy=0.8338452088497356, precision = 0.6860981896274982, recall = 0.568516905160843, f1-score = 0.6215678201472118\n",
      "max_dept = 18, min_node_size = 25, accuracy=0.8370699907033782, precision = 0.6948200849042009, recall = 0.5737529626356849, f1-score = 0.6283382258752708\n",
      "max_dept = 19, min_node_size = 5, accuracy=0.8174140652031088, precision = 0.6392085042451685, recall = 0.5508518429212887, f1-score = 0.5914168219816293\n",
      "max_dept = 19, min_node_size = 10, accuracy=0.8278560913876728, precision = 0.6687699526003714, recall = 0.5613932707088011, f1-score = 0.6101408408255905\n",
      "max_dept = 19, min_node_size = 15, accuracy=0.8336915842910304, precision = 0.683137441623937, recall = 0.5743687842328746, f1-score = 0.6238181858639815\n",
      "max_dept = 19, min_node_size = 20, accuracy=0.8339219990205937, precision = 0.6866802883400747, recall = 0.5677290083649236, f1-score = 0.6213838914702304\n",
      "max_dept = 19, min_node_size = 25, accuracy=0.8371851538511708, precision = 0.6951361199878779, recall = 0.5739134762793445, f1-score = 0.6285665308000391\n"
     ]
    }
   ],
   "source": [
    "# cross validation\n",
    "scoring = {'accuracy' : make_scorer(accuracy_score), \n",
    "           'precision' : make_scorer(precision_score),\n",
    "           'recall' : make_scorer(recall_score), \n",
    "           'f1_score' : make_scorer(f1_score)}\n",
    "\n",
    "kfold = model_selection.KFold(n_splits=5, random_state=42)\n",
    "for max_depth in range(2, 20):\n",
    "    for min_node_size in range(5, 30, 5):\n",
    "        richTree = DecisionTreeClassifier(criterion='entropy', \n",
    "                                          max_depth=max_depth,\n",
    "                                          min_samples_leaf=min_node_size)\n",
    "        results = model_selection.cross_validate(estimator=richTree,\n",
    "                                                 X=X_trainset,\n",
    "                                                 y=Y_trainset,\n",
    "                                                 cv=kfold,\n",
    "                                                 scoring=scoring)\n",
    "        print(\"max_dept = {}, min_node_size = {}, accuracy={}, precision = {}, recall = {}, f1-score = {}\".format(\n",
    "            max_depth, \n",
    "            min_node_size,\n",
    "            results['test_accuracy'].mean(),\n",
    "            results['test_precision'].mean(),\n",
    "            results['test_recall'].mean(),\n",
    "            results['test_f1_score'].mean()))"
   ]
  },
  {
   "cell_type": "code",
   "execution_count": 91,
   "metadata": {},
   "outputs": [
    {
     "data": {
      "text/plain": [
       "DecisionTreeClassifier(class_weight=None, criterion='entropy', max_depth=11,\n",
       "            max_features=None, max_leaf_nodes=None,\n",
       "            min_impurity_decrease=0.0, min_impurity_split=None,\n",
       "            min_samples_leaf=25, min_samples_split=2,\n",
       "            min_weight_fraction_leaf=0.0, presort=False, random_state=None,\n",
       "            splitter='best')"
      ]
     },
     "execution_count": 91,
     "metadata": {},
     "output_type": "execute_result"
    }
   ],
   "source": [
    "# modeling\n",
    "richTree = DecisionTreeClassifier(criterion=\"entropy\", max_depth=11, min_samples_leaf=25)\n",
    "richTree.fit(X_trainset, Y_trainset)"
   ]
  },
  {
   "cell_type": "code",
   "execution_count": 92,
   "metadata": {},
   "outputs": [],
   "source": [
    "predTree = richTree.predict(X_testset)"
   ]
  },
  {
   "cell_type": "code",
   "execution_count": 93,
   "metadata": {},
   "outputs": [],
   "source": [
    "cnf_matrix = confusion_matrix(Y_testset, predTree)"
   ]
  },
  {
   "cell_type": "code",
   "execution_count": 94,
   "metadata": {},
   "outputs": [],
   "source": [
    "report = classification_report(Y_testset, predTree)"
   ]
  },
  {
   "cell_type": "code",
   "execution_count": 95,
   "metadata": {},
   "outputs": [
    {
     "data": {
      "text/plain": [
       "array([[4514,  417],\n",
       "       [ 672,  910]])"
      ]
     },
     "execution_count": 95,
     "metadata": {},
     "output_type": "execute_result"
    }
   ],
   "source": [
    "cnf_matrix"
   ]
  },
  {
   "cell_type": "code",
   "execution_count": 96,
   "metadata": {},
   "outputs": [
    {
     "name": "stdout",
     "output_type": "stream",
     "text": [
      "             precision    recall  f1-score   support\n",
      "\n",
      "      False       0.87      0.92      0.89      4931\n",
      "       True       0.69      0.58      0.63      1582\n",
      "\n",
      "avg / total       0.83      0.83      0.83      6513\n",
      "\n"
     ]
    }
   ],
   "source": [
    "print(report)"
   ]
  },
  {
   "cell_type": "raw",
   "metadata": {},
   "source": []
  }
 ],
 "metadata": {
  "kernelspec": {
   "display_name": "Python 3",
   "language": "python",
   "name": "python3"
  },
  "language_info": {
   "codemirror_mode": {
    "name": "ipython",
    "version": 3
   },
   "file_extension": ".py",
   "mimetype": "text/x-python",
   "name": "python",
   "nbconvert_exporter": "python",
   "pygments_lexer": "ipython3",
   "version": "3.6.5"
  }
 },
 "nbformat": 4,
 "nbformat_minor": 2
}
